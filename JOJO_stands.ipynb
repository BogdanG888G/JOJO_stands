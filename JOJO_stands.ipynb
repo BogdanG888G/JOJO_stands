{
 "cells": [
  {
   "cell_type": "markdown",
   "metadata": {},
   "source": [
    "# Вступление"
   ]
  },
  {
   "cell_type": "markdown",
   "metadata": {},
   "source": [
    "Приветсвую тех, кто заглнянул сюда, в мой ноутбук!\n",
    "Как вы наверное поняли из названия моего репозитория/датасета с Kaggle это ноутбук, посвященный анализу стендов из аниме \"Невероятные приключения ДжоДжо\"\n",
    "\n",
    "Сначала немного контекста:\n",
    "\n",
    "Стенд -- это физическое проявление \"жизненной энергии\" человека, его сильный дух\n",
    "\n",
    "У стендов есть характеристики:\n",
    "\n",
    "- **Разрушительная сила**: Измеряет силу стенда и его способность вызвать разрушения (физические повреждения или сопутствующий ущерб окружающей среде) за определенный период времени.\n",
    "\n",
    "- **Скорость**: Измеряет ловкость и рефлексы стенда, а также скорость выполнения.\n",
    "\n",
    "- **Радиус**: Измеряет компромисс диапазона проявления стенда, диапазон влияния способностей и пространственную мобильность.\n",
    "\n",
    "- **Выносливость**: Измеряет продолжительность времени, в течение которого стенд может активно поддерживать свою способность. Стенды дальней дистанции, способные работать удаленно от своих пользователей, такие как Lovers и Empress, описываются как обладающие высокой выносливостью. Это также относится к материализованным стендам, такие как Yellow Temperance и Atom Heart Father, которые могут привязываться к объектам на длительное время.\n",
    "\n",
    "- **Точность**: Измеряет точность стенда и радиус воздействия/эффекта его способностей на указанные цели. Стенды автоматического типа обычно оцениваются по рангу D или ниже, за некоторыми исключениями.\n",
    "\n",
    "- **Потенциал развития**: Измеряет возможные функции стенда, использование его способностей и сил, а также способность улучшить его общие возможности. Ранг уменьшается по мере того, как пользователь осваивает свой стенд.\n",
    "\n",
    "Пример описания характеристики стенда:\n",
    "\n",
    "<div style=\"text-align:center\"> \n",
    "\n",
    "<img src=\"https://pm1.aminoapps.com/6955/8540d06f69c1111b7bae390fb9b66effe3809d46r1-1080-1017v2_hq.jpg\" alt=\"drawing\" width=\"200\"/>\n",
    "\n",
    "</div>\n",
    "\n",
    "Зная это, приступим к анализу данного датасета и найдем что-нибудь интересное!\n",
    "\n",
    "<div style=\"text-align:center\"> \n",
    "\n",
    "![Ой, Джоске](https://avatars.dzeninfra.ru/get-zen_doc/3680683/pub_62dfb5f901cd0904a73542c1_62dfbe04c58eaf42ac4bd2fe/orig)\n"
   ]
  },
  {
   "cell_type": "markdown",
   "metadata": {},
   "source": [
    "# 1 часть -- Импорт библиотек"
   ]
  },
  {
   "cell_type": "code",
   "execution_count": 275,
   "metadata": {},
   "outputs": [],
   "source": [
    "import pandas as pd\n",
    "import numpy as np\n",
    "\n",
    "import scipy.stats as sts\n",
    "import matplotlib.pyplot as plt\n",
    "import plotly.express as px\n",
    " \n",
    "\n",
    "from IPython.display import Image, display\n",
    " \n",
    "import warnings\n",
    "warnings.simplefilter(action='ignore', category=FutureWarning)"
   ]
  },
  {
   "cell_type": "markdown",
   "metadata": {},
   "source": [
    "# 2 часть -- Начало анализа, первый взгялд на данные"
   ]
  },
  {
   "cell_type": "code",
   "execution_count": 276,
   "metadata": {},
   "outputs": [
    {
     "data": {
      "text/html": [
       "<div>\n",
       "<style scoped>\n",
       "    .dataframe tbody tr th:only-of-type {\n",
       "        vertical-align: middle;\n",
       "    }\n",
       "\n",
       "    .dataframe tbody tr th {\n",
       "        vertical-align: top;\n",
       "    }\n",
       "\n",
       "    .dataframe thead th {\n",
       "        text-align: right;\n",
       "    }\n",
       "</style>\n",
       "<table border=\"1\" class=\"dataframe\">\n",
       "  <thead>\n",
       "    <tr style=\"text-align: right;\">\n",
       "      <th></th>\n",
       "      <th>Stand</th>\n",
       "      <th>PWR</th>\n",
       "      <th>SPD</th>\n",
       "      <th>RNG</th>\n",
       "      <th>STA</th>\n",
       "      <th>PRC</th>\n",
       "      <th>DEV</th>\n",
       "      <th>Story</th>\n",
       "    </tr>\n",
       "  </thead>\n",
       "  <tbody>\n",
       "    <tr>\n",
       "      <th>88</th>\n",
       "      <td>Talking Head</td>\n",
       "      <td>E</td>\n",
       "      <td>E</td>\n",
       "      <td>B</td>\n",
       "      <td>A</td>\n",
       "      <td>E</td>\n",
       "      <td>E</td>\n",
       "      <td>Part 5: Vento Aureo</td>\n",
       "    </tr>\n",
       "    <tr>\n",
       "      <th>107</th>\n",
       "      <td>Jumpin' Jack Flash</td>\n",
       "      <td>B</td>\n",
       "      <td>C</td>\n",
       "      <td>B</td>\n",
       "      <td>A</td>\n",
       "      <td>D</td>\n",
       "      <td>E</td>\n",
       "      <td>Part 6: Stone Ocean</td>\n",
       "    </tr>\n",
       "    <tr>\n",
       "      <th>10</th>\n",
       "      <td>Osiris</td>\n",
       "      <td>E</td>\n",
       "      <td>D</td>\n",
       "      <td>D</td>\n",
       "      <td>C</td>\n",
       "      <td>D</td>\n",
       "      <td>D</td>\n",
       "      <td>Part 3: Stardust Crusaders</td>\n",
       "    </tr>\n",
       "    <tr>\n",
       "      <th>51</th>\n",
       "      <td>Ratt</td>\n",
       "      <td>B</td>\n",
       "      <td>C</td>\n",
       "      <td>D</td>\n",
       "      <td>B</td>\n",
       "      <td>E</td>\n",
       "      <td>C</td>\n",
       "      <td>Part 4: Diamond is Unbreakable</td>\n",
       "    </tr>\n",
       "    <tr>\n",
       "      <th>45</th>\n",
       "      <td>Highway Star</td>\n",
       "      <td>C</td>\n",
       "      <td>B</td>\n",
       "      <td>A</td>\n",
       "      <td>A</td>\n",
       "      <td>E</td>\n",
       "      <td>C</td>\n",
       "      <td>Part 4: Diamond is Unbreakable</td>\n",
       "    </tr>\n",
       "    <tr>\n",
       "      <th>30</th>\n",
       "      <td>Tower of Gray</td>\n",
       "      <td>E</td>\n",
       "      <td>A</td>\n",
       "      <td>A</td>\n",
       "      <td>C</td>\n",
       "      <td>E</td>\n",
       "      <td>E</td>\n",
       "      <td>Part 3: Stardust Crusaders</td>\n",
       "    </tr>\n",
       "    <tr>\n",
       "      <th>55</th>\n",
       "      <td>The Lock</td>\n",
       "      <td>E</td>\n",
       "      <td>E</td>\n",
       "      <td>A</td>\n",
       "      <td>A</td>\n",
       "      <td>E</td>\n",
       "      <td>E</td>\n",
       "      <td>Part 4: Diamond is Unbreakable</td>\n",
       "    </tr>\n",
       "    <tr>\n",
       "      <th>126</th>\n",
       "      <td>In a Silent Way</td>\n",
       "      <td>C</td>\n",
       "      <td>C</td>\n",
       "      <td>D</td>\n",
       "      <td>A</td>\n",
       "      <td>D</td>\n",
       "      <td>B</td>\n",
       "      <td>Part 7: Steel Ball Run</td>\n",
       "    </tr>\n",
       "    <tr>\n",
       "      <th>39</th>\n",
       "      <td>Cinderella</td>\n",
       "      <td>D</td>\n",
       "      <td>C</td>\n",
       "      <td>C</td>\n",
       "      <td>C</td>\n",
       "      <td>A</td>\n",
       "      <td>C</td>\n",
       "      <td>Part 4: Diamond is Unbreakable</td>\n",
       "    </tr>\n",
       "    <tr>\n",
       "      <th>2</th>\n",
       "      <td>Bastet</td>\n",
       "      <td>E</td>\n",
       "      <td>E</td>\n",
       "      <td>B</td>\n",
       "      <td>A</td>\n",
       "      <td>E</td>\n",
       "      <td>E</td>\n",
       "      <td>Part 3: Stardust Crusaders</td>\n",
       "    </tr>\n",
       "  </tbody>\n",
       "</table>\n",
       "</div>"
      ],
      "text/plain": [
       "                  Stand PWR SPD RNG STA PRC DEV  \\\n",
       "88         Talking Head   E   E   B   A   E   E   \n",
       "107  Jumpin' Jack Flash   B   C   B   A   D   E   \n",
       "10               Osiris   E   D   D   C   D   D   \n",
       "51                 Ratt   B   C   D   B   E   C   \n",
       "45         Highway Star   C   B   A   A   E   C   \n",
       "30        Tower of Gray   E   A   A   C   E   E   \n",
       "55             The Lock   E   E   A   A   E   E   \n",
       "126     In a Silent Way   C   C   D   A   D   B   \n",
       "39           Cinderella   D   C   C   C   A   C   \n",
       "2                Bastet   E   E   B   A   E   E   \n",
       "\n",
       "                              Story  \n",
       "88              Part 5: Vento Aureo  \n",
       "107             Part 6: Stone Ocean  \n",
       "10       Part 3: Stardust Crusaders  \n",
       "51   Part 4: Diamond is Unbreakable  \n",
       "45   Part 4: Diamond is Unbreakable  \n",
       "30       Part 3: Stardust Crusaders  \n",
       "55   Part 4: Diamond is Unbreakable  \n",
       "126          Part 7: Steel Ball Run  \n",
       "39   Part 4: Diamond is Unbreakable  \n",
       "2        Part 3: Stardust Crusaders  "
      ]
     },
     "metadata": {},
     "output_type": "display_data"
    },
    {
     "name": "stdout",
     "output_type": "stream",
     "text": [
      "<class 'pandas.core.frame.DataFrame'>\n",
      "RangeIndex: 156 entries, 0 to 155\n",
      "Data columns (total 8 columns):\n",
      " #   Column  Non-Null Count  Dtype \n",
      "---  ------  --------------  ----- \n",
      " 0   Stand   156 non-null    object\n",
      " 1   PWR     156 non-null    object\n",
      " 2   SPD     156 non-null    object\n",
      " 3   RNG     156 non-null    object\n",
      " 4   STA     156 non-null    object\n",
      " 5   PRC     156 non-null    object\n",
      " 6   DEV     156 non-null    object\n",
      " 7   Story   156 non-null    object\n",
      "dtypes: object(8)\n",
      "memory usage: 9.9+ KB\n"
     ]
    },
    {
     "data": {
      "text/plain": [
       "None"
      ]
     },
     "metadata": {},
     "output_type": "display_data"
    }
   ],
   "source": [
    "begin_dataset = pd.read_csv('JoJo_Bizarre_Adventure_All_Stands_Stats.csv')\n",
    "\n",
    "# Выведем 10 случайных строк, чтобы посмотреть на датасет\n",
    "display(begin_dataset.sample(10))\n",
    "\n",
    "display(begin_dataset.info())\n"
   ]
  },
  {
   "cell_type": "markdown",
   "metadata": {},
   "source": [
    "# 2.1 -- Части ДжоДжо"
   ]
  },
  {
   "cell_type": "markdown",
   "metadata": {},
   "source": [
    "Сначала я хочу переимновать колонки статистики для удобства, а также очень хочу посмотреть, сколько у нас есть частей всего (сколько уникальных значений в колонке Story)"
   ]
  },
  {
   "cell_type": "code",
   "execution_count": 277,
   "metadata": {},
   "outputs": [
    {
     "data": {
      "text/html": [
       "<div>\n",
       "<style scoped>\n",
       "    .dataframe tbody tr th:only-of-type {\n",
       "        vertical-align: middle;\n",
       "    }\n",
       "\n",
       "    .dataframe tbody tr th {\n",
       "        vertical-align: top;\n",
       "    }\n",
       "\n",
       "    .dataframe thead th {\n",
       "        text-align: right;\n",
       "    }\n",
       "</style>\n",
       "<table border=\"1\" class=\"dataframe\">\n",
       "  <thead>\n",
       "    <tr style=\"text-align: right;\">\n",
       "      <th></th>\n",
       "      <th>Stand</th>\n",
       "      <th>Сила</th>\n",
       "      <th>Скорость</th>\n",
       "      <th>Дальность</th>\n",
       "      <th>Выносливость</th>\n",
       "      <th>Точность</th>\n",
       "      <th>Потенциал</th>\n",
       "      <th>Story</th>\n",
       "    </tr>\n",
       "  </thead>\n",
       "  <tbody>\n",
       "    <tr>\n",
       "      <th>0</th>\n",
       "      <td>Anubis</td>\n",
       "      <td>B</td>\n",
       "      <td>B</td>\n",
       "      <td>E</td>\n",
       "      <td>A</td>\n",
       "      <td>E</td>\n",
       "      <td>C</td>\n",
       "      <td>Part 3: Stardust Crusaders</td>\n",
       "    </tr>\n",
       "    <tr>\n",
       "      <th>1</th>\n",
       "      <td>Atum</td>\n",
       "      <td>D</td>\n",
       "      <td>C</td>\n",
       "      <td>D</td>\n",
       "      <td>B</td>\n",
       "      <td>D</td>\n",
       "      <td>D</td>\n",
       "      <td>Part 3: Stardust Crusaders</td>\n",
       "    </tr>\n",
       "    <tr>\n",
       "      <th>2</th>\n",
       "      <td>Bastet</td>\n",
       "      <td>E</td>\n",
       "      <td>E</td>\n",
       "      <td>B</td>\n",
       "      <td>A</td>\n",
       "      <td>E</td>\n",
       "      <td>E</td>\n",
       "      <td>Part 3: Stardust Crusaders</td>\n",
       "    </tr>\n",
       "    <tr>\n",
       "      <th>3</th>\n",
       "      <td>Cream</td>\n",
       "      <td>B</td>\n",
       "      <td>B</td>\n",
       "      <td>D</td>\n",
       "      <td>C</td>\n",
       "      <td>C</td>\n",
       "      <td>D</td>\n",
       "      <td>Part 3: Stardust Crusaders</td>\n",
       "    </tr>\n",
       "    <tr>\n",
       "      <th>4</th>\n",
       "      <td>Death Thirteen</td>\n",
       "      <td>C</td>\n",
       "      <td>C</td>\n",
       "      <td>E</td>\n",
       "      <td>B</td>\n",
       "      <td>D</td>\n",
       "      <td>B</td>\n",
       "      <td>Part 3: Stardust Crusaders</td>\n",
       "    </tr>\n",
       "    <tr>\n",
       "      <th>...</th>\n",
       "      <td>...</td>\n",
       "      <td>...</td>\n",
       "      <td>...</td>\n",
       "      <td>...</td>\n",
       "      <td>...</td>\n",
       "      <td>...</td>\n",
       "      <td>...</td>\n",
       "      <td>...</td>\n",
       "    </tr>\n",
       "    <tr>\n",
       "      <th>151</th>\n",
       "      <td>Nightbird Flying</td>\n",
       "      <td>E</td>\n",
       "      <td>A</td>\n",
       "      <td>A</td>\n",
       "      <td>A</td>\n",
       "      <td>E</td>\n",
       "      <td>E</td>\n",
       "      <td>Light Novel: Purple Haze Feedback</td>\n",
       "    </tr>\n",
       "    <tr>\n",
       "      <th>152</th>\n",
       "      <td>Purple Haze Distortion</td>\n",
       "      <td>A</td>\n",
       "      <td>B</td>\n",
       "      <td>E</td>\n",
       "      <td>E</td>\n",
       "      <td>C</td>\n",
       "      <td>unknown</td>\n",
       "      <td>Light Novel: Purple Haze Feedback</td>\n",
       "    </tr>\n",
       "    <tr>\n",
       "      <th>153</th>\n",
       "      <td>Rainy Day Dream Away</td>\n",
       "      <td>E</td>\n",
       "      <td>B</td>\n",
       "      <td>A</td>\n",
       "      <td>A</td>\n",
       "      <td>E</td>\n",
       "      <td>E</td>\n",
       "      <td>Light Novel: Purple Haze Feedback</td>\n",
       "    </tr>\n",
       "    <tr>\n",
       "      <th>154</th>\n",
       "      <td>Remote Romance</td>\n",
       "      <td>E</td>\n",
       "      <td>D</td>\n",
       "      <td>infinite</td>\n",
       "      <td>B</td>\n",
       "      <td>C</td>\n",
       "      <td>E</td>\n",
       "      <td>Featured</td>\n",
       "    </tr>\n",
       "    <tr>\n",
       "      <th>155</th>\n",
       "      <td>House of Holy</td>\n",
       "      <td>E</td>\n",
       "      <td>B</td>\n",
       "      <td>C</td>\n",
       "      <td>A</td>\n",
       "      <td>D</td>\n",
       "      <td>D</td>\n",
       "      <td>Featured</td>\n",
       "    </tr>\n",
       "  </tbody>\n",
       "</table>\n",
       "<p>156 rows × 8 columns</p>\n",
       "</div>"
      ],
      "text/plain": [
       "                      Stand Сила Скорость Дальность Выносливость Точность  \\\n",
       "0                    Anubis    B        B         E            A        E   \n",
       "1                      Atum    D        C         D            B        D   \n",
       "2                    Bastet    E        E         B            A        E   \n",
       "3                     Cream    B        B         D            C        C   \n",
       "4            Death Thirteen    C        C         E            B        D   \n",
       "..                      ...  ...      ...       ...          ...      ...   \n",
       "151        Nightbird Flying    E        A         A            A        E   \n",
       "152  Purple Haze Distortion    A        B         E            E        C   \n",
       "153    Rainy Day Dream Away    E        B         A            A        E   \n",
       "154          Remote Romance    E        D  infinite            B        C   \n",
       "155           House of Holy    E        B         C            A        D   \n",
       "\n",
       "    Потенциал                              Story  \n",
       "0           C         Part 3: Stardust Crusaders  \n",
       "1           D         Part 3: Stardust Crusaders  \n",
       "2           E         Part 3: Stardust Crusaders  \n",
       "3           D         Part 3: Stardust Crusaders  \n",
       "4           B         Part 3: Stardust Crusaders  \n",
       "..        ...                                ...  \n",
       "151         E  Light Novel: Purple Haze Feedback  \n",
       "152   unknown  Light Novel: Purple Haze Feedback  \n",
       "153         E  Light Novel: Purple Haze Feedback  \n",
       "154         E                           Featured  \n",
       "155         D                           Featured  \n",
       "\n",
       "[156 rows x 8 columns]"
      ]
     },
     "metadata": {},
     "output_type": "display_data"
    }
   ],
   "source": [
    "# Переименуем колнки\n",
    "dict_to_replace = {'PWR': 'Сила', \n",
    "                   'SPD': 'Скорость',\n",
    "                   'RNG': 'Дальность',\n",
    "                   'STA': 'Выносливость',\n",
    "                   'PRC': 'Точность',\n",
    "                   'DEV': 'Потенциал'}\n",
    "\n",
    "begin_dataset.rename(columns=dict_to_replace, inplace=True)\n",
    "\n",
    "display(begin_dataset)"
   ]
  },
  {
   "cell_type": "markdown",
   "metadata": {},
   "source": [
    "Теперь посмотрим сначала на то, какие у нас есть части данного аниме, а также посмотрим на распределение характеристик, чтобы понять общую картину"
   ]
  },
  {
   "cell_type": "code",
   "execution_count": 278,
   "metadata": {},
   "outputs": [
    {
     "name": "stdout",
     "output_type": "stream",
     "text": [
      "Story\n",
      "Part 3: Stardust Crusaders           33\n",
      "Part 5: Vento Aureo                  29\n",
      "Part 4: Diamond is Unbreakable       28\n",
      "Part 6: Stone Ocean                  26\n",
      "Part 7: Steel Ball Run               24\n",
      "Light Novel: Purple Haze Feedback     7\n",
      "Part 8: JoJolion                      7\n",
      "Featured                              2\n",
      "Name: count, dtype: int64\n"
     ]
    }
   ],
   "source": [
    "parts_of_jojo = begin_dataset.value_counts('Story')\n",
    "print(parts_of_jojo)"
   ]
  },
  {
   "cell_type": "markdown",
   "metadata": {},
   "source": [
    "Что ж, по крайней мере, я дошел до Stone Ocean, так что я думаю, что большинство стендов мне будет знакомо :)\n",
    "\n",
    "Большинство стендов находятся в 3 части, это круто, так как нас только знакомили с ними в этом сезоне\n",
    "\n",
    "Меньше всего стендов находятся в \"Featured\", честно, сам не знаю, что это такое, так что в теории можно вывести эти стенды и посмотреть на них получше, может я что-нибудь да вспомню"
   ]
  },
  {
   "cell_type": "markdown",
   "metadata": {},
   "source": [
    "## 2.2 -- Стенды из главы \"Featured\""
   ]
  },
  {
   "cell_type": "code",
   "execution_count": 279,
   "metadata": {},
   "outputs": [
    {
     "data": {
      "text/html": [
       "<div>\n",
       "<style scoped>\n",
       "    .dataframe tbody tr th:only-of-type {\n",
       "        vertical-align: middle;\n",
       "    }\n",
       "\n",
       "    .dataframe tbody tr th {\n",
       "        vertical-align: top;\n",
       "    }\n",
       "\n",
       "    .dataframe thead th {\n",
       "        text-align: right;\n",
       "    }\n",
       "</style>\n",
       "<table border=\"1\" class=\"dataframe\">\n",
       "  <thead>\n",
       "    <tr style=\"text-align: right;\">\n",
       "      <th></th>\n",
       "      <th>Stand</th>\n",
       "      <th>Сила</th>\n",
       "      <th>Скорость</th>\n",
       "      <th>Дальность</th>\n",
       "      <th>Выносливость</th>\n",
       "      <th>Точность</th>\n",
       "      <th>Потенциал</th>\n",
       "      <th>Story</th>\n",
       "    </tr>\n",
       "  </thead>\n",
       "  <tbody>\n",
       "    <tr>\n",
       "      <th>154</th>\n",
       "      <td>Remote Romance</td>\n",
       "      <td>E</td>\n",
       "      <td>D</td>\n",
       "      <td>infinite</td>\n",
       "      <td>B</td>\n",
       "      <td>C</td>\n",
       "      <td>E</td>\n",
       "      <td>Featured</td>\n",
       "    </tr>\n",
       "    <tr>\n",
       "      <th>155</th>\n",
       "      <td>House of Holy</td>\n",
       "      <td>E</td>\n",
       "      <td>B</td>\n",
       "      <td>C</td>\n",
       "      <td>A</td>\n",
       "      <td>D</td>\n",
       "      <td>D</td>\n",
       "      <td>Featured</td>\n",
       "    </tr>\n",
       "  </tbody>\n",
       "</table>\n",
       "</div>"
      ],
      "text/plain": [
       "              Stand Сила Скорость Дальность Выносливость Точность Потенциал  \\\n",
       "154  Remote Romance    E        D  infinite            B        C         E   \n",
       "155   House of Holy    E        B         C            A        D         D   \n",
       "\n",
       "        Story  \n",
       "154  Featured  \n",
       "155  Featured  "
      ]
     },
     "metadata": {},
     "output_type": "display_data"
    }
   ],
   "source": [
    "featured_part = begin_dataset[begin_dataset['Story'] == 'Featured']\n",
    "\n",
    "display(featured_part)"
   ]
  },
  {
   "cell_type": "markdown",
   "metadata": {},
   "source": [
    "Я узнал про эти стенды подробнее и оказывается, что **Remote Romance** -- это стенд, разработанный Хирохико Араки (создатель ДжоДжо) для выставки JoJo 2012. Его целью было продвижение художественной выставки через Интернет в прямом эфире.\n",
    "\n",
    "\n",
    "<div style=\"text-align:center\"> \n",
    "\n",
    "<img src=\"https://static.wikia.nocookie.net/jjba/images/3/32/Remote_Romance.png/revision/latest?cb=20170309021209\" alt=\"drawing\" width=\"200\"/>\n",
    "\n",
    "</div>\n",
    "\n",
    "Подробнее про **Remote Romance** можете почитать [здесь](https://jojo.fandom.com/ru/wiki/Remote_Romance)\n",
    "\n",
    "Так что этого стенда и не было в аниме/манге\n"
   ]
  },
  {
   "cell_type": "markdown",
   "metadata": {},
   "source": [
    "Теперь узнаем про **House of Holy**. С ним очень интересно все -- это стенд-отель-лабиринт и у него нет внешнего вида, его опасность заключается в том, что любой, кто войдет в отель -- сразу окажется в лабиринте и в течение часа надо найти выход, если человек не найдет выход, то он пропадет в лабиринте навсегда. Любой физический урон неэффективен. \n",
    "\n",
    "[Подробнее про сам стенд](https://jojo.fandom.com/ru/wiki/House_of_Holy)\n",
    "\n",
    "Также он фигурировал в специальной квест-игре, где участники в Японии должны решить загадки владельца стенда и выбраться из лабиринта\n",
    "\n",
    "[Подробнее про квест-игру](https://jojo.fandom.com/ru/wiki/JoJo%27s_Bizarre_Escape:_The_Hotel)\n",
    "\n",
    "Можно предположить, что этот стенд появляется в 3 части и его владелец является приспешником Дио (о нем позже поговорим)"
   ]
  },
  {
   "cell_type": "markdown",
   "metadata": {},
   "source": [
    "## 2.3 -- Общее распределение характеристик"
   ]
  },
  {
   "cell_type": "markdown",
   "metadata": {},
   "source": [
    "### 2.3.1 -- Сила"
   ]
  },
  {
   "cell_type": "markdown",
   "metadata": {},
   "source": [
    "Теперь рассмотрим общее распределение характреристик стендов и поймем, стендов каких типов по качеству характеристик (A-E) больше всего"
   ]
  },
  {
   "cell_type": "code",
   "execution_count": 280,
   "metadata": {},
   "outputs": [
    {
     "data": {
      "text/plain": [
       "Сила\n",
       "E            35\n",
       "A            32\n",
       "C            27\n",
       "B            26\n",
       "D            17\n",
       "undefined    16\n",
       "unknown       2\n",
       "infinite      1\n",
       "Name: count, dtype: int64"
      ]
     },
     "metadata": {},
     "output_type": "display_data"
    }
   ],
   "source": [
    "power_stats = begin_dataset['Сила'].value_counts()\n",
    "\n",
    "display(power_stats)"
   ]
  },
  {
   "cell_type": "markdown",
   "metadata": {},
   "source": [
    "Давайте, чтобы не путаться, мы будем обозначать характеристики цифрами (от 1 до 5), соответственно, это у нас будет (E-A)"
   ]
  },
  {
   "cell_type": "code",
   "execution_count": 281,
   "metadata": {},
   "outputs": [
    {
     "data": {
      "text/html": [
       "<div>\n",
       "<style scoped>\n",
       "    .dataframe tbody tr th:only-of-type {\n",
       "        vertical-align: middle;\n",
       "    }\n",
       "\n",
       "    .dataframe tbody tr th {\n",
       "        vertical-align: top;\n",
       "    }\n",
       "\n",
       "    .dataframe thead th {\n",
       "        text-align: right;\n",
       "    }\n",
       "</style>\n",
       "<table border=\"1\" class=\"dataframe\">\n",
       "  <thead>\n",
       "    <tr style=\"text-align: right;\">\n",
       "      <th></th>\n",
       "      <th>Stand</th>\n",
       "      <th>Сила</th>\n",
       "      <th>Скорость</th>\n",
       "      <th>Дальность</th>\n",
       "      <th>Выносливость</th>\n",
       "      <th>Точность</th>\n",
       "      <th>Потенциал</th>\n",
       "      <th>Story</th>\n",
       "    </tr>\n",
       "  </thead>\n",
       "  <tbody>\n",
       "    <tr>\n",
       "      <th>0</th>\n",
       "      <td>Anubis</td>\n",
       "      <td>4</td>\n",
       "      <td>4</td>\n",
       "      <td>1</td>\n",
       "      <td>5</td>\n",
       "      <td>1</td>\n",
       "      <td>3</td>\n",
       "      <td>Part 3: Stardust Crusaders</td>\n",
       "    </tr>\n",
       "    <tr>\n",
       "      <th>1</th>\n",
       "      <td>Atum</td>\n",
       "      <td>2</td>\n",
       "      <td>3</td>\n",
       "      <td>2</td>\n",
       "      <td>4</td>\n",
       "      <td>2</td>\n",
       "      <td>2</td>\n",
       "      <td>Part 3: Stardust Crusaders</td>\n",
       "    </tr>\n",
       "    <tr>\n",
       "      <th>2</th>\n",
       "      <td>Bastet</td>\n",
       "      <td>1</td>\n",
       "      <td>1</td>\n",
       "      <td>4</td>\n",
       "      <td>5</td>\n",
       "      <td>1</td>\n",
       "      <td>1</td>\n",
       "      <td>Part 3: Stardust Crusaders</td>\n",
       "    </tr>\n",
       "    <tr>\n",
       "      <th>3</th>\n",
       "      <td>Cream</td>\n",
       "      <td>4</td>\n",
       "      <td>4</td>\n",
       "      <td>2</td>\n",
       "      <td>3</td>\n",
       "      <td>3</td>\n",
       "      <td>2</td>\n",
       "      <td>Part 3: Stardust Crusaders</td>\n",
       "    </tr>\n",
       "    <tr>\n",
       "      <th>4</th>\n",
       "      <td>Death Thirteen</td>\n",
       "      <td>3</td>\n",
       "      <td>3</td>\n",
       "      <td>1</td>\n",
       "      <td>4</td>\n",
       "      <td>2</td>\n",
       "      <td>4</td>\n",
       "      <td>Part 3: Stardust Crusaders</td>\n",
       "    </tr>\n",
       "    <tr>\n",
       "      <th>...</th>\n",
       "      <td>...</td>\n",
       "      <td>...</td>\n",
       "      <td>...</td>\n",
       "      <td>...</td>\n",
       "      <td>...</td>\n",
       "      <td>...</td>\n",
       "      <td>...</td>\n",
       "      <td>...</td>\n",
       "    </tr>\n",
       "    <tr>\n",
       "      <th>151</th>\n",
       "      <td>Nightbird Flying</td>\n",
       "      <td>1</td>\n",
       "      <td>5</td>\n",
       "      <td>5</td>\n",
       "      <td>5</td>\n",
       "      <td>1</td>\n",
       "      <td>1</td>\n",
       "      <td>Light Novel: Purple Haze Feedback</td>\n",
       "    </tr>\n",
       "    <tr>\n",
       "      <th>152</th>\n",
       "      <td>Purple Haze Distortion</td>\n",
       "      <td>5</td>\n",
       "      <td>4</td>\n",
       "      <td>1</td>\n",
       "      <td>1</td>\n",
       "      <td>3</td>\n",
       "      <td>unknown</td>\n",
       "      <td>Light Novel: Purple Haze Feedback</td>\n",
       "    </tr>\n",
       "    <tr>\n",
       "      <th>153</th>\n",
       "      <td>Rainy Day Dream Away</td>\n",
       "      <td>1</td>\n",
       "      <td>4</td>\n",
       "      <td>5</td>\n",
       "      <td>5</td>\n",
       "      <td>1</td>\n",
       "      <td>1</td>\n",
       "      <td>Light Novel: Purple Haze Feedback</td>\n",
       "    </tr>\n",
       "    <tr>\n",
       "      <th>154</th>\n",
       "      <td>Remote Romance</td>\n",
       "      <td>1</td>\n",
       "      <td>2</td>\n",
       "      <td>infinite</td>\n",
       "      <td>4</td>\n",
       "      <td>3</td>\n",
       "      <td>1</td>\n",
       "      <td>Featured</td>\n",
       "    </tr>\n",
       "    <tr>\n",
       "      <th>155</th>\n",
       "      <td>House of Holy</td>\n",
       "      <td>1</td>\n",
       "      <td>4</td>\n",
       "      <td>3</td>\n",
       "      <td>5</td>\n",
       "      <td>2</td>\n",
       "      <td>2</td>\n",
       "      <td>Featured</td>\n",
       "    </tr>\n",
       "  </tbody>\n",
       "</table>\n",
       "<p>156 rows × 8 columns</p>\n",
       "</div>"
      ],
      "text/plain": [
       "                      Stand Сила Скорость Дальность Выносливость Точность  \\\n",
       "0                    Anubis    4        4         1            5        1   \n",
       "1                      Atum    2        3         2            4        2   \n",
       "2                    Bastet    1        1         4            5        1   \n",
       "3                     Cream    4        4         2            3        3   \n",
       "4            Death Thirteen    3        3         1            4        2   \n",
       "..                      ...  ...      ...       ...          ...      ...   \n",
       "151        Nightbird Flying    1        5         5            5        1   \n",
       "152  Purple Haze Distortion    5        4         1            1        3   \n",
       "153    Rainy Day Dream Away    1        4         5            5        1   \n",
       "154          Remote Romance    1        2  infinite            4        3   \n",
       "155           House of Holy    1        4         3            5        2   \n",
       "\n",
       "    Потенциал                              Story  \n",
       "0           3         Part 3: Stardust Crusaders  \n",
       "1           2         Part 3: Stardust Crusaders  \n",
       "2           1         Part 3: Stardust Crusaders  \n",
       "3           2         Part 3: Stardust Crusaders  \n",
       "4           4         Part 3: Stardust Crusaders  \n",
       "..        ...                                ...  \n",
       "151         1  Light Novel: Purple Haze Feedback  \n",
       "152   unknown  Light Novel: Purple Haze Feedback  \n",
       "153         1  Light Novel: Purple Haze Feedback  \n",
       "154         1                           Featured  \n",
       "155         2                           Featured  \n",
       "\n",
       "[156 rows x 8 columns]"
      ]
     },
     "metadata": {},
     "output_type": "display_data"
    }
   ],
   "source": [
    "replace_stat_dict = {'A': 5,\n",
    "                     'B': 4,\n",
    "                     'C': 3,\n",
    "                     'D': 2,\n",
    "                     'E': 1}\n",
    "\n",
    "dataset_columns = begin_dataset.columns[1:-1]\n",
    "\n",
    "for i in dataset_columns:\n",
    "    begin_dataset[i].replace(replace_stat_dict, inplace = True)\n",
    "\n",
    "display(begin_dataset)"
   ]
  },
  {
   "cell_type": "markdown",
   "metadata": {},
   "source": [
    "Посмотрим еще раз"
   ]
  },
  {
   "cell_type": "code",
   "execution_count": 282,
   "metadata": {},
   "outputs": [
    {
     "data": {
      "text/plain": [
       "Сила\n",
       "1            35\n",
       "5            32\n",
       "3            27\n",
       "4            26\n",
       "2            17\n",
       "undefined    16\n",
       "unknown       2\n",
       "infinite      1\n",
       "Name: count, dtype: int64"
      ]
     },
     "metadata": {},
     "output_type": "display_data"
    }
   ],
   "source": [
    "power_stats = begin_dataset['Сила'].value_counts()\n",
    "\n",
    "display(power_stats)"
   ]
  },
  {
   "cell_type": "markdown",
   "metadata": {},
   "source": [
    "Как видно, у нас большинство стендов -- слабые по силе *(1)*, но также много и очень сильных *(5)*\n",
    "\n",
    "\n",
    "Также у нас есть такие параметры, как неопределено, неизвестно и бесконечно\n",
    "\n",
    "**Бесконечно** понятно, бесконечная мощь, непобедимый по силе, у нас такой только 1 стенд, давайте посмотрим, кто это может быть\n"
   ]
  },
  {
   "cell_type": "code",
   "execution_count": 283,
   "metadata": {},
   "outputs": [
    {
     "data": {
      "text/html": [
       "<div>\n",
       "<style scoped>\n",
       "    .dataframe tbody tr th:only-of-type {\n",
       "        vertical-align: middle;\n",
       "    }\n",
       "\n",
       "    .dataframe tbody tr th {\n",
       "        vertical-align: top;\n",
       "    }\n",
       "\n",
       "    .dataframe thead th {\n",
       "        text-align: right;\n",
       "    }\n",
       "</style>\n",
       "<table border=\"1\" class=\"dataframe\">\n",
       "  <thead>\n",
       "    <tr style=\"text-align: right;\">\n",
       "      <th></th>\n",
       "      <th>Stand</th>\n",
       "      <th>Сила</th>\n",
       "      <th>Скорость</th>\n",
       "      <th>Дальность</th>\n",
       "      <th>Выносливость</th>\n",
       "      <th>Точность</th>\n",
       "      <th>Потенциал</th>\n",
       "      <th>Story</th>\n",
       "    </tr>\n",
       "  </thead>\n",
       "  <tbody>\n",
       "    <tr>\n",
       "      <th>77</th>\n",
       "      <td>Gold Experience Requiem</td>\n",
       "      <td>infinite</td>\n",
       "      <td>infinite</td>\n",
       "      <td>infinite</td>\n",
       "      <td>infinite</td>\n",
       "      <td>infinite</td>\n",
       "      <td>infinite</td>\n",
       "      <td>Part 5: Vento Aureo</td>\n",
       "    </tr>\n",
       "  </tbody>\n",
       "</table>\n",
       "</div>"
      ],
      "text/plain": [
       "                      Stand      Сила  Скорость Дальность Выносливость  \\\n",
       "77  Gold Experience Requiem  infinite  infinite  infinite     infinite   \n",
       "\n",
       "    Точность Потенциал                Story  \n",
       "77  infinite  infinite  Part 5: Vento Aureo  "
      ]
     },
     "metadata": {},
     "output_type": "display_data"
    }
   ],
   "source": [
    "inf_power_stand = begin_dataset[begin_dataset['Сила'] == 'infinite']\n",
    "\n",
    "display(inf_power_stand)"
   ]
  },
  {
   "cell_type": "markdown",
   "metadata": {},
   "source": [
    "А, ну тогда понятно, да, действительно, у нас только один **Gold Experience Requiem** (GER) настолько сильный :)\n",
    "\n",
    "Бесконечное все -- непобедимый стенд, действительно\n",
    "\n",
    "<p align=\"center\">\n",
    "    <img src=\"https://steamuserimages-a.akamaihd.net/ugc/775103339591880851/0452250037714568022DC0681A3AD2704C721D54/?imw=5000&amp;imh=5000&amp;ima=fit&amp;impolicy=Letterbox&amp;imcolor=%23000000&amp;letterbox=false\" alt=\"Gold Experience Requiem 1\" width=\"300\">\n",
    "</p>\n",
    "\n",
    "<p align=\"center\">\n",
    "    <img src=\"https://i.pinimg.com/originals/6a/cc/c6/6accc6d646fb378c932fcd2b73e16307.png\" alt=\"Gold Experience Requiem 2\" width=\"300\">\n",
    "</p>\n",
    "\n",
    "<p align=\"center\">\n",
    "    <img src=\"https://steamuserimages-a.akamaihd.net/ugc/5108802431775556322/46F42EC084464AA428E7703388BA664F0A560A9C/?imw=512&amp;imh=287&amp;ima=fit&amp;impolicy=Letterbox&amp;imcolor=%23000000&amp;letterbox=true\" alt=\"Gold Experience Requiem 3\" width=\"300\">\n",
    "</p>\n"
   ]
  },
  {
   "cell_type": "markdown",
   "metadata": {},
   "source": [
    "Рассмотрим теперь стенды с пометкой *undefined* и *unknown* и решим, они все таки сильные или слабые"
   ]
  },
  {
   "cell_type": "code",
   "execution_count": 284,
   "metadata": {},
   "outputs": [
    {
     "data": {
      "text/html": [
       "<div>\n",
       "<style scoped>\n",
       "    .dataframe tbody tr th:only-of-type {\n",
       "        vertical-align: middle;\n",
       "    }\n",
       "\n",
       "    .dataframe tbody tr th {\n",
       "        vertical-align: top;\n",
       "    }\n",
       "\n",
       "    .dataframe thead th {\n",
       "        text-align: right;\n",
       "    }\n",
       "</style>\n",
       "<table border=\"1\" class=\"dataframe\">\n",
       "  <thead>\n",
       "    <tr style=\"text-align: right;\">\n",
       "      <th></th>\n",
       "      <th>Stand</th>\n",
       "      <th>Сила</th>\n",
       "      <th>Скорость</th>\n",
       "      <th>Дальность</th>\n",
       "      <th>Выносливость</th>\n",
       "      <th>Точность</th>\n",
       "      <th>Потенциал</th>\n",
       "      <th>Story</th>\n",
       "    </tr>\n",
       "  </thead>\n",
       "  <tbody>\n",
       "    <tr>\n",
       "      <th>90</th>\n",
       "      <td>Whitesnake</td>\n",
       "      <td>unknown</td>\n",
       "      <td>2</td>\n",
       "      <td>unknown</td>\n",
       "      <td>5</td>\n",
       "      <td>unknown</td>\n",
       "      <td>unknown</td>\n",
       "      <td>Part 6: Stone Ocean</td>\n",
       "    </tr>\n",
       "    <tr>\n",
       "      <th>104</th>\n",
       "      <td>Green, Green Grass of Home</td>\n",
       "      <td>unknown</td>\n",
       "      <td>unknown</td>\n",
       "      <td>unknown</td>\n",
       "      <td>unknown</td>\n",
       "      <td>unknown</td>\n",
       "      <td>unknown</td>\n",
       "      <td>Part 6: Stone Ocean</td>\n",
       "    </tr>\n",
       "  </tbody>\n",
       "</table>\n",
       "</div>"
      ],
      "text/plain": [
       "                          Stand     Сила Скорость Дальность Выносливость  \\\n",
       "90                   Whitesnake  unknown        2   unknown            5   \n",
       "104  Green, Green Grass of Home  unknown  unknown   unknown      unknown   \n",
       "\n",
       "    Точность Потенциал                Story  \n",
       "90   unknown   unknown  Part 6: Stone Ocean  \n",
       "104  unknown   unknown  Part 6: Stone Ocean  "
      ]
     },
     "metadata": {},
     "output_type": "display_data"
    },
    {
     "data": {
      "text/html": [
       "<div>\n",
       "<style scoped>\n",
       "    .dataframe tbody tr th:only-of-type {\n",
       "        vertical-align: middle;\n",
       "    }\n",
       "\n",
       "    .dataframe tbody tr th {\n",
       "        vertical-align: top;\n",
       "    }\n",
       "\n",
       "    .dataframe thead th {\n",
       "        text-align: right;\n",
       "    }\n",
       "</style>\n",
       "<table border=\"1\" class=\"dataframe\">\n",
       "  <thead>\n",
       "    <tr style=\"text-align: right;\">\n",
       "      <th></th>\n",
       "      <th>Stand</th>\n",
       "      <th>Сила</th>\n",
       "      <th>Скорость</th>\n",
       "      <th>Дальность</th>\n",
       "      <th>Выносливость</th>\n",
       "      <th>Точность</th>\n",
       "      <th>Потенциал</th>\n",
       "      <th>Story</th>\n",
       "    </tr>\n",
       "  </thead>\n",
       "  <tbody>\n",
       "    <tr>\n",
       "      <th>85</th>\n",
       "      <td>Rolling Stones</td>\n",
       "      <td>undefined</td>\n",
       "      <td>4</td>\n",
       "      <td>5</td>\n",
       "      <td>5</td>\n",
       "      <td>1</td>\n",
       "      <td>undefined</td>\n",
       "      <td>Part 5: Vento Aureo</td>\n",
       "    </tr>\n",
       "    <tr>\n",
       "      <th>91</th>\n",
       "      <td>C-Moon</td>\n",
       "      <td>undefined</td>\n",
       "      <td>4</td>\n",
       "      <td>4</td>\n",
       "      <td>unknown</td>\n",
       "      <td>unknown</td>\n",
       "      <td>unknown</td>\n",
       "      <td>Part 6: Stone Ocean</td>\n",
       "    </tr>\n",
       "    <tr>\n",
       "      <th>92</th>\n",
       "      <td>Jail House Lock</td>\n",
       "      <td>undefined</td>\n",
       "      <td>3</td>\n",
       "      <td>4</td>\n",
       "      <td>5</td>\n",
       "      <td>undefined</td>\n",
       "      <td>undefined</td>\n",
       "      <td>Part 6: Stone Ocean</td>\n",
       "    </tr>\n",
       "    <tr>\n",
       "      <th>95</th>\n",
       "      <td>Under World</td>\n",
       "      <td>undefined</td>\n",
       "      <td>3</td>\n",
       "      <td>5</td>\n",
       "      <td>3</td>\n",
       "      <td>undefined</td>\n",
       "      <td>undefined</td>\n",
       "      <td>Part 6: Stone Ocean</td>\n",
       "    </tr>\n",
       "    <tr>\n",
       "      <th>96</th>\n",
       "      <td>Sky High</td>\n",
       "      <td>undefined</td>\n",
       "      <td>undefined</td>\n",
       "      <td>4</td>\n",
       "      <td>3</td>\n",
       "      <td>undefined</td>\n",
       "      <td>undefined</td>\n",
       "      <td>Part 6: Stone Ocean</td>\n",
       "    </tr>\n",
       "    <tr>\n",
       "      <th>99</th>\n",
       "      <td>Bohemian Rhapsody</td>\n",
       "      <td>undefined</td>\n",
       "      <td>undefined</td>\n",
       "      <td>infinite</td>\n",
       "      <td>5</td>\n",
       "      <td>undefined</td>\n",
       "      <td>undefined</td>\n",
       "      <td>Part 6: Stone Ocean</td>\n",
       "    </tr>\n",
       "    <tr>\n",
       "      <th>100</th>\n",
       "      <td>Burning Down the House</td>\n",
       "      <td>undefined</td>\n",
       "      <td>undefined</td>\n",
       "      <td>undefined</td>\n",
       "      <td>undefined</td>\n",
       "      <td>undefined</td>\n",
       "      <td>undefined</td>\n",
       "      <td>Part 6: Stone Ocean</td>\n",
       "    </tr>\n",
       "    <tr>\n",
       "      <th>102</th>\n",
       "      <td>Dragon's Dream</td>\n",
       "      <td>undefined</td>\n",
       "      <td>undefined</td>\n",
       "      <td>undefined</td>\n",
       "      <td>5</td>\n",
       "      <td>undefined</td>\n",
       "      <td>undefined</td>\n",
       "      <td>Part 6: Stone Ocean</td>\n",
       "    </tr>\n",
       "    <tr>\n",
       "      <th>108</th>\n",
       "      <td>Limp Bizkit</td>\n",
       "      <td>undefined</td>\n",
       "      <td>4</td>\n",
       "      <td>4</td>\n",
       "      <td>5</td>\n",
       "      <td>3</td>\n",
       "      <td>1</td>\n",
       "      <td>Part 6: Stone Ocean</td>\n",
       "    </tr>\n",
       "    <tr>\n",
       "      <th>116</th>\n",
       "      <td>20th Century Boy</td>\n",
       "      <td>undefined</td>\n",
       "      <td>3</td>\n",
       "      <td>undefined</td>\n",
       "      <td>5</td>\n",
       "      <td>2</td>\n",
       "      <td>3</td>\n",
       "      <td>Part 7: Steel Ball Run</td>\n",
       "    </tr>\n",
       "    <tr>\n",
       "      <th>120</th>\n",
       "      <td>Chocolate Disco</td>\n",
       "      <td>undefined</td>\n",
       "      <td>3</td>\n",
       "      <td>3</td>\n",
       "      <td>4</td>\n",
       "      <td>5</td>\n",
       "      <td>2</td>\n",
       "      <td>Part 7: Steel Ball Run</td>\n",
       "    </tr>\n",
       "    <tr>\n",
       "      <th>121</th>\n",
       "      <td>Civil War</td>\n",
       "      <td>undefined</td>\n",
       "      <td>3</td>\n",
       "      <td>3</td>\n",
       "      <td>4</td>\n",
       "      <td>3</td>\n",
       "      <td>undefined</td>\n",
       "      <td>Part 7: Steel Ball Run</td>\n",
       "    </tr>\n",
       "    <tr>\n",
       "      <th>127</th>\n",
       "      <td>Mandom</td>\n",
       "      <td>undefined</td>\n",
       "      <td>5</td>\n",
       "      <td>undefined</td>\n",
       "      <td>1</td>\n",
       "      <td>undefined</td>\n",
       "      <td>3</td>\n",
       "      <td>Part 7: Steel Ball Run</td>\n",
       "    </tr>\n",
       "    <tr>\n",
       "      <th>131</th>\n",
       "      <td>Tatoo You!</td>\n",
       "      <td>undefined</td>\n",
       "      <td>1</td>\n",
       "      <td>3</td>\n",
       "      <td>4</td>\n",
       "      <td>1</td>\n",
       "      <td>1</td>\n",
       "      <td>Part 7: Steel Ball Run</td>\n",
       "    </tr>\n",
       "    <tr>\n",
       "      <th>141</th>\n",
       "      <td>California King Bed</td>\n",
       "      <td>undefined</td>\n",
       "      <td>undefined</td>\n",
       "      <td>1</td>\n",
       "      <td>4</td>\n",
       "      <td>1</td>\n",
       "      <td>1</td>\n",
       "      <td>Part 8: JoJolion</td>\n",
       "    </tr>\n",
       "    <tr>\n",
       "      <th>144</th>\n",
       "      <td>Paisley Park</td>\n",
       "      <td>undefined</td>\n",
       "      <td>undefined</td>\n",
       "      <td>5</td>\n",
       "      <td>5</td>\n",
       "      <td>2</td>\n",
       "      <td>3</td>\n",
       "      <td>Part 8: JoJolion</td>\n",
       "    </tr>\n",
       "  </tbody>\n",
       "</table>\n",
       "</div>"
      ],
      "text/plain": [
       "                      Stand       Сила   Скорость  Дальность Выносливость  \\\n",
       "85           Rolling Stones  undefined          4          5            5   \n",
       "91                   C-Moon  undefined          4          4      unknown   \n",
       "92          Jail House Lock  undefined          3          4            5   \n",
       "95              Under World  undefined          3          5            3   \n",
       "96                 Sky High  undefined  undefined          4            3   \n",
       "99        Bohemian Rhapsody  undefined  undefined   infinite            5   \n",
       "100  Burning Down the House  undefined  undefined  undefined    undefined   \n",
       "102          Dragon's Dream  undefined  undefined  undefined            5   \n",
       "108             Limp Bizkit  undefined          4          4            5   \n",
       "116        20th Century Boy  undefined          3  undefined            5   \n",
       "120         Chocolate Disco  undefined          3          3            4   \n",
       "121               Civil War  undefined          3          3            4   \n",
       "127                  Mandom  undefined          5  undefined            1   \n",
       "131              Tatoo You!  undefined          1          3            4   \n",
       "141     California King Bed  undefined  undefined          1            4   \n",
       "144            Paisley Park  undefined  undefined          5            5   \n",
       "\n",
       "      Точность  Потенциал                   Story  \n",
       "85           1  undefined     Part 5: Vento Aureo  \n",
       "91     unknown    unknown     Part 6: Stone Ocean  \n",
       "92   undefined  undefined     Part 6: Stone Ocean  \n",
       "95   undefined  undefined     Part 6: Stone Ocean  \n",
       "96   undefined  undefined     Part 6: Stone Ocean  \n",
       "99   undefined  undefined     Part 6: Stone Ocean  \n",
       "100  undefined  undefined     Part 6: Stone Ocean  \n",
       "102  undefined  undefined     Part 6: Stone Ocean  \n",
       "108          3          1     Part 6: Stone Ocean  \n",
       "116          2          3  Part 7: Steel Ball Run  \n",
       "120          5          2  Part 7: Steel Ball Run  \n",
       "121          3  undefined  Part 7: Steel Ball Run  \n",
       "127  undefined          3  Part 7: Steel Ball Run  \n",
       "131          1          1  Part 7: Steel Ball Run  \n",
       "141          1          1        Part 8: JoJolion  \n",
       "144          2          3        Part 8: JoJolion  "
      ]
     },
     "metadata": {},
     "output_type": "display_data"
    }
   ],
   "source": [
    "unknown_stands = begin_dataset[\n",
    "    begin_dataset['Сила'] == 'unknown'\n",
    "]\n",
    "\n",
    "undefined_stands = begin_dataset[\n",
    "    begin_dataset['Сила'] == 'undefined'\n",
    "]\n",
    "\n",
    "display(unknown_stands)\n",
    "display(undefined_stands)"
   ]
  },
  {
   "cell_type": "markdown",
   "metadata": {},
   "source": [
    "Ну... В теории можно построить график распределения и +- случайно распределить параметры, на основе существующих данных. Допустим, мы присвоим 1 с такой вероятностью, 2 с другой и т.д\n",
    "\n",
    "Алгоритм примерно следующий:\n",
    "\n",
    "находим сколько стендов имеют силу 1, например, и делим на общее количество стендов"
   ]
  },
  {
   "cell_type": "code",
   "execution_count": 285,
   "metadata": {},
   "outputs": [
    {
     "name": "stdout",
     "output_type": "stream",
     "text": [
      "   Сила  count\n",
      "0     1     35\n",
      "1     5     32\n",
      "2     3     27\n",
      "3     4     26\n",
      "4     2     17\n"
     ]
    },
    {
     "data": {
      "application/vnd.plotly.v1+json": {
       "config": {
        "plotlyServerURL": "https://plotly.com"
       },
       "data": [
        {
         "alignmentgroup": "True",
         "bingroup": "x",
         "histfunc": "sum",
         "hovertemplate": "Сила=%{x}<br>sum of count=%{y}<extra></extra>",
         "legendgroup": "",
         "marker": {
          "color": "#f40b12",
          "pattern": {
           "shape": ""
          }
         },
         "name": "",
         "nbinsx": 8,
         "offsetgroup": "",
         "orientation": "v",
         "showlegend": false,
         "type": "histogram",
         "x": [
          1,
          5,
          3,
          4,
          2
         ],
         "xaxis": "x",
         "y": [
          35,
          32,
          27,
          26,
          17
         ],
         "yaxis": "y"
        }
       ],
       "layout": {
        "barmode": "relative",
        "legend": {
         "tracegroupgap": 0
        },
        "margin": {
         "t": 60
        },
        "showlegend": false,
        "template": {
         "data": {
          "bar": [
           {
            "error_x": {
             "color": "#2a3f5f"
            },
            "error_y": {
             "color": "#2a3f5f"
            },
            "marker": {
             "line": {
              "color": "#E5ECF6",
              "width": 0.5
             },
             "pattern": {
              "fillmode": "overlay",
              "size": 10,
              "solidity": 0.2
             }
            },
            "type": "bar"
           }
          ],
          "barpolar": [
           {
            "marker": {
             "line": {
              "color": "#E5ECF6",
              "width": 0.5
             },
             "pattern": {
              "fillmode": "overlay",
              "size": 10,
              "solidity": 0.2
             }
            },
            "type": "barpolar"
           }
          ],
          "carpet": [
           {
            "aaxis": {
             "endlinecolor": "#2a3f5f",
             "gridcolor": "white",
             "linecolor": "white",
             "minorgridcolor": "white",
             "startlinecolor": "#2a3f5f"
            },
            "baxis": {
             "endlinecolor": "#2a3f5f",
             "gridcolor": "white",
             "linecolor": "white",
             "minorgridcolor": "white",
             "startlinecolor": "#2a3f5f"
            },
            "type": "carpet"
           }
          ],
          "choropleth": [
           {
            "colorbar": {
             "outlinewidth": 0,
             "ticks": ""
            },
            "type": "choropleth"
           }
          ],
          "contour": [
           {
            "colorbar": {
             "outlinewidth": 0,
             "ticks": ""
            },
            "colorscale": [
             [
              0,
              "#0d0887"
             ],
             [
              0.1111111111111111,
              "#46039f"
             ],
             [
              0.2222222222222222,
              "#7201a8"
             ],
             [
              0.3333333333333333,
              "#9c179e"
             ],
             [
              0.4444444444444444,
              "#bd3786"
             ],
             [
              0.5555555555555556,
              "#d8576b"
             ],
             [
              0.6666666666666666,
              "#ed7953"
             ],
             [
              0.7777777777777778,
              "#fb9f3a"
             ],
             [
              0.8888888888888888,
              "#fdca26"
             ],
             [
              1,
              "#f0f921"
             ]
            ],
            "type": "contour"
           }
          ],
          "contourcarpet": [
           {
            "colorbar": {
             "outlinewidth": 0,
             "ticks": ""
            },
            "type": "contourcarpet"
           }
          ],
          "heatmap": [
           {
            "colorbar": {
             "outlinewidth": 0,
             "ticks": ""
            },
            "colorscale": [
             [
              0,
              "#0d0887"
             ],
             [
              0.1111111111111111,
              "#46039f"
             ],
             [
              0.2222222222222222,
              "#7201a8"
             ],
             [
              0.3333333333333333,
              "#9c179e"
             ],
             [
              0.4444444444444444,
              "#bd3786"
             ],
             [
              0.5555555555555556,
              "#d8576b"
             ],
             [
              0.6666666666666666,
              "#ed7953"
             ],
             [
              0.7777777777777778,
              "#fb9f3a"
             ],
             [
              0.8888888888888888,
              "#fdca26"
             ],
             [
              1,
              "#f0f921"
             ]
            ],
            "type": "heatmap"
           }
          ],
          "heatmapgl": [
           {
            "colorbar": {
             "outlinewidth": 0,
             "ticks": ""
            },
            "colorscale": [
             [
              0,
              "#0d0887"
             ],
             [
              0.1111111111111111,
              "#46039f"
             ],
             [
              0.2222222222222222,
              "#7201a8"
             ],
             [
              0.3333333333333333,
              "#9c179e"
             ],
             [
              0.4444444444444444,
              "#bd3786"
             ],
             [
              0.5555555555555556,
              "#d8576b"
             ],
             [
              0.6666666666666666,
              "#ed7953"
             ],
             [
              0.7777777777777778,
              "#fb9f3a"
             ],
             [
              0.8888888888888888,
              "#fdca26"
             ],
             [
              1,
              "#f0f921"
             ]
            ],
            "type": "heatmapgl"
           }
          ],
          "histogram": [
           {
            "marker": {
             "pattern": {
              "fillmode": "overlay",
              "size": 10,
              "solidity": 0.2
             }
            },
            "type": "histogram"
           }
          ],
          "histogram2d": [
           {
            "colorbar": {
             "outlinewidth": 0,
             "ticks": ""
            },
            "colorscale": [
             [
              0,
              "#0d0887"
             ],
             [
              0.1111111111111111,
              "#46039f"
             ],
             [
              0.2222222222222222,
              "#7201a8"
             ],
             [
              0.3333333333333333,
              "#9c179e"
             ],
             [
              0.4444444444444444,
              "#bd3786"
             ],
             [
              0.5555555555555556,
              "#d8576b"
             ],
             [
              0.6666666666666666,
              "#ed7953"
             ],
             [
              0.7777777777777778,
              "#fb9f3a"
             ],
             [
              0.8888888888888888,
              "#fdca26"
             ],
             [
              1,
              "#f0f921"
             ]
            ],
            "type": "histogram2d"
           }
          ],
          "histogram2dcontour": [
           {
            "colorbar": {
             "outlinewidth": 0,
             "ticks": ""
            },
            "colorscale": [
             [
              0,
              "#0d0887"
             ],
             [
              0.1111111111111111,
              "#46039f"
             ],
             [
              0.2222222222222222,
              "#7201a8"
             ],
             [
              0.3333333333333333,
              "#9c179e"
             ],
             [
              0.4444444444444444,
              "#bd3786"
             ],
             [
              0.5555555555555556,
              "#d8576b"
             ],
             [
              0.6666666666666666,
              "#ed7953"
             ],
             [
              0.7777777777777778,
              "#fb9f3a"
             ],
             [
              0.8888888888888888,
              "#fdca26"
             ],
             [
              1,
              "#f0f921"
             ]
            ],
            "type": "histogram2dcontour"
           }
          ],
          "mesh3d": [
           {
            "colorbar": {
             "outlinewidth": 0,
             "ticks": ""
            },
            "type": "mesh3d"
           }
          ],
          "parcoords": [
           {
            "line": {
             "colorbar": {
              "outlinewidth": 0,
              "ticks": ""
             }
            },
            "type": "parcoords"
           }
          ],
          "pie": [
           {
            "automargin": true,
            "type": "pie"
           }
          ],
          "scatter": [
           {
            "fillpattern": {
             "fillmode": "overlay",
             "size": 10,
             "solidity": 0.2
            },
            "type": "scatter"
           }
          ],
          "scatter3d": [
           {
            "line": {
             "colorbar": {
              "outlinewidth": 0,
              "ticks": ""
             }
            },
            "marker": {
             "colorbar": {
              "outlinewidth": 0,
              "ticks": ""
             }
            },
            "type": "scatter3d"
           }
          ],
          "scattercarpet": [
           {
            "marker": {
             "colorbar": {
              "outlinewidth": 0,
              "ticks": ""
             }
            },
            "type": "scattercarpet"
           }
          ],
          "scattergeo": [
           {
            "marker": {
             "colorbar": {
              "outlinewidth": 0,
              "ticks": ""
             }
            },
            "type": "scattergeo"
           }
          ],
          "scattergl": [
           {
            "marker": {
             "colorbar": {
              "outlinewidth": 0,
              "ticks": ""
             }
            },
            "type": "scattergl"
           }
          ],
          "scattermapbox": [
           {
            "marker": {
             "colorbar": {
              "outlinewidth": 0,
              "ticks": ""
             }
            },
            "type": "scattermapbox"
           }
          ],
          "scatterpolar": [
           {
            "marker": {
             "colorbar": {
              "outlinewidth": 0,
              "ticks": ""
             }
            },
            "type": "scatterpolar"
           }
          ],
          "scatterpolargl": [
           {
            "marker": {
             "colorbar": {
              "outlinewidth": 0,
              "ticks": ""
             }
            },
            "type": "scatterpolargl"
           }
          ],
          "scatterternary": [
           {
            "marker": {
             "colorbar": {
              "outlinewidth": 0,
              "ticks": ""
             }
            },
            "type": "scatterternary"
           }
          ],
          "surface": [
           {
            "colorbar": {
             "outlinewidth": 0,
             "ticks": ""
            },
            "colorscale": [
             [
              0,
              "#0d0887"
             ],
             [
              0.1111111111111111,
              "#46039f"
             ],
             [
              0.2222222222222222,
              "#7201a8"
             ],
             [
              0.3333333333333333,
              "#9c179e"
             ],
             [
              0.4444444444444444,
              "#bd3786"
             ],
             [
              0.5555555555555556,
              "#d8576b"
             ],
             [
              0.6666666666666666,
              "#ed7953"
             ],
             [
              0.7777777777777778,
              "#fb9f3a"
             ],
             [
              0.8888888888888888,
              "#fdca26"
             ],
             [
              1,
              "#f0f921"
             ]
            ],
            "type": "surface"
           }
          ],
          "table": [
           {
            "cells": {
             "fill": {
              "color": "#EBF0F8"
             },
             "line": {
              "color": "white"
             }
            },
            "header": {
             "fill": {
              "color": "#C8D4E3"
             },
             "line": {
              "color": "white"
             }
            },
            "type": "table"
           }
          ]
         },
         "layout": {
          "annotationdefaults": {
           "arrowcolor": "#2a3f5f",
           "arrowhead": 0,
           "arrowwidth": 1
          },
          "autotypenumbers": "strict",
          "coloraxis": {
           "colorbar": {
            "outlinewidth": 0,
            "ticks": ""
           }
          },
          "colorscale": {
           "diverging": [
            [
             0,
             "#8e0152"
            ],
            [
             0.1,
             "#c51b7d"
            ],
            [
             0.2,
             "#de77ae"
            ],
            [
             0.3,
             "#f1b6da"
            ],
            [
             0.4,
             "#fde0ef"
            ],
            [
             0.5,
             "#f7f7f7"
            ],
            [
             0.6,
             "#e6f5d0"
            ],
            [
             0.7,
             "#b8e186"
            ],
            [
             0.8,
             "#7fbc41"
            ],
            [
             0.9,
             "#4d9221"
            ],
            [
             1,
             "#276419"
            ]
           ],
           "sequential": [
            [
             0,
             "#0d0887"
            ],
            [
             0.1111111111111111,
             "#46039f"
            ],
            [
             0.2222222222222222,
             "#7201a8"
            ],
            [
             0.3333333333333333,
             "#9c179e"
            ],
            [
             0.4444444444444444,
             "#bd3786"
            ],
            [
             0.5555555555555556,
             "#d8576b"
            ],
            [
             0.6666666666666666,
             "#ed7953"
            ],
            [
             0.7777777777777778,
             "#fb9f3a"
            ],
            [
             0.8888888888888888,
             "#fdca26"
            ],
            [
             1,
             "#f0f921"
            ]
           ],
           "sequentialminus": [
            [
             0,
             "#0d0887"
            ],
            [
             0.1111111111111111,
             "#46039f"
            ],
            [
             0.2222222222222222,
             "#7201a8"
            ],
            [
             0.3333333333333333,
             "#9c179e"
            ],
            [
             0.4444444444444444,
             "#bd3786"
            ],
            [
             0.5555555555555556,
             "#d8576b"
            ],
            [
             0.6666666666666666,
             "#ed7953"
            ],
            [
             0.7777777777777778,
             "#fb9f3a"
            ],
            [
             0.8888888888888888,
             "#fdca26"
            ],
            [
             1,
             "#f0f921"
            ]
           ]
          },
          "colorway": [
           "#636efa",
           "#EF553B",
           "#00cc96",
           "#ab63fa",
           "#FFA15A",
           "#19d3f3",
           "#FF6692",
           "#B6E880",
           "#FF97FF",
           "#FECB52"
          ],
          "font": {
           "color": "#2a3f5f"
          },
          "geo": {
           "bgcolor": "white",
           "lakecolor": "white",
           "landcolor": "#E5ECF6",
           "showlakes": true,
           "showland": true,
           "subunitcolor": "white"
          },
          "hoverlabel": {
           "align": "left"
          },
          "hovermode": "closest",
          "mapbox": {
           "style": "light"
          },
          "paper_bgcolor": "white",
          "plot_bgcolor": "#E5ECF6",
          "polar": {
           "angularaxis": {
            "gridcolor": "white",
            "linecolor": "white",
            "ticks": ""
           },
           "bgcolor": "#E5ECF6",
           "radialaxis": {
            "gridcolor": "white",
            "linecolor": "white",
            "ticks": ""
           }
          },
          "scene": {
           "xaxis": {
            "backgroundcolor": "#E5ECF6",
            "gridcolor": "white",
            "gridwidth": 2,
            "linecolor": "white",
            "showbackground": true,
            "ticks": "",
            "zerolinecolor": "white"
           },
           "yaxis": {
            "backgroundcolor": "#E5ECF6",
            "gridcolor": "white",
            "gridwidth": 2,
            "linecolor": "white",
            "showbackground": true,
            "ticks": "",
            "zerolinecolor": "white"
           },
           "zaxis": {
            "backgroundcolor": "#E5ECF6",
            "gridcolor": "white",
            "gridwidth": 2,
            "linecolor": "white",
            "showbackground": true,
            "ticks": "",
            "zerolinecolor": "white"
           }
          },
          "shapedefaults": {
           "line": {
            "color": "#2a3f5f"
           }
          },
          "ternary": {
           "aaxis": {
            "gridcolor": "white",
            "linecolor": "white",
            "ticks": ""
           },
           "baxis": {
            "gridcolor": "white",
            "linecolor": "white",
            "ticks": ""
           },
           "bgcolor": "#E5ECF6",
           "caxis": {
            "gridcolor": "white",
            "linecolor": "white",
            "ticks": ""
           }
          },
          "title": {
           "x": 0.05
          },
          "xaxis": {
           "automargin": true,
           "gridcolor": "white",
           "linecolor": "white",
           "ticks": "",
           "title": {
            "standoff": 15
           },
           "zerolinecolor": "white",
           "zerolinewidth": 2
          },
          "yaxis": {
           "automargin": true,
           "gridcolor": "white",
           "linecolor": "white",
           "ticks": "",
           "title": {
            "standoff": 15
           },
           "zerolinecolor": "white",
           "zerolinewidth": 2
          }
         }
        },
        "title": {
         "text": "Распределение силы",
         "x": 0.5
        },
        "xaxis": {
         "anchor": "y",
         "domain": [
          0,
          1
         ],
         "title": {
          "text": "Сила"
         }
        },
        "yaxis": {
         "anchor": "x",
         "domain": [
          0,
          1
         ],
         "title": {
          "text": "Количество"
         }
        }
       }
      }
     },
     "metadata": {},
     "output_type": "display_data"
    }
   ],
   "source": [
    "done_values_power = begin_dataset[\n",
    "    (begin_dataset['Сила'] != 'undefined') & (begin_dataset['Сила'] != 'unknown') & (begin_dataset['Сила'] != 'infinite')\n",
    "]\n",
    "\n",
    "done_values_power_piv = done_values_power.value_counts('Сила').reset_index()\n",
    "print(done_values_power_piv)\n",
    "\n",
    "power_stats_histogram = px.histogram(done_values_power_piv, x = 'Сила', y = 'count', nbins = 8, color_discrete_sequence=['#f40b12'])\n",
    "power_stats_histogram.update_layout(title = {'text': 'Распределение силы', 'x': 0.5}, showlegend = False, xaxis_title = 'Сила', yaxis_title = 'Количество')\n",
    "power_stats_histogram.show()\n",
    "\n",
    "\n"
   ]
  },
  {
   "cell_type": "code",
   "execution_count": 286,
   "metadata": {},
   "outputs": [
    {
     "data": {
      "text/html": [
       "<div>\n",
       "<style scoped>\n",
       "    .dataframe tbody tr th:only-of-type {\n",
       "        vertical-align: middle;\n",
       "    }\n",
       "\n",
       "    .dataframe tbody tr th {\n",
       "        vertical-align: top;\n",
       "    }\n",
       "\n",
       "    .dataframe thead th {\n",
       "        text-align: right;\n",
       "    }\n",
       "</style>\n",
       "<table border=\"1\" class=\"dataframe\">\n",
       "  <thead>\n",
       "    <tr style=\"text-align: right;\">\n",
       "      <th></th>\n",
       "      <th>Сила</th>\n",
       "      <th>Кол-во</th>\n",
       "      <th>probability</th>\n",
       "    </tr>\n",
       "  </thead>\n",
       "  <tbody>\n",
       "    <tr>\n",
       "      <th>0</th>\n",
       "      <td>1</td>\n",
       "      <td>35</td>\n",
       "      <td>0.255474</td>\n",
       "    </tr>\n",
       "    <tr>\n",
       "      <th>1</th>\n",
       "      <td>5</td>\n",
       "      <td>32</td>\n",
       "      <td>0.233577</td>\n",
       "    </tr>\n",
       "    <tr>\n",
       "      <th>2</th>\n",
       "      <td>3</td>\n",
       "      <td>27</td>\n",
       "      <td>0.197080</td>\n",
       "    </tr>\n",
       "    <tr>\n",
       "      <th>3</th>\n",
       "      <td>4</td>\n",
       "      <td>26</td>\n",
       "      <td>0.189781</td>\n",
       "    </tr>\n",
       "    <tr>\n",
       "      <th>4</th>\n",
       "      <td>2</td>\n",
       "      <td>17</td>\n",
       "      <td>0.124088</td>\n",
       "    </tr>\n",
       "  </tbody>\n",
       "</table>\n",
       "</div>"
      ],
      "text/plain": [
       "   Сила  Кол-во  probability\n",
       "0     1      35     0.255474\n",
       "1     5      32     0.233577\n",
       "2     3      27     0.197080\n",
       "3     4      26     0.189781\n",
       "4     2      17     0.124088"
      ]
     },
     "metadata": {},
     "output_type": "display_data"
    }
   ],
   "source": [
    "additional_done_values_power = done_values_power.value_counts('Сила').reset_index().rename(columns = {'count': 'Кол-во'})\n",
    "\n",
    "additional_done_values_power['probability'] = additional_done_values_power['Кол-во'] / additional_done_values_power['Кол-во'].sum()\n",
    "\n",
    "display(additional_done_values_power)"
   ]
  },
  {
   "cell_type": "markdown",
   "metadata": {},
   "source": [
    "Теперь, имея данные вероятности, мы можем заполнить наши значения"
   ]
  },
  {
   "cell_type": "code",
   "execution_count": 287,
   "metadata": {},
   "outputs": [
    {
     "name": "stderr",
     "output_type": "stream",
     "text": [
      "C:\\Users\\Smart\\AppData\\Local\\Temp\\ipykernel_13008\\1309006916.py:9: SettingWithCopyWarning:\n",
      "\n",
      "\n",
      "A value is trying to be set on a copy of a slice from a DataFrame.\n",
      "Try using .loc[row_indexer,col_indexer] = value instead\n",
      "\n",
      "See the caveats in the documentation: https://pandas.pydata.org/pandas-docs/stable/user_guide/indexing.html#returning-a-view-versus-a-copy\n",
      "\n"
     ]
    },
    {
     "data": {
      "text/html": [
       "<div>\n",
       "<style scoped>\n",
       "    .dataframe tbody tr th:only-of-type {\n",
       "        vertical-align: middle;\n",
       "    }\n",
       "\n",
       "    .dataframe tbody tr th {\n",
       "        vertical-align: top;\n",
       "    }\n",
       "\n",
       "    .dataframe thead th {\n",
       "        text-align: right;\n",
       "    }\n",
       "</style>\n",
       "<table border=\"1\" class=\"dataframe\">\n",
       "  <thead>\n",
       "    <tr style=\"text-align: right;\">\n",
       "      <th></th>\n",
       "      <th>Stand</th>\n",
       "      <th>Сила</th>\n",
       "      <th>Скорость</th>\n",
       "      <th>Дальность</th>\n",
       "      <th>Выносливость</th>\n",
       "      <th>Точность</th>\n",
       "      <th>Потенциал</th>\n",
       "      <th>Story</th>\n",
       "    </tr>\n",
       "  </thead>\n",
       "  <tbody>\n",
       "    <tr>\n",
       "      <th>0</th>\n",
       "      <td>Anubis</td>\n",
       "      <td>4</td>\n",
       "      <td>4</td>\n",
       "      <td>1</td>\n",
       "      <td>5</td>\n",
       "      <td>1</td>\n",
       "      <td>3</td>\n",
       "      <td>Part 3: Stardust Crusaders</td>\n",
       "    </tr>\n",
       "    <tr>\n",
       "      <th>1</th>\n",
       "      <td>Atum</td>\n",
       "      <td>2</td>\n",
       "      <td>3</td>\n",
       "      <td>2</td>\n",
       "      <td>4</td>\n",
       "      <td>2</td>\n",
       "      <td>2</td>\n",
       "      <td>Part 3: Stardust Crusaders</td>\n",
       "    </tr>\n",
       "    <tr>\n",
       "      <th>2</th>\n",
       "      <td>Bastet</td>\n",
       "      <td>1</td>\n",
       "      <td>1</td>\n",
       "      <td>4</td>\n",
       "      <td>5</td>\n",
       "      <td>1</td>\n",
       "      <td>1</td>\n",
       "      <td>Part 3: Stardust Crusaders</td>\n",
       "    </tr>\n",
       "    <tr>\n",
       "      <th>3</th>\n",
       "      <td>Cream</td>\n",
       "      <td>4</td>\n",
       "      <td>4</td>\n",
       "      <td>2</td>\n",
       "      <td>3</td>\n",
       "      <td>3</td>\n",
       "      <td>2</td>\n",
       "      <td>Part 3: Stardust Crusaders</td>\n",
       "    </tr>\n",
       "    <tr>\n",
       "      <th>4</th>\n",
       "      <td>Death Thirteen</td>\n",
       "      <td>3</td>\n",
       "      <td>3</td>\n",
       "      <td>1</td>\n",
       "      <td>4</td>\n",
       "      <td>2</td>\n",
       "      <td>4</td>\n",
       "      <td>Part 3: Stardust Crusaders</td>\n",
       "    </tr>\n",
       "    <tr>\n",
       "      <th>...</th>\n",
       "      <td>...</td>\n",
       "      <td>...</td>\n",
       "      <td>...</td>\n",
       "      <td>...</td>\n",
       "      <td>...</td>\n",
       "      <td>...</td>\n",
       "      <td>...</td>\n",
       "      <td>...</td>\n",
       "    </tr>\n",
       "    <tr>\n",
       "      <th>151</th>\n",
       "      <td>Nightbird Flying</td>\n",
       "      <td>1</td>\n",
       "      <td>5</td>\n",
       "      <td>5</td>\n",
       "      <td>5</td>\n",
       "      <td>1</td>\n",
       "      <td>1</td>\n",
       "      <td>Light Novel: Purple Haze Feedback</td>\n",
       "    </tr>\n",
       "    <tr>\n",
       "      <th>152</th>\n",
       "      <td>Purple Haze Distortion</td>\n",
       "      <td>5</td>\n",
       "      <td>4</td>\n",
       "      <td>1</td>\n",
       "      <td>1</td>\n",
       "      <td>3</td>\n",
       "      <td>unknown</td>\n",
       "      <td>Light Novel: Purple Haze Feedback</td>\n",
       "    </tr>\n",
       "    <tr>\n",
       "      <th>153</th>\n",
       "      <td>Rainy Day Dream Away</td>\n",
       "      <td>1</td>\n",
       "      <td>4</td>\n",
       "      <td>5</td>\n",
       "      <td>5</td>\n",
       "      <td>1</td>\n",
       "      <td>1</td>\n",
       "      <td>Light Novel: Purple Haze Feedback</td>\n",
       "    </tr>\n",
       "    <tr>\n",
       "      <th>154</th>\n",
       "      <td>Remote Romance</td>\n",
       "      <td>1</td>\n",
       "      <td>2</td>\n",
       "      <td>infinite</td>\n",
       "      <td>4</td>\n",
       "      <td>3</td>\n",
       "      <td>1</td>\n",
       "      <td>Featured</td>\n",
       "    </tr>\n",
       "    <tr>\n",
       "      <th>155</th>\n",
       "      <td>House of Holy</td>\n",
       "      <td>1</td>\n",
       "      <td>4</td>\n",
       "      <td>3</td>\n",
       "      <td>5</td>\n",
       "      <td>2</td>\n",
       "      <td>2</td>\n",
       "      <td>Featured</td>\n",
       "    </tr>\n",
       "  </tbody>\n",
       "</table>\n",
       "<p>156 rows × 8 columns</p>\n",
       "</div>"
      ],
      "text/plain": [
       "                      Stand Сила Скорость Дальность Выносливость Точность  \\\n",
       "0                    Anubis    4        4         1            5        1   \n",
       "1                      Atum    2        3         2            4        2   \n",
       "2                    Bastet    1        1         4            5        1   \n",
       "3                     Cream    4        4         2            3        3   \n",
       "4            Death Thirteen    3        3         1            4        2   \n",
       "..                      ...  ...      ...       ...          ...      ...   \n",
       "151        Nightbird Flying    1        5         5            5        1   \n",
       "152  Purple Haze Distortion    5        4         1            1        3   \n",
       "153    Rainy Day Dream Away    1        4         5            5        1   \n",
       "154          Remote Romance    1        2  infinite            4        3   \n",
       "155           House of Holy    1        4         3            5        2   \n",
       "\n",
       "    Потенциал                              Story  \n",
       "0           3         Part 3: Stardust Crusaders  \n",
       "1           2         Part 3: Stardust Crusaders  \n",
       "2           1         Part 3: Stardust Crusaders  \n",
       "3           2         Part 3: Stardust Crusaders  \n",
       "4           4         Part 3: Stardust Crusaders  \n",
       "..        ...                                ...  \n",
       "151         1  Light Novel: Purple Haze Feedback  \n",
       "152   unknown  Light Novel: Purple Haze Feedback  \n",
       "153         1  Light Novel: Purple Haze Feedback  \n",
       "154         1                           Featured  \n",
       "155         2                           Featured  \n",
       "\n",
       "[156 rows x 8 columns]"
      ]
     },
     "metadata": {},
     "output_type": "display_data"
    },
    {
     "data": {
      "text/html": [
       "<div>\n",
       "<style scoped>\n",
       "    .dataframe tbody tr th:only-of-type {\n",
       "        vertical-align: middle;\n",
       "    }\n",
       "\n",
       "    .dataframe tbody tr th {\n",
       "        vertical-align: top;\n",
       "    }\n",
       "\n",
       "    .dataframe thead th {\n",
       "        text-align: right;\n",
       "    }\n",
       "</style>\n",
       "<table border=\"1\" class=\"dataframe\">\n",
       "  <thead>\n",
       "    <tr style=\"text-align: right;\">\n",
       "      <th></th>\n",
       "      <th>Сила</th>\n",
       "      <th>count</th>\n",
       "    </tr>\n",
       "  </thead>\n",
       "  <tbody>\n",
       "    <tr>\n",
       "      <th>0</th>\n",
       "      <td>1</td>\n",
       "      <td>39</td>\n",
       "    </tr>\n",
       "    <tr>\n",
       "      <th>1</th>\n",
       "      <td>5</td>\n",
       "      <td>36</td>\n",
       "    </tr>\n",
       "    <tr>\n",
       "      <th>2</th>\n",
       "      <td>3</td>\n",
       "      <td>30</td>\n",
       "    </tr>\n",
       "    <tr>\n",
       "      <th>3</th>\n",
       "      <td>4</td>\n",
       "      <td>30</td>\n",
       "    </tr>\n",
       "    <tr>\n",
       "      <th>4</th>\n",
       "      <td>2</td>\n",
       "      <td>20</td>\n",
       "    </tr>\n",
       "    <tr>\n",
       "      <th>5</th>\n",
       "      <td>infinite</td>\n",
       "      <td>1</td>\n",
       "    </tr>\n",
       "  </tbody>\n",
       "</table>\n",
       "</div>"
      ],
      "text/plain": [
       "       Сила  count\n",
       "0         1     39\n",
       "1         5     36\n",
       "2         3     30\n",
       "3         4     30\n",
       "4         2     20\n",
       "5  infinite      1"
      ]
     },
     "metadata": {},
     "output_type": "display_data"
    }
   ],
   "source": [
    "stands_to_be_replaced = begin_dataset[\n",
    "    (begin_dataset['Сила'] == 'unknown') | (begin_dataset['Сила'] == 'undefined')\n",
    "]\n",
    "\n",
    "def replace_empty_power(row):\n",
    "    row['Сила'] = np.random.choice(additional_done_values_power['Сила'], p = additional_done_values_power['probability'])\n",
    "    return row['Сила']\n",
    "\n",
    "stands_to_be_replaced['Сила'] = stands_to_be_replaced.apply(replace_empty_power, axis = 1)\n",
    "\n",
    "begin_dataset.loc[stands_to_be_replaced.index, 'Сила'] = stands_to_be_replaced['Сила']\n",
    "\n",
    "display(begin_dataset)\n",
    "\n",
    "display(begin_dataset.value_counts('Сила').reset_index())\n"
   ]
  },
  {
   "cell_type": "markdown",
   "metadata": {},
   "source": [
    "Предположим, что стенды с силой 3 и больше, а также таинственный стенд, у которого сила бесконечна -- сильные, остальные -- слабые, тогда давайте отобразим их распределение на круговой диаграмме (как раз будут хорошие категории)"
   ]
  },
  {
   "cell_type": "code",
   "execution_count": 288,
   "metadata": {},
   "outputs": [],
   "source": [
    "def assign_strongest_stands(row):\n",
    "    if row['Сила'] == 'infinite' or row['Сила'] >= 3:\n",
    "        row['strong'] = 'Сильный стенд'\n",
    "    else:\n",
    "        row['strong'] = 'Слабый стенд'\n",
    "    return row['strong']\n",
    "\n",
    "begin_dataset['strong'] = begin_dataset.apply(assign_strongest_stands, axis = 1)\n",
    "\n"
   ]
  },
  {
   "cell_type": "code",
   "execution_count": 289,
   "metadata": {},
   "outputs": [
    {
     "data": {
      "text/html": [
       "<div>\n",
       "<style scoped>\n",
       "    .dataframe tbody tr th:only-of-type {\n",
       "        vertical-align: middle;\n",
       "    }\n",
       "\n",
       "    .dataframe tbody tr th {\n",
       "        vertical-align: top;\n",
       "    }\n",
       "\n",
       "    .dataframe thead th {\n",
       "        text-align: right;\n",
       "    }\n",
       "</style>\n",
       "<table border=\"1\" class=\"dataframe\">\n",
       "  <thead>\n",
       "    <tr style=\"text-align: right;\">\n",
       "      <th></th>\n",
       "      <th>strong</th>\n",
       "      <th>Количество</th>\n",
       "    </tr>\n",
       "  </thead>\n",
       "  <tbody>\n",
       "    <tr>\n",
       "      <th>0</th>\n",
       "      <td>Сильный стенд</td>\n",
       "      <td>97</td>\n",
       "    </tr>\n",
       "    <tr>\n",
       "      <th>1</th>\n",
       "      <td>Слабый стенд</td>\n",
       "      <td>59</td>\n",
       "    </tr>\n",
       "  </tbody>\n",
       "</table>\n",
       "</div>"
      ],
      "text/plain": [
       "          strong  Количество\n",
       "0  Сильный стенд          97\n",
       "1   Слабый стенд          59"
      ]
     },
     "metadata": {},
     "output_type": "display_data"
    },
    {
     "data": {
      "application/vnd.plotly.v1+json": {
       "config": {
        "plotlyServerURL": "https://plotly.com"
       },
       "data": [
        {
         "domain": {
          "x": [
           0,
           1
          ],
          "y": [
           0,
           1
          ]
         },
         "hole": 0.5,
         "hovertemplate": "strong=%{label}<br>Количество=%{value}<extra></extra>",
         "labels": [
          "Сильный стенд",
          "Слабый стенд"
         ],
         "legendgroup": "",
         "name": "",
         "showlegend": true,
         "type": "pie",
         "values": [
          97,
          59
         ]
        }
       ],
       "layout": {
        "height": 500,
        "legend": {
         "tracegroupgap": 0
        },
        "margin": {
         "t": 60
        },
        "piecolorway": [
         "#db2724",
         "#24d8db"
        ],
        "showlegend": false,
        "template": {
         "data": {
          "bar": [
           {
            "error_x": {
             "color": "#2a3f5f"
            },
            "error_y": {
             "color": "#2a3f5f"
            },
            "marker": {
             "line": {
              "color": "#E5ECF6",
              "width": 0.5
             },
             "pattern": {
              "fillmode": "overlay",
              "size": 10,
              "solidity": 0.2
             }
            },
            "type": "bar"
           }
          ],
          "barpolar": [
           {
            "marker": {
             "line": {
              "color": "#E5ECF6",
              "width": 0.5
             },
             "pattern": {
              "fillmode": "overlay",
              "size": 10,
              "solidity": 0.2
             }
            },
            "type": "barpolar"
           }
          ],
          "carpet": [
           {
            "aaxis": {
             "endlinecolor": "#2a3f5f",
             "gridcolor": "white",
             "linecolor": "white",
             "minorgridcolor": "white",
             "startlinecolor": "#2a3f5f"
            },
            "baxis": {
             "endlinecolor": "#2a3f5f",
             "gridcolor": "white",
             "linecolor": "white",
             "minorgridcolor": "white",
             "startlinecolor": "#2a3f5f"
            },
            "type": "carpet"
           }
          ],
          "choropleth": [
           {
            "colorbar": {
             "outlinewidth": 0,
             "ticks": ""
            },
            "type": "choropleth"
           }
          ],
          "contour": [
           {
            "colorbar": {
             "outlinewidth": 0,
             "ticks": ""
            },
            "colorscale": [
             [
              0,
              "#0d0887"
             ],
             [
              0.1111111111111111,
              "#46039f"
             ],
             [
              0.2222222222222222,
              "#7201a8"
             ],
             [
              0.3333333333333333,
              "#9c179e"
             ],
             [
              0.4444444444444444,
              "#bd3786"
             ],
             [
              0.5555555555555556,
              "#d8576b"
             ],
             [
              0.6666666666666666,
              "#ed7953"
             ],
             [
              0.7777777777777778,
              "#fb9f3a"
             ],
             [
              0.8888888888888888,
              "#fdca26"
             ],
             [
              1,
              "#f0f921"
             ]
            ],
            "type": "contour"
           }
          ],
          "contourcarpet": [
           {
            "colorbar": {
             "outlinewidth": 0,
             "ticks": ""
            },
            "type": "contourcarpet"
           }
          ],
          "heatmap": [
           {
            "colorbar": {
             "outlinewidth": 0,
             "ticks": ""
            },
            "colorscale": [
             [
              0,
              "#0d0887"
             ],
             [
              0.1111111111111111,
              "#46039f"
             ],
             [
              0.2222222222222222,
              "#7201a8"
             ],
             [
              0.3333333333333333,
              "#9c179e"
             ],
             [
              0.4444444444444444,
              "#bd3786"
             ],
             [
              0.5555555555555556,
              "#d8576b"
             ],
             [
              0.6666666666666666,
              "#ed7953"
             ],
             [
              0.7777777777777778,
              "#fb9f3a"
             ],
             [
              0.8888888888888888,
              "#fdca26"
             ],
             [
              1,
              "#f0f921"
             ]
            ],
            "type": "heatmap"
           }
          ],
          "heatmapgl": [
           {
            "colorbar": {
             "outlinewidth": 0,
             "ticks": ""
            },
            "colorscale": [
             [
              0,
              "#0d0887"
             ],
             [
              0.1111111111111111,
              "#46039f"
             ],
             [
              0.2222222222222222,
              "#7201a8"
             ],
             [
              0.3333333333333333,
              "#9c179e"
             ],
             [
              0.4444444444444444,
              "#bd3786"
             ],
             [
              0.5555555555555556,
              "#d8576b"
             ],
             [
              0.6666666666666666,
              "#ed7953"
             ],
             [
              0.7777777777777778,
              "#fb9f3a"
             ],
             [
              0.8888888888888888,
              "#fdca26"
             ],
             [
              1,
              "#f0f921"
             ]
            ],
            "type": "heatmapgl"
           }
          ],
          "histogram": [
           {
            "marker": {
             "pattern": {
              "fillmode": "overlay",
              "size": 10,
              "solidity": 0.2
             }
            },
            "type": "histogram"
           }
          ],
          "histogram2d": [
           {
            "colorbar": {
             "outlinewidth": 0,
             "ticks": ""
            },
            "colorscale": [
             [
              0,
              "#0d0887"
             ],
             [
              0.1111111111111111,
              "#46039f"
             ],
             [
              0.2222222222222222,
              "#7201a8"
             ],
             [
              0.3333333333333333,
              "#9c179e"
             ],
             [
              0.4444444444444444,
              "#bd3786"
             ],
             [
              0.5555555555555556,
              "#d8576b"
             ],
             [
              0.6666666666666666,
              "#ed7953"
             ],
             [
              0.7777777777777778,
              "#fb9f3a"
             ],
             [
              0.8888888888888888,
              "#fdca26"
             ],
             [
              1,
              "#f0f921"
             ]
            ],
            "type": "histogram2d"
           }
          ],
          "histogram2dcontour": [
           {
            "colorbar": {
             "outlinewidth": 0,
             "ticks": ""
            },
            "colorscale": [
             [
              0,
              "#0d0887"
             ],
             [
              0.1111111111111111,
              "#46039f"
             ],
             [
              0.2222222222222222,
              "#7201a8"
             ],
             [
              0.3333333333333333,
              "#9c179e"
             ],
             [
              0.4444444444444444,
              "#bd3786"
             ],
             [
              0.5555555555555556,
              "#d8576b"
             ],
             [
              0.6666666666666666,
              "#ed7953"
             ],
             [
              0.7777777777777778,
              "#fb9f3a"
             ],
             [
              0.8888888888888888,
              "#fdca26"
             ],
             [
              1,
              "#f0f921"
             ]
            ],
            "type": "histogram2dcontour"
           }
          ],
          "mesh3d": [
           {
            "colorbar": {
             "outlinewidth": 0,
             "ticks": ""
            },
            "type": "mesh3d"
           }
          ],
          "parcoords": [
           {
            "line": {
             "colorbar": {
              "outlinewidth": 0,
              "ticks": ""
             }
            },
            "type": "parcoords"
           }
          ],
          "pie": [
           {
            "automargin": true,
            "type": "pie"
           }
          ],
          "scatter": [
           {
            "fillpattern": {
             "fillmode": "overlay",
             "size": 10,
             "solidity": 0.2
            },
            "type": "scatter"
           }
          ],
          "scatter3d": [
           {
            "line": {
             "colorbar": {
              "outlinewidth": 0,
              "ticks": ""
             }
            },
            "marker": {
             "colorbar": {
              "outlinewidth": 0,
              "ticks": ""
             }
            },
            "type": "scatter3d"
           }
          ],
          "scattercarpet": [
           {
            "marker": {
             "colorbar": {
              "outlinewidth": 0,
              "ticks": ""
             }
            },
            "type": "scattercarpet"
           }
          ],
          "scattergeo": [
           {
            "marker": {
             "colorbar": {
              "outlinewidth": 0,
              "ticks": ""
             }
            },
            "type": "scattergeo"
           }
          ],
          "scattergl": [
           {
            "marker": {
             "colorbar": {
              "outlinewidth": 0,
              "ticks": ""
             }
            },
            "type": "scattergl"
           }
          ],
          "scattermapbox": [
           {
            "marker": {
             "colorbar": {
              "outlinewidth": 0,
              "ticks": ""
             }
            },
            "type": "scattermapbox"
           }
          ],
          "scatterpolar": [
           {
            "marker": {
             "colorbar": {
              "outlinewidth": 0,
              "ticks": ""
             }
            },
            "type": "scatterpolar"
           }
          ],
          "scatterpolargl": [
           {
            "marker": {
             "colorbar": {
              "outlinewidth": 0,
              "ticks": ""
             }
            },
            "type": "scatterpolargl"
           }
          ],
          "scatterternary": [
           {
            "marker": {
             "colorbar": {
              "outlinewidth": 0,
              "ticks": ""
             }
            },
            "type": "scatterternary"
           }
          ],
          "surface": [
           {
            "colorbar": {
             "outlinewidth": 0,
             "ticks": ""
            },
            "colorscale": [
             [
              0,
              "#0d0887"
             ],
             [
              0.1111111111111111,
              "#46039f"
             ],
             [
              0.2222222222222222,
              "#7201a8"
             ],
             [
              0.3333333333333333,
              "#9c179e"
             ],
             [
              0.4444444444444444,
              "#bd3786"
             ],
             [
              0.5555555555555556,
              "#d8576b"
             ],
             [
              0.6666666666666666,
              "#ed7953"
             ],
             [
              0.7777777777777778,
              "#fb9f3a"
             ],
             [
              0.8888888888888888,
              "#fdca26"
             ],
             [
              1,
              "#f0f921"
             ]
            ],
            "type": "surface"
           }
          ],
          "table": [
           {
            "cells": {
             "fill": {
              "color": "#EBF0F8"
             },
             "line": {
              "color": "white"
             }
            },
            "header": {
             "fill": {
              "color": "#C8D4E3"
             },
             "line": {
              "color": "white"
             }
            },
            "type": "table"
           }
          ]
         },
         "layout": {
          "annotationdefaults": {
           "arrowcolor": "#2a3f5f",
           "arrowhead": 0,
           "arrowwidth": 1
          },
          "autotypenumbers": "strict",
          "coloraxis": {
           "colorbar": {
            "outlinewidth": 0,
            "ticks": ""
           }
          },
          "colorscale": {
           "diverging": [
            [
             0,
             "#8e0152"
            ],
            [
             0.1,
             "#c51b7d"
            ],
            [
             0.2,
             "#de77ae"
            ],
            [
             0.3,
             "#f1b6da"
            ],
            [
             0.4,
             "#fde0ef"
            ],
            [
             0.5,
             "#f7f7f7"
            ],
            [
             0.6,
             "#e6f5d0"
            ],
            [
             0.7,
             "#b8e186"
            ],
            [
             0.8,
             "#7fbc41"
            ],
            [
             0.9,
             "#4d9221"
            ],
            [
             1,
             "#276419"
            ]
           ],
           "sequential": [
            [
             0,
             "#0d0887"
            ],
            [
             0.1111111111111111,
             "#46039f"
            ],
            [
             0.2222222222222222,
             "#7201a8"
            ],
            [
             0.3333333333333333,
             "#9c179e"
            ],
            [
             0.4444444444444444,
             "#bd3786"
            ],
            [
             0.5555555555555556,
             "#d8576b"
            ],
            [
             0.6666666666666666,
             "#ed7953"
            ],
            [
             0.7777777777777778,
             "#fb9f3a"
            ],
            [
             0.8888888888888888,
             "#fdca26"
            ],
            [
             1,
             "#f0f921"
            ]
           ],
           "sequentialminus": [
            [
             0,
             "#0d0887"
            ],
            [
             0.1111111111111111,
             "#46039f"
            ],
            [
             0.2222222222222222,
             "#7201a8"
            ],
            [
             0.3333333333333333,
             "#9c179e"
            ],
            [
             0.4444444444444444,
             "#bd3786"
            ],
            [
             0.5555555555555556,
             "#d8576b"
            ],
            [
             0.6666666666666666,
             "#ed7953"
            ],
            [
             0.7777777777777778,
             "#fb9f3a"
            ],
            [
             0.8888888888888888,
             "#fdca26"
            ],
            [
             1,
             "#f0f921"
            ]
           ]
          },
          "colorway": [
           "#636efa",
           "#EF553B",
           "#00cc96",
           "#ab63fa",
           "#FFA15A",
           "#19d3f3",
           "#FF6692",
           "#B6E880",
           "#FF97FF",
           "#FECB52"
          ],
          "font": {
           "color": "#2a3f5f"
          },
          "geo": {
           "bgcolor": "white",
           "lakecolor": "white",
           "landcolor": "#E5ECF6",
           "showlakes": true,
           "showland": true,
           "subunitcolor": "white"
          },
          "hoverlabel": {
           "align": "left"
          },
          "hovermode": "closest",
          "mapbox": {
           "style": "light"
          },
          "paper_bgcolor": "white",
          "plot_bgcolor": "#E5ECF6",
          "polar": {
           "angularaxis": {
            "gridcolor": "white",
            "linecolor": "white",
            "ticks": ""
           },
           "bgcolor": "#E5ECF6",
           "radialaxis": {
            "gridcolor": "white",
            "linecolor": "white",
            "ticks": ""
           }
          },
          "scene": {
           "xaxis": {
            "backgroundcolor": "#E5ECF6",
            "gridcolor": "white",
            "gridwidth": 2,
            "linecolor": "white",
            "showbackground": true,
            "ticks": "",
            "zerolinecolor": "white"
           },
           "yaxis": {
            "backgroundcolor": "#E5ECF6",
            "gridcolor": "white",
            "gridwidth": 2,
            "linecolor": "white",
            "showbackground": true,
            "ticks": "",
            "zerolinecolor": "white"
           },
           "zaxis": {
            "backgroundcolor": "#E5ECF6",
            "gridcolor": "white",
            "gridwidth": 2,
            "linecolor": "white",
            "showbackground": true,
            "ticks": "",
            "zerolinecolor": "white"
           }
          },
          "shapedefaults": {
           "line": {
            "color": "#2a3f5f"
           }
          },
          "ternary": {
           "aaxis": {
            "gridcolor": "white",
            "linecolor": "white",
            "ticks": ""
           },
           "baxis": {
            "gridcolor": "white",
            "linecolor": "white",
            "ticks": ""
           },
           "bgcolor": "#E5ECF6",
           "caxis": {
            "gridcolor": "white",
            "linecolor": "white",
            "ticks": ""
           }
          },
          "title": {
           "x": 0.05
          },
          "xaxis": {
           "automargin": true,
           "gridcolor": "white",
           "linecolor": "white",
           "ticks": "",
           "title": {
            "standoff": 15
           },
           "zerolinecolor": "white",
           "zerolinewidth": 2
          },
          "yaxis": {
           "automargin": true,
           "gridcolor": "white",
           "linecolor": "white",
           "ticks": "",
           "title": {
            "standoff": 15
           },
           "zerolinecolor": "white",
           "zerolinewidth": 2
          }
         }
        },
        "title": {
         "text": "Распределение стендов по силе",
         "x": 0.5
        },
        "width": 500
       }
      }
     },
     "metadata": {},
     "output_type": "display_data"
    }
   ],
   "source": [
    "pivot_strong_stands = begin_dataset.value_counts('strong').reset_index().rename(columns = {'count': 'Количество'})\n",
    "\n",
    "display(pivot_strong_stands)\n",
    "\n",
    "strong_stands_pie = px.pie(pivot_strong_stands, names='strong', values='Количество', width = 500, height = 500, hole = 0.5, color_discrete_sequence=['#db2724', '#24d8db'])\n",
    "strong_stands_pie.update_layout(title = {'text': 'Распределение стендов по силе', 'x': 0.5}, showlegend = False)\n",
    "strong_stands_pie.show()\n",
    "\n",
    "\n"
   ]
  },
  {
   "cell_type": "markdown",
   "metadata": {},
   "source": [
    "Все равно по распределению видно, что у нас **больше именно сильных стендов**"
   ]
  },
  {
   "cell_type": "markdown",
   "metadata": {},
   "source": [
    "### 2.3.2 -- Скорость"
   ]
  },
  {
   "cell_type": "markdown",
   "metadata": {},
   "source": [
    "Теперь посмотрим, что там по скорости стендов"
   ]
  },
  {
   "cell_type": "code",
   "execution_count": 290,
   "metadata": {},
   "outputs": [
    {
     "data": {
      "text/plain": [
       "Скорость\n",
       "4            41\n",
       "3            35\n",
       "5            29\n",
       "1            27\n",
       "2            14\n",
       "undefined     6\n",
       "infinite      3\n",
       "unknown       1\n",
       "Name: count, dtype: int64"
      ]
     },
     "metadata": {},
     "output_type": "display_data"
    }
   ],
   "source": [
    "speed_stats = begin_dataset['Скорость'].value_counts()\n",
    "\n",
    "display(speed_stats)"
   ]
  },
  {
   "cell_type": "markdown",
   "metadata": {},
   "source": [
    "Как видно, у нас почти очень быстрые стенды получились, причем медленных прямо мало"
   ]
  },
  {
   "cell_type": "markdown",
   "metadata": {},
   "source": [
    "Посмотрим на стенды underfined и unknown"
   ]
  },
  {
   "cell_type": "code",
   "execution_count": 291,
   "metadata": {},
   "outputs": [
    {
     "data": {
      "text/html": [
       "<div>\n",
       "<style scoped>\n",
       "    .dataframe tbody tr th:only-of-type {\n",
       "        vertical-align: middle;\n",
       "    }\n",
       "\n",
       "    .dataframe tbody tr th {\n",
       "        vertical-align: top;\n",
       "    }\n",
       "\n",
       "    .dataframe thead th {\n",
       "        text-align: right;\n",
       "    }\n",
       "</style>\n",
       "<table border=\"1\" class=\"dataframe\">\n",
       "  <thead>\n",
       "    <tr style=\"text-align: right;\">\n",
       "      <th></th>\n",
       "      <th>Stand</th>\n",
       "      <th>Сила</th>\n",
       "      <th>Скорость</th>\n",
       "      <th>Дальность</th>\n",
       "      <th>Выносливость</th>\n",
       "      <th>Точность</th>\n",
       "      <th>Потенциал</th>\n",
       "      <th>Story</th>\n",
       "      <th>strong</th>\n",
       "    </tr>\n",
       "  </thead>\n",
       "  <tbody>\n",
       "    <tr>\n",
       "      <th>96</th>\n",
       "      <td>Sky High</td>\n",
       "      <td>4</td>\n",
       "      <td>undefined</td>\n",
       "      <td>4</td>\n",
       "      <td>3</td>\n",
       "      <td>undefined</td>\n",
       "      <td>undefined</td>\n",
       "      <td>Part 6: Stone Ocean</td>\n",
       "      <td>Сильный стенд</td>\n",
       "    </tr>\n",
       "    <tr>\n",
       "      <th>99</th>\n",
       "      <td>Bohemian Rhapsody</td>\n",
       "      <td>1</td>\n",
       "      <td>undefined</td>\n",
       "      <td>infinite</td>\n",
       "      <td>5</td>\n",
       "      <td>undefined</td>\n",
       "      <td>undefined</td>\n",
       "      <td>Part 6: Stone Ocean</td>\n",
       "      <td>Слабый стенд</td>\n",
       "    </tr>\n",
       "    <tr>\n",
       "      <th>100</th>\n",
       "      <td>Burning Down the House</td>\n",
       "      <td>2</td>\n",
       "      <td>undefined</td>\n",
       "      <td>undefined</td>\n",
       "      <td>undefined</td>\n",
       "      <td>undefined</td>\n",
       "      <td>undefined</td>\n",
       "      <td>Part 6: Stone Ocean</td>\n",
       "      <td>Слабый стенд</td>\n",
       "    </tr>\n",
       "    <tr>\n",
       "      <th>102</th>\n",
       "      <td>Dragon's Dream</td>\n",
       "      <td>3</td>\n",
       "      <td>undefined</td>\n",
       "      <td>undefined</td>\n",
       "      <td>5</td>\n",
       "      <td>undefined</td>\n",
       "      <td>undefined</td>\n",
       "      <td>Part 6: Stone Ocean</td>\n",
       "      <td>Сильный стенд</td>\n",
       "    </tr>\n",
       "    <tr>\n",
       "      <th>104</th>\n",
       "      <td>Green, Green Grass of Home</td>\n",
       "      <td>5</td>\n",
       "      <td>unknown</td>\n",
       "      <td>unknown</td>\n",
       "      <td>unknown</td>\n",
       "      <td>unknown</td>\n",
       "      <td>unknown</td>\n",
       "      <td>Part 6: Stone Ocean</td>\n",
       "      <td>Сильный стенд</td>\n",
       "    </tr>\n",
       "    <tr>\n",
       "      <th>141</th>\n",
       "      <td>California King Bed</td>\n",
       "      <td>4</td>\n",
       "      <td>undefined</td>\n",
       "      <td>1</td>\n",
       "      <td>4</td>\n",
       "      <td>1</td>\n",
       "      <td>1</td>\n",
       "      <td>Part 8: JoJolion</td>\n",
       "      <td>Сильный стенд</td>\n",
       "    </tr>\n",
       "    <tr>\n",
       "      <th>144</th>\n",
       "      <td>Paisley Park</td>\n",
       "      <td>3</td>\n",
       "      <td>undefined</td>\n",
       "      <td>5</td>\n",
       "      <td>5</td>\n",
       "      <td>2</td>\n",
       "      <td>3</td>\n",
       "      <td>Part 8: JoJolion</td>\n",
       "      <td>Сильный стенд</td>\n",
       "    </tr>\n",
       "  </tbody>\n",
       "</table>\n",
       "</div>"
      ],
      "text/plain": [
       "                          Stand Сила   Скорость  Дальность Выносливость  \\\n",
       "96                     Sky High    4  undefined          4            3   \n",
       "99            Bohemian Rhapsody    1  undefined   infinite            5   \n",
       "100      Burning Down the House    2  undefined  undefined    undefined   \n",
       "102              Dragon's Dream    3  undefined  undefined            5   \n",
       "104  Green, Green Grass of Home    5    unknown    unknown      unknown   \n",
       "141         California King Bed    4  undefined          1            4   \n",
       "144                Paisley Park    3  undefined          5            5   \n",
       "\n",
       "      Точность  Потенциал                Story         strong  \n",
       "96   undefined  undefined  Part 6: Stone Ocean  Сильный стенд  \n",
       "99   undefined  undefined  Part 6: Stone Ocean   Слабый стенд  \n",
       "100  undefined  undefined  Part 6: Stone Ocean   Слабый стенд  \n",
       "102  undefined  undefined  Part 6: Stone Ocean  Сильный стенд  \n",
       "104    unknown    unknown  Part 6: Stone Ocean  Сильный стенд  \n",
       "141          1          1     Part 8: JoJolion  Сильный стенд  \n",
       "144          2          3     Part 8: JoJolion  Сильный стенд  "
      ]
     },
     "metadata": {},
     "output_type": "display_data"
    }
   ],
   "source": [
    "display(begin_dataset[(begin_dataset['Скорость'] == 'undefined') | (begin_dataset['Скорость'] == 'unknown')])"
   ]
  },
  {
   "cell_type": "markdown",
   "metadata": {},
   "source": [
    "Поступим с такими значениями скорости точно также, как и с силой, просто распределим остальные параеметры на основе имеющихся"
   ]
  },
  {
   "cell_type": "code",
   "execution_count": 292,
   "metadata": {},
   "outputs": [
    {
     "data": {
      "text/html": [
       "<div>\n",
       "<style scoped>\n",
       "    .dataframe tbody tr th:only-of-type {\n",
       "        vertical-align: middle;\n",
       "    }\n",
       "\n",
       "    .dataframe tbody tr th {\n",
       "        vertical-align: top;\n",
       "    }\n",
       "\n",
       "    .dataframe thead th {\n",
       "        text-align: right;\n",
       "    }\n",
       "</style>\n",
       "<table border=\"1\" class=\"dataframe\">\n",
       "  <thead>\n",
       "    <tr style=\"text-align: right;\">\n",
       "      <th></th>\n",
       "      <th>Stand</th>\n",
       "      <th>Сила</th>\n",
       "      <th>Скорость</th>\n",
       "      <th>Дальность</th>\n",
       "      <th>Выносливость</th>\n",
       "      <th>Точность</th>\n",
       "      <th>Потенциал</th>\n",
       "      <th>Story</th>\n",
       "      <th>strong</th>\n",
       "    </tr>\n",
       "  </thead>\n",
       "  <tbody>\n",
       "    <tr>\n",
       "      <th>0</th>\n",
       "      <td>Anubis</td>\n",
       "      <td>4</td>\n",
       "      <td>4</td>\n",
       "      <td>1</td>\n",
       "      <td>5</td>\n",
       "      <td>1</td>\n",
       "      <td>3</td>\n",
       "      <td>Part 3: Stardust Crusaders</td>\n",
       "      <td>Сильный стенд</td>\n",
       "    </tr>\n",
       "    <tr>\n",
       "      <th>1</th>\n",
       "      <td>Atum</td>\n",
       "      <td>2</td>\n",
       "      <td>3</td>\n",
       "      <td>2</td>\n",
       "      <td>4</td>\n",
       "      <td>2</td>\n",
       "      <td>2</td>\n",
       "      <td>Part 3: Stardust Crusaders</td>\n",
       "      <td>Слабый стенд</td>\n",
       "    </tr>\n",
       "    <tr>\n",
       "      <th>2</th>\n",
       "      <td>Bastet</td>\n",
       "      <td>1</td>\n",
       "      <td>1</td>\n",
       "      <td>4</td>\n",
       "      <td>5</td>\n",
       "      <td>1</td>\n",
       "      <td>1</td>\n",
       "      <td>Part 3: Stardust Crusaders</td>\n",
       "      <td>Слабый стенд</td>\n",
       "    </tr>\n",
       "    <tr>\n",
       "      <th>3</th>\n",
       "      <td>Cream</td>\n",
       "      <td>4</td>\n",
       "      <td>4</td>\n",
       "      <td>2</td>\n",
       "      <td>3</td>\n",
       "      <td>3</td>\n",
       "      <td>2</td>\n",
       "      <td>Part 3: Stardust Crusaders</td>\n",
       "      <td>Сильный стенд</td>\n",
       "    </tr>\n",
       "    <tr>\n",
       "      <th>4</th>\n",
       "      <td>Death Thirteen</td>\n",
       "      <td>3</td>\n",
       "      <td>3</td>\n",
       "      <td>1</td>\n",
       "      <td>4</td>\n",
       "      <td>2</td>\n",
       "      <td>4</td>\n",
       "      <td>Part 3: Stardust Crusaders</td>\n",
       "      <td>Сильный стенд</td>\n",
       "    </tr>\n",
       "    <tr>\n",
       "      <th>...</th>\n",
       "      <td>...</td>\n",
       "      <td>...</td>\n",
       "      <td>...</td>\n",
       "      <td>...</td>\n",
       "      <td>...</td>\n",
       "      <td>...</td>\n",
       "      <td>...</td>\n",
       "      <td>...</td>\n",
       "      <td>...</td>\n",
       "    </tr>\n",
       "    <tr>\n",
       "      <th>151</th>\n",
       "      <td>Nightbird Flying</td>\n",
       "      <td>1</td>\n",
       "      <td>5</td>\n",
       "      <td>5</td>\n",
       "      <td>5</td>\n",
       "      <td>1</td>\n",
       "      <td>1</td>\n",
       "      <td>Light Novel: Purple Haze Feedback</td>\n",
       "      <td>Слабый стенд</td>\n",
       "    </tr>\n",
       "    <tr>\n",
       "      <th>152</th>\n",
       "      <td>Purple Haze Distortion</td>\n",
       "      <td>5</td>\n",
       "      <td>4</td>\n",
       "      <td>1</td>\n",
       "      <td>1</td>\n",
       "      <td>3</td>\n",
       "      <td>unknown</td>\n",
       "      <td>Light Novel: Purple Haze Feedback</td>\n",
       "      <td>Сильный стенд</td>\n",
       "    </tr>\n",
       "    <tr>\n",
       "      <th>153</th>\n",
       "      <td>Rainy Day Dream Away</td>\n",
       "      <td>1</td>\n",
       "      <td>4</td>\n",
       "      <td>5</td>\n",
       "      <td>5</td>\n",
       "      <td>1</td>\n",
       "      <td>1</td>\n",
       "      <td>Light Novel: Purple Haze Feedback</td>\n",
       "      <td>Слабый стенд</td>\n",
       "    </tr>\n",
       "    <tr>\n",
       "      <th>154</th>\n",
       "      <td>Remote Romance</td>\n",
       "      <td>1</td>\n",
       "      <td>2</td>\n",
       "      <td>infinite</td>\n",
       "      <td>4</td>\n",
       "      <td>3</td>\n",
       "      <td>1</td>\n",
       "      <td>Featured</td>\n",
       "      <td>Слабый стенд</td>\n",
       "    </tr>\n",
       "    <tr>\n",
       "      <th>155</th>\n",
       "      <td>House of Holy</td>\n",
       "      <td>1</td>\n",
       "      <td>4</td>\n",
       "      <td>3</td>\n",
       "      <td>5</td>\n",
       "      <td>2</td>\n",
       "      <td>2</td>\n",
       "      <td>Featured</td>\n",
       "      <td>Слабый стенд</td>\n",
       "    </tr>\n",
       "  </tbody>\n",
       "</table>\n",
       "<p>146 rows × 9 columns</p>\n",
       "</div>"
      ],
      "text/plain": [
       "                      Stand Сила Скорость Дальность Выносливость Точность  \\\n",
       "0                    Anubis    4        4         1            5        1   \n",
       "1                      Atum    2        3         2            4        2   \n",
       "2                    Bastet    1        1         4            5        1   \n",
       "3                     Cream    4        4         2            3        3   \n",
       "4            Death Thirteen    3        3         1            4        2   \n",
       "..                      ...  ...      ...       ...          ...      ...   \n",
       "151        Nightbird Flying    1        5         5            5        1   \n",
       "152  Purple Haze Distortion    5        4         1            1        3   \n",
       "153    Rainy Day Dream Away    1        4         5            5        1   \n",
       "154          Remote Romance    1        2  infinite            4        3   \n",
       "155           House of Holy    1        4         3            5        2   \n",
       "\n",
       "    Потенциал                              Story         strong  \n",
       "0           3         Part 3: Stardust Crusaders  Сильный стенд  \n",
       "1           2         Part 3: Stardust Crusaders   Слабый стенд  \n",
       "2           1         Part 3: Stardust Crusaders   Слабый стенд  \n",
       "3           2         Part 3: Stardust Crusaders  Сильный стенд  \n",
       "4           4         Part 3: Stardust Crusaders  Сильный стенд  \n",
       "..        ...                                ...            ...  \n",
       "151         1  Light Novel: Purple Haze Feedback   Слабый стенд  \n",
       "152   unknown  Light Novel: Purple Haze Feedback  Сильный стенд  \n",
       "153         1  Light Novel: Purple Haze Feedback   Слабый стенд  \n",
       "154         1                           Featured   Слабый стенд  \n",
       "155         2                           Featured   Слабый стенд  \n",
       "\n",
       "[146 rows x 9 columns]"
      ]
     },
     "metadata": {},
     "output_type": "display_data"
    }
   ],
   "source": [
    "stands_speed_stats = begin_dataset[\n",
    "    (begin_dataset['Скорость'] != 'undefined') & (begin_dataset['Скорость'] != 'unknown') & (begin_dataset['Скорость'] != 'infinite')\n",
    "]\n",
    "\n",
    "display(stands_speed_stats)\n",
    "\n"
   ]
  },
  {
   "cell_type": "markdown",
   "metadata": {},
   "source": [
    "Построим график распределения"
   ]
  },
  {
   "cell_type": "code",
   "execution_count": 293,
   "metadata": {},
   "outputs": [
    {
     "data": {
      "text/html": [
       "<div>\n",
       "<style scoped>\n",
       "    .dataframe tbody tr th:only-of-type {\n",
       "        vertical-align: middle;\n",
       "    }\n",
       "\n",
       "    .dataframe tbody tr th {\n",
       "        vertical-align: top;\n",
       "    }\n",
       "\n",
       "    .dataframe thead th {\n",
       "        text-align: right;\n",
       "    }\n",
       "</style>\n",
       "<table border=\"1\" class=\"dataframe\">\n",
       "  <thead>\n",
       "    <tr style=\"text-align: right;\">\n",
       "      <th></th>\n",
       "      <th>Скорость</th>\n",
       "      <th>count</th>\n",
       "    </tr>\n",
       "  </thead>\n",
       "  <tbody>\n",
       "    <tr>\n",
       "      <th>0</th>\n",
       "      <td>4</td>\n",
       "      <td>41</td>\n",
       "    </tr>\n",
       "    <tr>\n",
       "      <th>1</th>\n",
       "      <td>3</td>\n",
       "      <td>35</td>\n",
       "    </tr>\n",
       "    <tr>\n",
       "      <th>2</th>\n",
       "      <td>5</td>\n",
       "      <td>29</td>\n",
       "    </tr>\n",
       "    <tr>\n",
       "      <th>3</th>\n",
       "      <td>1</td>\n",
       "      <td>27</td>\n",
       "    </tr>\n",
       "    <tr>\n",
       "      <th>4</th>\n",
       "      <td>2</td>\n",
       "      <td>14</td>\n",
       "    </tr>\n",
       "  </tbody>\n",
       "</table>\n",
       "</div>"
      ],
      "text/plain": [
       "   Скорость  count\n",
       "0         4     41\n",
       "1         3     35\n",
       "2         5     29\n",
       "3         1     27\n",
       "4         2     14"
      ]
     },
     "metadata": {},
     "output_type": "display_data"
    },
    {
     "data": {
      "application/vnd.plotly.v1+json": {
       "config": {
        "plotlyServerURL": "https://plotly.com"
       },
       "data": [
        {
         "alignmentgroup": "True",
         "bingroup": "x",
         "histfunc": "sum",
         "hovertemplate": "Скорость=%{x}<br>sum of count=%{y}<extra></extra>",
         "legendgroup": "",
         "marker": {
          "color": "#36e619",
          "pattern": {
           "shape": ""
          }
         },
         "name": "",
         "nbinsx": 8,
         "offsetgroup": "",
         "orientation": "v",
         "showlegend": false,
         "type": "histogram",
         "x": [
          4,
          3,
          5,
          1,
          2
         ],
         "xaxis": "x",
         "y": [
          41,
          35,
          29,
          27,
          14
         ],
         "yaxis": "y"
        }
       ],
       "layout": {
        "barmode": "relative",
        "legend": {
         "tracegroupgap": 0
        },
        "margin": {
         "t": 60
        },
        "template": {
         "data": {
          "bar": [
           {
            "error_x": {
             "color": "#2a3f5f"
            },
            "error_y": {
             "color": "#2a3f5f"
            },
            "marker": {
             "line": {
              "color": "#E5ECF6",
              "width": 0.5
             },
             "pattern": {
              "fillmode": "overlay",
              "size": 10,
              "solidity": 0.2
             }
            },
            "type": "bar"
           }
          ],
          "barpolar": [
           {
            "marker": {
             "line": {
              "color": "#E5ECF6",
              "width": 0.5
             },
             "pattern": {
              "fillmode": "overlay",
              "size": 10,
              "solidity": 0.2
             }
            },
            "type": "barpolar"
           }
          ],
          "carpet": [
           {
            "aaxis": {
             "endlinecolor": "#2a3f5f",
             "gridcolor": "white",
             "linecolor": "white",
             "minorgridcolor": "white",
             "startlinecolor": "#2a3f5f"
            },
            "baxis": {
             "endlinecolor": "#2a3f5f",
             "gridcolor": "white",
             "linecolor": "white",
             "minorgridcolor": "white",
             "startlinecolor": "#2a3f5f"
            },
            "type": "carpet"
           }
          ],
          "choropleth": [
           {
            "colorbar": {
             "outlinewidth": 0,
             "ticks": ""
            },
            "type": "choropleth"
           }
          ],
          "contour": [
           {
            "colorbar": {
             "outlinewidth": 0,
             "ticks": ""
            },
            "colorscale": [
             [
              0,
              "#0d0887"
             ],
             [
              0.1111111111111111,
              "#46039f"
             ],
             [
              0.2222222222222222,
              "#7201a8"
             ],
             [
              0.3333333333333333,
              "#9c179e"
             ],
             [
              0.4444444444444444,
              "#bd3786"
             ],
             [
              0.5555555555555556,
              "#d8576b"
             ],
             [
              0.6666666666666666,
              "#ed7953"
             ],
             [
              0.7777777777777778,
              "#fb9f3a"
             ],
             [
              0.8888888888888888,
              "#fdca26"
             ],
             [
              1,
              "#f0f921"
             ]
            ],
            "type": "contour"
           }
          ],
          "contourcarpet": [
           {
            "colorbar": {
             "outlinewidth": 0,
             "ticks": ""
            },
            "type": "contourcarpet"
           }
          ],
          "heatmap": [
           {
            "colorbar": {
             "outlinewidth": 0,
             "ticks": ""
            },
            "colorscale": [
             [
              0,
              "#0d0887"
             ],
             [
              0.1111111111111111,
              "#46039f"
             ],
             [
              0.2222222222222222,
              "#7201a8"
             ],
             [
              0.3333333333333333,
              "#9c179e"
             ],
             [
              0.4444444444444444,
              "#bd3786"
             ],
             [
              0.5555555555555556,
              "#d8576b"
             ],
             [
              0.6666666666666666,
              "#ed7953"
             ],
             [
              0.7777777777777778,
              "#fb9f3a"
             ],
             [
              0.8888888888888888,
              "#fdca26"
             ],
             [
              1,
              "#f0f921"
             ]
            ],
            "type": "heatmap"
           }
          ],
          "heatmapgl": [
           {
            "colorbar": {
             "outlinewidth": 0,
             "ticks": ""
            },
            "colorscale": [
             [
              0,
              "#0d0887"
             ],
             [
              0.1111111111111111,
              "#46039f"
             ],
             [
              0.2222222222222222,
              "#7201a8"
             ],
             [
              0.3333333333333333,
              "#9c179e"
             ],
             [
              0.4444444444444444,
              "#bd3786"
             ],
             [
              0.5555555555555556,
              "#d8576b"
             ],
             [
              0.6666666666666666,
              "#ed7953"
             ],
             [
              0.7777777777777778,
              "#fb9f3a"
             ],
             [
              0.8888888888888888,
              "#fdca26"
             ],
             [
              1,
              "#f0f921"
             ]
            ],
            "type": "heatmapgl"
           }
          ],
          "histogram": [
           {
            "marker": {
             "pattern": {
              "fillmode": "overlay",
              "size": 10,
              "solidity": 0.2
             }
            },
            "type": "histogram"
           }
          ],
          "histogram2d": [
           {
            "colorbar": {
             "outlinewidth": 0,
             "ticks": ""
            },
            "colorscale": [
             [
              0,
              "#0d0887"
             ],
             [
              0.1111111111111111,
              "#46039f"
             ],
             [
              0.2222222222222222,
              "#7201a8"
             ],
             [
              0.3333333333333333,
              "#9c179e"
             ],
             [
              0.4444444444444444,
              "#bd3786"
             ],
             [
              0.5555555555555556,
              "#d8576b"
             ],
             [
              0.6666666666666666,
              "#ed7953"
             ],
             [
              0.7777777777777778,
              "#fb9f3a"
             ],
             [
              0.8888888888888888,
              "#fdca26"
             ],
             [
              1,
              "#f0f921"
             ]
            ],
            "type": "histogram2d"
           }
          ],
          "histogram2dcontour": [
           {
            "colorbar": {
             "outlinewidth": 0,
             "ticks": ""
            },
            "colorscale": [
             [
              0,
              "#0d0887"
             ],
             [
              0.1111111111111111,
              "#46039f"
             ],
             [
              0.2222222222222222,
              "#7201a8"
             ],
             [
              0.3333333333333333,
              "#9c179e"
             ],
             [
              0.4444444444444444,
              "#bd3786"
             ],
             [
              0.5555555555555556,
              "#d8576b"
             ],
             [
              0.6666666666666666,
              "#ed7953"
             ],
             [
              0.7777777777777778,
              "#fb9f3a"
             ],
             [
              0.8888888888888888,
              "#fdca26"
             ],
             [
              1,
              "#f0f921"
             ]
            ],
            "type": "histogram2dcontour"
           }
          ],
          "mesh3d": [
           {
            "colorbar": {
             "outlinewidth": 0,
             "ticks": ""
            },
            "type": "mesh3d"
           }
          ],
          "parcoords": [
           {
            "line": {
             "colorbar": {
              "outlinewidth": 0,
              "ticks": ""
             }
            },
            "type": "parcoords"
           }
          ],
          "pie": [
           {
            "automargin": true,
            "type": "pie"
           }
          ],
          "scatter": [
           {
            "fillpattern": {
             "fillmode": "overlay",
             "size": 10,
             "solidity": 0.2
            },
            "type": "scatter"
           }
          ],
          "scatter3d": [
           {
            "line": {
             "colorbar": {
              "outlinewidth": 0,
              "ticks": ""
             }
            },
            "marker": {
             "colorbar": {
              "outlinewidth": 0,
              "ticks": ""
             }
            },
            "type": "scatter3d"
           }
          ],
          "scattercarpet": [
           {
            "marker": {
             "colorbar": {
              "outlinewidth": 0,
              "ticks": ""
             }
            },
            "type": "scattercarpet"
           }
          ],
          "scattergeo": [
           {
            "marker": {
             "colorbar": {
              "outlinewidth": 0,
              "ticks": ""
             }
            },
            "type": "scattergeo"
           }
          ],
          "scattergl": [
           {
            "marker": {
             "colorbar": {
              "outlinewidth": 0,
              "ticks": ""
             }
            },
            "type": "scattergl"
           }
          ],
          "scattermapbox": [
           {
            "marker": {
             "colorbar": {
              "outlinewidth": 0,
              "ticks": ""
             }
            },
            "type": "scattermapbox"
           }
          ],
          "scatterpolar": [
           {
            "marker": {
             "colorbar": {
              "outlinewidth": 0,
              "ticks": ""
             }
            },
            "type": "scatterpolar"
           }
          ],
          "scatterpolargl": [
           {
            "marker": {
             "colorbar": {
              "outlinewidth": 0,
              "ticks": ""
             }
            },
            "type": "scatterpolargl"
           }
          ],
          "scatterternary": [
           {
            "marker": {
             "colorbar": {
              "outlinewidth": 0,
              "ticks": ""
             }
            },
            "type": "scatterternary"
           }
          ],
          "surface": [
           {
            "colorbar": {
             "outlinewidth": 0,
             "ticks": ""
            },
            "colorscale": [
             [
              0,
              "#0d0887"
             ],
             [
              0.1111111111111111,
              "#46039f"
             ],
             [
              0.2222222222222222,
              "#7201a8"
             ],
             [
              0.3333333333333333,
              "#9c179e"
             ],
             [
              0.4444444444444444,
              "#bd3786"
             ],
             [
              0.5555555555555556,
              "#d8576b"
             ],
             [
              0.6666666666666666,
              "#ed7953"
             ],
             [
              0.7777777777777778,
              "#fb9f3a"
             ],
             [
              0.8888888888888888,
              "#fdca26"
             ],
             [
              1,
              "#f0f921"
             ]
            ],
            "type": "surface"
           }
          ],
          "table": [
           {
            "cells": {
             "fill": {
              "color": "#EBF0F8"
             },
             "line": {
              "color": "white"
             }
            },
            "header": {
             "fill": {
              "color": "#C8D4E3"
             },
             "line": {
              "color": "white"
             }
            },
            "type": "table"
           }
          ]
         },
         "layout": {
          "annotationdefaults": {
           "arrowcolor": "#2a3f5f",
           "arrowhead": 0,
           "arrowwidth": 1
          },
          "autotypenumbers": "strict",
          "coloraxis": {
           "colorbar": {
            "outlinewidth": 0,
            "ticks": ""
           }
          },
          "colorscale": {
           "diverging": [
            [
             0,
             "#8e0152"
            ],
            [
             0.1,
             "#c51b7d"
            ],
            [
             0.2,
             "#de77ae"
            ],
            [
             0.3,
             "#f1b6da"
            ],
            [
             0.4,
             "#fde0ef"
            ],
            [
             0.5,
             "#f7f7f7"
            ],
            [
             0.6,
             "#e6f5d0"
            ],
            [
             0.7,
             "#b8e186"
            ],
            [
             0.8,
             "#7fbc41"
            ],
            [
             0.9,
             "#4d9221"
            ],
            [
             1,
             "#276419"
            ]
           ],
           "sequential": [
            [
             0,
             "#0d0887"
            ],
            [
             0.1111111111111111,
             "#46039f"
            ],
            [
             0.2222222222222222,
             "#7201a8"
            ],
            [
             0.3333333333333333,
             "#9c179e"
            ],
            [
             0.4444444444444444,
             "#bd3786"
            ],
            [
             0.5555555555555556,
             "#d8576b"
            ],
            [
             0.6666666666666666,
             "#ed7953"
            ],
            [
             0.7777777777777778,
             "#fb9f3a"
            ],
            [
             0.8888888888888888,
             "#fdca26"
            ],
            [
             1,
             "#f0f921"
            ]
           ],
           "sequentialminus": [
            [
             0,
             "#0d0887"
            ],
            [
             0.1111111111111111,
             "#46039f"
            ],
            [
             0.2222222222222222,
             "#7201a8"
            ],
            [
             0.3333333333333333,
             "#9c179e"
            ],
            [
             0.4444444444444444,
             "#bd3786"
            ],
            [
             0.5555555555555556,
             "#d8576b"
            ],
            [
             0.6666666666666666,
             "#ed7953"
            ],
            [
             0.7777777777777778,
             "#fb9f3a"
            ],
            [
             0.8888888888888888,
             "#fdca26"
            ],
            [
             1,
             "#f0f921"
            ]
           ]
          },
          "colorway": [
           "#636efa",
           "#EF553B",
           "#00cc96",
           "#ab63fa",
           "#FFA15A",
           "#19d3f3",
           "#FF6692",
           "#B6E880",
           "#FF97FF",
           "#FECB52"
          ],
          "font": {
           "color": "#2a3f5f"
          },
          "geo": {
           "bgcolor": "white",
           "lakecolor": "white",
           "landcolor": "#E5ECF6",
           "showlakes": true,
           "showland": true,
           "subunitcolor": "white"
          },
          "hoverlabel": {
           "align": "left"
          },
          "hovermode": "closest",
          "mapbox": {
           "style": "light"
          },
          "paper_bgcolor": "white",
          "plot_bgcolor": "#E5ECF6",
          "polar": {
           "angularaxis": {
            "gridcolor": "white",
            "linecolor": "white",
            "ticks": ""
           },
           "bgcolor": "#E5ECF6",
           "radialaxis": {
            "gridcolor": "white",
            "linecolor": "white",
            "ticks": ""
           }
          },
          "scene": {
           "xaxis": {
            "backgroundcolor": "#E5ECF6",
            "gridcolor": "white",
            "gridwidth": 2,
            "linecolor": "white",
            "showbackground": true,
            "ticks": "",
            "zerolinecolor": "white"
           },
           "yaxis": {
            "backgroundcolor": "#E5ECF6",
            "gridcolor": "white",
            "gridwidth": 2,
            "linecolor": "white",
            "showbackground": true,
            "ticks": "",
            "zerolinecolor": "white"
           },
           "zaxis": {
            "backgroundcolor": "#E5ECF6",
            "gridcolor": "white",
            "gridwidth": 2,
            "linecolor": "white",
            "showbackground": true,
            "ticks": "",
            "zerolinecolor": "white"
           }
          },
          "shapedefaults": {
           "line": {
            "color": "#2a3f5f"
           }
          },
          "ternary": {
           "aaxis": {
            "gridcolor": "white",
            "linecolor": "white",
            "ticks": ""
           },
           "baxis": {
            "gridcolor": "white",
            "linecolor": "white",
            "ticks": ""
           },
           "bgcolor": "#E5ECF6",
           "caxis": {
            "gridcolor": "white",
            "linecolor": "white",
            "ticks": ""
           }
          },
          "title": {
           "x": 0.05
          },
          "xaxis": {
           "automargin": true,
           "gridcolor": "white",
           "linecolor": "white",
           "ticks": "",
           "title": {
            "standoff": 15
           },
           "zerolinecolor": "white",
           "zerolinewidth": 2
          },
          "yaxis": {
           "automargin": true,
           "gridcolor": "white",
           "linecolor": "white",
           "ticks": "",
           "title": {
            "standoff": 15
           },
           "zerolinecolor": "white",
           "zerolinewidth": 2
          }
         }
        },
        "xaxis": {
         "anchor": "y",
         "domain": [
          0,
          1
         ],
         "title": {
          "text": "Скорость"
         }
        },
        "yaxis": {
         "anchor": "x",
         "domain": [
          0,
          1
         ],
         "title": {
          "text": "sum of count"
         }
        }
       }
      }
     },
     "metadata": {},
     "output_type": "display_data"
    }
   ],
   "source": [
    "pivot_speed_stands = stands_speed_stats.value_counts('Скорость').reset_index()\n",
    "\n",
    "display(pivot_speed_stands)\n",
    "\n",
    "stands_speed_histogram = px.histogram(pivot_speed_stands, x = 'Скорость', y = 'count', nbins = 8, color_discrete_sequence=['#36e619'])\n",
    "\n",
    "stands_speed_histogram.show()"
   ]
  },
  {
   "cell_type": "code",
   "execution_count": 294,
   "metadata": {},
   "outputs": [
    {
     "data": {
      "text/html": [
       "<div>\n",
       "<style scoped>\n",
       "    .dataframe tbody tr th:only-of-type {\n",
       "        vertical-align: middle;\n",
       "    }\n",
       "\n",
       "    .dataframe tbody tr th {\n",
       "        vertical-align: top;\n",
       "    }\n",
       "\n",
       "    .dataframe thead th {\n",
       "        text-align: right;\n",
       "    }\n",
       "</style>\n",
       "<table border=\"1\" class=\"dataframe\">\n",
       "  <thead>\n",
       "    <tr style=\"text-align: right;\">\n",
       "      <th></th>\n",
       "      <th>Скорость</th>\n",
       "      <th>count</th>\n",
       "      <th>probability</th>\n",
       "    </tr>\n",
       "  </thead>\n",
       "  <tbody>\n",
       "    <tr>\n",
       "      <th>0</th>\n",
       "      <td>4</td>\n",
       "      <td>41</td>\n",
       "      <td>0.280822</td>\n",
       "    </tr>\n",
       "    <tr>\n",
       "      <th>1</th>\n",
       "      <td>3</td>\n",
       "      <td>35</td>\n",
       "      <td>0.239726</td>\n",
       "    </tr>\n",
       "    <tr>\n",
       "      <th>2</th>\n",
       "      <td>5</td>\n",
       "      <td>29</td>\n",
       "      <td>0.198630</td>\n",
       "    </tr>\n",
       "    <tr>\n",
       "      <th>3</th>\n",
       "      <td>1</td>\n",
       "      <td>27</td>\n",
       "      <td>0.184932</td>\n",
       "    </tr>\n",
       "    <tr>\n",
       "      <th>4</th>\n",
       "      <td>2</td>\n",
       "      <td>14</td>\n",
       "      <td>0.095890</td>\n",
       "    </tr>\n",
       "  </tbody>\n",
       "</table>\n",
       "</div>"
      ],
      "text/plain": [
       "   Скорость  count  probability\n",
       "0         4     41     0.280822\n",
       "1         3     35     0.239726\n",
       "2         5     29     0.198630\n",
       "3         1     27     0.184932\n",
       "4         2     14     0.095890"
      ]
     },
     "metadata": {},
     "output_type": "display_data"
    }
   ],
   "source": [
    "sum_speed = pivot_speed_stands['count'].sum()\n",
    "\n",
    "pivot_speed_stands['probability'] = pivot_speed_stands['count'] / sum_speed\n",
    "\n",
    "display(pivot_speed_stands)"
   ]
  },
  {
   "cell_type": "code",
   "execution_count": 295,
   "metadata": {},
   "outputs": [
    {
     "data": {
      "text/html": [
       "<div>\n",
       "<style scoped>\n",
       "    .dataframe tbody tr th:only-of-type {\n",
       "        vertical-align: middle;\n",
       "    }\n",
       "\n",
       "    .dataframe tbody tr th {\n",
       "        vertical-align: top;\n",
       "    }\n",
       "\n",
       "    .dataframe thead th {\n",
       "        text-align: right;\n",
       "    }\n",
       "</style>\n",
       "<table border=\"1\" class=\"dataframe\">\n",
       "  <thead>\n",
       "    <tr style=\"text-align: right;\">\n",
       "      <th></th>\n",
       "      <th>Stand</th>\n",
       "      <th>Сила</th>\n",
       "      <th>Скорость</th>\n",
       "      <th>Дальность</th>\n",
       "      <th>Выносливость</th>\n",
       "      <th>Точность</th>\n",
       "      <th>Потенциал</th>\n",
       "      <th>Story</th>\n",
       "      <th>strong</th>\n",
       "    </tr>\n",
       "  </thead>\n",
       "  <tbody>\n",
       "    <tr>\n",
       "      <th>96</th>\n",
       "      <td>Sky High</td>\n",
       "      <td>4</td>\n",
       "      <td>undefined</td>\n",
       "      <td>4</td>\n",
       "      <td>3</td>\n",
       "      <td>undefined</td>\n",
       "      <td>undefined</td>\n",
       "      <td>Part 6: Stone Ocean</td>\n",
       "      <td>Сильный стенд</td>\n",
       "    </tr>\n",
       "    <tr>\n",
       "      <th>99</th>\n",
       "      <td>Bohemian Rhapsody</td>\n",
       "      <td>1</td>\n",
       "      <td>undefined</td>\n",
       "      <td>infinite</td>\n",
       "      <td>5</td>\n",
       "      <td>undefined</td>\n",
       "      <td>undefined</td>\n",
       "      <td>Part 6: Stone Ocean</td>\n",
       "      <td>Слабый стенд</td>\n",
       "    </tr>\n",
       "    <tr>\n",
       "      <th>100</th>\n",
       "      <td>Burning Down the House</td>\n",
       "      <td>2</td>\n",
       "      <td>undefined</td>\n",
       "      <td>undefined</td>\n",
       "      <td>undefined</td>\n",
       "      <td>undefined</td>\n",
       "      <td>undefined</td>\n",
       "      <td>Part 6: Stone Ocean</td>\n",
       "      <td>Слабый стенд</td>\n",
       "    </tr>\n",
       "    <tr>\n",
       "      <th>102</th>\n",
       "      <td>Dragon's Dream</td>\n",
       "      <td>3</td>\n",
       "      <td>undefined</td>\n",
       "      <td>undefined</td>\n",
       "      <td>5</td>\n",
       "      <td>undefined</td>\n",
       "      <td>undefined</td>\n",
       "      <td>Part 6: Stone Ocean</td>\n",
       "      <td>Сильный стенд</td>\n",
       "    </tr>\n",
       "    <tr>\n",
       "      <th>104</th>\n",
       "      <td>Green, Green Grass of Home</td>\n",
       "      <td>5</td>\n",
       "      <td>unknown</td>\n",
       "      <td>unknown</td>\n",
       "      <td>unknown</td>\n",
       "      <td>unknown</td>\n",
       "      <td>unknown</td>\n",
       "      <td>Part 6: Stone Ocean</td>\n",
       "      <td>Сильный стенд</td>\n",
       "    </tr>\n",
       "    <tr>\n",
       "      <th>141</th>\n",
       "      <td>California King Bed</td>\n",
       "      <td>4</td>\n",
       "      <td>undefined</td>\n",
       "      <td>1</td>\n",
       "      <td>4</td>\n",
       "      <td>1</td>\n",
       "      <td>1</td>\n",
       "      <td>Part 8: JoJolion</td>\n",
       "      <td>Сильный стенд</td>\n",
       "    </tr>\n",
       "    <tr>\n",
       "      <th>144</th>\n",
       "      <td>Paisley Park</td>\n",
       "      <td>3</td>\n",
       "      <td>undefined</td>\n",
       "      <td>5</td>\n",
       "      <td>5</td>\n",
       "      <td>2</td>\n",
       "      <td>3</td>\n",
       "      <td>Part 8: JoJolion</td>\n",
       "      <td>Сильный стенд</td>\n",
       "    </tr>\n",
       "  </tbody>\n",
       "</table>\n",
       "</div>"
      ],
      "text/plain": [
       "                          Stand Сила   Скорость  Дальность Выносливость  \\\n",
       "96                     Sky High    4  undefined          4            3   \n",
       "99            Bohemian Rhapsody    1  undefined   infinite            5   \n",
       "100      Burning Down the House    2  undefined  undefined    undefined   \n",
       "102              Dragon's Dream    3  undefined  undefined            5   \n",
       "104  Green, Green Grass of Home    5    unknown    unknown      unknown   \n",
       "141         California King Bed    4  undefined          1            4   \n",
       "144                Paisley Park    3  undefined          5            5   \n",
       "\n",
       "      Точность  Потенциал                Story         strong  \n",
       "96   undefined  undefined  Part 6: Stone Ocean  Сильный стенд  \n",
       "99   undefined  undefined  Part 6: Stone Ocean   Слабый стенд  \n",
       "100  undefined  undefined  Part 6: Stone Ocean   Слабый стенд  \n",
       "102  undefined  undefined  Part 6: Stone Ocean  Сильный стенд  \n",
       "104    unknown    unknown  Part 6: Stone Ocean  Сильный стенд  \n",
       "141          1          1     Part 8: JoJolion  Сильный стенд  \n",
       "144          2          3     Part 8: JoJolion  Сильный стенд  "
      ]
     },
     "metadata": {},
     "output_type": "display_data"
    },
    {
     "name": "stderr",
     "output_type": "stream",
     "text": [
      "C:\\Users\\Smart\\AppData\\Local\\Temp\\ipykernel_13008\\2724405903.py:10: SettingWithCopyWarning:\n",
      "\n",
      "\n",
      "A value is trying to be set on a copy of a slice from a DataFrame.\n",
      "Try using .loc[row_indexer,col_indexer] = value instead\n",
      "\n",
      "See the caveats in the documentation: https://pandas.pydata.org/pandas-docs/stable/user_guide/indexing.html#returning-a-view-versus-a-copy\n",
      "\n"
     ]
    },
    {
     "data": {
      "text/html": [
       "<div>\n",
       "<style scoped>\n",
       "    .dataframe tbody tr th:only-of-type {\n",
       "        vertical-align: middle;\n",
       "    }\n",
       "\n",
       "    .dataframe tbody tr th {\n",
       "        vertical-align: top;\n",
       "    }\n",
       "\n",
       "    .dataframe thead th {\n",
       "        text-align: right;\n",
       "    }\n",
       "</style>\n",
       "<table border=\"1\" class=\"dataframe\">\n",
       "  <thead>\n",
       "    <tr style=\"text-align: right;\">\n",
       "      <th></th>\n",
       "      <th>Stand</th>\n",
       "      <th>Сила</th>\n",
       "      <th>Скорость</th>\n",
       "      <th>Дальность</th>\n",
       "      <th>Выносливость</th>\n",
       "      <th>Точность</th>\n",
       "      <th>Потенциал</th>\n",
       "      <th>Story</th>\n",
       "      <th>strong</th>\n",
       "    </tr>\n",
       "  </thead>\n",
       "  <tbody>\n",
       "    <tr>\n",
       "      <th>0</th>\n",
       "      <td>Anubis</td>\n",
       "      <td>4</td>\n",
       "      <td>4</td>\n",
       "      <td>1</td>\n",
       "      <td>5</td>\n",
       "      <td>1</td>\n",
       "      <td>3</td>\n",
       "      <td>Part 3: Stardust Crusaders</td>\n",
       "      <td>Сильный стенд</td>\n",
       "    </tr>\n",
       "    <tr>\n",
       "      <th>1</th>\n",
       "      <td>Atum</td>\n",
       "      <td>2</td>\n",
       "      <td>3</td>\n",
       "      <td>2</td>\n",
       "      <td>4</td>\n",
       "      <td>2</td>\n",
       "      <td>2</td>\n",
       "      <td>Part 3: Stardust Crusaders</td>\n",
       "      <td>Слабый стенд</td>\n",
       "    </tr>\n",
       "    <tr>\n",
       "      <th>2</th>\n",
       "      <td>Bastet</td>\n",
       "      <td>1</td>\n",
       "      <td>1</td>\n",
       "      <td>4</td>\n",
       "      <td>5</td>\n",
       "      <td>1</td>\n",
       "      <td>1</td>\n",
       "      <td>Part 3: Stardust Crusaders</td>\n",
       "      <td>Слабый стенд</td>\n",
       "    </tr>\n",
       "    <tr>\n",
       "      <th>3</th>\n",
       "      <td>Cream</td>\n",
       "      <td>4</td>\n",
       "      <td>4</td>\n",
       "      <td>2</td>\n",
       "      <td>3</td>\n",
       "      <td>3</td>\n",
       "      <td>2</td>\n",
       "      <td>Part 3: Stardust Crusaders</td>\n",
       "      <td>Сильный стенд</td>\n",
       "    </tr>\n",
       "    <tr>\n",
       "      <th>4</th>\n",
       "      <td>Death Thirteen</td>\n",
       "      <td>3</td>\n",
       "      <td>3</td>\n",
       "      <td>1</td>\n",
       "      <td>4</td>\n",
       "      <td>2</td>\n",
       "      <td>4</td>\n",
       "      <td>Part 3: Stardust Crusaders</td>\n",
       "      <td>Сильный стенд</td>\n",
       "    </tr>\n",
       "    <tr>\n",
       "      <th>...</th>\n",
       "      <td>...</td>\n",
       "      <td>...</td>\n",
       "      <td>...</td>\n",
       "      <td>...</td>\n",
       "      <td>...</td>\n",
       "      <td>...</td>\n",
       "      <td>...</td>\n",
       "      <td>...</td>\n",
       "      <td>...</td>\n",
       "    </tr>\n",
       "    <tr>\n",
       "      <th>151</th>\n",
       "      <td>Nightbird Flying</td>\n",
       "      <td>1</td>\n",
       "      <td>5</td>\n",
       "      <td>5</td>\n",
       "      <td>5</td>\n",
       "      <td>1</td>\n",
       "      <td>1</td>\n",
       "      <td>Light Novel: Purple Haze Feedback</td>\n",
       "      <td>Слабый стенд</td>\n",
       "    </tr>\n",
       "    <tr>\n",
       "      <th>152</th>\n",
       "      <td>Purple Haze Distortion</td>\n",
       "      <td>5</td>\n",
       "      <td>4</td>\n",
       "      <td>1</td>\n",
       "      <td>1</td>\n",
       "      <td>3</td>\n",
       "      <td>unknown</td>\n",
       "      <td>Light Novel: Purple Haze Feedback</td>\n",
       "      <td>Сильный стенд</td>\n",
       "    </tr>\n",
       "    <tr>\n",
       "      <th>153</th>\n",
       "      <td>Rainy Day Dream Away</td>\n",
       "      <td>1</td>\n",
       "      <td>4</td>\n",
       "      <td>5</td>\n",
       "      <td>5</td>\n",
       "      <td>1</td>\n",
       "      <td>1</td>\n",
       "      <td>Light Novel: Purple Haze Feedback</td>\n",
       "      <td>Слабый стенд</td>\n",
       "    </tr>\n",
       "    <tr>\n",
       "      <th>154</th>\n",
       "      <td>Remote Romance</td>\n",
       "      <td>1</td>\n",
       "      <td>2</td>\n",
       "      <td>infinite</td>\n",
       "      <td>4</td>\n",
       "      <td>3</td>\n",
       "      <td>1</td>\n",
       "      <td>Featured</td>\n",
       "      <td>Слабый стенд</td>\n",
       "    </tr>\n",
       "    <tr>\n",
       "      <th>155</th>\n",
       "      <td>House of Holy</td>\n",
       "      <td>1</td>\n",
       "      <td>4</td>\n",
       "      <td>3</td>\n",
       "      <td>5</td>\n",
       "      <td>2</td>\n",
       "      <td>2</td>\n",
       "      <td>Featured</td>\n",
       "      <td>Слабый стенд</td>\n",
       "    </tr>\n",
       "  </tbody>\n",
       "</table>\n",
       "<p>156 rows × 9 columns</p>\n",
       "</div>"
      ],
      "text/plain": [
       "                      Stand Сила Скорость Дальность Выносливость Точность  \\\n",
       "0                    Anubis    4        4         1            5        1   \n",
       "1                      Atum    2        3         2            4        2   \n",
       "2                    Bastet    1        1         4            5        1   \n",
       "3                     Cream    4        4         2            3        3   \n",
       "4            Death Thirteen    3        3         1            4        2   \n",
       "..                      ...  ...      ...       ...          ...      ...   \n",
       "151        Nightbird Flying    1        5         5            5        1   \n",
       "152  Purple Haze Distortion    5        4         1            1        3   \n",
       "153    Rainy Day Dream Away    1        4         5            5        1   \n",
       "154          Remote Romance    1        2  infinite            4        3   \n",
       "155           House of Holy    1        4         3            5        2   \n",
       "\n",
       "    Потенциал                              Story         strong  \n",
       "0           3         Part 3: Stardust Crusaders  Сильный стенд  \n",
       "1           2         Part 3: Stardust Crusaders   Слабый стенд  \n",
       "2           1         Part 3: Stardust Crusaders   Слабый стенд  \n",
       "3           2         Part 3: Stardust Crusaders  Сильный стенд  \n",
       "4           4         Part 3: Stardust Crusaders  Сильный стенд  \n",
       "..        ...                                ...            ...  \n",
       "151         1  Light Novel: Purple Haze Feedback   Слабый стенд  \n",
       "152   unknown  Light Novel: Purple Haze Feedback  Сильный стенд  \n",
       "153         1  Light Novel: Purple Haze Feedback   Слабый стенд  \n",
       "154         1                           Featured   Слабый стенд  \n",
       "155         2                           Featured   Слабый стенд  \n",
       "\n",
       "[156 rows x 9 columns]"
      ]
     },
     "metadata": {},
     "output_type": "display_data"
    },
    {
     "data": {
      "text/html": [
       "<div>\n",
       "<style scoped>\n",
       "    .dataframe tbody tr th:only-of-type {\n",
       "        vertical-align: middle;\n",
       "    }\n",
       "\n",
       "    .dataframe tbody tr th {\n",
       "        vertical-align: top;\n",
       "    }\n",
       "\n",
       "    .dataframe thead th {\n",
       "        text-align: right;\n",
       "    }\n",
       "</style>\n",
       "<table border=\"1\" class=\"dataframe\">\n",
       "  <thead>\n",
       "    <tr style=\"text-align: right;\">\n",
       "      <th></th>\n",
       "      <th>Скорость</th>\n",
       "      <th>count</th>\n",
       "    </tr>\n",
       "  </thead>\n",
       "  <tbody>\n",
       "    <tr>\n",
       "      <th>0</th>\n",
       "      <td>4</td>\n",
       "      <td>43</td>\n",
       "    </tr>\n",
       "    <tr>\n",
       "      <th>1</th>\n",
       "      <td>3</td>\n",
       "      <td>38</td>\n",
       "    </tr>\n",
       "    <tr>\n",
       "      <th>2</th>\n",
       "      <td>5</td>\n",
       "      <td>29</td>\n",
       "    </tr>\n",
       "    <tr>\n",
       "      <th>3</th>\n",
       "      <td>1</td>\n",
       "      <td>28</td>\n",
       "    </tr>\n",
       "    <tr>\n",
       "      <th>4</th>\n",
       "      <td>2</td>\n",
       "      <td>15</td>\n",
       "    </tr>\n",
       "    <tr>\n",
       "      <th>5</th>\n",
       "      <td>infinite</td>\n",
       "      <td>3</td>\n",
       "    </tr>\n",
       "  </tbody>\n",
       "</table>\n",
       "</div>"
      ],
      "text/plain": [
       "   Скорость  count\n",
       "0         4     43\n",
       "1         3     38\n",
       "2         5     29\n",
       "3         1     28\n",
       "4         2     15\n",
       "5  infinite      3"
      ]
     },
     "metadata": {},
     "output_type": "display_data"
    }
   ],
   "source": [
    "stands_speed_to_replace = begin_dataset[(begin_dataset['Скорость'] == 'undefined') | (begin_dataset['Скорость'] == 'unknown')]\n",
    "\n",
    "display(stands_speed_to_replace)\n",
    "\n",
    "def replace_speed(row):\n",
    "    if row['Скорость'] == 'undefined' or row['Скорость'] == 'unknown':\n",
    "        row['Скорость'] = np.random.choice(pivot_speed_stands['Скорость'], p = pivot_speed_stands['probability'])\n",
    "    return row['Скорость']\n",
    "\n",
    "stands_speed_to_replace['Скорость'] = stands_speed_to_replace.apply(replace_speed, axis = 1)\n",
    "\n",
    "begin_dataset.loc[stands_speed_to_replace.index, 'Скорость'] = stands_speed_to_replace['Скорость']\n",
    "\n",
    "display(begin_dataset)\n",
    "\n",
    "display(begin_dataset.value_counts('Скорость').reset_index())"
   ]
  },
  {
   "cell_type": "markdown",
   "metadata": {},
   "source": [
    "У нас появились 3 стенда с бесконечной скоростью, интересно, посмотрим на них"
   ]
  },
  {
   "cell_type": "code",
   "execution_count": 296,
   "metadata": {},
   "outputs": [
    {
     "data": {
      "text/html": [
       "<div>\n",
       "<style scoped>\n",
       "    .dataframe tbody tr th:only-of-type {\n",
       "        vertical-align: middle;\n",
       "    }\n",
       "\n",
       "    .dataframe tbody tr th {\n",
       "        vertical-align: top;\n",
       "    }\n",
       "\n",
       "    .dataframe thead th {\n",
       "        text-align: right;\n",
       "    }\n",
       "</style>\n",
       "<table border=\"1\" class=\"dataframe\">\n",
       "  <thead>\n",
       "    <tr style=\"text-align: right;\">\n",
       "      <th></th>\n",
       "      <th>Stand</th>\n",
       "      <th>Сила</th>\n",
       "      <th>Скорость</th>\n",
       "      <th>Дальность</th>\n",
       "      <th>Выносливость</th>\n",
       "      <th>Точность</th>\n",
       "      <th>Потенциал</th>\n",
       "      <th>Story</th>\n",
       "      <th>strong</th>\n",
       "    </tr>\n",
       "  </thead>\n",
       "  <tbody>\n",
       "    <tr>\n",
       "      <th>77</th>\n",
       "      <td>Gold Experience Requiem</td>\n",
       "      <td>infinite</td>\n",
       "      <td>infinite</td>\n",
       "      <td>infinite</td>\n",
       "      <td>infinite</td>\n",
       "      <td>infinite</td>\n",
       "      <td>infinite</td>\n",
       "      <td>Part 5: Vento Aureo</td>\n",
       "      <td>Сильный стенд</td>\n",
       "    </tr>\n",
       "    <tr>\n",
       "      <th>83</th>\n",
       "      <td>Notorious B.I.G</td>\n",
       "      <td>5</td>\n",
       "      <td>infinite</td>\n",
       "      <td>infinite</td>\n",
       "      <td>infinite</td>\n",
       "      <td>1</td>\n",
       "      <td>5</td>\n",
       "      <td>Part 5: Vento Aureo</td>\n",
       "      <td>Сильный стенд</td>\n",
       "    </tr>\n",
       "    <tr>\n",
       "      <th>109</th>\n",
       "      <td>Made in Heaven</td>\n",
       "      <td>4</td>\n",
       "      <td>infinite</td>\n",
       "      <td>3</td>\n",
       "      <td>5</td>\n",
       "      <td>3</td>\n",
       "      <td>5</td>\n",
       "      <td>Part 6: Stone Ocean</td>\n",
       "      <td>Сильный стенд</td>\n",
       "    </tr>\n",
       "  </tbody>\n",
       "</table>\n",
       "</div>"
      ],
      "text/plain": [
       "                       Stand      Сила  Скорость Дальность Выносливость  \\\n",
       "77   Gold Experience Requiem  infinite  infinite  infinite     infinite   \n",
       "83           Notorious B.I.G         5  infinite  infinite     infinite   \n",
       "109           Made in Heaven         4  infinite         3            5   \n",
       "\n",
       "     Точность Потенциал                Story         strong  \n",
       "77   infinite  infinite  Part 5: Vento Aureo  Сильный стенд  \n",
       "83          1         5  Part 5: Vento Aureo  Сильный стенд  \n",
       "109         3         5  Part 6: Stone Ocean  Сильный стенд  "
      ]
     },
     "metadata": {},
     "output_type": "display_data"
    }
   ],
   "source": [
    "infinite_speed_stands = begin_dataset[\n",
    "    begin_dataset['Скорость'] == 'infinite'\n",
    "]\n",
    "\n",
    "display(infinite_speed_stands)"
   ]
  },
  {
   "cell_type": "markdown",
   "metadata": {},
   "source": [
    "Тут у нас уже знакомый GER (Gold Experience Requiem)\n",
    "\n",
    "Также у нас здесь есть **Notorius B.I.G**, да, это поистине устрашающий стенд, несмотря на то, что его обладатель умер, стенд продолжает преследовать все вокруг, подстраивается под пространство и поглощает абсолютно все. Скорость зависит от того, кого он преслудует. будет преследовать улитку -- будет двигаться со скоростью чуть большей улитики, будет преследовать самолет -- значит будет двигаться быстрее самолета\n",
    "\n",
    "<p align=\"center\">\n",
    "    <img src=\"https://i.ytimg.com/vi/qvk0zrIqm4w/maxresdefault.jpg\" alt=\"Да... Страшный стенд\" height = \"200\", width=\"400\">\n",
    "</p>\n",
    "\n",
    "Про **Made in Heaven**, к сожалению, я не знаю ничего, так как в самом разгаре просмотра Stone Ocean, но все равно приложу фотку стенда, ~~будет мне спойлером :)~~\n",
    "\n",
    "<p align=\"center\">\n",
    "    <img src=\"https://static.wikia.nocookie.net/zlodei/images/b/bb/Made_in_Heaven.webp/revision/latest/scale-to-width-down/562?cb=20240217153358&path-prefix=ru\" alt=\"Да... Страшный стенд\" height = \"400\", width=\"200\">\n",
    "</p>\n",
    "\n",
    "Да, неплохая лошадка, выглядит мощной, раз я там видел Пуччи, то думаю, это его реквием, может быть 🤔\n"
   ]
  },
  {
   "cell_type": "markdown",
   "metadata": {},
   "source": [
    "Теперь построим круговую диаграмму, аналогичную с силой и посмотрим, каких стендов больше -- быстрых или медленных. Логика та же -- стенды, у которых скорость >= 3 -- быстрые, меньше -- медленные"
   ]
  },
  {
   "cell_type": "code",
   "execution_count": 297,
   "metadata": {},
   "outputs": [
    {
     "data": {
      "application/vnd.plotly.v1+json": {
       "config": {
        "plotlyServerURL": "https://plotly.com"
       },
       "data": [
        {
         "domain": {
          "x": [
           0,
           1
          ],
          "y": [
           0,
           1
          ]
         },
         "hole": 0.5,
         "hovertemplate": "speed=%{label}<br>Количество=%{value}<extra></extra>",
         "labels": [
          "Быстрый стенд",
          "Медленный стенд"
         ],
         "legendgroup": "",
         "name": "",
         "showlegend": true,
         "type": "pie",
         "values": [
          113,
          43
         ]
        }
       ],
       "layout": {
        "legend": {
         "tracegroupgap": 0
        },
        "margin": {
         "t": 60
        },
        "piecolorway": [
         "#4aeb14",
         "#b514eb"
        ],
        "showlegend": false,
        "template": {
         "data": {
          "bar": [
           {
            "error_x": {
             "color": "#2a3f5f"
            },
            "error_y": {
             "color": "#2a3f5f"
            },
            "marker": {
             "line": {
              "color": "#E5ECF6",
              "width": 0.5
             },
             "pattern": {
              "fillmode": "overlay",
              "size": 10,
              "solidity": 0.2
             }
            },
            "type": "bar"
           }
          ],
          "barpolar": [
           {
            "marker": {
             "line": {
              "color": "#E5ECF6",
              "width": 0.5
             },
             "pattern": {
              "fillmode": "overlay",
              "size": 10,
              "solidity": 0.2
             }
            },
            "type": "barpolar"
           }
          ],
          "carpet": [
           {
            "aaxis": {
             "endlinecolor": "#2a3f5f",
             "gridcolor": "white",
             "linecolor": "white",
             "minorgridcolor": "white",
             "startlinecolor": "#2a3f5f"
            },
            "baxis": {
             "endlinecolor": "#2a3f5f",
             "gridcolor": "white",
             "linecolor": "white",
             "minorgridcolor": "white",
             "startlinecolor": "#2a3f5f"
            },
            "type": "carpet"
           }
          ],
          "choropleth": [
           {
            "colorbar": {
             "outlinewidth": 0,
             "ticks": ""
            },
            "type": "choropleth"
           }
          ],
          "contour": [
           {
            "colorbar": {
             "outlinewidth": 0,
             "ticks": ""
            },
            "colorscale": [
             [
              0,
              "#0d0887"
             ],
             [
              0.1111111111111111,
              "#46039f"
             ],
             [
              0.2222222222222222,
              "#7201a8"
             ],
             [
              0.3333333333333333,
              "#9c179e"
             ],
             [
              0.4444444444444444,
              "#bd3786"
             ],
             [
              0.5555555555555556,
              "#d8576b"
             ],
             [
              0.6666666666666666,
              "#ed7953"
             ],
             [
              0.7777777777777778,
              "#fb9f3a"
             ],
             [
              0.8888888888888888,
              "#fdca26"
             ],
             [
              1,
              "#f0f921"
             ]
            ],
            "type": "contour"
           }
          ],
          "contourcarpet": [
           {
            "colorbar": {
             "outlinewidth": 0,
             "ticks": ""
            },
            "type": "contourcarpet"
           }
          ],
          "heatmap": [
           {
            "colorbar": {
             "outlinewidth": 0,
             "ticks": ""
            },
            "colorscale": [
             [
              0,
              "#0d0887"
             ],
             [
              0.1111111111111111,
              "#46039f"
             ],
             [
              0.2222222222222222,
              "#7201a8"
             ],
             [
              0.3333333333333333,
              "#9c179e"
             ],
             [
              0.4444444444444444,
              "#bd3786"
             ],
             [
              0.5555555555555556,
              "#d8576b"
             ],
             [
              0.6666666666666666,
              "#ed7953"
             ],
             [
              0.7777777777777778,
              "#fb9f3a"
             ],
             [
              0.8888888888888888,
              "#fdca26"
             ],
             [
              1,
              "#f0f921"
             ]
            ],
            "type": "heatmap"
           }
          ],
          "heatmapgl": [
           {
            "colorbar": {
             "outlinewidth": 0,
             "ticks": ""
            },
            "colorscale": [
             [
              0,
              "#0d0887"
             ],
             [
              0.1111111111111111,
              "#46039f"
             ],
             [
              0.2222222222222222,
              "#7201a8"
             ],
             [
              0.3333333333333333,
              "#9c179e"
             ],
             [
              0.4444444444444444,
              "#bd3786"
             ],
             [
              0.5555555555555556,
              "#d8576b"
             ],
             [
              0.6666666666666666,
              "#ed7953"
             ],
             [
              0.7777777777777778,
              "#fb9f3a"
             ],
             [
              0.8888888888888888,
              "#fdca26"
             ],
             [
              1,
              "#f0f921"
             ]
            ],
            "type": "heatmapgl"
           }
          ],
          "histogram": [
           {
            "marker": {
             "pattern": {
              "fillmode": "overlay",
              "size": 10,
              "solidity": 0.2
             }
            },
            "type": "histogram"
           }
          ],
          "histogram2d": [
           {
            "colorbar": {
             "outlinewidth": 0,
             "ticks": ""
            },
            "colorscale": [
             [
              0,
              "#0d0887"
             ],
             [
              0.1111111111111111,
              "#46039f"
             ],
             [
              0.2222222222222222,
              "#7201a8"
             ],
             [
              0.3333333333333333,
              "#9c179e"
             ],
             [
              0.4444444444444444,
              "#bd3786"
             ],
             [
              0.5555555555555556,
              "#d8576b"
             ],
             [
              0.6666666666666666,
              "#ed7953"
             ],
             [
              0.7777777777777778,
              "#fb9f3a"
             ],
             [
              0.8888888888888888,
              "#fdca26"
             ],
             [
              1,
              "#f0f921"
             ]
            ],
            "type": "histogram2d"
           }
          ],
          "histogram2dcontour": [
           {
            "colorbar": {
             "outlinewidth": 0,
             "ticks": ""
            },
            "colorscale": [
             [
              0,
              "#0d0887"
             ],
             [
              0.1111111111111111,
              "#46039f"
             ],
             [
              0.2222222222222222,
              "#7201a8"
             ],
             [
              0.3333333333333333,
              "#9c179e"
             ],
             [
              0.4444444444444444,
              "#bd3786"
             ],
             [
              0.5555555555555556,
              "#d8576b"
             ],
             [
              0.6666666666666666,
              "#ed7953"
             ],
             [
              0.7777777777777778,
              "#fb9f3a"
             ],
             [
              0.8888888888888888,
              "#fdca26"
             ],
             [
              1,
              "#f0f921"
             ]
            ],
            "type": "histogram2dcontour"
           }
          ],
          "mesh3d": [
           {
            "colorbar": {
             "outlinewidth": 0,
             "ticks": ""
            },
            "type": "mesh3d"
           }
          ],
          "parcoords": [
           {
            "line": {
             "colorbar": {
              "outlinewidth": 0,
              "ticks": ""
             }
            },
            "type": "parcoords"
           }
          ],
          "pie": [
           {
            "automargin": true,
            "type": "pie"
           }
          ],
          "scatter": [
           {
            "fillpattern": {
             "fillmode": "overlay",
             "size": 10,
             "solidity": 0.2
            },
            "type": "scatter"
           }
          ],
          "scatter3d": [
           {
            "line": {
             "colorbar": {
              "outlinewidth": 0,
              "ticks": ""
             }
            },
            "marker": {
             "colorbar": {
              "outlinewidth": 0,
              "ticks": ""
             }
            },
            "type": "scatter3d"
           }
          ],
          "scattercarpet": [
           {
            "marker": {
             "colorbar": {
              "outlinewidth": 0,
              "ticks": ""
             }
            },
            "type": "scattercarpet"
           }
          ],
          "scattergeo": [
           {
            "marker": {
             "colorbar": {
              "outlinewidth": 0,
              "ticks": ""
             }
            },
            "type": "scattergeo"
           }
          ],
          "scattergl": [
           {
            "marker": {
             "colorbar": {
              "outlinewidth": 0,
              "ticks": ""
             }
            },
            "type": "scattergl"
           }
          ],
          "scattermapbox": [
           {
            "marker": {
             "colorbar": {
              "outlinewidth": 0,
              "ticks": ""
             }
            },
            "type": "scattermapbox"
           }
          ],
          "scatterpolar": [
           {
            "marker": {
             "colorbar": {
              "outlinewidth": 0,
              "ticks": ""
             }
            },
            "type": "scatterpolar"
           }
          ],
          "scatterpolargl": [
           {
            "marker": {
             "colorbar": {
              "outlinewidth": 0,
              "ticks": ""
             }
            },
            "type": "scatterpolargl"
           }
          ],
          "scatterternary": [
           {
            "marker": {
             "colorbar": {
              "outlinewidth": 0,
              "ticks": ""
             }
            },
            "type": "scatterternary"
           }
          ],
          "surface": [
           {
            "colorbar": {
             "outlinewidth": 0,
             "ticks": ""
            },
            "colorscale": [
             [
              0,
              "#0d0887"
             ],
             [
              0.1111111111111111,
              "#46039f"
             ],
             [
              0.2222222222222222,
              "#7201a8"
             ],
             [
              0.3333333333333333,
              "#9c179e"
             ],
             [
              0.4444444444444444,
              "#bd3786"
             ],
             [
              0.5555555555555556,
              "#d8576b"
             ],
             [
              0.6666666666666666,
              "#ed7953"
             ],
             [
              0.7777777777777778,
              "#fb9f3a"
             ],
             [
              0.8888888888888888,
              "#fdca26"
             ],
             [
              1,
              "#f0f921"
             ]
            ],
            "type": "surface"
           }
          ],
          "table": [
           {
            "cells": {
             "fill": {
              "color": "#EBF0F8"
             },
             "line": {
              "color": "white"
             }
            },
            "header": {
             "fill": {
              "color": "#C8D4E3"
             },
             "line": {
              "color": "white"
             }
            },
            "type": "table"
           }
          ]
         },
         "layout": {
          "annotationdefaults": {
           "arrowcolor": "#2a3f5f",
           "arrowhead": 0,
           "arrowwidth": 1
          },
          "autotypenumbers": "strict",
          "coloraxis": {
           "colorbar": {
            "outlinewidth": 0,
            "ticks": ""
           }
          },
          "colorscale": {
           "diverging": [
            [
             0,
             "#8e0152"
            ],
            [
             0.1,
             "#c51b7d"
            ],
            [
             0.2,
             "#de77ae"
            ],
            [
             0.3,
             "#f1b6da"
            ],
            [
             0.4,
             "#fde0ef"
            ],
            [
             0.5,
             "#f7f7f7"
            ],
            [
             0.6,
             "#e6f5d0"
            ],
            [
             0.7,
             "#b8e186"
            ],
            [
             0.8,
             "#7fbc41"
            ],
            [
             0.9,
             "#4d9221"
            ],
            [
             1,
             "#276419"
            ]
           ],
           "sequential": [
            [
             0,
             "#0d0887"
            ],
            [
             0.1111111111111111,
             "#46039f"
            ],
            [
             0.2222222222222222,
             "#7201a8"
            ],
            [
             0.3333333333333333,
             "#9c179e"
            ],
            [
             0.4444444444444444,
             "#bd3786"
            ],
            [
             0.5555555555555556,
             "#d8576b"
            ],
            [
             0.6666666666666666,
             "#ed7953"
            ],
            [
             0.7777777777777778,
             "#fb9f3a"
            ],
            [
             0.8888888888888888,
             "#fdca26"
            ],
            [
             1,
             "#f0f921"
            ]
           ],
           "sequentialminus": [
            [
             0,
             "#0d0887"
            ],
            [
             0.1111111111111111,
             "#46039f"
            ],
            [
             0.2222222222222222,
             "#7201a8"
            ],
            [
             0.3333333333333333,
             "#9c179e"
            ],
            [
             0.4444444444444444,
             "#bd3786"
            ],
            [
             0.5555555555555556,
             "#d8576b"
            ],
            [
             0.6666666666666666,
             "#ed7953"
            ],
            [
             0.7777777777777778,
             "#fb9f3a"
            ],
            [
             0.8888888888888888,
             "#fdca26"
            ],
            [
             1,
             "#f0f921"
            ]
           ]
          },
          "colorway": [
           "#636efa",
           "#EF553B",
           "#00cc96",
           "#ab63fa",
           "#FFA15A",
           "#19d3f3",
           "#FF6692",
           "#B6E880",
           "#FF97FF",
           "#FECB52"
          ],
          "font": {
           "color": "#2a3f5f"
          },
          "geo": {
           "bgcolor": "white",
           "lakecolor": "white",
           "landcolor": "#E5ECF6",
           "showlakes": true,
           "showland": true,
           "subunitcolor": "white"
          },
          "hoverlabel": {
           "align": "left"
          },
          "hovermode": "closest",
          "mapbox": {
           "style": "light"
          },
          "paper_bgcolor": "white",
          "plot_bgcolor": "#E5ECF6",
          "polar": {
           "angularaxis": {
            "gridcolor": "white",
            "linecolor": "white",
            "ticks": ""
           },
           "bgcolor": "#E5ECF6",
           "radialaxis": {
            "gridcolor": "white",
            "linecolor": "white",
            "ticks": ""
           }
          },
          "scene": {
           "xaxis": {
            "backgroundcolor": "#E5ECF6",
            "gridcolor": "white",
            "gridwidth": 2,
            "linecolor": "white",
            "showbackground": true,
            "ticks": "",
            "zerolinecolor": "white"
           },
           "yaxis": {
            "backgroundcolor": "#E5ECF6",
            "gridcolor": "white",
            "gridwidth": 2,
            "linecolor": "white",
            "showbackground": true,
            "ticks": "",
            "zerolinecolor": "white"
           },
           "zaxis": {
            "backgroundcolor": "#E5ECF6",
            "gridcolor": "white",
            "gridwidth": 2,
            "linecolor": "white",
            "showbackground": true,
            "ticks": "",
            "zerolinecolor": "white"
           }
          },
          "shapedefaults": {
           "line": {
            "color": "#2a3f5f"
           }
          },
          "ternary": {
           "aaxis": {
            "gridcolor": "white",
            "linecolor": "white",
            "ticks": ""
           },
           "baxis": {
            "gridcolor": "white",
            "linecolor": "white",
            "ticks": ""
           },
           "bgcolor": "#E5ECF6",
           "caxis": {
            "gridcolor": "white",
            "linecolor": "white",
            "ticks": ""
           }
          },
          "title": {
           "x": 0.05
          },
          "xaxis": {
           "automargin": true,
           "gridcolor": "white",
           "linecolor": "white",
           "ticks": "",
           "title": {
            "standoff": 15
           },
           "zerolinecolor": "white",
           "zerolinewidth": 2
          },
          "yaxis": {
           "automargin": true,
           "gridcolor": "white",
           "linecolor": "white",
           "ticks": "",
           "title": {
            "standoff": 15
           },
           "zerolinecolor": "white",
           "zerolinewidth": 2
          }
         }
        },
        "title": {
         "text": "Распределение стендов по скорости",
         "x": 0.5
        },
        "width": 500
       }
      }
     },
     "metadata": {},
     "output_type": "display_data"
    }
   ],
   "source": [
    "def assign_speed_stands(row):\n",
    "    if row['Скорость'] == 'infinite' or row['Скорость'] >= 3:\n",
    "        row['speed'] = 'Быстрый стенд'\n",
    "    else:\n",
    "        row['speed'] = 'Медленный стенд'\n",
    "    return row['speed']\n",
    "\n",
    "begin_dataset['speed'] = begin_dataset.apply(assign_speed_stands, axis = 1)\n",
    "\n",
    "pivot_speed_stands = begin_dataset.value_counts('speed').reset_index().rename(columns = {'count': 'Количество'})\n",
    "pivot_speed_stands\n",
    "\n",
    "pie_diagram_speed_stands = px.pie(pivot_speed_stands, names='speed', values='Количество', color_discrete_sequence=['#4aeb14', '#b514eb'], width=500, hole=0.5)\n",
    "pie_diagram_speed_stands.update_layout(title = {'text': 'Распределение стендов по скорости', 'x': 0.5}, showlegend = False)\n",
    "pie_diagram_speed_stands.show()"
   ]
  },
  {
   "cell_type": "markdown",
   "metadata": {},
   "source": [
    "Да, все так у нас **в основном действительно быстрые стенды**"
   ]
  },
  {
   "cell_type": "markdown",
   "metadata": {},
   "source": [
    "### 2.3.3 -- Дальность действия"
   ]
  },
  {
   "cell_type": "markdown",
   "metadata": {},
   "source": [
    "Теперь проаналлизируем дальность действия стендов, то есть как далеко они могут атаковать/действовать"
   ]
  },
  {
   "cell_type": "code",
   "execution_count": 298,
   "metadata": {},
   "outputs": [
    {
     "data": {
      "text/html": [
       "<div>\n",
       "<style scoped>\n",
       "    .dataframe tbody tr th:only-of-type {\n",
       "        vertical-align: middle;\n",
       "    }\n",
       "\n",
       "    .dataframe tbody tr th {\n",
       "        vertical-align: top;\n",
       "    }\n",
       "\n",
       "    .dataframe thead th {\n",
       "        text-align: right;\n",
       "    }\n",
       "</style>\n",
       "<table border=\"1\" class=\"dataframe\">\n",
       "  <thead>\n",
       "    <tr style=\"text-align: right;\">\n",
       "      <th></th>\n",
       "      <th>Stand</th>\n",
       "      <th>Сила</th>\n",
       "      <th>Скорость</th>\n",
       "      <th>Дальность</th>\n",
       "      <th>Выносливость</th>\n",
       "      <th>Точность</th>\n",
       "      <th>Потенциал</th>\n",
       "      <th>Story</th>\n",
       "      <th>strong</th>\n",
       "      <th>speed</th>\n",
       "    </tr>\n",
       "  </thead>\n",
       "  <tbody>\n",
       "    <tr>\n",
       "      <th>0</th>\n",
       "      <td>Anubis</td>\n",
       "      <td>4</td>\n",
       "      <td>4</td>\n",
       "      <td>1</td>\n",
       "      <td>5</td>\n",
       "      <td>1</td>\n",
       "      <td>3</td>\n",
       "      <td>Part 3: Stardust Crusaders</td>\n",
       "      <td>Сильный стенд</td>\n",
       "      <td>Быстрый стенд</td>\n",
       "    </tr>\n",
       "    <tr>\n",
       "      <th>1</th>\n",
       "      <td>Atum</td>\n",
       "      <td>2</td>\n",
       "      <td>3</td>\n",
       "      <td>2</td>\n",
       "      <td>4</td>\n",
       "      <td>2</td>\n",
       "      <td>2</td>\n",
       "      <td>Part 3: Stardust Crusaders</td>\n",
       "      <td>Слабый стенд</td>\n",
       "      <td>Быстрый стенд</td>\n",
       "    </tr>\n",
       "    <tr>\n",
       "      <th>2</th>\n",
       "      <td>Bastet</td>\n",
       "      <td>1</td>\n",
       "      <td>1</td>\n",
       "      <td>4</td>\n",
       "      <td>5</td>\n",
       "      <td>1</td>\n",
       "      <td>1</td>\n",
       "      <td>Part 3: Stardust Crusaders</td>\n",
       "      <td>Слабый стенд</td>\n",
       "      <td>Медленный стенд</td>\n",
       "    </tr>\n",
       "    <tr>\n",
       "      <th>3</th>\n",
       "      <td>Cream</td>\n",
       "      <td>4</td>\n",
       "      <td>4</td>\n",
       "      <td>2</td>\n",
       "      <td>3</td>\n",
       "      <td>3</td>\n",
       "      <td>2</td>\n",
       "      <td>Part 3: Stardust Crusaders</td>\n",
       "      <td>Сильный стенд</td>\n",
       "      <td>Быстрый стенд</td>\n",
       "    </tr>\n",
       "    <tr>\n",
       "      <th>4</th>\n",
       "      <td>Death Thirteen</td>\n",
       "      <td>3</td>\n",
       "      <td>3</td>\n",
       "      <td>1</td>\n",
       "      <td>4</td>\n",
       "      <td>2</td>\n",
       "      <td>4</td>\n",
       "      <td>Part 3: Stardust Crusaders</td>\n",
       "      <td>Сильный стенд</td>\n",
       "      <td>Быстрый стенд</td>\n",
       "    </tr>\n",
       "    <tr>\n",
       "      <th>...</th>\n",
       "      <td>...</td>\n",
       "      <td>...</td>\n",
       "      <td>...</td>\n",
       "      <td>...</td>\n",
       "      <td>...</td>\n",
       "      <td>...</td>\n",
       "      <td>...</td>\n",
       "      <td>...</td>\n",
       "      <td>...</td>\n",
       "      <td>...</td>\n",
       "    </tr>\n",
       "    <tr>\n",
       "      <th>151</th>\n",
       "      <td>Nightbird Flying</td>\n",
       "      <td>1</td>\n",
       "      <td>5</td>\n",
       "      <td>5</td>\n",
       "      <td>5</td>\n",
       "      <td>1</td>\n",
       "      <td>1</td>\n",
       "      <td>Light Novel: Purple Haze Feedback</td>\n",
       "      <td>Слабый стенд</td>\n",
       "      <td>Быстрый стенд</td>\n",
       "    </tr>\n",
       "    <tr>\n",
       "      <th>152</th>\n",
       "      <td>Purple Haze Distortion</td>\n",
       "      <td>5</td>\n",
       "      <td>4</td>\n",
       "      <td>1</td>\n",
       "      <td>1</td>\n",
       "      <td>3</td>\n",
       "      <td>unknown</td>\n",
       "      <td>Light Novel: Purple Haze Feedback</td>\n",
       "      <td>Сильный стенд</td>\n",
       "      <td>Быстрый стенд</td>\n",
       "    </tr>\n",
       "    <tr>\n",
       "      <th>153</th>\n",
       "      <td>Rainy Day Dream Away</td>\n",
       "      <td>1</td>\n",
       "      <td>4</td>\n",
       "      <td>5</td>\n",
       "      <td>5</td>\n",
       "      <td>1</td>\n",
       "      <td>1</td>\n",
       "      <td>Light Novel: Purple Haze Feedback</td>\n",
       "      <td>Слабый стенд</td>\n",
       "      <td>Быстрый стенд</td>\n",
       "    </tr>\n",
       "    <tr>\n",
       "      <th>154</th>\n",
       "      <td>Remote Romance</td>\n",
       "      <td>1</td>\n",
       "      <td>2</td>\n",
       "      <td>infinite</td>\n",
       "      <td>4</td>\n",
       "      <td>3</td>\n",
       "      <td>1</td>\n",
       "      <td>Featured</td>\n",
       "      <td>Слабый стенд</td>\n",
       "      <td>Медленный стенд</td>\n",
       "    </tr>\n",
       "    <tr>\n",
       "      <th>155</th>\n",
       "      <td>House of Holy</td>\n",
       "      <td>1</td>\n",
       "      <td>4</td>\n",
       "      <td>3</td>\n",
       "      <td>5</td>\n",
       "      <td>2</td>\n",
       "      <td>2</td>\n",
       "      <td>Featured</td>\n",
       "      <td>Слабый стенд</td>\n",
       "      <td>Быстрый стенд</td>\n",
       "    </tr>\n",
       "  </tbody>\n",
       "</table>\n",
       "<p>156 rows × 10 columns</p>\n",
       "</div>"
      ],
      "text/plain": [
       "                      Stand Сила Скорость Дальность Выносливость Точность  \\\n",
       "0                    Anubis    4        4         1            5        1   \n",
       "1                      Atum    2        3         2            4        2   \n",
       "2                    Bastet    1        1         4            5        1   \n",
       "3                     Cream    4        4         2            3        3   \n",
       "4            Death Thirteen    3        3         1            4        2   \n",
       "..                      ...  ...      ...       ...          ...      ...   \n",
       "151        Nightbird Flying    1        5         5            5        1   \n",
       "152  Purple Haze Distortion    5        4         1            1        3   \n",
       "153    Rainy Day Dream Away    1        4         5            5        1   \n",
       "154          Remote Romance    1        2  infinite            4        3   \n",
       "155           House of Holy    1        4         3            5        2   \n",
       "\n",
       "    Потенциал                              Story         strong  \\\n",
       "0           3         Part 3: Stardust Crusaders  Сильный стенд   \n",
       "1           2         Part 3: Stardust Crusaders   Слабый стенд   \n",
       "2           1         Part 3: Stardust Crusaders   Слабый стенд   \n",
       "3           2         Part 3: Stardust Crusaders  Сильный стенд   \n",
       "4           4         Part 3: Stardust Crusaders  Сильный стенд   \n",
       "..        ...                                ...            ...   \n",
       "151         1  Light Novel: Purple Haze Feedback   Слабый стенд   \n",
       "152   unknown  Light Novel: Purple Haze Feedback  Сильный стенд   \n",
       "153         1  Light Novel: Purple Haze Feedback   Слабый стенд   \n",
       "154         1                           Featured   Слабый стенд   \n",
       "155         2                           Featured   Слабый стенд   \n",
       "\n",
       "               speed  \n",
       "0      Быстрый стенд  \n",
       "1      Быстрый стенд  \n",
       "2    Медленный стенд  \n",
       "3      Быстрый стенд  \n",
       "4      Быстрый стенд  \n",
       "..               ...  \n",
       "151    Быстрый стенд  \n",
       "152    Быстрый стенд  \n",
       "153    Быстрый стенд  \n",
       "154  Медленный стенд  \n",
       "155    Быстрый стенд  \n",
       "\n",
       "[156 rows x 10 columns]"
      ]
     },
     "metadata": {},
     "output_type": "display_data"
    },
    {
     "data": {
      "text/html": [
       "<div>\n",
       "<style scoped>\n",
       "    .dataframe tbody tr th:only-of-type {\n",
       "        vertical-align: middle;\n",
       "    }\n",
       "\n",
       "    .dataframe tbody tr th {\n",
       "        vertical-align: top;\n",
       "    }\n",
       "\n",
       "    .dataframe thead th {\n",
       "        text-align: right;\n",
       "    }\n",
       "</style>\n",
       "<table border=\"1\" class=\"dataframe\">\n",
       "  <thead>\n",
       "    <tr style=\"text-align: right;\">\n",
       "      <th></th>\n",
       "      <th>Дальность</th>\n",
       "      <th>0</th>\n",
       "    </tr>\n",
       "  </thead>\n",
       "  <tbody>\n",
       "    <tr>\n",
       "      <th>2</th>\n",
       "      <td>3</td>\n",
       "      <td>37</td>\n",
       "    </tr>\n",
       "    <tr>\n",
       "      <th>4</th>\n",
       "      <td>5</td>\n",
       "      <td>37</td>\n",
       "    </tr>\n",
       "    <tr>\n",
       "      <th>3</th>\n",
       "      <td>4</td>\n",
       "      <td>25</td>\n",
       "    </tr>\n",
       "    <tr>\n",
       "      <th>0</th>\n",
       "      <td>1</td>\n",
       "      <td>21</td>\n",
       "    </tr>\n",
       "    <tr>\n",
       "      <th>1</th>\n",
       "      <td>2</td>\n",
       "      <td>21</td>\n",
       "    </tr>\n",
       "    <tr>\n",
       "      <th>7</th>\n",
       "      <td>undefined</td>\n",
       "      <td>8</td>\n",
       "    </tr>\n",
       "    <tr>\n",
       "      <th>5</th>\n",
       "      <td>infinite</td>\n",
       "      <td>4</td>\n",
       "    </tr>\n",
       "    <tr>\n",
       "      <th>8</th>\n",
       "      <td>unknown</td>\n",
       "      <td>2</td>\n",
       "    </tr>\n",
       "    <tr>\n",
       "      <th>6</th>\n",
       "      <td>none</td>\n",
       "      <td>1</td>\n",
       "    </tr>\n",
       "  </tbody>\n",
       "</table>\n",
       "</div>"
      ],
      "text/plain": [
       "   Дальность   0\n",
       "2          3  37\n",
       "4          5  37\n",
       "3          4  25\n",
       "0          1  21\n",
       "1          2  21\n",
       "7  undefined   8\n",
       "5   infinite   4\n",
       "8    unknown   2\n",
       "6       none   1"
      ]
     },
     "metadata": {},
     "output_type": "display_data"
    }
   ],
   "source": [
    "display(begin_dataset)\n",
    "\n",
    "piv_range_table = begin_dataset.groupby('Дальность').size().reset_index().sort_values(0, ascending=False)\n",
    "\n",
    "display(piv_range_table)"
   ]
  },
  {
   "cell_type": "markdown",
   "metadata": {},
   "source": [
    "Как видно, у нас в основном стенды дальнего действия, это может говорить нам о том, что их можно спокойно использовать на нескольких сотен метров и даже больше\n",
    "\n",
    "У нас здесь есть 4 категории, давайте посмотрим на них поподробнее и узнаем, что это за стенды такие"
   ]
  },
  {
   "cell_type": "code",
   "execution_count": 299,
   "metadata": {},
   "outputs": [
    {
     "data": {
      "text/html": [
       "<div>\n",
       "<style scoped>\n",
       "    .dataframe tbody tr th:only-of-type {\n",
       "        vertical-align: middle;\n",
       "    }\n",
       "\n",
       "    .dataframe tbody tr th {\n",
       "        vertical-align: top;\n",
       "    }\n",
       "\n",
       "    .dataframe thead th {\n",
       "        text-align: right;\n",
       "    }\n",
       "</style>\n",
       "<table border=\"1\" class=\"dataframe\">\n",
       "  <thead>\n",
       "    <tr style=\"text-align: right;\">\n",
       "      <th></th>\n",
       "      <th>Stand</th>\n",
       "      <th>Сила</th>\n",
       "      <th>Скорость</th>\n",
       "      <th>Дальность</th>\n",
       "      <th>Выносливость</th>\n",
       "      <th>Точность</th>\n",
       "      <th>Потенциал</th>\n",
       "      <th>Story</th>\n",
       "      <th>strong</th>\n",
       "      <th>speed</th>\n",
       "    </tr>\n",
       "  </thead>\n",
       "  <tbody>\n",
       "    <tr>\n",
       "      <th>33</th>\n",
       "      <td>Achtung Baby</td>\n",
       "      <td>1</td>\n",
       "      <td>1</td>\n",
       "      <td>undefined</td>\n",
       "      <td>5</td>\n",
       "      <td>1</td>\n",
       "      <td>5</td>\n",
       "      <td>Part 4: Diamond is Unbreakable</td>\n",
       "      <td>Слабый стенд</td>\n",
       "      <td>Медленный стенд</td>\n",
       "    </tr>\n",
       "    <tr>\n",
       "      <th>35</th>\n",
       "      <td>Atom Heart Father</td>\n",
       "      <td>1</td>\n",
       "      <td>1</td>\n",
       "      <td>undefined</td>\n",
       "      <td>5</td>\n",
       "      <td>1</td>\n",
       "      <td>1</td>\n",
       "      <td>Part 4: Diamond is Unbreakable</td>\n",
       "      <td>Слабый стенд</td>\n",
       "      <td>Медленный стенд</td>\n",
       "    </tr>\n",
       "    <tr>\n",
       "      <th>42</th>\n",
       "      <td>Earth Wind and Fire</td>\n",
       "      <td>3</td>\n",
       "      <td>3</td>\n",
       "      <td>undefined</td>\n",
       "      <td>5</td>\n",
       "      <td>3</td>\n",
       "      <td>3</td>\n",
       "      <td>Part 4: Diamond is Unbreakable</td>\n",
       "      <td>Сильный стенд</td>\n",
       "      <td>Быстрый стенд</td>\n",
       "    </tr>\n",
       "    <tr>\n",
       "      <th>53</th>\n",
       "      <td>Super Fly</td>\n",
       "      <td>1</td>\n",
       "      <td>1</td>\n",
       "      <td>none</td>\n",
       "      <td>5</td>\n",
       "      <td>1</td>\n",
       "      <td>1</td>\n",
       "      <td>Part 4: Diamond is Unbreakable</td>\n",
       "      <td>Слабый стенд</td>\n",
       "      <td>Медленный стенд</td>\n",
       "    </tr>\n",
       "    <tr>\n",
       "      <th>60</th>\n",
       "      <td>Stray Cat</td>\n",
       "      <td>4</td>\n",
       "      <td>1</td>\n",
       "      <td>undefined</td>\n",
       "      <td>5</td>\n",
       "      <td>1</td>\n",
       "      <td>3</td>\n",
       "      <td>Part 4: Diamond is Unbreakable</td>\n",
       "      <td>Сильный стенд</td>\n",
       "      <td>Медленный стенд</td>\n",
       "    </tr>\n",
       "    <tr>\n",
       "      <th>77</th>\n",
       "      <td>Gold Experience Requiem</td>\n",
       "      <td>infinite</td>\n",
       "      <td>infinite</td>\n",
       "      <td>infinite</td>\n",
       "      <td>infinite</td>\n",
       "      <td>infinite</td>\n",
       "      <td>infinite</td>\n",
       "      <td>Part 5: Vento Aureo</td>\n",
       "      <td>Сильный стенд</td>\n",
       "      <td>Быстрый стенд</td>\n",
       "    </tr>\n",
       "    <tr>\n",
       "      <th>83</th>\n",
       "      <td>Notorious B.I.G</td>\n",
       "      <td>5</td>\n",
       "      <td>infinite</td>\n",
       "      <td>infinite</td>\n",
       "      <td>infinite</td>\n",
       "      <td>1</td>\n",
       "      <td>5</td>\n",
       "      <td>Part 5: Vento Aureo</td>\n",
       "      <td>Сильный стенд</td>\n",
       "      <td>Быстрый стенд</td>\n",
       "    </tr>\n",
       "    <tr>\n",
       "      <th>90</th>\n",
       "      <td>Whitesnake</td>\n",
       "      <td>5</td>\n",
       "      <td>2</td>\n",
       "      <td>unknown</td>\n",
       "      <td>5</td>\n",
       "      <td>unknown</td>\n",
       "      <td>unknown</td>\n",
       "      <td>Part 6: Stone Ocean</td>\n",
       "      <td>Сильный стенд</td>\n",
       "      <td>Медленный стенд</td>\n",
       "    </tr>\n",
       "    <tr>\n",
       "      <th>99</th>\n",
       "      <td>Bohemian Rhapsody</td>\n",
       "      <td>1</td>\n",
       "      <td>3</td>\n",
       "      <td>infinite</td>\n",
       "      <td>5</td>\n",
       "      <td>undefined</td>\n",
       "      <td>undefined</td>\n",
       "      <td>Part 6: Stone Ocean</td>\n",
       "      <td>Слабый стенд</td>\n",
       "      <td>Быстрый стенд</td>\n",
       "    </tr>\n",
       "    <tr>\n",
       "      <th>100</th>\n",
       "      <td>Burning Down the House</td>\n",
       "      <td>2</td>\n",
       "      <td>2</td>\n",
       "      <td>undefined</td>\n",
       "      <td>undefined</td>\n",
       "      <td>undefined</td>\n",
       "      <td>undefined</td>\n",
       "      <td>Part 6: Stone Ocean</td>\n",
       "      <td>Слабый стенд</td>\n",
       "      <td>Медленный стенд</td>\n",
       "    </tr>\n",
       "    <tr>\n",
       "      <th>102</th>\n",
       "      <td>Dragon's Dream</td>\n",
       "      <td>3</td>\n",
       "      <td>4</td>\n",
       "      <td>undefined</td>\n",
       "      <td>5</td>\n",
       "      <td>undefined</td>\n",
       "      <td>undefined</td>\n",
       "      <td>Part 6: Stone Ocean</td>\n",
       "      <td>Сильный стенд</td>\n",
       "      <td>Быстрый стенд</td>\n",
       "    </tr>\n",
       "    <tr>\n",
       "      <th>104</th>\n",
       "      <td>Green, Green Grass of Home</td>\n",
       "      <td>5</td>\n",
       "      <td>4</td>\n",
       "      <td>unknown</td>\n",
       "      <td>unknown</td>\n",
       "      <td>unknown</td>\n",
       "      <td>unknown</td>\n",
       "      <td>Part 6: Stone Ocean</td>\n",
       "      <td>Сильный стенд</td>\n",
       "      <td>Быстрый стенд</td>\n",
       "    </tr>\n",
       "    <tr>\n",
       "      <th>116</th>\n",
       "      <td>20th Century Boy</td>\n",
       "      <td>1</td>\n",
       "      <td>3</td>\n",
       "      <td>undefined</td>\n",
       "      <td>5</td>\n",
       "      <td>2</td>\n",
       "      <td>3</td>\n",
       "      <td>Part 7: Steel Ball Run</td>\n",
       "      <td>Слабый стенд</td>\n",
       "      <td>Быстрый стенд</td>\n",
       "    </tr>\n",
       "    <tr>\n",
       "      <th>127</th>\n",
       "      <td>Mandom</td>\n",
       "      <td>2</td>\n",
       "      <td>5</td>\n",
       "      <td>undefined</td>\n",
       "      <td>1</td>\n",
       "      <td>undefined</td>\n",
       "      <td>3</td>\n",
       "      <td>Part 7: Steel Ball Run</td>\n",
       "      <td>Слабый стенд</td>\n",
       "      <td>Быстрый стенд</td>\n",
       "    </tr>\n",
       "    <tr>\n",
       "      <th>154</th>\n",
       "      <td>Remote Romance</td>\n",
       "      <td>1</td>\n",
       "      <td>2</td>\n",
       "      <td>infinite</td>\n",
       "      <td>4</td>\n",
       "      <td>3</td>\n",
       "      <td>1</td>\n",
       "      <td>Featured</td>\n",
       "      <td>Слабый стенд</td>\n",
       "      <td>Медленный стенд</td>\n",
       "    </tr>\n",
       "  </tbody>\n",
       "</table>\n",
       "</div>"
      ],
      "text/plain": [
       "                          Stand      Сила  Скорость  Дальность Выносливость  \\\n",
       "33                 Achtung Baby         1         1  undefined            5   \n",
       "35            Atom Heart Father         1         1  undefined            5   \n",
       "42          Earth Wind and Fire         3         3  undefined            5   \n",
       "53                    Super Fly         1         1       none            5   \n",
       "60                    Stray Cat         4         1  undefined            5   \n",
       "77      Gold Experience Requiem  infinite  infinite   infinite     infinite   \n",
       "83              Notorious B.I.G         5  infinite   infinite     infinite   \n",
       "90                   Whitesnake         5         2    unknown            5   \n",
       "99            Bohemian Rhapsody         1         3   infinite            5   \n",
       "100      Burning Down the House         2         2  undefined    undefined   \n",
       "102              Dragon's Dream         3         4  undefined            5   \n",
       "104  Green, Green Grass of Home         5         4    unknown      unknown   \n",
       "116            20th Century Boy         1         3  undefined            5   \n",
       "127                      Mandom         2         5  undefined            1   \n",
       "154              Remote Romance         1         2   infinite            4   \n",
       "\n",
       "      Точность  Потенциал                           Story         strong  \\\n",
       "33           1          5  Part 4: Diamond is Unbreakable   Слабый стенд   \n",
       "35           1          1  Part 4: Diamond is Unbreakable   Слабый стенд   \n",
       "42           3          3  Part 4: Diamond is Unbreakable  Сильный стенд   \n",
       "53           1          1  Part 4: Diamond is Unbreakable   Слабый стенд   \n",
       "60           1          3  Part 4: Diamond is Unbreakable  Сильный стенд   \n",
       "77    infinite   infinite             Part 5: Vento Aureo  Сильный стенд   \n",
       "83           1          5             Part 5: Vento Aureo  Сильный стенд   \n",
       "90     unknown    unknown             Part 6: Stone Ocean  Сильный стенд   \n",
       "99   undefined  undefined             Part 6: Stone Ocean   Слабый стенд   \n",
       "100  undefined  undefined             Part 6: Stone Ocean   Слабый стенд   \n",
       "102  undefined  undefined             Part 6: Stone Ocean  Сильный стенд   \n",
       "104    unknown    unknown             Part 6: Stone Ocean  Сильный стенд   \n",
       "116          2          3          Part 7: Steel Ball Run   Слабый стенд   \n",
       "127  undefined          3          Part 7: Steel Ball Run   Слабый стенд   \n",
       "154          3          1                        Featured   Слабый стенд   \n",
       "\n",
       "               speed  \n",
       "33   Медленный стенд  \n",
       "35   Медленный стенд  \n",
       "42     Быстрый стенд  \n",
       "53   Медленный стенд  \n",
       "60   Медленный стенд  \n",
       "77     Быстрый стенд  \n",
       "83     Быстрый стенд  \n",
       "90   Медленный стенд  \n",
       "99     Быстрый стенд  \n",
       "100  Медленный стенд  \n",
       "102    Быстрый стенд  \n",
       "104    Быстрый стенд  \n",
       "116    Быстрый стенд  \n",
       "127    Быстрый стенд  \n",
       "154  Медленный стенд  "
      ]
     },
     "metadata": {},
     "output_type": "display_data"
    }
   ],
   "source": [
    "unknown_range_stnads = begin_dataset[\n",
    "    (begin_dataset['Дальность'] == 'undefined') | (begin_dataset['Дальность'] == 'infinite') | (begin_dataset['Дальность'] == 'unknown') | (begin_dataset['Дальность'] == 'none')\n",
    "]\n",
    "\n",
    "display(unknown_range_stnads)"
   ]
  },
  {
   "cell_type": "markdown",
   "metadata": {},
   "source": [
    "У нас здесь есть несколько стендов, у которых дальность -- бесконечность, посмотрим на них внимательно"
   ]
  },
  {
   "cell_type": "code",
   "execution_count": 300,
   "metadata": {},
   "outputs": [
    {
     "data": {
      "text/html": [
       "<div>\n",
       "<style scoped>\n",
       "    .dataframe tbody tr th:only-of-type {\n",
       "        vertical-align: middle;\n",
       "    }\n",
       "\n",
       "    .dataframe tbody tr th {\n",
       "        vertical-align: top;\n",
       "    }\n",
       "\n",
       "    .dataframe thead th {\n",
       "        text-align: right;\n",
       "    }\n",
       "</style>\n",
       "<table border=\"1\" class=\"dataframe\">\n",
       "  <thead>\n",
       "    <tr style=\"text-align: right;\">\n",
       "      <th></th>\n",
       "      <th>Stand</th>\n",
       "      <th>Сила</th>\n",
       "      <th>Скорость</th>\n",
       "      <th>Дальность</th>\n",
       "      <th>Выносливость</th>\n",
       "      <th>Точность</th>\n",
       "      <th>Потенциал</th>\n",
       "      <th>Story</th>\n",
       "      <th>strong</th>\n",
       "      <th>speed</th>\n",
       "    </tr>\n",
       "  </thead>\n",
       "  <tbody>\n",
       "    <tr>\n",
       "      <th>77</th>\n",
       "      <td>Gold Experience Requiem</td>\n",
       "      <td>infinite</td>\n",
       "      <td>infinite</td>\n",
       "      <td>infinite</td>\n",
       "      <td>infinite</td>\n",
       "      <td>infinite</td>\n",
       "      <td>infinite</td>\n",
       "      <td>Part 5: Vento Aureo</td>\n",
       "      <td>Сильный стенд</td>\n",
       "      <td>Быстрый стенд</td>\n",
       "    </tr>\n",
       "    <tr>\n",
       "      <th>83</th>\n",
       "      <td>Notorious B.I.G</td>\n",
       "      <td>5</td>\n",
       "      <td>infinite</td>\n",
       "      <td>infinite</td>\n",
       "      <td>infinite</td>\n",
       "      <td>1</td>\n",
       "      <td>5</td>\n",
       "      <td>Part 5: Vento Aureo</td>\n",
       "      <td>Сильный стенд</td>\n",
       "      <td>Быстрый стенд</td>\n",
       "    </tr>\n",
       "    <tr>\n",
       "      <th>99</th>\n",
       "      <td>Bohemian Rhapsody</td>\n",
       "      <td>1</td>\n",
       "      <td>3</td>\n",
       "      <td>infinite</td>\n",
       "      <td>5</td>\n",
       "      <td>undefined</td>\n",
       "      <td>undefined</td>\n",
       "      <td>Part 6: Stone Ocean</td>\n",
       "      <td>Слабый стенд</td>\n",
       "      <td>Быстрый стенд</td>\n",
       "    </tr>\n",
       "    <tr>\n",
       "      <th>154</th>\n",
       "      <td>Remote Romance</td>\n",
       "      <td>1</td>\n",
       "      <td>2</td>\n",
       "      <td>infinite</td>\n",
       "      <td>4</td>\n",
       "      <td>3</td>\n",
       "      <td>1</td>\n",
       "      <td>Featured</td>\n",
       "      <td>Слабый стенд</td>\n",
       "      <td>Медленный стенд</td>\n",
       "    </tr>\n",
       "  </tbody>\n",
       "</table>\n",
       "</div>"
      ],
      "text/plain": [
       "                       Stand      Сила  Скорость Дальность Выносливость  \\\n",
       "77   Gold Experience Requiem  infinite  infinite  infinite     infinite   \n",
       "83           Notorious B.I.G         5  infinite  infinite     infinite   \n",
       "99         Bohemian Rhapsody         1         3  infinite            5   \n",
       "154           Remote Romance         1         2  infinite            4   \n",
       "\n",
       "      Точность  Потенциал                Story         strong            speed  \n",
       "77    infinite   infinite  Part 5: Vento Aureo  Сильный стенд    Быстрый стенд  \n",
       "83           1          5  Part 5: Vento Aureo  Сильный стенд    Быстрый стенд  \n",
       "99   undefined  undefined  Part 6: Stone Ocean   Слабый стенд    Быстрый стенд  \n",
       "154          3          1             Featured   Слабый стенд  Медленный стенд  "
      ]
     },
     "metadata": {},
     "output_type": "display_data"
    }
   ],
   "source": [
    "infinite_range_stnads = unknown_range_stnads[\n",
    "    unknown_range_stnads['Дальность'] == 'infinite'\n",
    "]\n",
    "\n",
    "display(infinite_range_stnads)"
   ]
  },
  {
   "cell_type": "markdown",
   "metadata": {},
   "source": [
    "Итак, 3 стенда отсюда мы уже знаем, а вот **Bohemian Rhapsody** это что-то новое, ~~я не верю, что за 11 последних эпизодов будет что-то еще))~~ давайте посмотрим на этот стенд...\n",
    "\n",
    "Ага, интересно, этот стенд, как я понял, переносит вымышленных персонажей в реальный мир, то есть в нашем мире появляется человек-паук, Алладин, Красная шапочка и серый волк и так далее (подробнее можете почитать [здесь](https://jojo.fandom.com/ru/wiki/Bohemian_Rhapsody))\n",
    "\n",
    "Тут написано:\n",
    "\n",
    "> Убегать или прятаться от персонажей бесполезно, так как объекты просто разворачиваются как бумага, позволяя персонажам проходить сквозь них или даже телепортироваться\n",
    "\n",
    "Думаю, что можно ставить 5 смело, так как стенд действительно работает на далеком расстоянии"
   ]
  },
  {
   "cell_type": "markdown",
   "metadata": {},
   "source": [
    "Посмотрим на остальные стенды. Здесь уже интересно -- из главы *Diamond is Unbreakable* все стенды, кроме Super Fly я бы поставил дальность действия 5, честно. Потому что в аниме показано, что у них очень большой радиус действия, например у того же **Atom Heart Father**, он спокойно и незаметно перемещается по городу Морио\n",
    "\n",
    "Исключения -- **Super Fly** и **Achtung Baby**, первое это прсото вышка, которая стоит на месте и радиус действия -- только ее местонахождение. А второй стенд -- это невидимый 1-2 летний ребенок, который еще не умеет разговаривать. Так что я бы дальность действия дал только 1, думаю, справедливо"
   ]
  },
  {
   "cell_type": "markdown",
   "metadata": {},
   "source": [
    "Смотря на другие стенды, я бы скорее их бы распределил также, как силу и скорость, так как не знаю точно, на что они спопсобны. Думаю, будет честно и я никого не обижу"
   ]
  },
  {
   "cell_type": "code",
   "execution_count": 301,
   "metadata": {},
   "outputs": [
    {
     "name": "stderr",
     "output_type": "stream",
     "text": [
      "C:\\Users\\Smart\\AppData\\Local\\Temp\\ipykernel_13008\\194860243.py:6: SettingWithCopyWarning:\n",
      "\n",
      "\n",
      "A value is trying to be set on a copy of a slice from a DataFrame.\n",
      "Try using .loc[row_indexer,col_indexer] = value instead\n",
      "\n",
      "See the caveats in the documentation: https://pandas.pydata.org/pandas-docs/stable/user_guide/indexing.html#returning-a-view-versus-a-copy\n",
      "\n",
      "C:\\Users\\Smart\\AppData\\Local\\Temp\\ipykernel_13008\\194860243.py:16: SettingWithCopyWarning:\n",
      "\n",
      "\n",
      "A value is trying to be set on a copy of a slice from a DataFrame.\n",
      "Try using .loc[row_indexer,col_indexer] = value instead\n",
      "\n",
      "See the caveats in the documentation: https://pandas.pydata.org/pandas-docs/stable/user_guide/indexing.html#returning-a-view-versus-a-copy\n",
      "\n"
     ]
    }
   ],
   "source": [
    "# Заменим определенные стенды с радиусом действия на 1 \n",
    "\n",
    "diamond_is_unbreakeble_unknown_range_stand_one = begin_dataset[\n",
    "    begin_dataset['Story'].str.startswith('Part 4') & ((begin_dataset['Stand'] == 'Achtung Baby') | (begin_dataset['Stand'] == 'Super Fly'))\n",
    "]\n",
    "diamond_is_unbreakeble_unknown_range_stand_one['Дальность'] = 1\n",
    "begin_dataset.loc[diamond_is_unbreakeble_unknown_range_stand_one.index, 'Дальность'] = diamond_is_unbreakeble_unknown_range_stand_one['Дальность']\n",
    "\n",
    "#display(begin_dataset.query('Stand == \"Achtung Baby\"'))\n",
    "\n",
    "# Заменим определенные стенды с радиусом действия на 5\n",
    "\n",
    "diamond_is_unbreakeble_unknown_range_stand_five = begin_dataset[\n",
    "    begin_dataset['Story'].str.startswith('Part 4') & (begin_dataset['Дальность'] == 'undefined') & ((begin_dataset['Stand'] != 'Achtung Baby') | (begin_dataset['Stand'] != 'Super Fly'))\n",
    "]\n",
    "diamond_is_unbreakeble_unknown_range_stand_five['Дальность'] = 5\n",
    "begin_dataset.loc[diamond_is_unbreakeble_unknown_range_stand_five.index, 'Дальность'] = diamond_is_unbreakeble_unknown_range_stand_five['Дальность']\n",
    "\n",
    "#display(begin_dataset.query('Stand == \"Stray Cat\"'))\n"
   ]
  },
  {
   "cell_type": "markdown",
   "metadata": {},
   "source": [
    "Так, отлично, некоторые стенды по смыслу мы заполнили, а теперь надо еще дополнить значения у других стендов, заполним аналогично силе и скорости"
   ]
  },
  {
   "cell_type": "code",
   "execution_count": 302,
   "metadata": {},
   "outputs": [
    {
     "data": {
      "text/html": [
       "<div>\n",
       "<style scoped>\n",
       "    .dataframe tbody tr th:only-of-type {\n",
       "        vertical-align: middle;\n",
       "    }\n",
       "\n",
       "    .dataframe tbody tr th {\n",
       "        vertical-align: top;\n",
       "    }\n",
       "\n",
       "    .dataframe thead th {\n",
       "        text-align: right;\n",
       "    }\n",
       "</style>\n",
       "<table border=\"1\" class=\"dataframe\">\n",
       "  <thead>\n",
       "    <tr style=\"text-align: right;\">\n",
       "      <th></th>\n",
       "      <th>Stand</th>\n",
       "      <th>Сила</th>\n",
       "      <th>Скорость</th>\n",
       "      <th>Дальность</th>\n",
       "      <th>Выносливость</th>\n",
       "      <th>Точность</th>\n",
       "      <th>Потенциал</th>\n",
       "      <th>Story</th>\n",
       "      <th>strong</th>\n",
       "      <th>speed</th>\n",
       "    </tr>\n",
       "  </thead>\n",
       "  <tbody>\n",
       "    <tr>\n",
       "      <th>0</th>\n",
       "      <td>Anubis</td>\n",
       "      <td>4</td>\n",
       "      <td>4</td>\n",
       "      <td>1</td>\n",
       "      <td>5</td>\n",
       "      <td>1</td>\n",
       "      <td>3</td>\n",
       "      <td>Part 3: Stardust Crusaders</td>\n",
       "      <td>Сильный стенд</td>\n",
       "      <td>Быстрый стенд</td>\n",
       "    </tr>\n",
       "    <tr>\n",
       "      <th>1</th>\n",
       "      <td>Atum</td>\n",
       "      <td>2</td>\n",
       "      <td>3</td>\n",
       "      <td>2</td>\n",
       "      <td>4</td>\n",
       "      <td>2</td>\n",
       "      <td>2</td>\n",
       "      <td>Part 3: Stardust Crusaders</td>\n",
       "      <td>Слабый стенд</td>\n",
       "      <td>Быстрый стенд</td>\n",
       "    </tr>\n",
       "    <tr>\n",
       "      <th>2</th>\n",
       "      <td>Bastet</td>\n",
       "      <td>1</td>\n",
       "      <td>1</td>\n",
       "      <td>4</td>\n",
       "      <td>5</td>\n",
       "      <td>1</td>\n",
       "      <td>1</td>\n",
       "      <td>Part 3: Stardust Crusaders</td>\n",
       "      <td>Слабый стенд</td>\n",
       "      <td>Медленный стенд</td>\n",
       "    </tr>\n",
       "    <tr>\n",
       "      <th>3</th>\n",
       "      <td>Cream</td>\n",
       "      <td>4</td>\n",
       "      <td>4</td>\n",
       "      <td>2</td>\n",
       "      <td>3</td>\n",
       "      <td>3</td>\n",
       "      <td>2</td>\n",
       "      <td>Part 3: Stardust Crusaders</td>\n",
       "      <td>Сильный стенд</td>\n",
       "      <td>Быстрый стенд</td>\n",
       "    </tr>\n",
       "    <tr>\n",
       "      <th>4</th>\n",
       "      <td>Death Thirteen</td>\n",
       "      <td>3</td>\n",
       "      <td>3</td>\n",
       "      <td>1</td>\n",
       "      <td>4</td>\n",
       "      <td>2</td>\n",
       "      <td>4</td>\n",
       "      <td>Part 3: Stardust Crusaders</td>\n",
       "      <td>Сильный стенд</td>\n",
       "      <td>Быстрый стенд</td>\n",
       "    </tr>\n",
       "    <tr>\n",
       "      <th>...</th>\n",
       "      <td>...</td>\n",
       "      <td>...</td>\n",
       "      <td>...</td>\n",
       "      <td>...</td>\n",
       "      <td>...</td>\n",
       "      <td>...</td>\n",
       "      <td>...</td>\n",
       "      <td>...</td>\n",
       "      <td>...</td>\n",
       "      <td>...</td>\n",
       "    </tr>\n",
       "    <tr>\n",
       "      <th>150</th>\n",
       "      <td>Dolly Dagger</td>\n",
       "      <td>5</td>\n",
       "      <td>5</td>\n",
       "      <td>3</td>\n",
       "      <td>5</td>\n",
       "      <td>4</td>\n",
       "      <td>3</td>\n",
       "      <td>Light Novel: Purple Haze Feedback</td>\n",
       "      <td>Сильный стенд</td>\n",
       "      <td>Быстрый стенд</td>\n",
       "    </tr>\n",
       "    <tr>\n",
       "      <th>151</th>\n",
       "      <td>Nightbird Flying</td>\n",
       "      <td>1</td>\n",
       "      <td>5</td>\n",
       "      <td>5</td>\n",
       "      <td>5</td>\n",
       "      <td>1</td>\n",
       "      <td>1</td>\n",
       "      <td>Light Novel: Purple Haze Feedback</td>\n",
       "      <td>Слабый стенд</td>\n",
       "      <td>Быстрый стенд</td>\n",
       "    </tr>\n",
       "    <tr>\n",
       "      <th>152</th>\n",
       "      <td>Purple Haze Distortion</td>\n",
       "      <td>5</td>\n",
       "      <td>4</td>\n",
       "      <td>1</td>\n",
       "      <td>1</td>\n",
       "      <td>3</td>\n",
       "      <td>unknown</td>\n",
       "      <td>Light Novel: Purple Haze Feedback</td>\n",
       "      <td>Сильный стенд</td>\n",
       "      <td>Быстрый стенд</td>\n",
       "    </tr>\n",
       "    <tr>\n",
       "      <th>153</th>\n",
       "      <td>Rainy Day Dream Away</td>\n",
       "      <td>1</td>\n",
       "      <td>4</td>\n",
       "      <td>5</td>\n",
       "      <td>5</td>\n",
       "      <td>1</td>\n",
       "      <td>1</td>\n",
       "      <td>Light Novel: Purple Haze Feedback</td>\n",
       "      <td>Слабый стенд</td>\n",
       "      <td>Быстрый стенд</td>\n",
       "    </tr>\n",
       "    <tr>\n",
       "      <th>155</th>\n",
       "      <td>House of Holy</td>\n",
       "      <td>1</td>\n",
       "      <td>4</td>\n",
       "      <td>3</td>\n",
       "      <td>5</td>\n",
       "      <td>2</td>\n",
       "      <td>2</td>\n",
       "      <td>Featured</td>\n",
       "      <td>Слабый стенд</td>\n",
       "      <td>Быстрый стенд</td>\n",
       "    </tr>\n",
       "  </tbody>\n",
       "</table>\n",
       "<p>146 rows × 10 columns</p>\n",
       "</div>"
      ],
      "text/plain": [
       "                      Stand Сила Скорость Дальность Выносливость Точность  \\\n",
       "0                    Anubis    4        4         1            5        1   \n",
       "1                      Atum    2        3         2            4        2   \n",
       "2                    Bastet    1        1         4            5        1   \n",
       "3                     Cream    4        4         2            3        3   \n",
       "4            Death Thirteen    3        3         1            4        2   \n",
       "..                      ...  ...      ...       ...          ...      ...   \n",
       "150            Dolly Dagger    5        5         3            5        4   \n",
       "151        Nightbird Flying    1        5         5            5        1   \n",
       "152  Purple Haze Distortion    5        4         1            1        3   \n",
       "153    Rainy Day Dream Away    1        4         5            5        1   \n",
       "155           House of Holy    1        4         3            5        2   \n",
       "\n",
       "    Потенциал                              Story         strong  \\\n",
       "0           3         Part 3: Stardust Crusaders  Сильный стенд   \n",
       "1           2         Part 3: Stardust Crusaders   Слабый стенд   \n",
       "2           1         Part 3: Stardust Crusaders   Слабый стенд   \n",
       "3           2         Part 3: Stardust Crusaders  Сильный стенд   \n",
       "4           4         Part 3: Stardust Crusaders  Сильный стенд   \n",
       "..        ...                                ...            ...   \n",
       "150         3  Light Novel: Purple Haze Feedback  Сильный стенд   \n",
       "151         1  Light Novel: Purple Haze Feedback   Слабый стенд   \n",
       "152   unknown  Light Novel: Purple Haze Feedback  Сильный стенд   \n",
       "153         1  Light Novel: Purple Haze Feedback   Слабый стенд   \n",
       "155         2                           Featured   Слабый стенд   \n",
       "\n",
       "               speed  \n",
       "0      Быстрый стенд  \n",
       "1      Быстрый стенд  \n",
       "2    Медленный стенд  \n",
       "3      Быстрый стенд  \n",
       "4      Быстрый стенд  \n",
       "..               ...  \n",
       "150    Быстрый стенд  \n",
       "151    Быстрый стенд  \n",
       "152    Быстрый стенд  \n",
       "153    Быстрый стенд  \n",
       "155    Быстрый стенд  \n",
       "\n",
       "[146 rows x 10 columns]"
      ]
     },
     "metadata": {},
     "output_type": "display_data"
    },
    {
     "data": {
      "application/vnd.plotly.v1+json": {
       "config": {
        "plotlyServerURL": "https://plotly.com"
       },
       "data": [
        {
         "alignmentgroup": "True",
         "bingroup": "x",
         "hovertemplate": "Дальность=%{x}<br>count=%{y}<extra></extra>",
         "legendgroup": "",
         "marker": {
          "color": "#efe05e",
          "pattern": {
           "shape": ""
          }
         },
         "name": "",
         "nbinsx": 8,
         "offsetgroup": "",
         "orientation": "v",
         "showlegend": false,
         "type": "histogram",
         "x": [
          1,
          2,
          4,
          2,
          1,
          5,
          5,
          2,
          3,
          1,
          2,
          1,
          2,
          1,
          3,
          4,
          5,
          5,
          5,
          2,
          5,
          5,
          5,
          3,
          3,
          3,
          2,
          5,
          2,
          3,
          5,
          2,
          1,
          1,
          5,
          5,
          3,
          4,
          1,
          3,
          2,
          3,
          5,
          5,
          4,
          5,
          2,
          5,
          5,
          3,
          4,
          2,
          5,
          1,
          3,
          5,
          2,
          4,
          4,
          3,
          5,
          5,
          5,
          3,
          3,
          3,
          3,
          5,
          4,
          4,
          4,
          4,
          4,
          5,
          5,
          4,
          2,
          5,
          1,
          1,
          1,
          1,
          4,
          5,
          1,
          3,
          4,
          3,
          4,
          4,
          3,
          4,
          5,
          4,
          3,
          3,
          1,
          3,
          5,
          5,
          4,
          4,
          3,
          5,
          5,
          5,
          1,
          3,
          5,
          2,
          3,
          4,
          3,
          3,
          3,
          3,
          3,
          1,
          2,
          3,
          2,
          1,
          3,
          1,
          3,
          2,
          2,
          4,
          4,
          5,
          4,
          5,
          1,
          2,
          3,
          5,
          3,
          2,
          1,
          1,
          5,
          3,
          5,
          1,
          5,
          3
         ],
         "xaxis": "x",
         "yaxis": "y"
        }
       ],
       "layout": {
        "barmode": "relative",
        "legend": {
         "tracegroupgap": 0
        },
        "margin": {
         "t": 60
        },
        "template": {
         "data": {
          "bar": [
           {
            "error_x": {
             "color": "#2a3f5f"
            },
            "error_y": {
             "color": "#2a3f5f"
            },
            "marker": {
             "line": {
              "color": "#E5ECF6",
              "width": 0.5
             },
             "pattern": {
              "fillmode": "overlay",
              "size": 10,
              "solidity": 0.2
             }
            },
            "type": "bar"
           }
          ],
          "barpolar": [
           {
            "marker": {
             "line": {
              "color": "#E5ECF6",
              "width": 0.5
             },
             "pattern": {
              "fillmode": "overlay",
              "size": 10,
              "solidity": 0.2
             }
            },
            "type": "barpolar"
           }
          ],
          "carpet": [
           {
            "aaxis": {
             "endlinecolor": "#2a3f5f",
             "gridcolor": "white",
             "linecolor": "white",
             "minorgridcolor": "white",
             "startlinecolor": "#2a3f5f"
            },
            "baxis": {
             "endlinecolor": "#2a3f5f",
             "gridcolor": "white",
             "linecolor": "white",
             "minorgridcolor": "white",
             "startlinecolor": "#2a3f5f"
            },
            "type": "carpet"
           }
          ],
          "choropleth": [
           {
            "colorbar": {
             "outlinewidth": 0,
             "ticks": ""
            },
            "type": "choropleth"
           }
          ],
          "contour": [
           {
            "colorbar": {
             "outlinewidth": 0,
             "ticks": ""
            },
            "colorscale": [
             [
              0,
              "#0d0887"
             ],
             [
              0.1111111111111111,
              "#46039f"
             ],
             [
              0.2222222222222222,
              "#7201a8"
             ],
             [
              0.3333333333333333,
              "#9c179e"
             ],
             [
              0.4444444444444444,
              "#bd3786"
             ],
             [
              0.5555555555555556,
              "#d8576b"
             ],
             [
              0.6666666666666666,
              "#ed7953"
             ],
             [
              0.7777777777777778,
              "#fb9f3a"
             ],
             [
              0.8888888888888888,
              "#fdca26"
             ],
             [
              1,
              "#f0f921"
             ]
            ],
            "type": "contour"
           }
          ],
          "contourcarpet": [
           {
            "colorbar": {
             "outlinewidth": 0,
             "ticks": ""
            },
            "type": "contourcarpet"
           }
          ],
          "heatmap": [
           {
            "colorbar": {
             "outlinewidth": 0,
             "ticks": ""
            },
            "colorscale": [
             [
              0,
              "#0d0887"
             ],
             [
              0.1111111111111111,
              "#46039f"
             ],
             [
              0.2222222222222222,
              "#7201a8"
             ],
             [
              0.3333333333333333,
              "#9c179e"
             ],
             [
              0.4444444444444444,
              "#bd3786"
             ],
             [
              0.5555555555555556,
              "#d8576b"
             ],
             [
              0.6666666666666666,
              "#ed7953"
             ],
             [
              0.7777777777777778,
              "#fb9f3a"
             ],
             [
              0.8888888888888888,
              "#fdca26"
             ],
             [
              1,
              "#f0f921"
             ]
            ],
            "type": "heatmap"
           }
          ],
          "heatmapgl": [
           {
            "colorbar": {
             "outlinewidth": 0,
             "ticks": ""
            },
            "colorscale": [
             [
              0,
              "#0d0887"
             ],
             [
              0.1111111111111111,
              "#46039f"
             ],
             [
              0.2222222222222222,
              "#7201a8"
             ],
             [
              0.3333333333333333,
              "#9c179e"
             ],
             [
              0.4444444444444444,
              "#bd3786"
             ],
             [
              0.5555555555555556,
              "#d8576b"
             ],
             [
              0.6666666666666666,
              "#ed7953"
             ],
             [
              0.7777777777777778,
              "#fb9f3a"
             ],
             [
              0.8888888888888888,
              "#fdca26"
             ],
             [
              1,
              "#f0f921"
             ]
            ],
            "type": "heatmapgl"
           }
          ],
          "histogram": [
           {
            "marker": {
             "pattern": {
              "fillmode": "overlay",
              "size": 10,
              "solidity": 0.2
             }
            },
            "type": "histogram"
           }
          ],
          "histogram2d": [
           {
            "colorbar": {
             "outlinewidth": 0,
             "ticks": ""
            },
            "colorscale": [
             [
              0,
              "#0d0887"
             ],
             [
              0.1111111111111111,
              "#46039f"
             ],
             [
              0.2222222222222222,
              "#7201a8"
             ],
             [
              0.3333333333333333,
              "#9c179e"
             ],
             [
              0.4444444444444444,
              "#bd3786"
             ],
             [
              0.5555555555555556,
              "#d8576b"
             ],
             [
              0.6666666666666666,
              "#ed7953"
             ],
             [
              0.7777777777777778,
              "#fb9f3a"
             ],
             [
              0.8888888888888888,
              "#fdca26"
             ],
             [
              1,
              "#f0f921"
             ]
            ],
            "type": "histogram2d"
           }
          ],
          "histogram2dcontour": [
           {
            "colorbar": {
             "outlinewidth": 0,
             "ticks": ""
            },
            "colorscale": [
             [
              0,
              "#0d0887"
             ],
             [
              0.1111111111111111,
              "#46039f"
             ],
             [
              0.2222222222222222,
              "#7201a8"
             ],
             [
              0.3333333333333333,
              "#9c179e"
             ],
             [
              0.4444444444444444,
              "#bd3786"
             ],
             [
              0.5555555555555556,
              "#d8576b"
             ],
             [
              0.6666666666666666,
              "#ed7953"
             ],
             [
              0.7777777777777778,
              "#fb9f3a"
             ],
             [
              0.8888888888888888,
              "#fdca26"
             ],
             [
              1,
              "#f0f921"
             ]
            ],
            "type": "histogram2dcontour"
           }
          ],
          "mesh3d": [
           {
            "colorbar": {
             "outlinewidth": 0,
             "ticks": ""
            },
            "type": "mesh3d"
           }
          ],
          "parcoords": [
           {
            "line": {
             "colorbar": {
              "outlinewidth": 0,
              "ticks": ""
             }
            },
            "type": "parcoords"
           }
          ],
          "pie": [
           {
            "automargin": true,
            "type": "pie"
           }
          ],
          "scatter": [
           {
            "fillpattern": {
             "fillmode": "overlay",
             "size": 10,
             "solidity": 0.2
            },
            "type": "scatter"
           }
          ],
          "scatter3d": [
           {
            "line": {
             "colorbar": {
              "outlinewidth": 0,
              "ticks": ""
             }
            },
            "marker": {
             "colorbar": {
              "outlinewidth": 0,
              "ticks": ""
             }
            },
            "type": "scatter3d"
           }
          ],
          "scattercarpet": [
           {
            "marker": {
             "colorbar": {
              "outlinewidth": 0,
              "ticks": ""
             }
            },
            "type": "scattercarpet"
           }
          ],
          "scattergeo": [
           {
            "marker": {
             "colorbar": {
              "outlinewidth": 0,
              "ticks": ""
             }
            },
            "type": "scattergeo"
           }
          ],
          "scattergl": [
           {
            "marker": {
             "colorbar": {
              "outlinewidth": 0,
              "ticks": ""
             }
            },
            "type": "scattergl"
           }
          ],
          "scattermapbox": [
           {
            "marker": {
             "colorbar": {
              "outlinewidth": 0,
              "ticks": ""
             }
            },
            "type": "scattermapbox"
           }
          ],
          "scatterpolar": [
           {
            "marker": {
             "colorbar": {
              "outlinewidth": 0,
              "ticks": ""
             }
            },
            "type": "scatterpolar"
           }
          ],
          "scatterpolargl": [
           {
            "marker": {
             "colorbar": {
              "outlinewidth": 0,
              "ticks": ""
             }
            },
            "type": "scatterpolargl"
           }
          ],
          "scatterternary": [
           {
            "marker": {
             "colorbar": {
              "outlinewidth": 0,
              "ticks": ""
             }
            },
            "type": "scatterternary"
           }
          ],
          "surface": [
           {
            "colorbar": {
             "outlinewidth": 0,
             "ticks": ""
            },
            "colorscale": [
             [
              0,
              "#0d0887"
             ],
             [
              0.1111111111111111,
              "#46039f"
             ],
             [
              0.2222222222222222,
              "#7201a8"
             ],
             [
              0.3333333333333333,
              "#9c179e"
             ],
             [
              0.4444444444444444,
              "#bd3786"
             ],
             [
              0.5555555555555556,
              "#d8576b"
             ],
             [
              0.6666666666666666,
              "#ed7953"
             ],
             [
              0.7777777777777778,
              "#fb9f3a"
             ],
             [
              0.8888888888888888,
              "#fdca26"
             ],
             [
              1,
              "#f0f921"
             ]
            ],
            "type": "surface"
           }
          ],
          "table": [
           {
            "cells": {
             "fill": {
              "color": "#EBF0F8"
             },
             "line": {
              "color": "white"
             }
            },
            "header": {
             "fill": {
              "color": "#C8D4E3"
             },
             "line": {
              "color": "white"
             }
            },
            "type": "table"
           }
          ]
         },
         "layout": {
          "annotationdefaults": {
           "arrowcolor": "#2a3f5f",
           "arrowhead": 0,
           "arrowwidth": 1
          },
          "autotypenumbers": "strict",
          "coloraxis": {
           "colorbar": {
            "outlinewidth": 0,
            "ticks": ""
           }
          },
          "colorscale": {
           "diverging": [
            [
             0,
             "#8e0152"
            ],
            [
             0.1,
             "#c51b7d"
            ],
            [
             0.2,
             "#de77ae"
            ],
            [
             0.3,
             "#f1b6da"
            ],
            [
             0.4,
             "#fde0ef"
            ],
            [
             0.5,
             "#f7f7f7"
            ],
            [
             0.6,
             "#e6f5d0"
            ],
            [
             0.7,
             "#b8e186"
            ],
            [
             0.8,
             "#7fbc41"
            ],
            [
             0.9,
             "#4d9221"
            ],
            [
             1,
             "#276419"
            ]
           ],
           "sequential": [
            [
             0,
             "#0d0887"
            ],
            [
             0.1111111111111111,
             "#46039f"
            ],
            [
             0.2222222222222222,
             "#7201a8"
            ],
            [
             0.3333333333333333,
             "#9c179e"
            ],
            [
             0.4444444444444444,
             "#bd3786"
            ],
            [
             0.5555555555555556,
             "#d8576b"
            ],
            [
             0.6666666666666666,
             "#ed7953"
            ],
            [
             0.7777777777777778,
             "#fb9f3a"
            ],
            [
             0.8888888888888888,
             "#fdca26"
            ],
            [
             1,
             "#f0f921"
            ]
           ],
           "sequentialminus": [
            [
             0,
             "#0d0887"
            ],
            [
             0.1111111111111111,
             "#46039f"
            ],
            [
             0.2222222222222222,
             "#7201a8"
            ],
            [
             0.3333333333333333,
             "#9c179e"
            ],
            [
             0.4444444444444444,
             "#bd3786"
            ],
            [
             0.5555555555555556,
             "#d8576b"
            ],
            [
             0.6666666666666666,
             "#ed7953"
            ],
            [
             0.7777777777777778,
             "#fb9f3a"
            ],
            [
             0.8888888888888888,
             "#fdca26"
            ],
            [
             1,
             "#f0f921"
            ]
           ]
          },
          "colorway": [
           "#636efa",
           "#EF553B",
           "#00cc96",
           "#ab63fa",
           "#FFA15A",
           "#19d3f3",
           "#FF6692",
           "#B6E880",
           "#FF97FF",
           "#FECB52"
          ],
          "font": {
           "color": "#2a3f5f"
          },
          "geo": {
           "bgcolor": "white",
           "lakecolor": "white",
           "landcolor": "#E5ECF6",
           "showlakes": true,
           "showland": true,
           "subunitcolor": "white"
          },
          "hoverlabel": {
           "align": "left"
          },
          "hovermode": "closest",
          "mapbox": {
           "style": "light"
          },
          "paper_bgcolor": "white",
          "plot_bgcolor": "#E5ECF6",
          "polar": {
           "angularaxis": {
            "gridcolor": "white",
            "linecolor": "white",
            "ticks": ""
           },
           "bgcolor": "#E5ECF6",
           "radialaxis": {
            "gridcolor": "white",
            "linecolor": "white",
            "ticks": ""
           }
          },
          "scene": {
           "xaxis": {
            "backgroundcolor": "#E5ECF6",
            "gridcolor": "white",
            "gridwidth": 2,
            "linecolor": "white",
            "showbackground": true,
            "ticks": "",
            "zerolinecolor": "white"
           },
           "yaxis": {
            "backgroundcolor": "#E5ECF6",
            "gridcolor": "white",
            "gridwidth": 2,
            "linecolor": "white",
            "showbackground": true,
            "ticks": "",
            "zerolinecolor": "white"
           },
           "zaxis": {
            "backgroundcolor": "#E5ECF6",
            "gridcolor": "white",
            "gridwidth": 2,
            "linecolor": "white",
            "showbackground": true,
            "ticks": "",
            "zerolinecolor": "white"
           }
          },
          "shapedefaults": {
           "line": {
            "color": "#2a3f5f"
           }
          },
          "ternary": {
           "aaxis": {
            "gridcolor": "white",
            "linecolor": "white",
            "ticks": ""
           },
           "baxis": {
            "gridcolor": "white",
            "linecolor": "white",
            "ticks": ""
           },
           "bgcolor": "#E5ECF6",
           "caxis": {
            "gridcolor": "white",
            "linecolor": "white",
            "ticks": ""
           }
          },
          "title": {
           "x": 0.05
          },
          "xaxis": {
           "automargin": true,
           "gridcolor": "white",
           "linecolor": "white",
           "ticks": "",
           "title": {
            "standoff": 15
           },
           "zerolinecolor": "white",
           "zerolinewidth": 2
          },
          "yaxis": {
           "automargin": true,
           "gridcolor": "white",
           "linecolor": "white",
           "ticks": "",
           "title": {
            "standoff": 15
           },
           "zerolinecolor": "white",
           "zerolinewidth": 2
          }
         }
        },
        "title": {
         "text": "Распределение стендов по дальности действия",
         "x": 0.5
        },
        "xaxis": {
         "anchor": "y",
         "domain": [
          0,
          1
         ],
         "title": {
          "text": "Дальность"
         }
        },
        "yaxis": {
         "anchor": "x",
         "domain": [
          0,
          1
         ],
         "title": {
          "text": "Количество"
         }
        }
       }
      }
     },
     "metadata": {},
     "output_type": "display_data"
    }
   ],
   "source": [
    "know_range_stands = begin_dataset[\n",
    "    (begin_dataset['Дальность'] != 'undefined') & (begin_dataset['Дальность'] != 'unknown') & (begin_dataset['Дальность'] != 'infinite') & (begin_dataset['Дальность'] != 'none')\n",
    "]\n",
    "\n",
    "pivot_range_stands = know_range_stands.value_counts('Дальность').reset_index()\n",
    "\n",
    "display(know_range_stands)\n",
    "\n",
    "histogram_range_stands = px.histogram(know_range_stands, x = 'Дальность', nbins = 8, color_discrete_sequence=['#efe05e'])\n",
    "\n",
    "histogram_range_stands.update_layout(\n",
    "    title = {'text': 'Распределение стендов по дальности действия', 'x': 0.5},\n",
    "    xaxis_title = 'Дальность',\n",
    "    yaxis_title = 'Количество')\n",
    "\n",
    "histogram_range_stands.show()"
   ]
  },
  {
   "cell_type": "markdown",
   "metadata": {},
   "source": [
    "Заполним недостающие значения с помощью имеющихся данных, с определенной вероятностью"
   ]
  },
  {
   "cell_type": "code",
   "execution_count": 303,
   "metadata": {},
   "outputs": [
    {
     "data": {
      "text/html": [
       "<div>\n",
       "<style scoped>\n",
       "    .dataframe tbody tr th:only-of-type {\n",
       "        vertical-align: middle;\n",
       "    }\n",
       "\n",
       "    .dataframe tbody tr th {\n",
       "        vertical-align: top;\n",
       "    }\n",
       "\n",
       "    .dataframe thead th {\n",
       "        text-align: right;\n",
       "    }\n",
       "</style>\n",
       "<table border=\"1\" class=\"dataframe\">\n",
       "  <thead>\n",
       "    <tr style=\"text-align: right;\">\n",
       "      <th></th>\n",
       "      <th>Дальность</th>\n",
       "      <th>count</th>\n",
       "      <th>probability</th>\n",
       "    </tr>\n",
       "  </thead>\n",
       "  <tbody>\n",
       "    <tr>\n",
       "      <th>0</th>\n",
       "      <td>5</td>\n",
       "      <td>40</td>\n",
       "      <td>0.273973</td>\n",
       "    </tr>\n",
       "    <tr>\n",
       "      <th>1</th>\n",
       "      <td>3</td>\n",
       "      <td>37</td>\n",
       "      <td>0.253425</td>\n",
       "    </tr>\n",
       "    <tr>\n",
       "      <th>2</th>\n",
       "      <td>4</td>\n",
       "      <td>25</td>\n",
       "      <td>0.171233</td>\n",
       "    </tr>\n",
       "    <tr>\n",
       "      <th>3</th>\n",
       "      <td>1</td>\n",
       "      <td>23</td>\n",
       "      <td>0.157534</td>\n",
       "    </tr>\n",
       "    <tr>\n",
       "      <th>4</th>\n",
       "      <td>2</td>\n",
       "      <td>21</td>\n",
       "      <td>0.143836</td>\n",
       "    </tr>\n",
       "  </tbody>\n",
       "</table>\n",
       "</div>"
      ],
      "text/plain": [
       "   Дальность  count  probability\n",
       "0          5     40     0.273973\n",
       "1          3     37     0.253425\n",
       "2          4     25     0.171233\n",
       "3          1     23     0.157534\n",
       "4          2     21     0.143836"
      ]
     },
     "execution_count": 303,
     "metadata": {},
     "output_type": "execute_result"
    }
   ],
   "source": [
    "sum_range = pivot_range_stands['count'].sum()\n",
    "pivot_range_stands['probability'] = pivot_range_stands['count'] / sum_range\n",
    "pivot_range_stands"
   ]
  },
  {
   "cell_type": "code",
   "execution_count": 304,
   "metadata": {},
   "outputs": [
    {
     "name": "stderr",
     "output_type": "stream",
     "text": [
      "C:\\Users\\Smart\\AppData\\Local\\Temp\\ipykernel_13008\\1035680595.py:9: SettingWithCopyWarning:\n",
      "\n",
      "\n",
      "A value is trying to be set on a copy of a slice from a DataFrame.\n",
      "Try using .loc[row_indexer,col_indexer] = value instead\n",
      "\n",
      "See the caveats in the documentation: https://pandas.pydata.org/pandas-docs/stable/user_guide/indexing.html#returning-a-view-versus-a-copy\n",
      "\n"
     ]
    }
   ],
   "source": [
    "unknown_range_stands = begin_dataset[\n",
    "    (begin_dataset['Дальность'] == 'undefined') | (begin_dataset['Дальность'] == 'unknown') | (begin_dataset['Дальность'] == 'none')\n",
    "]\n",
    "\n",
    "def replace_range_stands(row):\n",
    "    row['Дальность'] = np.random.choice(pivot_range_stands['Дальность'], p = pivot_range_stands['probability'])\n",
    "    return row['Дальность']\n",
    "\n",
    "unknown_range_stands['Дальность'] = unknown_range_stands.apply(replace_range_stands, axis = 1)\n",
    "\n",
    "begin_dataset.loc[unknown_range_stands.index, 'Дальность'] = unknown_range_stands['Дальность']\n",
    "\n",
    "# display(begin_dataset.query('Stand == \"Whitesnake\"'))\n",
    "\n"
   ]
  },
  {
   "cell_type": "markdown",
   "metadata": {},
   "source": [
    "Теперь посмотрим на общее распределение стендов по дальности при помощи круговой диаграммы, поступим аналогично, как и для силы и скорости: 3 и больше -- стенды дальнего действия, меньше -- близкого"
   ]
  },
  {
   "cell_type": "code",
   "execution_count": 305,
   "metadata": {},
   "outputs": [
    {
     "data": {
      "text/html": [
       "<div>\n",
       "<style scoped>\n",
       "    .dataframe tbody tr th:only-of-type {\n",
       "        vertical-align: middle;\n",
       "    }\n",
       "\n",
       "    .dataframe tbody tr th {\n",
       "        vertical-align: top;\n",
       "    }\n",
       "\n",
       "    .dataframe thead th {\n",
       "        text-align: right;\n",
       "    }\n",
       "</style>\n",
       "<table border=\"1\" class=\"dataframe\">\n",
       "  <thead>\n",
       "    <tr style=\"text-align: right;\">\n",
       "      <th></th>\n",
       "      <th>range</th>\n",
       "      <th>Количество</th>\n",
       "    </tr>\n",
       "  </thead>\n",
       "  <tbody>\n",
       "    <tr>\n",
       "      <th>0</th>\n",
       "      <td>Стенд дальнего действия</td>\n",
       "      <td>111</td>\n",
       "    </tr>\n",
       "    <tr>\n",
       "      <th>1</th>\n",
       "      <td>Стенд ближнего боя</td>\n",
       "      <td>45</td>\n",
       "    </tr>\n",
       "  </tbody>\n",
       "</table>\n",
       "</div>"
      ],
      "text/plain": [
       "                     range  Количество\n",
       "0  Стенд дальнего действия         111\n",
       "1       Стенд ближнего боя          45"
      ]
     },
     "metadata": {},
     "output_type": "display_data"
    },
    {
     "data": {
      "application/vnd.plotly.v1+json": {
       "config": {
        "plotlyServerURL": "https://plotly.com"
       },
       "data": [
        {
         "domain": {
          "x": [
           0,
           1
          ],
          "y": [
           0,
           1
          ]
         },
         "hole": 0.5,
         "hovertemplate": "range=%{label}<br>Количество=%{value}<extra></extra>",
         "labels": [
          "Стенд дальнего действия",
          "Стенд ближнего боя"
         ],
         "legendgroup": "",
         "name": "",
         "showlegend": true,
         "type": "pie",
         "values": [
          111,
          45
         ]
        }
       ],
       "layout": {
        "legend": {
         "tracegroupgap": 0
        },
        "margin": {
         "t": 60
        },
        "piecolorway": [
         "#efe05e",
         "#5e6cef"
        ],
        "showlegend": false,
        "template": {
         "data": {
          "bar": [
           {
            "error_x": {
             "color": "#2a3f5f"
            },
            "error_y": {
             "color": "#2a3f5f"
            },
            "marker": {
             "line": {
              "color": "#E5ECF6",
              "width": 0.5
             },
             "pattern": {
              "fillmode": "overlay",
              "size": 10,
              "solidity": 0.2
             }
            },
            "type": "bar"
           }
          ],
          "barpolar": [
           {
            "marker": {
             "line": {
              "color": "#E5ECF6",
              "width": 0.5
             },
             "pattern": {
              "fillmode": "overlay",
              "size": 10,
              "solidity": 0.2
             }
            },
            "type": "barpolar"
           }
          ],
          "carpet": [
           {
            "aaxis": {
             "endlinecolor": "#2a3f5f",
             "gridcolor": "white",
             "linecolor": "white",
             "minorgridcolor": "white",
             "startlinecolor": "#2a3f5f"
            },
            "baxis": {
             "endlinecolor": "#2a3f5f",
             "gridcolor": "white",
             "linecolor": "white",
             "minorgridcolor": "white",
             "startlinecolor": "#2a3f5f"
            },
            "type": "carpet"
           }
          ],
          "choropleth": [
           {
            "colorbar": {
             "outlinewidth": 0,
             "ticks": ""
            },
            "type": "choropleth"
           }
          ],
          "contour": [
           {
            "colorbar": {
             "outlinewidth": 0,
             "ticks": ""
            },
            "colorscale": [
             [
              0,
              "#0d0887"
             ],
             [
              0.1111111111111111,
              "#46039f"
             ],
             [
              0.2222222222222222,
              "#7201a8"
             ],
             [
              0.3333333333333333,
              "#9c179e"
             ],
             [
              0.4444444444444444,
              "#bd3786"
             ],
             [
              0.5555555555555556,
              "#d8576b"
             ],
             [
              0.6666666666666666,
              "#ed7953"
             ],
             [
              0.7777777777777778,
              "#fb9f3a"
             ],
             [
              0.8888888888888888,
              "#fdca26"
             ],
             [
              1,
              "#f0f921"
             ]
            ],
            "type": "contour"
           }
          ],
          "contourcarpet": [
           {
            "colorbar": {
             "outlinewidth": 0,
             "ticks": ""
            },
            "type": "contourcarpet"
           }
          ],
          "heatmap": [
           {
            "colorbar": {
             "outlinewidth": 0,
             "ticks": ""
            },
            "colorscale": [
             [
              0,
              "#0d0887"
             ],
             [
              0.1111111111111111,
              "#46039f"
             ],
             [
              0.2222222222222222,
              "#7201a8"
             ],
             [
              0.3333333333333333,
              "#9c179e"
             ],
             [
              0.4444444444444444,
              "#bd3786"
             ],
             [
              0.5555555555555556,
              "#d8576b"
             ],
             [
              0.6666666666666666,
              "#ed7953"
             ],
             [
              0.7777777777777778,
              "#fb9f3a"
             ],
             [
              0.8888888888888888,
              "#fdca26"
             ],
             [
              1,
              "#f0f921"
             ]
            ],
            "type": "heatmap"
           }
          ],
          "heatmapgl": [
           {
            "colorbar": {
             "outlinewidth": 0,
             "ticks": ""
            },
            "colorscale": [
             [
              0,
              "#0d0887"
             ],
             [
              0.1111111111111111,
              "#46039f"
             ],
             [
              0.2222222222222222,
              "#7201a8"
             ],
             [
              0.3333333333333333,
              "#9c179e"
             ],
             [
              0.4444444444444444,
              "#bd3786"
             ],
             [
              0.5555555555555556,
              "#d8576b"
             ],
             [
              0.6666666666666666,
              "#ed7953"
             ],
             [
              0.7777777777777778,
              "#fb9f3a"
             ],
             [
              0.8888888888888888,
              "#fdca26"
             ],
             [
              1,
              "#f0f921"
             ]
            ],
            "type": "heatmapgl"
           }
          ],
          "histogram": [
           {
            "marker": {
             "pattern": {
              "fillmode": "overlay",
              "size": 10,
              "solidity": 0.2
             }
            },
            "type": "histogram"
           }
          ],
          "histogram2d": [
           {
            "colorbar": {
             "outlinewidth": 0,
             "ticks": ""
            },
            "colorscale": [
             [
              0,
              "#0d0887"
             ],
             [
              0.1111111111111111,
              "#46039f"
             ],
             [
              0.2222222222222222,
              "#7201a8"
             ],
             [
              0.3333333333333333,
              "#9c179e"
             ],
             [
              0.4444444444444444,
              "#bd3786"
             ],
             [
              0.5555555555555556,
              "#d8576b"
             ],
             [
              0.6666666666666666,
              "#ed7953"
             ],
             [
              0.7777777777777778,
              "#fb9f3a"
             ],
             [
              0.8888888888888888,
              "#fdca26"
             ],
             [
              1,
              "#f0f921"
             ]
            ],
            "type": "histogram2d"
           }
          ],
          "histogram2dcontour": [
           {
            "colorbar": {
             "outlinewidth": 0,
             "ticks": ""
            },
            "colorscale": [
             [
              0,
              "#0d0887"
             ],
             [
              0.1111111111111111,
              "#46039f"
             ],
             [
              0.2222222222222222,
              "#7201a8"
             ],
             [
              0.3333333333333333,
              "#9c179e"
             ],
             [
              0.4444444444444444,
              "#bd3786"
             ],
             [
              0.5555555555555556,
              "#d8576b"
             ],
             [
              0.6666666666666666,
              "#ed7953"
             ],
             [
              0.7777777777777778,
              "#fb9f3a"
             ],
             [
              0.8888888888888888,
              "#fdca26"
             ],
             [
              1,
              "#f0f921"
             ]
            ],
            "type": "histogram2dcontour"
           }
          ],
          "mesh3d": [
           {
            "colorbar": {
             "outlinewidth": 0,
             "ticks": ""
            },
            "type": "mesh3d"
           }
          ],
          "parcoords": [
           {
            "line": {
             "colorbar": {
              "outlinewidth": 0,
              "ticks": ""
             }
            },
            "type": "parcoords"
           }
          ],
          "pie": [
           {
            "automargin": true,
            "type": "pie"
           }
          ],
          "scatter": [
           {
            "fillpattern": {
             "fillmode": "overlay",
             "size": 10,
             "solidity": 0.2
            },
            "type": "scatter"
           }
          ],
          "scatter3d": [
           {
            "line": {
             "colorbar": {
              "outlinewidth": 0,
              "ticks": ""
             }
            },
            "marker": {
             "colorbar": {
              "outlinewidth": 0,
              "ticks": ""
             }
            },
            "type": "scatter3d"
           }
          ],
          "scattercarpet": [
           {
            "marker": {
             "colorbar": {
              "outlinewidth": 0,
              "ticks": ""
             }
            },
            "type": "scattercarpet"
           }
          ],
          "scattergeo": [
           {
            "marker": {
             "colorbar": {
              "outlinewidth": 0,
              "ticks": ""
             }
            },
            "type": "scattergeo"
           }
          ],
          "scattergl": [
           {
            "marker": {
             "colorbar": {
              "outlinewidth": 0,
              "ticks": ""
             }
            },
            "type": "scattergl"
           }
          ],
          "scattermapbox": [
           {
            "marker": {
             "colorbar": {
              "outlinewidth": 0,
              "ticks": ""
             }
            },
            "type": "scattermapbox"
           }
          ],
          "scatterpolar": [
           {
            "marker": {
             "colorbar": {
              "outlinewidth": 0,
              "ticks": ""
             }
            },
            "type": "scatterpolar"
           }
          ],
          "scatterpolargl": [
           {
            "marker": {
             "colorbar": {
              "outlinewidth": 0,
              "ticks": ""
             }
            },
            "type": "scatterpolargl"
           }
          ],
          "scatterternary": [
           {
            "marker": {
             "colorbar": {
              "outlinewidth": 0,
              "ticks": ""
             }
            },
            "type": "scatterternary"
           }
          ],
          "surface": [
           {
            "colorbar": {
             "outlinewidth": 0,
             "ticks": ""
            },
            "colorscale": [
             [
              0,
              "#0d0887"
             ],
             [
              0.1111111111111111,
              "#46039f"
             ],
             [
              0.2222222222222222,
              "#7201a8"
             ],
             [
              0.3333333333333333,
              "#9c179e"
             ],
             [
              0.4444444444444444,
              "#bd3786"
             ],
             [
              0.5555555555555556,
              "#d8576b"
             ],
             [
              0.6666666666666666,
              "#ed7953"
             ],
             [
              0.7777777777777778,
              "#fb9f3a"
             ],
             [
              0.8888888888888888,
              "#fdca26"
             ],
             [
              1,
              "#f0f921"
             ]
            ],
            "type": "surface"
           }
          ],
          "table": [
           {
            "cells": {
             "fill": {
              "color": "#EBF0F8"
             },
             "line": {
              "color": "white"
             }
            },
            "header": {
             "fill": {
              "color": "#C8D4E3"
             },
             "line": {
              "color": "white"
             }
            },
            "type": "table"
           }
          ]
         },
         "layout": {
          "annotationdefaults": {
           "arrowcolor": "#2a3f5f",
           "arrowhead": 0,
           "arrowwidth": 1
          },
          "autotypenumbers": "strict",
          "coloraxis": {
           "colorbar": {
            "outlinewidth": 0,
            "ticks": ""
           }
          },
          "colorscale": {
           "diverging": [
            [
             0,
             "#8e0152"
            ],
            [
             0.1,
             "#c51b7d"
            ],
            [
             0.2,
             "#de77ae"
            ],
            [
             0.3,
             "#f1b6da"
            ],
            [
             0.4,
             "#fde0ef"
            ],
            [
             0.5,
             "#f7f7f7"
            ],
            [
             0.6,
             "#e6f5d0"
            ],
            [
             0.7,
             "#b8e186"
            ],
            [
             0.8,
             "#7fbc41"
            ],
            [
             0.9,
             "#4d9221"
            ],
            [
             1,
             "#276419"
            ]
           ],
           "sequential": [
            [
             0,
             "#0d0887"
            ],
            [
             0.1111111111111111,
             "#46039f"
            ],
            [
             0.2222222222222222,
             "#7201a8"
            ],
            [
             0.3333333333333333,
             "#9c179e"
            ],
            [
             0.4444444444444444,
             "#bd3786"
            ],
            [
             0.5555555555555556,
             "#d8576b"
            ],
            [
             0.6666666666666666,
             "#ed7953"
            ],
            [
             0.7777777777777778,
             "#fb9f3a"
            ],
            [
             0.8888888888888888,
             "#fdca26"
            ],
            [
             1,
             "#f0f921"
            ]
           ],
           "sequentialminus": [
            [
             0,
             "#0d0887"
            ],
            [
             0.1111111111111111,
             "#46039f"
            ],
            [
             0.2222222222222222,
             "#7201a8"
            ],
            [
             0.3333333333333333,
             "#9c179e"
            ],
            [
             0.4444444444444444,
             "#bd3786"
            ],
            [
             0.5555555555555556,
             "#d8576b"
            ],
            [
             0.6666666666666666,
             "#ed7953"
            ],
            [
             0.7777777777777778,
             "#fb9f3a"
            ],
            [
             0.8888888888888888,
             "#fdca26"
            ],
            [
             1,
             "#f0f921"
            ]
           ]
          },
          "colorway": [
           "#636efa",
           "#EF553B",
           "#00cc96",
           "#ab63fa",
           "#FFA15A",
           "#19d3f3",
           "#FF6692",
           "#B6E880",
           "#FF97FF",
           "#FECB52"
          ],
          "font": {
           "color": "#2a3f5f"
          },
          "geo": {
           "bgcolor": "white",
           "lakecolor": "white",
           "landcolor": "#E5ECF6",
           "showlakes": true,
           "showland": true,
           "subunitcolor": "white"
          },
          "hoverlabel": {
           "align": "left"
          },
          "hovermode": "closest",
          "mapbox": {
           "style": "light"
          },
          "paper_bgcolor": "white",
          "plot_bgcolor": "#E5ECF6",
          "polar": {
           "angularaxis": {
            "gridcolor": "white",
            "linecolor": "white",
            "ticks": ""
           },
           "bgcolor": "#E5ECF6",
           "radialaxis": {
            "gridcolor": "white",
            "linecolor": "white",
            "ticks": ""
           }
          },
          "scene": {
           "xaxis": {
            "backgroundcolor": "#E5ECF6",
            "gridcolor": "white",
            "gridwidth": 2,
            "linecolor": "white",
            "showbackground": true,
            "ticks": "",
            "zerolinecolor": "white"
           },
           "yaxis": {
            "backgroundcolor": "#E5ECF6",
            "gridcolor": "white",
            "gridwidth": 2,
            "linecolor": "white",
            "showbackground": true,
            "ticks": "",
            "zerolinecolor": "white"
           },
           "zaxis": {
            "backgroundcolor": "#E5ECF6",
            "gridcolor": "white",
            "gridwidth": 2,
            "linecolor": "white",
            "showbackground": true,
            "ticks": "",
            "zerolinecolor": "white"
           }
          },
          "shapedefaults": {
           "line": {
            "color": "#2a3f5f"
           }
          },
          "ternary": {
           "aaxis": {
            "gridcolor": "white",
            "linecolor": "white",
            "ticks": ""
           },
           "baxis": {
            "gridcolor": "white",
            "linecolor": "white",
            "ticks": ""
           },
           "bgcolor": "#E5ECF6",
           "caxis": {
            "gridcolor": "white",
            "linecolor": "white",
            "ticks": ""
           }
          },
          "title": {
           "x": 0.05
          },
          "xaxis": {
           "automargin": true,
           "gridcolor": "white",
           "linecolor": "white",
           "ticks": "",
           "title": {
            "standoff": 15
           },
           "zerolinecolor": "white",
           "zerolinewidth": 2
          },
          "yaxis": {
           "automargin": true,
           "gridcolor": "white",
           "linecolor": "white",
           "ticks": "",
           "title": {
            "standoff": 15
           },
           "zerolinecolor": "white",
           "zerolinewidth": 2
          }
         }
        },
        "title": {
         "text": "Распределение стендов по дальности действия",
         "x": 0.5
        },
        "width": 500
       }
      }
     },
     "metadata": {},
     "output_type": "display_data"
    }
   ],
   "source": [
    "def assign_range_stands(row):\n",
    "    if row['Дальность'] == 'infinite' or row['Дальность'] >= 3:\n",
    "        row['range'] = 'Стенд дальнего действия'\n",
    "    else:\n",
    "        row['range'] = 'Стенд ближнего боя'\n",
    "    return row['range']\n",
    "\n",
    "begin_dataset['range'] = begin_dataset.apply(assign_range_stands, axis = 1)\n",
    "\n",
    "\n",
    "pivot_table_range = begin_dataset.value_counts('range').reset_index().rename(columns={'count': 'Количество'})\n",
    "\n",
    "display(pivot_table_range)\n",
    "\n",
    "pie_chart_range = px.pie(pivot_table_range, names='range', values='Количество', width = 500, hole = 0.5, color_discrete_sequence=['#efe05e', '#5e6cef'])\n",
    "\n",
    "pie_chart_range.update_layout(\n",
    "    title = {'text': 'Распределение стендов по дальности действия', 'x': 0.5},\n",
    "    showlegend = False)\n",
    "\n",
    "pie_chart_range.show()\n"
   ]
  },
  {
   "cell_type": "markdown",
   "metadata": {},
   "source": [
    "Как видно, у нас **большинство стендов -- дальнего действия**"
   ]
  },
  {
   "cell_type": "markdown",
   "metadata": {},
   "source": [
    "### 2.3.4 -- Выносливость"
   ]
  },
  {
   "cell_type": "markdown",
   "metadata": {},
   "source": [
    "Теперь проанализируем выносливость у стендов"
   ]
  },
  {
   "cell_type": "code",
   "execution_count": 306,
   "metadata": {},
   "outputs": [
    {
     "data": {
      "text/plain": [
       "Выносливость\n",
       "5            84\n",
       "4            35\n",
       "3            21\n",
       "1             6\n",
       "2             5\n",
       "infinite      2\n",
       "unknown       2\n",
       "undefined     1\n",
       "Name: count, dtype: int64"
      ]
     },
     "metadata": {},
     "output_type": "display_data"
    }
   ],
   "source": [
    "piv_stamina = begin_dataset.value_counts('Выносливость')\n",
    "\n",
    "display(piv_stamina)"
   ]
  },
  {
   "cell_type": "markdown",
   "metadata": {},
   "source": [
    "Ого, да у нас тут все стенды обладают высокой выносливаостью, хорошо проявляют себя в бою и довольно стойкие. В любом случае посмотрим на неизвестные стенды и попробуем сообразить, на что нам их заменить"
   ]
  },
  {
   "cell_type": "code",
   "execution_count": 307,
   "metadata": {},
   "outputs": [
    {
     "data": {
      "text/html": [
       "<div>\n",
       "<style scoped>\n",
       "    .dataframe tbody tr th:only-of-type {\n",
       "        vertical-align: middle;\n",
       "    }\n",
       "\n",
       "    .dataframe tbody tr th {\n",
       "        vertical-align: top;\n",
       "    }\n",
       "\n",
       "    .dataframe thead th {\n",
       "        text-align: right;\n",
       "    }\n",
       "</style>\n",
       "<table border=\"1\" class=\"dataframe\">\n",
       "  <thead>\n",
       "    <tr style=\"text-align: right;\">\n",
       "      <th></th>\n",
       "      <th>Stand</th>\n",
       "      <th>Сила</th>\n",
       "      <th>Скорость</th>\n",
       "      <th>Дальность</th>\n",
       "      <th>Выносливость</th>\n",
       "      <th>Точность</th>\n",
       "      <th>Потенциал</th>\n",
       "      <th>Story</th>\n",
       "      <th>strong</th>\n",
       "      <th>speed</th>\n",
       "      <th>range</th>\n",
       "    </tr>\n",
       "  </thead>\n",
       "  <tbody>\n",
       "    <tr>\n",
       "      <th>77</th>\n",
       "      <td>Gold Experience Requiem</td>\n",
       "      <td>infinite</td>\n",
       "      <td>infinite</td>\n",
       "      <td>infinite</td>\n",
       "      <td>infinite</td>\n",
       "      <td>infinite</td>\n",
       "      <td>infinite</td>\n",
       "      <td>Part 5: Vento Aureo</td>\n",
       "      <td>Сильный стенд</td>\n",
       "      <td>Быстрый стенд</td>\n",
       "      <td>Стенд дальнего действия</td>\n",
       "    </tr>\n",
       "    <tr>\n",
       "      <th>83</th>\n",
       "      <td>Notorious B.I.G</td>\n",
       "      <td>5</td>\n",
       "      <td>infinite</td>\n",
       "      <td>infinite</td>\n",
       "      <td>infinite</td>\n",
       "      <td>1</td>\n",
       "      <td>5</td>\n",
       "      <td>Part 5: Vento Aureo</td>\n",
       "      <td>Сильный стенд</td>\n",
       "      <td>Быстрый стенд</td>\n",
       "      <td>Стенд дальнего действия</td>\n",
       "    </tr>\n",
       "    <tr>\n",
       "      <th>91</th>\n",
       "      <td>C-Moon</td>\n",
       "      <td>4</td>\n",
       "      <td>4</td>\n",
       "      <td>4</td>\n",
       "      <td>unknown</td>\n",
       "      <td>unknown</td>\n",
       "      <td>unknown</td>\n",
       "      <td>Part 6: Stone Ocean</td>\n",
       "      <td>Сильный стенд</td>\n",
       "      <td>Быстрый стенд</td>\n",
       "      <td>Стенд дальнего действия</td>\n",
       "    </tr>\n",
       "    <tr>\n",
       "      <th>100</th>\n",
       "      <td>Burning Down the House</td>\n",
       "      <td>2</td>\n",
       "      <td>2</td>\n",
       "      <td>3</td>\n",
       "      <td>undefined</td>\n",
       "      <td>undefined</td>\n",
       "      <td>undefined</td>\n",
       "      <td>Part 6: Stone Ocean</td>\n",
       "      <td>Слабый стенд</td>\n",
       "      <td>Медленный стенд</td>\n",
       "      <td>Стенд дальнего действия</td>\n",
       "    </tr>\n",
       "    <tr>\n",
       "      <th>104</th>\n",
       "      <td>Green, Green Grass of Home</td>\n",
       "      <td>5</td>\n",
       "      <td>4</td>\n",
       "      <td>4</td>\n",
       "      <td>unknown</td>\n",
       "      <td>unknown</td>\n",
       "      <td>unknown</td>\n",
       "      <td>Part 6: Stone Ocean</td>\n",
       "      <td>Сильный стенд</td>\n",
       "      <td>Быстрый стенд</td>\n",
       "      <td>Стенд дальнего действия</td>\n",
       "    </tr>\n",
       "  </tbody>\n",
       "</table>\n",
       "</div>"
      ],
      "text/plain": [
       "                          Stand      Сила  Скорость Дальность Выносливость  \\\n",
       "77      Gold Experience Requiem  infinite  infinite  infinite     infinite   \n",
       "83              Notorious B.I.G         5  infinite  infinite     infinite   \n",
       "91                       C-Moon         4         4         4      unknown   \n",
       "100      Burning Down the House         2         2         3    undefined   \n",
       "104  Green, Green Grass of Home         5         4         4      unknown   \n",
       "\n",
       "      Точность  Потенциал                Story         strong  \\\n",
       "77    infinite   infinite  Part 5: Vento Aureo  Сильный стенд   \n",
       "83           1          5  Part 5: Vento Aureo  Сильный стенд   \n",
       "91     unknown    unknown  Part 6: Stone Ocean  Сильный стенд   \n",
       "100  undefined  undefined  Part 6: Stone Ocean   Слабый стенд   \n",
       "104    unknown    unknown  Part 6: Stone Ocean  Сильный стенд   \n",
       "\n",
       "               speed                    range  \n",
       "77     Быстрый стенд  Стенд дальнего действия  \n",
       "83     Быстрый стенд  Стенд дальнего действия  \n",
       "91     Быстрый стенд  Стенд дальнего действия  \n",
       "100  Медленный стенд  Стенд дальнего действия  \n",
       "104    Быстрый стенд  Стенд дальнего действия  "
      ]
     },
     "metadata": {},
     "output_type": "display_data"
    },
    {
     "data": {
      "application/vnd.plotly.v1+json": {
       "config": {
        "plotlyServerURL": "https://plotly.com"
       },
       "data": [
        {
         "alignmentgroup": "True",
         "bingroup": "x",
         "hovertemplate": "Выносливость=%{x}<br>count=%{y}<extra></extra>",
         "legendgroup": "",
         "marker": {
          "color": "#ff00c3",
          "pattern": {
           "shape": ""
          }
         },
         "name": "",
         "nbinsx": 8,
         "offsetgroup": "",
         "orientation": "v",
         "showlegend": false,
         "type": "histogram",
         "x": [
          5,
          4,
          5,
          3,
          4,
          4,
          5,
          3,
          4,
          5,
          3,
          3,
          5,
          5,
          4,
          3,
          4,
          5,
          4,
          5,
          4,
          5,
          5,
          4,
          4,
          5,
          5,
          5,
          3,
          5,
          3,
          5,
          5,
          5,
          5,
          5,
          4,
          5,
          5,
          3,
          4,
          5,
          5,
          5,
          4,
          5,
          4,
          5,
          5,
          5,
          5,
          4,
          5,
          5,
          4,
          5,
          3,
          4,
          4,
          4,
          5,
          5,
          5,
          2,
          2,
          5,
          1,
          5,
          5,
          5,
          3,
          3,
          2,
          5,
          5,
          5,
          3,
          "infinite",
          5,
          1,
          3,
          5,
          5,
          "infinite",
          5,
          5,
          5,
          4,
          5,
          5,
          5,
          "unknown",
          5,
          5,
          2,
          3,
          3,
          5,
          1,
          5,
          "undefined",
          3,
          5,
          5,
          "unknown",
          3,
          5,
          5,
          5,
          5,
          5,
          5,
          5,
          3,
          5,
          5,
          5,
          4,
          4,
          4,
          4,
          4,
          5,
          5,
          5,
          4,
          5,
          1,
          4,
          5,
          5,
          4,
          3,
          4,
          5,
          4,
          3,
          2,
          5,
          4,
          5,
          4,
          5,
          5,
          5,
          3,
          4,
          4,
          1,
          5,
          5,
          5,
          1,
          5,
          4,
          5
         ],
         "xaxis": "x",
         "yaxis": "y"
        }
       ],
       "layout": {
        "barmode": "relative",
        "legend": {
         "tracegroupgap": 0
        },
        "margin": {
         "t": 60
        },
        "template": {
         "data": {
          "bar": [
           {
            "error_x": {
             "color": "#2a3f5f"
            },
            "error_y": {
             "color": "#2a3f5f"
            },
            "marker": {
             "line": {
              "color": "#E5ECF6",
              "width": 0.5
             },
             "pattern": {
              "fillmode": "overlay",
              "size": 10,
              "solidity": 0.2
             }
            },
            "type": "bar"
           }
          ],
          "barpolar": [
           {
            "marker": {
             "line": {
              "color": "#E5ECF6",
              "width": 0.5
             },
             "pattern": {
              "fillmode": "overlay",
              "size": 10,
              "solidity": 0.2
             }
            },
            "type": "barpolar"
           }
          ],
          "carpet": [
           {
            "aaxis": {
             "endlinecolor": "#2a3f5f",
             "gridcolor": "white",
             "linecolor": "white",
             "minorgridcolor": "white",
             "startlinecolor": "#2a3f5f"
            },
            "baxis": {
             "endlinecolor": "#2a3f5f",
             "gridcolor": "white",
             "linecolor": "white",
             "minorgridcolor": "white",
             "startlinecolor": "#2a3f5f"
            },
            "type": "carpet"
           }
          ],
          "choropleth": [
           {
            "colorbar": {
             "outlinewidth": 0,
             "ticks": ""
            },
            "type": "choropleth"
           }
          ],
          "contour": [
           {
            "colorbar": {
             "outlinewidth": 0,
             "ticks": ""
            },
            "colorscale": [
             [
              0,
              "#0d0887"
             ],
             [
              0.1111111111111111,
              "#46039f"
             ],
             [
              0.2222222222222222,
              "#7201a8"
             ],
             [
              0.3333333333333333,
              "#9c179e"
             ],
             [
              0.4444444444444444,
              "#bd3786"
             ],
             [
              0.5555555555555556,
              "#d8576b"
             ],
             [
              0.6666666666666666,
              "#ed7953"
             ],
             [
              0.7777777777777778,
              "#fb9f3a"
             ],
             [
              0.8888888888888888,
              "#fdca26"
             ],
             [
              1,
              "#f0f921"
             ]
            ],
            "type": "contour"
           }
          ],
          "contourcarpet": [
           {
            "colorbar": {
             "outlinewidth": 0,
             "ticks": ""
            },
            "type": "contourcarpet"
           }
          ],
          "heatmap": [
           {
            "colorbar": {
             "outlinewidth": 0,
             "ticks": ""
            },
            "colorscale": [
             [
              0,
              "#0d0887"
             ],
             [
              0.1111111111111111,
              "#46039f"
             ],
             [
              0.2222222222222222,
              "#7201a8"
             ],
             [
              0.3333333333333333,
              "#9c179e"
             ],
             [
              0.4444444444444444,
              "#bd3786"
             ],
             [
              0.5555555555555556,
              "#d8576b"
             ],
             [
              0.6666666666666666,
              "#ed7953"
             ],
             [
              0.7777777777777778,
              "#fb9f3a"
             ],
             [
              0.8888888888888888,
              "#fdca26"
             ],
             [
              1,
              "#f0f921"
             ]
            ],
            "type": "heatmap"
           }
          ],
          "heatmapgl": [
           {
            "colorbar": {
             "outlinewidth": 0,
             "ticks": ""
            },
            "colorscale": [
             [
              0,
              "#0d0887"
             ],
             [
              0.1111111111111111,
              "#46039f"
             ],
             [
              0.2222222222222222,
              "#7201a8"
             ],
             [
              0.3333333333333333,
              "#9c179e"
             ],
             [
              0.4444444444444444,
              "#bd3786"
             ],
             [
              0.5555555555555556,
              "#d8576b"
             ],
             [
              0.6666666666666666,
              "#ed7953"
             ],
             [
              0.7777777777777778,
              "#fb9f3a"
             ],
             [
              0.8888888888888888,
              "#fdca26"
             ],
             [
              1,
              "#f0f921"
             ]
            ],
            "type": "heatmapgl"
           }
          ],
          "histogram": [
           {
            "marker": {
             "pattern": {
              "fillmode": "overlay",
              "size": 10,
              "solidity": 0.2
             }
            },
            "type": "histogram"
           }
          ],
          "histogram2d": [
           {
            "colorbar": {
             "outlinewidth": 0,
             "ticks": ""
            },
            "colorscale": [
             [
              0,
              "#0d0887"
             ],
             [
              0.1111111111111111,
              "#46039f"
             ],
             [
              0.2222222222222222,
              "#7201a8"
             ],
             [
              0.3333333333333333,
              "#9c179e"
             ],
             [
              0.4444444444444444,
              "#bd3786"
             ],
             [
              0.5555555555555556,
              "#d8576b"
             ],
             [
              0.6666666666666666,
              "#ed7953"
             ],
             [
              0.7777777777777778,
              "#fb9f3a"
             ],
             [
              0.8888888888888888,
              "#fdca26"
             ],
             [
              1,
              "#f0f921"
             ]
            ],
            "type": "histogram2d"
           }
          ],
          "histogram2dcontour": [
           {
            "colorbar": {
             "outlinewidth": 0,
             "ticks": ""
            },
            "colorscale": [
             [
              0,
              "#0d0887"
             ],
             [
              0.1111111111111111,
              "#46039f"
             ],
             [
              0.2222222222222222,
              "#7201a8"
             ],
             [
              0.3333333333333333,
              "#9c179e"
             ],
             [
              0.4444444444444444,
              "#bd3786"
             ],
             [
              0.5555555555555556,
              "#d8576b"
             ],
             [
              0.6666666666666666,
              "#ed7953"
             ],
             [
              0.7777777777777778,
              "#fb9f3a"
             ],
             [
              0.8888888888888888,
              "#fdca26"
             ],
             [
              1,
              "#f0f921"
             ]
            ],
            "type": "histogram2dcontour"
           }
          ],
          "mesh3d": [
           {
            "colorbar": {
             "outlinewidth": 0,
             "ticks": ""
            },
            "type": "mesh3d"
           }
          ],
          "parcoords": [
           {
            "line": {
             "colorbar": {
              "outlinewidth": 0,
              "ticks": ""
             }
            },
            "type": "parcoords"
           }
          ],
          "pie": [
           {
            "automargin": true,
            "type": "pie"
           }
          ],
          "scatter": [
           {
            "fillpattern": {
             "fillmode": "overlay",
             "size": 10,
             "solidity": 0.2
            },
            "type": "scatter"
           }
          ],
          "scatter3d": [
           {
            "line": {
             "colorbar": {
              "outlinewidth": 0,
              "ticks": ""
             }
            },
            "marker": {
             "colorbar": {
              "outlinewidth": 0,
              "ticks": ""
             }
            },
            "type": "scatter3d"
           }
          ],
          "scattercarpet": [
           {
            "marker": {
             "colorbar": {
              "outlinewidth": 0,
              "ticks": ""
             }
            },
            "type": "scattercarpet"
           }
          ],
          "scattergeo": [
           {
            "marker": {
             "colorbar": {
              "outlinewidth": 0,
              "ticks": ""
             }
            },
            "type": "scattergeo"
           }
          ],
          "scattergl": [
           {
            "marker": {
             "colorbar": {
              "outlinewidth": 0,
              "ticks": ""
             }
            },
            "type": "scattergl"
           }
          ],
          "scattermapbox": [
           {
            "marker": {
             "colorbar": {
              "outlinewidth": 0,
              "ticks": ""
             }
            },
            "type": "scattermapbox"
           }
          ],
          "scatterpolar": [
           {
            "marker": {
             "colorbar": {
              "outlinewidth": 0,
              "ticks": ""
             }
            },
            "type": "scatterpolar"
           }
          ],
          "scatterpolargl": [
           {
            "marker": {
             "colorbar": {
              "outlinewidth": 0,
              "ticks": ""
             }
            },
            "type": "scatterpolargl"
           }
          ],
          "scatterternary": [
           {
            "marker": {
             "colorbar": {
              "outlinewidth": 0,
              "ticks": ""
             }
            },
            "type": "scatterternary"
           }
          ],
          "surface": [
           {
            "colorbar": {
             "outlinewidth": 0,
             "ticks": ""
            },
            "colorscale": [
             [
              0,
              "#0d0887"
             ],
             [
              0.1111111111111111,
              "#46039f"
             ],
             [
              0.2222222222222222,
              "#7201a8"
             ],
             [
              0.3333333333333333,
              "#9c179e"
             ],
             [
              0.4444444444444444,
              "#bd3786"
             ],
             [
              0.5555555555555556,
              "#d8576b"
             ],
             [
              0.6666666666666666,
              "#ed7953"
             ],
             [
              0.7777777777777778,
              "#fb9f3a"
             ],
             [
              0.8888888888888888,
              "#fdca26"
             ],
             [
              1,
              "#f0f921"
             ]
            ],
            "type": "surface"
           }
          ],
          "table": [
           {
            "cells": {
             "fill": {
              "color": "#EBF0F8"
             },
             "line": {
              "color": "white"
             }
            },
            "header": {
             "fill": {
              "color": "#C8D4E3"
             },
             "line": {
              "color": "white"
             }
            },
            "type": "table"
           }
          ]
         },
         "layout": {
          "annotationdefaults": {
           "arrowcolor": "#2a3f5f",
           "arrowhead": 0,
           "arrowwidth": 1
          },
          "autotypenumbers": "strict",
          "coloraxis": {
           "colorbar": {
            "outlinewidth": 0,
            "ticks": ""
           }
          },
          "colorscale": {
           "diverging": [
            [
             0,
             "#8e0152"
            ],
            [
             0.1,
             "#c51b7d"
            ],
            [
             0.2,
             "#de77ae"
            ],
            [
             0.3,
             "#f1b6da"
            ],
            [
             0.4,
             "#fde0ef"
            ],
            [
             0.5,
             "#f7f7f7"
            ],
            [
             0.6,
             "#e6f5d0"
            ],
            [
             0.7,
             "#b8e186"
            ],
            [
             0.8,
             "#7fbc41"
            ],
            [
             0.9,
             "#4d9221"
            ],
            [
             1,
             "#276419"
            ]
           ],
           "sequential": [
            [
             0,
             "#0d0887"
            ],
            [
             0.1111111111111111,
             "#46039f"
            ],
            [
             0.2222222222222222,
             "#7201a8"
            ],
            [
             0.3333333333333333,
             "#9c179e"
            ],
            [
             0.4444444444444444,
             "#bd3786"
            ],
            [
             0.5555555555555556,
             "#d8576b"
            ],
            [
             0.6666666666666666,
             "#ed7953"
            ],
            [
             0.7777777777777778,
             "#fb9f3a"
            ],
            [
             0.8888888888888888,
             "#fdca26"
            ],
            [
             1,
             "#f0f921"
            ]
           ],
           "sequentialminus": [
            [
             0,
             "#0d0887"
            ],
            [
             0.1111111111111111,
             "#46039f"
            ],
            [
             0.2222222222222222,
             "#7201a8"
            ],
            [
             0.3333333333333333,
             "#9c179e"
            ],
            [
             0.4444444444444444,
             "#bd3786"
            ],
            [
             0.5555555555555556,
             "#d8576b"
            ],
            [
             0.6666666666666666,
             "#ed7953"
            ],
            [
             0.7777777777777778,
             "#fb9f3a"
            ],
            [
             0.8888888888888888,
             "#fdca26"
            ],
            [
             1,
             "#f0f921"
            ]
           ]
          },
          "colorway": [
           "#636efa",
           "#EF553B",
           "#00cc96",
           "#ab63fa",
           "#FFA15A",
           "#19d3f3",
           "#FF6692",
           "#B6E880",
           "#FF97FF",
           "#FECB52"
          ],
          "font": {
           "color": "#2a3f5f"
          },
          "geo": {
           "bgcolor": "white",
           "lakecolor": "white",
           "landcolor": "#E5ECF6",
           "showlakes": true,
           "showland": true,
           "subunitcolor": "white"
          },
          "hoverlabel": {
           "align": "left"
          },
          "hovermode": "closest",
          "mapbox": {
           "style": "light"
          },
          "paper_bgcolor": "white",
          "plot_bgcolor": "#E5ECF6",
          "polar": {
           "angularaxis": {
            "gridcolor": "white",
            "linecolor": "white",
            "ticks": ""
           },
           "bgcolor": "#E5ECF6",
           "radialaxis": {
            "gridcolor": "white",
            "linecolor": "white",
            "ticks": ""
           }
          },
          "scene": {
           "xaxis": {
            "backgroundcolor": "#E5ECF6",
            "gridcolor": "white",
            "gridwidth": 2,
            "linecolor": "white",
            "showbackground": true,
            "ticks": "",
            "zerolinecolor": "white"
           },
           "yaxis": {
            "backgroundcolor": "#E5ECF6",
            "gridcolor": "white",
            "gridwidth": 2,
            "linecolor": "white",
            "showbackground": true,
            "ticks": "",
            "zerolinecolor": "white"
           },
           "zaxis": {
            "backgroundcolor": "#E5ECF6",
            "gridcolor": "white",
            "gridwidth": 2,
            "linecolor": "white",
            "showbackground": true,
            "ticks": "",
            "zerolinecolor": "white"
           }
          },
          "shapedefaults": {
           "line": {
            "color": "#2a3f5f"
           }
          },
          "ternary": {
           "aaxis": {
            "gridcolor": "white",
            "linecolor": "white",
            "ticks": ""
           },
           "baxis": {
            "gridcolor": "white",
            "linecolor": "white",
            "ticks": ""
           },
           "bgcolor": "#E5ECF6",
           "caxis": {
            "gridcolor": "white",
            "linecolor": "white",
            "ticks": ""
           }
          },
          "title": {
           "x": 0.05
          },
          "xaxis": {
           "automargin": true,
           "gridcolor": "white",
           "linecolor": "white",
           "ticks": "",
           "title": {
            "standoff": 15
           },
           "zerolinecolor": "white",
           "zerolinewidth": 2
          },
          "yaxis": {
           "automargin": true,
           "gridcolor": "white",
           "linecolor": "white",
           "ticks": "",
           "title": {
            "standoff": 15
           },
           "zerolinecolor": "white",
           "zerolinewidth": 2
          }
         }
        },
        "title": {
         "text": "Распределение стендов по выносливости",
         "x": 0.5
        },
        "xaxis": {
         "anchor": "y",
         "domain": [
          0,
          1
         ],
         "title": {
          "text": "Выносливость"
         }
        },
        "yaxis": {
         "anchor": "x",
         "domain": [
          0,
          1
         ],
         "title": {
          "text": "Количество"
         }
        }
       }
      }
     },
     "metadata": {},
     "output_type": "display_data"
    }
   ],
   "source": [
    "unknown_stamina_stands = begin_dataset[\n",
    "    (begin_dataset['Выносливость'] == 'unknown') | (begin_dataset['Выносливость'] == 'infinite') | (begin_dataset['Выносливость'] == 'undefined')\n",
    "]\n",
    "\n",
    "display(unknown_stamina_stands)\n",
    "\n",
    "unknown_stamina_stands = begin_dataset[\n",
    "    (begin_dataset['Выносливость'] != 'unknown') | (begin_dataset['Выносливость'] != 'infinite') | (begin_dataset['Выносливость'] != 'undefined')\n",
    "]\n",
    "histogram_stamina_stands = px.histogram(unknown_stamina_stands, x = 'Выносливость', nbins = 8, color_discrete_sequence=['#ff00c3'])\n",
    "\n",
    "histogram_stamina_stands.update_layout(\n",
    "    title = {'text': 'Распределение стендов по выносливости', 'x': 0.5},\n",
    "    xaxis_title = 'Выносливость',\n",
    "    yaxis_title = 'Количество')\n",
    "\n",
    "histogram_stamina_stands.show()"
   ]
  },
  {
   "cell_type": "markdown",
   "metadata": {},
   "source": [
    "Так, ну с GER и Notorious B.I.G понятно, **C-Moon** -- это вроде реквием Пуччи.... наверное...., так что поставим, наверное, 5 за выносливость :)\n",
    "\n",
    "**Burning Down the House** -- стенд мальчика, Эмпорио, это дом-призрак, он действует постоянно и, если исходить из того, что это такой хороший дом-укрытие, то, думаю, стоит поставить ему выносливость 5, так как дом всегда доступен Эмпорио и тем, кто вместе с ним (подробнее почитать [здесь](https://jojo.fandom.com/ru/wiki/Burning_Down_the_House))\n",
    "\n",
    "<img src=\"https://static.wikia.nocookie.net/jojo/images/0/00/BDtH_Infobox_Manga.png/revision/latest?cb=20211214042954&path-prefix=ru\" alt=\"burning_down_the_house\" width=\"200\"/>\n",
    "\n",
    "**Green, Green Grass of Home** судя по описанию защищает младенца, уменьшая любого человека, который приближается к нему, он автоматического типа, так что думаю, что и ему можно поставить 5 по выносливости (подробнее можно почитать [здесь](https://jojo.fandom.com/ru/wiki/Green,_Green_Grass_of_Home))\n",
    "\n",
    "\n",
    "<img src=\"\n",
    "https://static.wikia.nocookie.net/jojo/images/a/a9/G3oH_Infobox_Manga.png/revision/latest?cb=20220823173851&path-prefix=ru\n",
    "\" alt=\"burning_down_the_house\" width=\"200\"/>\n"
   ]
  },
  {
   "cell_type": "code",
   "execution_count": 308,
   "metadata": {},
   "outputs": [
    {
     "name": "stderr",
     "output_type": "stream",
     "text": [
      "C:\\Users\\Smart\\AppData\\Local\\Temp\\ipykernel_13008\\4279200455.py:5: SettingWithCopyWarning:\n",
      "\n",
      "\n",
      "A value is trying to be set on a copy of a slice from a DataFrame.\n",
      "Try using .loc[row_indexer,col_indexer] = value instead\n",
      "\n",
      "See the caveats in the documentation: https://pandas.pydata.org/pandas-docs/stable/user_guide/indexing.html#returning-a-view-versus-a-copy\n",
      "\n"
     ]
    }
   ],
   "source": [
    "unknown_stamina_stands = begin_dataset[\n",
    "    (begin_dataset['Выносливость'] == 'unknown') | (begin_dataset['Выносливость'] == 'undefined')\n",
    "]\n",
    "\n",
    "unknown_stamina_stands['Выносливость'] = 5\n",
    "\n",
    "\n",
    "begin_dataset.loc[unknown_stamina_stands.index, 'Выносливость'] = unknown_stamina_stands['Выносливость']\n",
    "\n",
    "#display(begin_dataset.query('Stand == \"C-Moon\"'))"
   ]
  },
  {
   "cell_type": "markdown",
   "metadata": {},
   "source": [
    "Так же, как и с прошлыми характеристиками сделаем так, что выносливость, значение которой >= 3 -- выносливые, стойкие стенды, меньше -- стенд доволььно уязвимый "
   ]
  },
  {
   "cell_type": "code",
   "execution_count": 309,
   "metadata": {},
   "outputs": [
    {
     "data": {
      "text/html": [
       "<div>\n",
       "<style scoped>\n",
       "    .dataframe tbody tr th:only-of-type {\n",
       "        vertical-align: middle;\n",
       "    }\n",
       "\n",
       "    .dataframe tbody tr th {\n",
       "        vertical-align: top;\n",
       "    }\n",
       "\n",
       "    .dataframe thead th {\n",
       "        text-align: right;\n",
       "    }\n",
       "</style>\n",
       "<table border=\"1\" class=\"dataframe\">\n",
       "  <thead>\n",
       "    <tr style=\"text-align: right;\">\n",
       "      <th></th>\n",
       "      <th>stamina</th>\n",
       "      <th>Количество</th>\n",
       "    </tr>\n",
       "  </thead>\n",
       "  <tbody>\n",
       "    <tr>\n",
       "      <th>0</th>\n",
       "      <td>Выносливый, стойкий стенд</td>\n",
       "      <td>145</td>\n",
       "    </tr>\n",
       "    <tr>\n",
       "      <th>1</th>\n",
       "      <td>Стенд довольно уязвимый</td>\n",
       "      <td>11</td>\n",
       "    </tr>\n",
       "  </tbody>\n",
       "</table>\n",
       "</div>"
      ],
      "text/plain": [
       "                     stamina  Количество\n",
       "0  Выносливый, стойкий стенд         145\n",
       "1    Стенд довольно уязвимый          11"
      ]
     },
     "metadata": {},
     "output_type": "display_data"
    },
    {
     "data": {
      "application/vnd.plotly.v1+json": {
       "config": {
        "plotlyServerURL": "https://plotly.com"
       },
       "data": [
        {
         "domain": {
          "x": [
           0,
           1
          ],
          "y": [
           0,
           1
          ]
         },
         "hole": 0.5,
         "hovertemplate": "stamina=%{label}<br>Количество=%{value}<extra></extra>",
         "labels": [
          "Выносливый, стойкий стенд",
          "Стенд довольно уязвимый"
         ],
         "legendgroup": "",
         "name": "",
         "showlegend": true,
         "type": "pie",
         "values": [
          145,
          11
         ]
        }
       ],
       "layout": {
        "legend": {
         "tracegroupgap": 0
        },
        "margin": {
         "t": 60
        },
        "piecolorway": [
         "#ff00c3",
         "#00ff3c"
        ],
        "showlegend": false,
        "template": {
         "data": {
          "bar": [
           {
            "error_x": {
             "color": "#2a3f5f"
            },
            "error_y": {
             "color": "#2a3f5f"
            },
            "marker": {
             "line": {
              "color": "#E5ECF6",
              "width": 0.5
             },
             "pattern": {
              "fillmode": "overlay",
              "size": 10,
              "solidity": 0.2
             }
            },
            "type": "bar"
           }
          ],
          "barpolar": [
           {
            "marker": {
             "line": {
              "color": "#E5ECF6",
              "width": 0.5
             },
             "pattern": {
              "fillmode": "overlay",
              "size": 10,
              "solidity": 0.2
             }
            },
            "type": "barpolar"
           }
          ],
          "carpet": [
           {
            "aaxis": {
             "endlinecolor": "#2a3f5f",
             "gridcolor": "white",
             "linecolor": "white",
             "minorgridcolor": "white",
             "startlinecolor": "#2a3f5f"
            },
            "baxis": {
             "endlinecolor": "#2a3f5f",
             "gridcolor": "white",
             "linecolor": "white",
             "minorgridcolor": "white",
             "startlinecolor": "#2a3f5f"
            },
            "type": "carpet"
           }
          ],
          "choropleth": [
           {
            "colorbar": {
             "outlinewidth": 0,
             "ticks": ""
            },
            "type": "choropleth"
           }
          ],
          "contour": [
           {
            "colorbar": {
             "outlinewidth": 0,
             "ticks": ""
            },
            "colorscale": [
             [
              0,
              "#0d0887"
             ],
             [
              0.1111111111111111,
              "#46039f"
             ],
             [
              0.2222222222222222,
              "#7201a8"
             ],
             [
              0.3333333333333333,
              "#9c179e"
             ],
             [
              0.4444444444444444,
              "#bd3786"
             ],
             [
              0.5555555555555556,
              "#d8576b"
             ],
             [
              0.6666666666666666,
              "#ed7953"
             ],
             [
              0.7777777777777778,
              "#fb9f3a"
             ],
             [
              0.8888888888888888,
              "#fdca26"
             ],
             [
              1,
              "#f0f921"
             ]
            ],
            "type": "contour"
           }
          ],
          "contourcarpet": [
           {
            "colorbar": {
             "outlinewidth": 0,
             "ticks": ""
            },
            "type": "contourcarpet"
           }
          ],
          "heatmap": [
           {
            "colorbar": {
             "outlinewidth": 0,
             "ticks": ""
            },
            "colorscale": [
             [
              0,
              "#0d0887"
             ],
             [
              0.1111111111111111,
              "#46039f"
             ],
             [
              0.2222222222222222,
              "#7201a8"
             ],
             [
              0.3333333333333333,
              "#9c179e"
             ],
             [
              0.4444444444444444,
              "#bd3786"
             ],
             [
              0.5555555555555556,
              "#d8576b"
             ],
             [
              0.6666666666666666,
              "#ed7953"
             ],
             [
              0.7777777777777778,
              "#fb9f3a"
             ],
             [
              0.8888888888888888,
              "#fdca26"
             ],
             [
              1,
              "#f0f921"
             ]
            ],
            "type": "heatmap"
           }
          ],
          "heatmapgl": [
           {
            "colorbar": {
             "outlinewidth": 0,
             "ticks": ""
            },
            "colorscale": [
             [
              0,
              "#0d0887"
             ],
             [
              0.1111111111111111,
              "#46039f"
             ],
             [
              0.2222222222222222,
              "#7201a8"
             ],
             [
              0.3333333333333333,
              "#9c179e"
             ],
             [
              0.4444444444444444,
              "#bd3786"
             ],
             [
              0.5555555555555556,
              "#d8576b"
             ],
             [
              0.6666666666666666,
              "#ed7953"
             ],
             [
              0.7777777777777778,
              "#fb9f3a"
             ],
             [
              0.8888888888888888,
              "#fdca26"
             ],
             [
              1,
              "#f0f921"
             ]
            ],
            "type": "heatmapgl"
           }
          ],
          "histogram": [
           {
            "marker": {
             "pattern": {
              "fillmode": "overlay",
              "size": 10,
              "solidity": 0.2
             }
            },
            "type": "histogram"
           }
          ],
          "histogram2d": [
           {
            "colorbar": {
             "outlinewidth": 0,
             "ticks": ""
            },
            "colorscale": [
             [
              0,
              "#0d0887"
             ],
             [
              0.1111111111111111,
              "#46039f"
             ],
             [
              0.2222222222222222,
              "#7201a8"
             ],
             [
              0.3333333333333333,
              "#9c179e"
             ],
             [
              0.4444444444444444,
              "#bd3786"
             ],
             [
              0.5555555555555556,
              "#d8576b"
             ],
             [
              0.6666666666666666,
              "#ed7953"
             ],
             [
              0.7777777777777778,
              "#fb9f3a"
             ],
             [
              0.8888888888888888,
              "#fdca26"
             ],
             [
              1,
              "#f0f921"
             ]
            ],
            "type": "histogram2d"
           }
          ],
          "histogram2dcontour": [
           {
            "colorbar": {
             "outlinewidth": 0,
             "ticks": ""
            },
            "colorscale": [
             [
              0,
              "#0d0887"
             ],
             [
              0.1111111111111111,
              "#46039f"
             ],
             [
              0.2222222222222222,
              "#7201a8"
             ],
             [
              0.3333333333333333,
              "#9c179e"
             ],
             [
              0.4444444444444444,
              "#bd3786"
             ],
             [
              0.5555555555555556,
              "#d8576b"
             ],
             [
              0.6666666666666666,
              "#ed7953"
             ],
             [
              0.7777777777777778,
              "#fb9f3a"
             ],
             [
              0.8888888888888888,
              "#fdca26"
             ],
             [
              1,
              "#f0f921"
             ]
            ],
            "type": "histogram2dcontour"
           }
          ],
          "mesh3d": [
           {
            "colorbar": {
             "outlinewidth": 0,
             "ticks": ""
            },
            "type": "mesh3d"
           }
          ],
          "parcoords": [
           {
            "line": {
             "colorbar": {
              "outlinewidth": 0,
              "ticks": ""
             }
            },
            "type": "parcoords"
           }
          ],
          "pie": [
           {
            "automargin": true,
            "type": "pie"
           }
          ],
          "scatter": [
           {
            "fillpattern": {
             "fillmode": "overlay",
             "size": 10,
             "solidity": 0.2
            },
            "type": "scatter"
           }
          ],
          "scatter3d": [
           {
            "line": {
             "colorbar": {
              "outlinewidth": 0,
              "ticks": ""
             }
            },
            "marker": {
             "colorbar": {
              "outlinewidth": 0,
              "ticks": ""
             }
            },
            "type": "scatter3d"
           }
          ],
          "scattercarpet": [
           {
            "marker": {
             "colorbar": {
              "outlinewidth": 0,
              "ticks": ""
             }
            },
            "type": "scattercarpet"
           }
          ],
          "scattergeo": [
           {
            "marker": {
             "colorbar": {
              "outlinewidth": 0,
              "ticks": ""
             }
            },
            "type": "scattergeo"
           }
          ],
          "scattergl": [
           {
            "marker": {
             "colorbar": {
              "outlinewidth": 0,
              "ticks": ""
             }
            },
            "type": "scattergl"
           }
          ],
          "scattermapbox": [
           {
            "marker": {
             "colorbar": {
              "outlinewidth": 0,
              "ticks": ""
             }
            },
            "type": "scattermapbox"
           }
          ],
          "scatterpolar": [
           {
            "marker": {
             "colorbar": {
              "outlinewidth": 0,
              "ticks": ""
             }
            },
            "type": "scatterpolar"
           }
          ],
          "scatterpolargl": [
           {
            "marker": {
             "colorbar": {
              "outlinewidth": 0,
              "ticks": ""
             }
            },
            "type": "scatterpolargl"
           }
          ],
          "scatterternary": [
           {
            "marker": {
             "colorbar": {
              "outlinewidth": 0,
              "ticks": ""
             }
            },
            "type": "scatterternary"
           }
          ],
          "surface": [
           {
            "colorbar": {
             "outlinewidth": 0,
             "ticks": ""
            },
            "colorscale": [
             [
              0,
              "#0d0887"
             ],
             [
              0.1111111111111111,
              "#46039f"
             ],
             [
              0.2222222222222222,
              "#7201a8"
             ],
             [
              0.3333333333333333,
              "#9c179e"
             ],
             [
              0.4444444444444444,
              "#bd3786"
             ],
             [
              0.5555555555555556,
              "#d8576b"
             ],
             [
              0.6666666666666666,
              "#ed7953"
             ],
             [
              0.7777777777777778,
              "#fb9f3a"
             ],
             [
              0.8888888888888888,
              "#fdca26"
             ],
             [
              1,
              "#f0f921"
             ]
            ],
            "type": "surface"
           }
          ],
          "table": [
           {
            "cells": {
             "fill": {
              "color": "#EBF0F8"
             },
             "line": {
              "color": "white"
             }
            },
            "header": {
             "fill": {
              "color": "#C8D4E3"
             },
             "line": {
              "color": "white"
             }
            },
            "type": "table"
           }
          ]
         },
         "layout": {
          "annotationdefaults": {
           "arrowcolor": "#2a3f5f",
           "arrowhead": 0,
           "arrowwidth": 1
          },
          "autotypenumbers": "strict",
          "coloraxis": {
           "colorbar": {
            "outlinewidth": 0,
            "ticks": ""
           }
          },
          "colorscale": {
           "diverging": [
            [
             0,
             "#8e0152"
            ],
            [
             0.1,
             "#c51b7d"
            ],
            [
             0.2,
             "#de77ae"
            ],
            [
             0.3,
             "#f1b6da"
            ],
            [
             0.4,
             "#fde0ef"
            ],
            [
             0.5,
             "#f7f7f7"
            ],
            [
             0.6,
             "#e6f5d0"
            ],
            [
             0.7,
             "#b8e186"
            ],
            [
             0.8,
             "#7fbc41"
            ],
            [
             0.9,
             "#4d9221"
            ],
            [
             1,
             "#276419"
            ]
           ],
           "sequential": [
            [
             0,
             "#0d0887"
            ],
            [
             0.1111111111111111,
             "#46039f"
            ],
            [
             0.2222222222222222,
             "#7201a8"
            ],
            [
             0.3333333333333333,
             "#9c179e"
            ],
            [
             0.4444444444444444,
             "#bd3786"
            ],
            [
             0.5555555555555556,
             "#d8576b"
            ],
            [
             0.6666666666666666,
             "#ed7953"
            ],
            [
             0.7777777777777778,
             "#fb9f3a"
            ],
            [
             0.8888888888888888,
             "#fdca26"
            ],
            [
             1,
             "#f0f921"
            ]
           ],
           "sequentialminus": [
            [
             0,
             "#0d0887"
            ],
            [
             0.1111111111111111,
             "#46039f"
            ],
            [
             0.2222222222222222,
             "#7201a8"
            ],
            [
             0.3333333333333333,
             "#9c179e"
            ],
            [
             0.4444444444444444,
             "#bd3786"
            ],
            [
             0.5555555555555556,
             "#d8576b"
            ],
            [
             0.6666666666666666,
             "#ed7953"
            ],
            [
             0.7777777777777778,
             "#fb9f3a"
            ],
            [
             0.8888888888888888,
             "#fdca26"
            ],
            [
             1,
             "#f0f921"
            ]
           ]
          },
          "colorway": [
           "#636efa",
           "#EF553B",
           "#00cc96",
           "#ab63fa",
           "#FFA15A",
           "#19d3f3",
           "#FF6692",
           "#B6E880",
           "#FF97FF",
           "#FECB52"
          ],
          "font": {
           "color": "#2a3f5f"
          },
          "geo": {
           "bgcolor": "white",
           "lakecolor": "white",
           "landcolor": "#E5ECF6",
           "showlakes": true,
           "showland": true,
           "subunitcolor": "white"
          },
          "hoverlabel": {
           "align": "left"
          },
          "hovermode": "closest",
          "mapbox": {
           "style": "light"
          },
          "paper_bgcolor": "white",
          "plot_bgcolor": "#E5ECF6",
          "polar": {
           "angularaxis": {
            "gridcolor": "white",
            "linecolor": "white",
            "ticks": ""
           },
           "bgcolor": "#E5ECF6",
           "radialaxis": {
            "gridcolor": "white",
            "linecolor": "white",
            "ticks": ""
           }
          },
          "scene": {
           "xaxis": {
            "backgroundcolor": "#E5ECF6",
            "gridcolor": "white",
            "gridwidth": 2,
            "linecolor": "white",
            "showbackground": true,
            "ticks": "",
            "zerolinecolor": "white"
           },
           "yaxis": {
            "backgroundcolor": "#E5ECF6",
            "gridcolor": "white",
            "gridwidth": 2,
            "linecolor": "white",
            "showbackground": true,
            "ticks": "",
            "zerolinecolor": "white"
           },
           "zaxis": {
            "backgroundcolor": "#E5ECF6",
            "gridcolor": "white",
            "gridwidth": 2,
            "linecolor": "white",
            "showbackground": true,
            "ticks": "",
            "zerolinecolor": "white"
           }
          },
          "shapedefaults": {
           "line": {
            "color": "#2a3f5f"
           }
          },
          "ternary": {
           "aaxis": {
            "gridcolor": "white",
            "linecolor": "white",
            "ticks": ""
           },
           "baxis": {
            "gridcolor": "white",
            "linecolor": "white",
            "ticks": ""
           },
           "bgcolor": "#E5ECF6",
           "caxis": {
            "gridcolor": "white",
            "linecolor": "white",
            "ticks": ""
           }
          },
          "title": {
           "x": 0.05
          },
          "xaxis": {
           "automargin": true,
           "gridcolor": "white",
           "linecolor": "white",
           "ticks": "",
           "title": {
            "standoff": 15
           },
           "zerolinecolor": "white",
           "zerolinewidth": 2
          },
          "yaxis": {
           "automargin": true,
           "gridcolor": "white",
           "linecolor": "white",
           "ticks": "",
           "title": {
            "standoff": 15
           },
           "zerolinecolor": "white",
           "zerolinewidth": 2
          }
         }
        },
        "title": {
         "text": "Распределение стендов по выносливости/стойкости",
         "x": 0.5
        },
        "width": 500
       }
      }
     },
     "metadata": {},
     "output_type": "display_data"
    }
   ],
   "source": [
    "def assign_stamina_stands(row):\n",
    "    if row['Выносливость'] == 'infinite' or row['Выносливость'] >= 3:\n",
    "        row['stamina'] = 'Выносливый, стойкий стенд'\n",
    "    else:\n",
    "        row['stamina'] = 'Стенд довольно уязвимый'\n",
    "    return row['stamina']\n",
    "\n",
    "begin_dataset['stamina'] = begin_dataset.apply(assign_stamina_stands, axis = 1)\n",
    "\n",
    "pivot_table_stamina = begin_dataset.value_counts('stamina').reset_index().rename(columns={'count': 'Количество'})\n",
    "\n",
    "display(pivot_table_stamina)\n",
    "\n",
    "stamina_pie_diagram = px.pie(pivot_table_stamina, values='Количество', names = 'stamina', hole = 0.5, width = 500, color_discrete_sequence=['#ff00c3', '#00ff3c'])\n",
    "stamina_pie_diagram.update_layout(title = {'text': 'Распределение стендов по выносливости/стойкости', 'x': 0.5}, showlegend = False)\n",
    "stamina_pie_diagram.show()"
   ]
  },
  {
   "cell_type": "markdown",
   "metadata": {},
   "source": [
    "Как мы видим, **почти все стенды обладают высокой выносливостью/стойкостью в бою**"
   ]
  },
  {
   "cell_type": "markdown",
   "metadata": {},
   "source": [
    "### 2.3.5 -- Точность"
   ]
  },
  {
   "cell_type": "markdown",
   "metadata": {},
   "source": [
    "Теперь посмотрим, как у нас дела с точностью у стендо. Высокая точность указывает на то, что стенд может точно наносить удары, контролировать свои действия и выполнять сложные манипуляции с высокой степенью успеха. Этот параметр важен для стендов, которые требуют высокой степени контроля и координации"
   ]
  },
  {
   "cell_type": "code",
   "execution_count": 310,
   "metadata": {},
   "outputs": [
    {
     "data": {
      "text/plain": [
       "Точность\n",
       "1              55\n",
       "3              40\n",
       "2              25\n",
       "5              12\n",
       "4              11\n",
       "undefined       7\n",
       "unknown         4\n",
       "infinite        1\n",
       "situational     1\n",
       "Name: count, dtype: int64"
      ]
     },
     "metadata": {},
     "output_type": "display_data"
    }
   ],
   "source": [
    "display(begin_dataset.value_counts('Точность'))"
   ]
  },
  {
   "cell_type": "markdown",
   "metadata": {},
   "source": [
    "Как видно, у нас много стендов с низкой точностью, а также из интересного: у нас есть один стенд, у которого точность _ситуативная_\n",
    "\n",
    "Посмотрим поподробнее на необычные стенды"
   ]
  },
  {
   "cell_type": "code",
   "execution_count": 311,
   "metadata": {},
   "outputs": [
    {
     "data": {
      "text/html": [
       "<div>\n",
       "<style scoped>\n",
       "    .dataframe tbody tr th:only-of-type {\n",
       "        vertical-align: middle;\n",
       "    }\n",
       "\n",
       "    .dataframe tbody tr th {\n",
       "        vertical-align: top;\n",
       "    }\n",
       "\n",
       "    .dataframe thead th {\n",
       "        text-align: right;\n",
       "    }\n",
       "</style>\n",
       "<table border=\"1\" class=\"dataframe\">\n",
       "  <thead>\n",
       "    <tr style=\"text-align: right;\">\n",
       "      <th></th>\n",
       "      <th>Stand</th>\n",
       "      <th>Сила</th>\n",
       "      <th>Скорость</th>\n",
       "      <th>Дальность</th>\n",
       "      <th>Выносливость</th>\n",
       "      <th>Точность</th>\n",
       "      <th>Потенциал</th>\n",
       "      <th>Story</th>\n",
       "      <th>strong</th>\n",
       "      <th>speed</th>\n",
       "      <th>range</th>\n",
       "      <th>stamina</th>\n",
       "    </tr>\n",
       "  </thead>\n",
       "  <tbody>\n",
       "    <tr>\n",
       "      <th>62</th>\n",
       "      <td>Baby Face</td>\n",
       "      <td>5</td>\n",
       "      <td>4</td>\n",
       "      <td>5</td>\n",
       "      <td>5</td>\n",
       "      <td>situational</td>\n",
       "      <td>situational</td>\n",
       "      <td>Part 5: Vento Aureo</td>\n",
       "      <td>Сильный стенд</td>\n",
       "      <td>Быстрый стенд</td>\n",
       "      <td>Стенд дальнего действия</td>\n",
       "      <td>Выносливый, стойкий стенд</td>\n",
       "    </tr>\n",
       "    <tr>\n",
       "      <th>79</th>\n",
       "      <td>King Crimson</td>\n",
       "      <td>5</td>\n",
       "      <td>5</td>\n",
       "      <td>1</td>\n",
       "      <td>1</td>\n",
       "      <td>unknown</td>\n",
       "      <td>unknown</td>\n",
       "      <td>Part 5: Vento Aureo</td>\n",
       "      <td>Сильный стенд</td>\n",
       "      <td>Быстрый стенд</td>\n",
       "      <td>Стенд ближнего боя</td>\n",
       "      <td>Стенд довольно уязвимый</td>\n",
       "    </tr>\n",
       "    <tr>\n",
       "      <th>90</th>\n",
       "      <td>Whitesnake</td>\n",
       "      <td>5</td>\n",
       "      <td>2</td>\n",
       "      <td>2</td>\n",
       "      <td>5</td>\n",
       "      <td>unknown</td>\n",
       "      <td>unknown</td>\n",
       "      <td>Part 6: Stone Ocean</td>\n",
       "      <td>Сильный стенд</td>\n",
       "      <td>Медленный стенд</td>\n",
       "      <td>Стенд ближнего боя</td>\n",
       "      <td>Выносливый, стойкий стенд</td>\n",
       "    </tr>\n",
       "    <tr>\n",
       "      <th>91</th>\n",
       "      <td>C-Moon</td>\n",
       "      <td>4</td>\n",
       "      <td>4</td>\n",
       "      <td>4</td>\n",
       "      <td>5</td>\n",
       "      <td>unknown</td>\n",
       "      <td>unknown</td>\n",
       "      <td>Part 6: Stone Ocean</td>\n",
       "      <td>Сильный стенд</td>\n",
       "      <td>Быстрый стенд</td>\n",
       "      <td>Стенд дальнего действия</td>\n",
       "      <td>Выносливый, стойкий стенд</td>\n",
       "    </tr>\n",
       "    <tr>\n",
       "      <th>92</th>\n",
       "      <td>Jail House Lock</td>\n",
       "      <td>1</td>\n",
       "      <td>3</td>\n",
       "      <td>4</td>\n",
       "      <td>5</td>\n",
       "      <td>undefined</td>\n",
       "      <td>undefined</td>\n",
       "      <td>Part 6: Stone Ocean</td>\n",
       "      <td>Слабый стенд</td>\n",
       "      <td>Быстрый стенд</td>\n",
       "      <td>Стенд дальнего действия</td>\n",
       "      <td>Выносливый, стойкий стенд</td>\n",
       "    </tr>\n",
       "    <tr>\n",
       "      <th>95</th>\n",
       "      <td>Under World</td>\n",
       "      <td>5</td>\n",
       "      <td>3</td>\n",
       "      <td>5</td>\n",
       "      <td>3</td>\n",
       "      <td>undefined</td>\n",
       "      <td>undefined</td>\n",
       "      <td>Part 6: Stone Ocean</td>\n",
       "      <td>Сильный стенд</td>\n",
       "      <td>Быстрый стенд</td>\n",
       "      <td>Стенд дальнего действия</td>\n",
       "      <td>Выносливый, стойкий стенд</td>\n",
       "    </tr>\n",
       "    <tr>\n",
       "      <th>96</th>\n",
       "      <td>Sky High</td>\n",
       "      <td>4</td>\n",
       "      <td>3</td>\n",
       "      <td>4</td>\n",
       "      <td>3</td>\n",
       "      <td>undefined</td>\n",
       "      <td>undefined</td>\n",
       "      <td>Part 6: Stone Ocean</td>\n",
       "      <td>Сильный стенд</td>\n",
       "      <td>Быстрый стенд</td>\n",
       "      <td>Стенд дальнего действия</td>\n",
       "      <td>Выносливый, стойкий стенд</td>\n",
       "    </tr>\n",
       "    <tr>\n",
       "      <th>99</th>\n",
       "      <td>Bohemian Rhapsody</td>\n",
       "      <td>1</td>\n",
       "      <td>3</td>\n",
       "      <td>infinite</td>\n",
       "      <td>5</td>\n",
       "      <td>undefined</td>\n",
       "      <td>undefined</td>\n",
       "      <td>Part 6: Stone Ocean</td>\n",
       "      <td>Слабый стенд</td>\n",
       "      <td>Быстрый стенд</td>\n",
       "      <td>Стенд дальнего действия</td>\n",
       "      <td>Выносливый, стойкий стенд</td>\n",
       "    </tr>\n",
       "    <tr>\n",
       "      <th>100</th>\n",
       "      <td>Burning Down the House</td>\n",
       "      <td>2</td>\n",
       "      <td>2</td>\n",
       "      <td>3</td>\n",
       "      <td>5</td>\n",
       "      <td>undefined</td>\n",
       "      <td>undefined</td>\n",
       "      <td>Part 6: Stone Ocean</td>\n",
       "      <td>Слабый стенд</td>\n",
       "      <td>Медленный стенд</td>\n",
       "      <td>Стенд дальнего действия</td>\n",
       "      <td>Выносливый, стойкий стенд</td>\n",
       "    </tr>\n",
       "    <tr>\n",
       "      <th>102</th>\n",
       "      <td>Dragon's Dream</td>\n",
       "      <td>3</td>\n",
       "      <td>4</td>\n",
       "      <td>3</td>\n",
       "      <td>5</td>\n",
       "      <td>undefined</td>\n",
       "      <td>undefined</td>\n",
       "      <td>Part 6: Stone Ocean</td>\n",
       "      <td>Сильный стенд</td>\n",
       "      <td>Быстрый стенд</td>\n",
       "      <td>Стенд дальнего действия</td>\n",
       "      <td>Выносливый, стойкий стенд</td>\n",
       "    </tr>\n",
       "    <tr>\n",
       "      <th>104</th>\n",
       "      <td>Green, Green Grass of Home</td>\n",
       "      <td>5</td>\n",
       "      <td>4</td>\n",
       "      <td>4</td>\n",
       "      <td>5</td>\n",
       "      <td>unknown</td>\n",
       "      <td>unknown</td>\n",
       "      <td>Part 6: Stone Ocean</td>\n",
       "      <td>Сильный стенд</td>\n",
       "      <td>Быстрый стенд</td>\n",
       "      <td>Стенд дальнего действия</td>\n",
       "      <td>Выносливый, стойкий стенд</td>\n",
       "    </tr>\n",
       "    <tr>\n",
       "      <th>127</th>\n",
       "      <td>Mandom</td>\n",
       "      <td>2</td>\n",
       "      <td>5</td>\n",
       "      <td>5</td>\n",
       "      <td>1</td>\n",
       "      <td>undefined</td>\n",
       "      <td>3</td>\n",
       "      <td>Part 7: Steel Ball Run</td>\n",
       "      <td>Слабый стенд</td>\n",
       "      <td>Быстрый стенд</td>\n",
       "      <td>Стенд дальнего действия</td>\n",
       "      <td>Стенд довольно уязвимый</td>\n",
       "    </tr>\n",
       "  </tbody>\n",
       "</table>\n",
       "</div>"
      ],
      "text/plain": [
       "                          Stand Сила Скорость Дальность Выносливость  \\\n",
       "62                    Baby Face    5        4         5            5   \n",
       "79                 King Crimson    5        5         1            1   \n",
       "90                   Whitesnake    5        2         2            5   \n",
       "91                       C-Moon    4        4         4            5   \n",
       "92              Jail House Lock    1        3         4            5   \n",
       "95                  Under World    5        3         5            3   \n",
       "96                     Sky High    4        3         4            3   \n",
       "99            Bohemian Rhapsody    1        3  infinite            5   \n",
       "100      Burning Down the House    2        2         3            5   \n",
       "102              Dragon's Dream    3        4         3            5   \n",
       "104  Green, Green Grass of Home    5        4         4            5   \n",
       "127                      Mandom    2        5         5            1   \n",
       "\n",
       "        Точность    Потенциал                   Story         strong  \\\n",
       "62   situational  situational     Part 5: Vento Aureo  Сильный стенд   \n",
       "79       unknown      unknown     Part 5: Vento Aureo  Сильный стенд   \n",
       "90       unknown      unknown     Part 6: Stone Ocean  Сильный стенд   \n",
       "91       unknown      unknown     Part 6: Stone Ocean  Сильный стенд   \n",
       "92     undefined    undefined     Part 6: Stone Ocean   Слабый стенд   \n",
       "95     undefined    undefined     Part 6: Stone Ocean  Сильный стенд   \n",
       "96     undefined    undefined     Part 6: Stone Ocean  Сильный стенд   \n",
       "99     undefined    undefined     Part 6: Stone Ocean   Слабый стенд   \n",
       "100    undefined    undefined     Part 6: Stone Ocean   Слабый стенд   \n",
       "102    undefined    undefined     Part 6: Stone Ocean  Сильный стенд   \n",
       "104      unknown      unknown     Part 6: Stone Ocean  Сильный стенд   \n",
       "127    undefined            3  Part 7: Steel Ball Run   Слабый стенд   \n",
       "\n",
       "               speed                    range                    stamina  \n",
       "62     Быстрый стенд  Стенд дальнего действия  Выносливый, стойкий стенд  \n",
       "79     Быстрый стенд       Стенд ближнего боя    Стенд довольно уязвимый  \n",
       "90   Медленный стенд       Стенд ближнего боя  Выносливый, стойкий стенд  \n",
       "91     Быстрый стенд  Стенд дальнего действия  Выносливый, стойкий стенд  \n",
       "92     Быстрый стенд  Стенд дальнего действия  Выносливый, стойкий стенд  \n",
       "95     Быстрый стенд  Стенд дальнего действия  Выносливый, стойкий стенд  \n",
       "96     Быстрый стенд  Стенд дальнего действия  Выносливый, стойкий стенд  \n",
       "99     Быстрый стенд  Стенд дальнего действия  Выносливый, стойкий стенд  \n",
       "100  Медленный стенд  Стенд дальнего действия  Выносливый, стойкий стенд  \n",
       "102    Быстрый стенд  Стенд дальнего действия  Выносливый, стойкий стенд  \n",
       "104    Быстрый стенд  Стенд дальнего действия  Выносливый, стойкий стенд  \n",
       "127    Быстрый стенд  Стенд дальнего действия    Стенд довольно уязвимый  "
      ]
     },
     "metadata": {},
     "output_type": "display_data"
    }
   ],
   "source": [
    "unknown_accuracy_stands = begin_dataset[\n",
    "    (begin_dataset['Точность'] == 'undefined') | (begin_dataset['Точность'] == 'unknown') | (begin_dataset['Точность'] == 'infinitive') |\n",
    "    (begin_dataset['Точность'] == 'situational')\n",
    "]\n",
    "\n",
    "display(unknown_accuracy_stands)"
   ]
  },
  {
   "cell_type": "markdown",
   "metadata": {},
   "source": [
    "**Baby face** -- интересный стенд, являющийся ребенком, способности которого действительно ситуативные и зависят от матери. Подробнее можно почитать [здесь](jojo.fandom.com/ru/wiki/Baby_Face)\n",
    "\n",
    "<img src=\"\n",
    "https://static.wikia.nocookie.net/jojo/images/c/ca/Baby_Face_Junior_Infobox_Anime.png/revision/latest?cb=20231111155315&path-prefix=ru\" alt=\"burning_down_the_house\" width=\"200\"/>\n",
    "\n",
    "Насчет **King Crimson** я уверен, можно точности ставить 5, так как стенд и правда очень сильный. А остальные стенды можно заполнить привычным нам способом"
   ]
  },
  {
   "cell_type": "code",
   "execution_count": 312,
   "metadata": {},
   "outputs": [
    {
     "data": {
      "application/vnd.plotly.v1+json": {
       "config": {
        "plotlyServerURL": "https://plotly.com"
       },
       "data": [
        {
         "alignmentgroup": "True",
         "bingroup": "x",
         "hovertemplate": "Точность=%{x}<br>count=%{y}<extra></extra>",
         "legendgroup": "",
         "marker": {
          "color": "#03a5fc",
          "pattern": {
           "shape": ""
          }
         },
         "name": "",
         "offsetgroup": "",
         "orientation": "v",
         "showlegend": false,
         "type": "histogram",
         "x": [
          1,
          2,
          1,
          3,
          2,
          2,
          2,
          1,
          2,
          1,
          2,
          2,
          1,
          1,
          3,
          1,
          2,
          2,
          2,
          2,
          3,
          1,
          2,
          3,
          4,
          5,
          1,
          1,
          2,
          4,
          1,
          1,
          1,
          1,
          3,
          1,
          3,
          3,
          1,
          5,
          4,
          3,
          3,
          1,
          3,
          1,
          4,
          1,
          2,
          1,
          1,
          1,
          3,
          1,
          3,
          1,
          3,
          3,
          3,
          3,
          1,
          1,
          3,
          3,
          3,
          1,
          3,
          5,
          1,
          1,
          3,
          3,
          3,
          1,
          5,
          3,
          1,
          5,
          1,
          2,
          1,
          1,
          1,
          1,
          2,
          2,
          1,
          1,
          3,
          4,
          5,
          5,
          4,
          3,
          3,
          3,
          2,
          3,
          3,
          5,
          5,
          1,
          1,
          1,
          2,
          2,
          3,
          1,
          2,
          5,
          3,
          1,
          5,
          5,
          1,
          2,
          3,
          3,
          1,
          1,
          1,
          3,
          1,
          1,
          3,
          3,
          4,
          2,
          1,
          1,
          1,
          1,
          2,
          4,
          3,
          4,
          4,
          5,
          4,
          1,
          3,
          1,
          3,
          2
         ],
         "xaxis": "x",
         "yaxis": "y"
        }
       ],
       "layout": {
        "barmode": "relative",
        "legend": {
         "tracegroupgap": 0
        },
        "margin": {
         "t": 60
        },
        "showlegend": false,
        "template": {
         "data": {
          "bar": [
           {
            "error_x": {
             "color": "#2a3f5f"
            },
            "error_y": {
             "color": "#2a3f5f"
            },
            "marker": {
             "line": {
              "color": "#E5ECF6",
              "width": 0.5
             },
             "pattern": {
              "fillmode": "overlay",
              "size": 10,
              "solidity": 0.2
             }
            },
            "type": "bar"
           }
          ],
          "barpolar": [
           {
            "marker": {
             "line": {
              "color": "#E5ECF6",
              "width": 0.5
             },
             "pattern": {
              "fillmode": "overlay",
              "size": 10,
              "solidity": 0.2
             }
            },
            "type": "barpolar"
           }
          ],
          "carpet": [
           {
            "aaxis": {
             "endlinecolor": "#2a3f5f",
             "gridcolor": "white",
             "linecolor": "white",
             "minorgridcolor": "white",
             "startlinecolor": "#2a3f5f"
            },
            "baxis": {
             "endlinecolor": "#2a3f5f",
             "gridcolor": "white",
             "linecolor": "white",
             "minorgridcolor": "white",
             "startlinecolor": "#2a3f5f"
            },
            "type": "carpet"
           }
          ],
          "choropleth": [
           {
            "colorbar": {
             "outlinewidth": 0,
             "ticks": ""
            },
            "type": "choropleth"
           }
          ],
          "contour": [
           {
            "colorbar": {
             "outlinewidth": 0,
             "ticks": ""
            },
            "colorscale": [
             [
              0,
              "#0d0887"
             ],
             [
              0.1111111111111111,
              "#46039f"
             ],
             [
              0.2222222222222222,
              "#7201a8"
             ],
             [
              0.3333333333333333,
              "#9c179e"
             ],
             [
              0.4444444444444444,
              "#bd3786"
             ],
             [
              0.5555555555555556,
              "#d8576b"
             ],
             [
              0.6666666666666666,
              "#ed7953"
             ],
             [
              0.7777777777777778,
              "#fb9f3a"
             ],
             [
              0.8888888888888888,
              "#fdca26"
             ],
             [
              1,
              "#f0f921"
             ]
            ],
            "type": "contour"
           }
          ],
          "contourcarpet": [
           {
            "colorbar": {
             "outlinewidth": 0,
             "ticks": ""
            },
            "type": "contourcarpet"
           }
          ],
          "heatmap": [
           {
            "colorbar": {
             "outlinewidth": 0,
             "ticks": ""
            },
            "colorscale": [
             [
              0,
              "#0d0887"
             ],
             [
              0.1111111111111111,
              "#46039f"
             ],
             [
              0.2222222222222222,
              "#7201a8"
             ],
             [
              0.3333333333333333,
              "#9c179e"
             ],
             [
              0.4444444444444444,
              "#bd3786"
             ],
             [
              0.5555555555555556,
              "#d8576b"
             ],
             [
              0.6666666666666666,
              "#ed7953"
             ],
             [
              0.7777777777777778,
              "#fb9f3a"
             ],
             [
              0.8888888888888888,
              "#fdca26"
             ],
             [
              1,
              "#f0f921"
             ]
            ],
            "type": "heatmap"
           }
          ],
          "heatmapgl": [
           {
            "colorbar": {
             "outlinewidth": 0,
             "ticks": ""
            },
            "colorscale": [
             [
              0,
              "#0d0887"
             ],
             [
              0.1111111111111111,
              "#46039f"
             ],
             [
              0.2222222222222222,
              "#7201a8"
             ],
             [
              0.3333333333333333,
              "#9c179e"
             ],
             [
              0.4444444444444444,
              "#bd3786"
             ],
             [
              0.5555555555555556,
              "#d8576b"
             ],
             [
              0.6666666666666666,
              "#ed7953"
             ],
             [
              0.7777777777777778,
              "#fb9f3a"
             ],
             [
              0.8888888888888888,
              "#fdca26"
             ],
             [
              1,
              "#f0f921"
             ]
            ],
            "type": "heatmapgl"
           }
          ],
          "histogram": [
           {
            "marker": {
             "pattern": {
              "fillmode": "overlay",
              "size": 10,
              "solidity": 0.2
             }
            },
            "type": "histogram"
           }
          ],
          "histogram2d": [
           {
            "colorbar": {
             "outlinewidth": 0,
             "ticks": ""
            },
            "colorscale": [
             [
              0,
              "#0d0887"
             ],
             [
              0.1111111111111111,
              "#46039f"
             ],
             [
              0.2222222222222222,
              "#7201a8"
             ],
             [
              0.3333333333333333,
              "#9c179e"
             ],
             [
              0.4444444444444444,
              "#bd3786"
             ],
             [
              0.5555555555555556,
              "#d8576b"
             ],
             [
              0.6666666666666666,
              "#ed7953"
             ],
             [
              0.7777777777777778,
              "#fb9f3a"
             ],
             [
              0.8888888888888888,
              "#fdca26"
             ],
             [
              1,
              "#f0f921"
             ]
            ],
            "type": "histogram2d"
           }
          ],
          "histogram2dcontour": [
           {
            "colorbar": {
             "outlinewidth": 0,
             "ticks": ""
            },
            "colorscale": [
             [
              0,
              "#0d0887"
             ],
             [
              0.1111111111111111,
              "#46039f"
             ],
             [
              0.2222222222222222,
              "#7201a8"
             ],
             [
              0.3333333333333333,
              "#9c179e"
             ],
             [
              0.4444444444444444,
              "#bd3786"
             ],
             [
              0.5555555555555556,
              "#d8576b"
             ],
             [
              0.6666666666666666,
              "#ed7953"
             ],
             [
              0.7777777777777778,
              "#fb9f3a"
             ],
             [
              0.8888888888888888,
              "#fdca26"
             ],
             [
              1,
              "#f0f921"
             ]
            ],
            "type": "histogram2dcontour"
           }
          ],
          "mesh3d": [
           {
            "colorbar": {
             "outlinewidth": 0,
             "ticks": ""
            },
            "type": "mesh3d"
           }
          ],
          "parcoords": [
           {
            "line": {
             "colorbar": {
              "outlinewidth": 0,
              "ticks": ""
             }
            },
            "type": "parcoords"
           }
          ],
          "pie": [
           {
            "automargin": true,
            "type": "pie"
           }
          ],
          "scatter": [
           {
            "fillpattern": {
             "fillmode": "overlay",
             "size": 10,
             "solidity": 0.2
            },
            "type": "scatter"
           }
          ],
          "scatter3d": [
           {
            "line": {
             "colorbar": {
              "outlinewidth": 0,
              "ticks": ""
             }
            },
            "marker": {
             "colorbar": {
              "outlinewidth": 0,
              "ticks": ""
             }
            },
            "type": "scatter3d"
           }
          ],
          "scattercarpet": [
           {
            "marker": {
             "colorbar": {
              "outlinewidth": 0,
              "ticks": ""
             }
            },
            "type": "scattercarpet"
           }
          ],
          "scattergeo": [
           {
            "marker": {
             "colorbar": {
              "outlinewidth": 0,
              "ticks": ""
             }
            },
            "type": "scattergeo"
           }
          ],
          "scattergl": [
           {
            "marker": {
             "colorbar": {
              "outlinewidth": 0,
              "ticks": ""
             }
            },
            "type": "scattergl"
           }
          ],
          "scattermapbox": [
           {
            "marker": {
             "colorbar": {
              "outlinewidth": 0,
              "ticks": ""
             }
            },
            "type": "scattermapbox"
           }
          ],
          "scatterpolar": [
           {
            "marker": {
             "colorbar": {
              "outlinewidth": 0,
              "ticks": ""
             }
            },
            "type": "scatterpolar"
           }
          ],
          "scatterpolargl": [
           {
            "marker": {
             "colorbar": {
              "outlinewidth": 0,
              "ticks": ""
             }
            },
            "type": "scatterpolargl"
           }
          ],
          "scatterternary": [
           {
            "marker": {
             "colorbar": {
              "outlinewidth": 0,
              "ticks": ""
             }
            },
            "type": "scatterternary"
           }
          ],
          "surface": [
           {
            "colorbar": {
             "outlinewidth": 0,
             "ticks": ""
            },
            "colorscale": [
             [
              0,
              "#0d0887"
             ],
             [
              0.1111111111111111,
              "#46039f"
             ],
             [
              0.2222222222222222,
              "#7201a8"
             ],
             [
              0.3333333333333333,
              "#9c179e"
             ],
             [
              0.4444444444444444,
              "#bd3786"
             ],
             [
              0.5555555555555556,
              "#d8576b"
             ],
             [
              0.6666666666666666,
              "#ed7953"
             ],
             [
              0.7777777777777778,
              "#fb9f3a"
             ],
             [
              0.8888888888888888,
              "#fdca26"
             ],
             [
              1,
              "#f0f921"
             ]
            ],
            "type": "surface"
           }
          ],
          "table": [
           {
            "cells": {
             "fill": {
              "color": "#EBF0F8"
             },
             "line": {
              "color": "white"
             }
            },
            "header": {
             "fill": {
              "color": "#C8D4E3"
             },
             "line": {
              "color": "white"
             }
            },
            "type": "table"
           }
          ]
         },
         "layout": {
          "annotationdefaults": {
           "arrowcolor": "#2a3f5f",
           "arrowhead": 0,
           "arrowwidth": 1
          },
          "autotypenumbers": "strict",
          "coloraxis": {
           "colorbar": {
            "outlinewidth": 0,
            "ticks": ""
           }
          },
          "colorscale": {
           "diverging": [
            [
             0,
             "#8e0152"
            ],
            [
             0.1,
             "#c51b7d"
            ],
            [
             0.2,
             "#de77ae"
            ],
            [
             0.3,
             "#f1b6da"
            ],
            [
             0.4,
             "#fde0ef"
            ],
            [
             0.5,
             "#f7f7f7"
            ],
            [
             0.6,
             "#e6f5d0"
            ],
            [
             0.7,
             "#b8e186"
            ],
            [
             0.8,
             "#7fbc41"
            ],
            [
             0.9,
             "#4d9221"
            ],
            [
             1,
             "#276419"
            ]
           ],
           "sequential": [
            [
             0,
             "#0d0887"
            ],
            [
             0.1111111111111111,
             "#46039f"
            ],
            [
             0.2222222222222222,
             "#7201a8"
            ],
            [
             0.3333333333333333,
             "#9c179e"
            ],
            [
             0.4444444444444444,
             "#bd3786"
            ],
            [
             0.5555555555555556,
             "#d8576b"
            ],
            [
             0.6666666666666666,
             "#ed7953"
            ],
            [
             0.7777777777777778,
             "#fb9f3a"
            ],
            [
             0.8888888888888888,
             "#fdca26"
            ],
            [
             1,
             "#f0f921"
            ]
           ],
           "sequentialminus": [
            [
             0,
             "#0d0887"
            ],
            [
             0.1111111111111111,
             "#46039f"
            ],
            [
             0.2222222222222222,
             "#7201a8"
            ],
            [
             0.3333333333333333,
             "#9c179e"
            ],
            [
             0.4444444444444444,
             "#bd3786"
            ],
            [
             0.5555555555555556,
             "#d8576b"
            ],
            [
             0.6666666666666666,
             "#ed7953"
            ],
            [
             0.7777777777777778,
             "#fb9f3a"
            ],
            [
             0.8888888888888888,
             "#fdca26"
            ],
            [
             1,
             "#f0f921"
            ]
           ]
          },
          "colorway": [
           "#636efa",
           "#EF553B",
           "#00cc96",
           "#ab63fa",
           "#FFA15A",
           "#19d3f3",
           "#FF6692",
           "#B6E880",
           "#FF97FF",
           "#FECB52"
          ],
          "font": {
           "color": "#2a3f5f"
          },
          "geo": {
           "bgcolor": "white",
           "lakecolor": "white",
           "landcolor": "#E5ECF6",
           "showlakes": true,
           "showland": true,
           "subunitcolor": "white"
          },
          "hoverlabel": {
           "align": "left"
          },
          "hovermode": "closest",
          "mapbox": {
           "style": "light"
          },
          "paper_bgcolor": "white",
          "plot_bgcolor": "#E5ECF6",
          "polar": {
           "angularaxis": {
            "gridcolor": "white",
            "linecolor": "white",
            "ticks": ""
           },
           "bgcolor": "#E5ECF6",
           "radialaxis": {
            "gridcolor": "white",
            "linecolor": "white",
            "ticks": ""
           }
          },
          "scene": {
           "xaxis": {
            "backgroundcolor": "#E5ECF6",
            "gridcolor": "white",
            "gridwidth": 2,
            "linecolor": "white",
            "showbackground": true,
            "ticks": "",
            "zerolinecolor": "white"
           },
           "yaxis": {
            "backgroundcolor": "#E5ECF6",
            "gridcolor": "white",
            "gridwidth": 2,
            "linecolor": "white",
            "showbackground": true,
            "ticks": "",
            "zerolinecolor": "white"
           },
           "zaxis": {
            "backgroundcolor": "#E5ECF6",
            "gridcolor": "white",
            "gridwidth": 2,
            "linecolor": "white",
            "showbackground": true,
            "ticks": "",
            "zerolinecolor": "white"
           }
          },
          "shapedefaults": {
           "line": {
            "color": "#2a3f5f"
           }
          },
          "ternary": {
           "aaxis": {
            "gridcolor": "white",
            "linecolor": "white",
            "ticks": ""
           },
           "baxis": {
            "gridcolor": "white",
            "linecolor": "white",
            "ticks": ""
           },
           "bgcolor": "#E5ECF6",
           "caxis": {
            "gridcolor": "white",
            "linecolor": "white",
            "ticks": ""
           }
          },
          "title": {
           "x": 0.05
          },
          "xaxis": {
           "automargin": true,
           "gridcolor": "white",
           "linecolor": "white",
           "ticks": "",
           "title": {
            "standoff": 15
           },
           "zerolinecolor": "white",
           "zerolinewidth": 2
          },
          "yaxis": {
           "automargin": true,
           "gridcolor": "white",
           "linecolor": "white",
           "ticks": "",
           "title": {
            "standoff": 15
           },
           "zerolinecolor": "white",
           "zerolinewidth": 2
          }
         }
        },
        "title": {
         "text": "Распределение стендов по точности",
         "x": 0.5
        },
        "xaxis": {
         "anchor": "y",
         "domain": [
          0,
          1
         ],
         "title": {
          "text": "Точность"
         }
        },
        "yaxis": {
         "anchor": "x",
         "domain": [
          0,
          1
         ],
         "title": {
          "text": "count"
         }
        }
       }
      }
     },
     "metadata": {},
     "output_type": "display_data"
    },
    {
     "data": {
      "text/html": [
       "<div>\n",
       "<style scoped>\n",
       "    .dataframe tbody tr th:only-of-type {\n",
       "        vertical-align: middle;\n",
       "    }\n",
       "\n",
       "    .dataframe tbody tr th {\n",
       "        vertical-align: top;\n",
       "    }\n",
       "\n",
       "    .dataframe thead th {\n",
       "        text-align: right;\n",
       "    }\n",
       "</style>\n",
       "<table border=\"1\" class=\"dataframe\">\n",
       "  <thead>\n",
       "    <tr style=\"text-align: right;\">\n",
       "      <th></th>\n",
       "      <th>Точность</th>\n",
       "      <th>count</th>\n",
       "      <th>probability</th>\n",
       "    </tr>\n",
       "  </thead>\n",
       "  <tbody>\n",
       "    <tr>\n",
       "      <th>0</th>\n",
       "      <td>1</td>\n",
       "      <td>55</td>\n",
       "      <td>0.381944</td>\n",
       "    </tr>\n",
       "    <tr>\n",
       "      <th>1</th>\n",
       "      <td>3</td>\n",
       "      <td>40</td>\n",
       "      <td>0.277778</td>\n",
       "    </tr>\n",
       "    <tr>\n",
       "      <th>2</th>\n",
       "      <td>2</td>\n",
       "      <td>25</td>\n",
       "      <td>0.173611</td>\n",
       "    </tr>\n",
       "    <tr>\n",
       "      <th>3</th>\n",
       "      <td>5</td>\n",
       "      <td>13</td>\n",
       "      <td>0.090278</td>\n",
       "    </tr>\n",
       "    <tr>\n",
       "      <th>4</th>\n",
       "      <td>4</td>\n",
       "      <td>11</td>\n",
       "      <td>0.076389</td>\n",
       "    </tr>\n",
       "  </tbody>\n",
       "</table>\n",
       "</div>"
      ],
      "text/plain": [
       "   Точность  count  probability\n",
       "0         1     55     0.381944\n",
       "1         3     40     0.277778\n",
       "2         2     25     0.173611\n",
       "3         5     13     0.090278\n",
       "4         4     11     0.076389"
      ]
     },
     "metadata": {},
     "output_type": "display_data"
    }
   ],
   "source": [
    "begin_dataset.loc[begin_dataset[begin_dataset['Stand'].str.startswith('King')].index, 'Точность'] = 5\n",
    "\n",
    "#display(begin_dataset.query('Stand == \"King Crimson\"'))\n",
    "\n",
    "known_accuracy_stands = begin_dataset[\n",
    "    (begin_dataset['Точность'] != 'undefined') & (begin_dataset['Точность'] != 'unknown') & (begin_dataset['Точность'] != 'infinite')\n",
    "    & (begin_dataset['Точность']!='situational')\n",
    "]\n",
    "\n",
    "piv_accuracy_table = known_accuracy_stands.value_counts('Точность').reset_index()\n",
    "\n",
    "\n",
    "accuracy_hist = px.histogram(known_accuracy_stands, x='Точность', color_discrete_sequence=['#03a5fc'])\n",
    "accuracy_hist.update_layout(title = {'text': 'Распределение стендов по точности', 'x': 0.5}, showlegend = False)\n",
    "accuracy_hist.show()\n",
    "\n",
    "sum_accuracy = piv_accuracy_table['count'].sum()\n",
    "\n",
    "piv_accuracy_table['probability'] = piv_accuracy_table['count'] / sum_accuracy\n",
    "\n",
    "\n",
    "display(piv_accuracy_table)\n"
   ]
  },
  {
   "cell_type": "code",
   "execution_count": 313,
   "metadata": {},
   "outputs": [
    {
     "name": "stderr",
     "output_type": "stream",
     "text": [
      "C:\\Users\\Smart\\AppData\\Local\\Temp\\ipykernel_13008\\3061866888.py:11: SettingWithCopyWarning:\n",
      "\n",
      "\n",
      "A value is trying to be set on a copy of a slice from a DataFrame.\n",
      "Try using .loc[row_indexer,col_indexer] = value instead\n",
      "\n",
      "See the caveats in the documentation: https://pandas.pydata.org/pandas-docs/stable/user_guide/indexing.html#returning-a-view-versus-a-copy\n",
      "\n"
     ]
    },
    {
     "data": {
      "text/html": [
       "<div>\n",
       "<style scoped>\n",
       "    .dataframe tbody tr th:only-of-type {\n",
       "        vertical-align: middle;\n",
       "    }\n",
       "\n",
       "    .dataframe tbody tr th {\n",
       "        vertical-align: top;\n",
       "    }\n",
       "\n",
       "    .dataframe thead th {\n",
       "        text-align: right;\n",
       "    }\n",
       "</style>\n",
       "<table border=\"1\" class=\"dataframe\">\n",
       "  <thead>\n",
       "    <tr style=\"text-align: right;\">\n",
       "      <th></th>\n",
       "      <th>Stand</th>\n",
       "      <th>Сила</th>\n",
       "      <th>Скорость</th>\n",
       "      <th>Дальность</th>\n",
       "      <th>Выносливость</th>\n",
       "      <th>Точность</th>\n",
       "      <th>Потенциал</th>\n",
       "      <th>Story</th>\n",
       "      <th>strong</th>\n",
       "      <th>speed</th>\n",
       "      <th>range</th>\n",
       "      <th>stamina</th>\n",
       "    </tr>\n",
       "  </thead>\n",
       "  <tbody>\n",
       "    <tr>\n",
       "      <th>0</th>\n",
       "      <td>Anubis</td>\n",
       "      <td>4</td>\n",
       "      <td>4</td>\n",
       "      <td>1</td>\n",
       "      <td>5</td>\n",
       "      <td>1</td>\n",
       "      <td>3</td>\n",
       "      <td>Part 3: Stardust Crusaders</td>\n",
       "      <td>Сильный стенд</td>\n",
       "      <td>Быстрый стенд</td>\n",
       "      <td>Стенд ближнего боя</td>\n",
       "      <td>Выносливый, стойкий стенд</td>\n",
       "    </tr>\n",
       "    <tr>\n",
       "      <th>1</th>\n",
       "      <td>Atum</td>\n",
       "      <td>2</td>\n",
       "      <td>3</td>\n",
       "      <td>2</td>\n",
       "      <td>4</td>\n",
       "      <td>2</td>\n",
       "      <td>2</td>\n",
       "      <td>Part 3: Stardust Crusaders</td>\n",
       "      <td>Слабый стенд</td>\n",
       "      <td>Быстрый стенд</td>\n",
       "      <td>Стенд ближнего боя</td>\n",
       "      <td>Выносливый, стойкий стенд</td>\n",
       "    </tr>\n",
       "    <tr>\n",
       "      <th>2</th>\n",
       "      <td>Bastet</td>\n",
       "      <td>1</td>\n",
       "      <td>1</td>\n",
       "      <td>4</td>\n",
       "      <td>5</td>\n",
       "      <td>1</td>\n",
       "      <td>1</td>\n",
       "      <td>Part 3: Stardust Crusaders</td>\n",
       "      <td>Слабый стенд</td>\n",
       "      <td>Медленный стенд</td>\n",
       "      <td>Стенд дальнего действия</td>\n",
       "      <td>Выносливый, стойкий стенд</td>\n",
       "    </tr>\n",
       "    <tr>\n",
       "      <th>3</th>\n",
       "      <td>Cream</td>\n",
       "      <td>4</td>\n",
       "      <td>4</td>\n",
       "      <td>2</td>\n",
       "      <td>3</td>\n",
       "      <td>3</td>\n",
       "      <td>2</td>\n",
       "      <td>Part 3: Stardust Crusaders</td>\n",
       "      <td>Сильный стенд</td>\n",
       "      <td>Быстрый стенд</td>\n",
       "      <td>Стенд ближнего боя</td>\n",
       "      <td>Выносливый, стойкий стенд</td>\n",
       "    </tr>\n",
       "    <tr>\n",
       "      <th>4</th>\n",
       "      <td>Death Thirteen</td>\n",
       "      <td>3</td>\n",
       "      <td>3</td>\n",
       "      <td>1</td>\n",
       "      <td>4</td>\n",
       "      <td>2</td>\n",
       "      <td>4</td>\n",
       "      <td>Part 3: Stardust Crusaders</td>\n",
       "      <td>Сильный стенд</td>\n",
       "      <td>Быстрый стенд</td>\n",
       "      <td>Стенд ближнего боя</td>\n",
       "      <td>Выносливый, стойкий стенд</td>\n",
       "    </tr>\n",
       "    <tr>\n",
       "      <th>...</th>\n",
       "      <td>...</td>\n",
       "      <td>...</td>\n",
       "      <td>...</td>\n",
       "      <td>...</td>\n",
       "      <td>...</td>\n",
       "      <td>...</td>\n",
       "      <td>...</td>\n",
       "      <td>...</td>\n",
       "      <td>...</td>\n",
       "      <td>...</td>\n",
       "      <td>...</td>\n",
       "      <td>...</td>\n",
       "    </tr>\n",
       "    <tr>\n",
       "      <th>151</th>\n",
       "      <td>Nightbird Flying</td>\n",
       "      <td>1</td>\n",
       "      <td>5</td>\n",
       "      <td>5</td>\n",
       "      <td>5</td>\n",
       "      <td>1</td>\n",
       "      <td>1</td>\n",
       "      <td>Light Novel: Purple Haze Feedback</td>\n",
       "      <td>Слабый стенд</td>\n",
       "      <td>Быстрый стенд</td>\n",
       "      <td>Стенд дальнего действия</td>\n",
       "      <td>Выносливый, стойкий стенд</td>\n",
       "    </tr>\n",
       "    <tr>\n",
       "      <th>152</th>\n",
       "      <td>Purple Haze Distortion</td>\n",
       "      <td>5</td>\n",
       "      <td>4</td>\n",
       "      <td>1</td>\n",
       "      <td>1</td>\n",
       "      <td>3</td>\n",
       "      <td>unknown</td>\n",
       "      <td>Light Novel: Purple Haze Feedback</td>\n",
       "      <td>Сильный стенд</td>\n",
       "      <td>Быстрый стенд</td>\n",
       "      <td>Стенд ближнего боя</td>\n",
       "      <td>Стенд довольно уязвимый</td>\n",
       "    </tr>\n",
       "    <tr>\n",
       "      <th>153</th>\n",
       "      <td>Rainy Day Dream Away</td>\n",
       "      <td>1</td>\n",
       "      <td>4</td>\n",
       "      <td>5</td>\n",
       "      <td>5</td>\n",
       "      <td>1</td>\n",
       "      <td>1</td>\n",
       "      <td>Light Novel: Purple Haze Feedback</td>\n",
       "      <td>Слабый стенд</td>\n",
       "      <td>Быстрый стенд</td>\n",
       "      <td>Стенд дальнего действия</td>\n",
       "      <td>Выносливый, стойкий стенд</td>\n",
       "    </tr>\n",
       "    <tr>\n",
       "      <th>154</th>\n",
       "      <td>Remote Romance</td>\n",
       "      <td>1</td>\n",
       "      <td>2</td>\n",
       "      <td>infinite</td>\n",
       "      <td>4</td>\n",
       "      <td>3</td>\n",
       "      <td>1</td>\n",
       "      <td>Featured</td>\n",
       "      <td>Слабый стенд</td>\n",
       "      <td>Медленный стенд</td>\n",
       "      <td>Стенд дальнего действия</td>\n",
       "      <td>Выносливый, стойкий стенд</td>\n",
       "    </tr>\n",
       "    <tr>\n",
       "      <th>155</th>\n",
       "      <td>House of Holy</td>\n",
       "      <td>1</td>\n",
       "      <td>4</td>\n",
       "      <td>3</td>\n",
       "      <td>5</td>\n",
       "      <td>2</td>\n",
       "      <td>2</td>\n",
       "      <td>Featured</td>\n",
       "      <td>Слабый стенд</td>\n",
       "      <td>Быстрый стенд</td>\n",
       "      <td>Стенд дальнего действия</td>\n",
       "      <td>Выносливый, стойкий стенд</td>\n",
       "    </tr>\n",
       "  </tbody>\n",
       "</table>\n",
       "<p>156 rows × 12 columns</p>\n",
       "</div>"
      ],
      "text/plain": [
       "                      Stand Сила Скорость Дальность Выносливость Точность  \\\n",
       "0                    Anubis    4        4         1            5        1   \n",
       "1                      Atum    2        3         2            4        2   \n",
       "2                    Bastet    1        1         4            5        1   \n",
       "3                     Cream    4        4         2            3        3   \n",
       "4            Death Thirteen    3        3         1            4        2   \n",
       "..                      ...  ...      ...       ...          ...      ...   \n",
       "151        Nightbird Flying    1        5         5            5        1   \n",
       "152  Purple Haze Distortion    5        4         1            1        3   \n",
       "153    Rainy Day Dream Away    1        4         5            5        1   \n",
       "154          Remote Romance    1        2  infinite            4        3   \n",
       "155           House of Holy    1        4         3            5        2   \n",
       "\n",
       "    Потенциал                              Story         strong  \\\n",
       "0           3         Part 3: Stardust Crusaders  Сильный стенд   \n",
       "1           2         Part 3: Stardust Crusaders   Слабый стенд   \n",
       "2           1         Part 3: Stardust Crusaders   Слабый стенд   \n",
       "3           2         Part 3: Stardust Crusaders  Сильный стенд   \n",
       "4           4         Part 3: Stardust Crusaders  Сильный стенд   \n",
       "..        ...                                ...            ...   \n",
       "151         1  Light Novel: Purple Haze Feedback   Слабый стенд   \n",
       "152   unknown  Light Novel: Purple Haze Feedback  Сильный стенд   \n",
       "153         1  Light Novel: Purple Haze Feedback   Слабый стенд   \n",
       "154         1                           Featured   Слабый стенд   \n",
       "155         2                           Featured   Слабый стенд   \n",
       "\n",
       "               speed                    range                    stamina  \n",
       "0      Быстрый стенд       Стенд ближнего боя  Выносливый, стойкий стенд  \n",
       "1      Быстрый стенд       Стенд ближнего боя  Выносливый, стойкий стенд  \n",
       "2    Медленный стенд  Стенд дальнего действия  Выносливый, стойкий стенд  \n",
       "3      Быстрый стенд       Стенд ближнего боя  Выносливый, стойкий стенд  \n",
       "4      Быстрый стенд       Стенд ближнего боя  Выносливый, стойкий стенд  \n",
       "..               ...                      ...                        ...  \n",
       "151    Быстрый стенд  Стенд дальнего действия  Выносливый, стойкий стенд  \n",
       "152    Быстрый стенд       Стенд ближнего боя    Стенд довольно уязвимый  \n",
       "153    Быстрый стенд  Стенд дальнего действия  Выносливый, стойкий стенд  \n",
       "154  Медленный стенд  Стенд дальнего действия  Выносливый, стойкий стенд  \n",
       "155    Быстрый стенд  Стенд дальнего действия  Выносливый, стойкий стенд  \n",
       "\n",
       "[156 rows x 12 columns]"
      ]
     },
     "metadata": {},
     "output_type": "display_data"
    }
   ],
   "source": [
    "unknown_accuracy_stands = begin_dataset[\n",
    "    (begin_dataset['Точность'] == 'undefined') | (begin_dataset['Точность'] == 'unknown') |\n",
    "    (begin_dataset['Точность'] == 'situational')\n",
    "]\n",
    "\n",
    "\n",
    "def assign_accuracy_stands(row):\n",
    "    row['Точность'] = np.random.choice(piv_accuracy_table['Точность'], p = piv_accuracy_table['probability'])\n",
    "    return row['Точность']\n",
    "\n",
    "unknown_accuracy_stands['Точность'] = unknown_accuracy_stands.apply(assign_accuracy_stands, axis = 1)\n",
    "\n",
    "begin_dataset.loc[unknown_accuracy_stands.index, 'Точность'] = unknown_accuracy_stands['Точность']\n",
    "\n",
    "display(begin_dataset)\n",
    "\n",
    "#display(begin_dataset.query('Stand == \"Whitesnake\"'))\n",
    "\n"
   ]
  },
  {
   "cell_type": "markdown",
   "metadata": {},
   "source": [
    "Точные и неточные стенды определяем таким же образом -- **точность >= 3 -- точный стенд, иначе -- неточный**"
   ]
  },
  {
   "cell_type": "code",
   "execution_count": 314,
   "metadata": {},
   "outputs": [
    {
     "data": {
      "text/html": [
       "<div>\n",
       "<style scoped>\n",
       "    .dataframe tbody tr th:only-of-type {\n",
       "        vertical-align: middle;\n",
       "    }\n",
       "\n",
       "    .dataframe tbody tr th {\n",
       "        vertical-align: top;\n",
       "    }\n",
       "\n",
       "    .dataframe thead th {\n",
       "        text-align: right;\n",
       "    }\n",
       "</style>\n",
       "<table border=\"1\" class=\"dataframe\">\n",
       "  <thead>\n",
       "    <tr style=\"text-align: right;\">\n",
       "      <th></th>\n",
       "      <th>accuracy</th>\n",
       "      <th>Количество</th>\n",
       "    </tr>\n",
       "  </thead>\n",
       "  <tbody>\n",
       "    <tr>\n",
       "      <th>0</th>\n",
       "      <td>Неточный стенд</td>\n",
       "      <td>86</td>\n",
       "    </tr>\n",
       "    <tr>\n",
       "      <th>1</th>\n",
       "      <td>Точный стенд</td>\n",
       "      <td>70</td>\n",
       "    </tr>\n",
       "  </tbody>\n",
       "</table>\n",
       "</div>"
      ],
      "text/plain": [
       "         accuracy  Количество\n",
       "0  Неточный стенд          86\n",
       "1    Точный стенд          70"
      ]
     },
     "metadata": {},
     "output_type": "display_data"
    },
    {
     "data": {
      "application/vnd.plotly.v1+json": {
       "config": {
        "plotlyServerURL": "https://plotly.com"
       },
       "data": [
        {
         "domain": {
          "x": [
           0,
           1
          ],
          "y": [
           0,
           1
          ]
         },
         "hole": 0.5,
         "hovertemplate": "accuracy=%{label}<br>Количество=%{value}<extra></extra>",
         "labels": [
          "Неточный стенд",
          "Точный стенд"
         ],
         "legendgroup": "",
         "name": "",
         "showlegend": true,
         "type": "pie",
         "values": [
          86,
          70
         ]
        }
       ],
       "layout": {
        "legend": {
         "tracegroupgap": 0
        },
        "margin": {
         "t": 60
        },
        "piecolorway": [
         "#fc5a03",
         "#03a5fc"
        ],
        "showlegend": false,
        "template": {
         "data": {
          "bar": [
           {
            "error_x": {
             "color": "#2a3f5f"
            },
            "error_y": {
             "color": "#2a3f5f"
            },
            "marker": {
             "line": {
              "color": "#E5ECF6",
              "width": 0.5
             },
             "pattern": {
              "fillmode": "overlay",
              "size": 10,
              "solidity": 0.2
             }
            },
            "type": "bar"
           }
          ],
          "barpolar": [
           {
            "marker": {
             "line": {
              "color": "#E5ECF6",
              "width": 0.5
             },
             "pattern": {
              "fillmode": "overlay",
              "size": 10,
              "solidity": 0.2
             }
            },
            "type": "barpolar"
           }
          ],
          "carpet": [
           {
            "aaxis": {
             "endlinecolor": "#2a3f5f",
             "gridcolor": "white",
             "linecolor": "white",
             "minorgridcolor": "white",
             "startlinecolor": "#2a3f5f"
            },
            "baxis": {
             "endlinecolor": "#2a3f5f",
             "gridcolor": "white",
             "linecolor": "white",
             "minorgridcolor": "white",
             "startlinecolor": "#2a3f5f"
            },
            "type": "carpet"
           }
          ],
          "choropleth": [
           {
            "colorbar": {
             "outlinewidth": 0,
             "ticks": ""
            },
            "type": "choropleth"
           }
          ],
          "contour": [
           {
            "colorbar": {
             "outlinewidth": 0,
             "ticks": ""
            },
            "colorscale": [
             [
              0,
              "#0d0887"
             ],
             [
              0.1111111111111111,
              "#46039f"
             ],
             [
              0.2222222222222222,
              "#7201a8"
             ],
             [
              0.3333333333333333,
              "#9c179e"
             ],
             [
              0.4444444444444444,
              "#bd3786"
             ],
             [
              0.5555555555555556,
              "#d8576b"
             ],
             [
              0.6666666666666666,
              "#ed7953"
             ],
             [
              0.7777777777777778,
              "#fb9f3a"
             ],
             [
              0.8888888888888888,
              "#fdca26"
             ],
             [
              1,
              "#f0f921"
             ]
            ],
            "type": "contour"
           }
          ],
          "contourcarpet": [
           {
            "colorbar": {
             "outlinewidth": 0,
             "ticks": ""
            },
            "type": "contourcarpet"
           }
          ],
          "heatmap": [
           {
            "colorbar": {
             "outlinewidth": 0,
             "ticks": ""
            },
            "colorscale": [
             [
              0,
              "#0d0887"
             ],
             [
              0.1111111111111111,
              "#46039f"
             ],
             [
              0.2222222222222222,
              "#7201a8"
             ],
             [
              0.3333333333333333,
              "#9c179e"
             ],
             [
              0.4444444444444444,
              "#bd3786"
             ],
             [
              0.5555555555555556,
              "#d8576b"
             ],
             [
              0.6666666666666666,
              "#ed7953"
             ],
             [
              0.7777777777777778,
              "#fb9f3a"
             ],
             [
              0.8888888888888888,
              "#fdca26"
             ],
             [
              1,
              "#f0f921"
             ]
            ],
            "type": "heatmap"
           }
          ],
          "heatmapgl": [
           {
            "colorbar": {
             "outlinewidth": 0,
             "ticks": ""
            },
            "colorscale": [
             [
              0,
              "#0d0887"
             ],
             [
              0.1111111111111111,
              "#46039f"
             ],
             [
              0.2222222222222222,
              "#7201a8"
             ],
             [
              0.3333333333333333,
              "#9c179e"
             ],
             [
              0.4444444444444444,
              "#bd3786"
             ],
             [
              0.5555555555555556,
              "#d8576b"
             ],
             [
              0.6666666666666666,
              "#ed7953"
             ],
             [
              0.7777777777777778,
              "#fb9f3a"
             ],
             [
              0.8888888888888888,
              "#fdca26"
             ],
             [
              1,
              "#f0f921"
             ]
            ],
            "type": "heatmapgl"
           }
          ],
          "histogram": [
           {
            "marker": {
             "pattern": {
              "fillmode": "overlay",
              "size": 10,
              "solidity": 0.2
             }
            },
            "type": "histogram"
           }
          ],
          "histogram2d": [
           {
            "colorbar": {
             "outlinewidth": 0,
             "ticks": ""
            },
            "colorscale": [
             [
              0,
              "#0d0887"
             ],
             [
              0.1111111111111111,
              "#46039f"
             ],
             [
              0.2222222222222222,
              "#7201a8"
             ],
             [
              0.3333333333333333,
              "#9c179e"
             ],
             [
              0.4444444444444444,
              "#bd3786"
             ],
             [
              0.5555555555555556,
              "#d8576b"
             ],
             [
              0.6666666666666666,
              "#ed7953"
             ],
             [
              0.7777777777777778,
              "#fb9f3a"
             ],
             [
              0.8888888888888888,
              "#fdca26"
             ],
             [
              1,
              "#f0f921"
             ]
            ],
            "type": "histogram2d"
           }
          ],
          "histogram2dcontour": [
           {
            "colorbar": {
             "outlinewidth": 0,
             "ticks": ""
            },
            "colorscale": [
             [
              0,
              "#0d0887"
             ],
             [
              0.1111111111111111,
              "#46039f"
             ],
             [
              0.2222222222222222,
              "#7201a8"
             ],
             [
              0.3333333333333333,
              "#9c179e"
             ],
             [
              0.4444444444444444,
              "#bd3786"
             ],
             [
              0.5555555555555556,
              "#d8576b"
             ],
             [
              0.6666666666666666,
              "#ed7953"
             ],
             [
              0.7777777777777778,
              "#fb9f3a"
             ],
             [
              0.8888888888888888,
              "#fdca26"
             ],
             [
              1,
              "#f0f921"
             ]
            ],
            "type": "histogram2dcontour"
           }
          ],
          "mesh3d": [
           {
            "colorbar": {
             "outlinewidth": 0,
             "ticks": ""
            },
            "type": "mesh3d"
           }
          ],
          "parcoords": [
           {
            "line": {
             "colorbar": {
              "outlinewidth": 0,
              "ticks": ""
             }
            },
            "type": "parcoords"
           }
          ],
          "pie": [
           {
            "automargin": true,
            "type": "pie"
           }
          ],
          "scatter": [
           {
            "fillpattern": {
             "fillmode": "overlay",
             "size": 10,
             "solidity": 0.2
            },
            "type": "scatter"
           }
          ],
          "scatter3d": [
           {
            "line": {
             "colorbar": {
              "outlinewidth": 0,
              "ticks": ""
             }
            },
            "marker": {
             "colorbar": {
              "outlinewidth": 0,
              "ticks": ""
             }
            },
            "type": "scatter3d"
           }
          ],
          "scattercarpet": [
           {
            "marker": {
             "colorbar": {
              "outlinewidth": 0,
              "ticks": ""
             }
            },
            "type": "scattercarpet"
           }
          ],
          "scattergeo": [
           {
            "marker": {
             "colorbar": {
              "outlinewidth": 0,
              "ticks": ""
             }
            },
            "type": "scattergeo"
           }
          ],
          "scattergl": [
           {
            "marker": {
             "colorbar": {
              "outlinewidth": 0,
              "ticks": ""
             }
            },
            "type": "scattergl"
           }
          ],
          "scattermapbox": [
           {
            "marker": {
             "colorbar": {
              "outlinewidth": 0,
              "ticks": ""
             }
            },
            "type": "scattermapbox"
           }
          ],
          "scatterpolar": [
           {
            "marker": {
             "colorbar": {
              "outlinewidth": 0,
              "ticks": ""
             }
            },
            "type": "scatterpolar"
           }
          ],
          "scatterpolargl": [
           {
            "marker": {
             "colorbar": {
              "outlinewidth": 0,
              "ticks": ""
             }
            },
            "type": "scatterpolargl"
           }
          ],
          "scatterternary": [
           {
            "marker": {
             "colorbar": {
              "outlinewidth": 0,
              "ticks": ""
             }
            },
            "type": "scatterternary"
           }
          ],
          "surface": [
           {
            "colorbar": {
             "outlinewidth": 0,
             "ticks": ""
            },
            "colorscale": [
             [
              0,
              "#0d0887"
             ],
             [
              0.1111111111111111,
              "#46039f"
             ],
             [
              0.2222222222222222,
              "#7201a8"
             ],
             [
              0.3333333333333333,
              "#9c179e"
             ],
             [
              0.4444444444444444,
              "#bd3786"
             ],
             [
              0.5555555555555556,
              "#d8576b"
             ],
             [
              0.6666666666666666,
              "#ed7953"
             ],
             [
              0.7777777777777778,
              "#fb9f3a"
             ],
             [
              0.8888888888888888,
              "#fdca26"
             ],
             [
              1,
              "#f0f921"
             ]
            ],
            "type": "surface"
           }
          ],
          "table": [
           {
            "cells": {
             "fill": {
              "color": "#EBF0F8"
             },
             "line": {
              "color": "white"
             }
            },
            "header": {
             "fill": {
              "color": "#C8D4E3"
             },
             "line": {
              "color": "white"
             }
            },
            "type": "table"
           }
          ]
         },
         "layout": {
          "annotationdefaults": {
           "arrowcolor": "#2a3f5f",
           "arrowhead": 0,
           "arrowwidth": 1
          },
          "autotypenumbers": "strict",
          "coloraxis": {
           "colorbar": {
            "outlinewidth": 0,
            "ticks": ""
           }
          },
          "colorscale": {
           "diverging": [
            [
             0,
             "#8e0152"
            ],
            [
             0.1,
             "#c51b7d"
            ],
            [
             0.2,
             "#de77ae"
            ],
            [
             0.3,
             "#f1b6da"
            ],
            [
             0.4,
             "#fde0ef"
            ],
            [
             0.5,
             "#f7f7f7"
            ],
            [
             0.6,
             "#e6f5d0"
            ],
            [
             0.7,
             "#b8e186"
            ],
            [
             0.8,
             "#7fbc41"
            ],
            [
             0.9,
             "#4d9221"
            ],
            [
             1,
             "#276419"
            ]
           ],
           "sequential": [
            [
             0,
             "#0d0887"
            ],
            [
             0.1111111111111111,
             "#46039f"
            ],
            [
             0.2222222222222222,
             "#7201a8"
            ],
            [
             0.3333333333333333,
             "#9c179e"
            ],
            [
             0.4444444444444444,
             "#bd3786"
            ],
            [
             0.5555555555555556,
             "#d8576b"
            ],
            [
             0.6666666666666666,
             "#ed7953"
            ],
            [
             0.7777777777777778,
             "#fb9f3a"
            ],
            [
             0.8888888888888888,
             "#fdca26"
            ],
            [
             1,
             "#f0f921"
            ]
           ],
           "sequentialminus": [
            [
             0,
             "#0d0887"
            ],
            [
             0.1111111111111111,
             "#46039f"
            ],
            [
             0.2222222222222222,
             "#7201a8"
            ],
            [
             0.3333333333333333,
             "#9c179e"
            ],
            [
             0.4444444444444444,
             "#bd3786"
            ],
            [
             0.5555555555555556,
             "#d8576b"
            ],
            [
             0.6666666666666666,
             "#ed7953"
            ],
            [
             0.7777777777777778,
             "#fb9f3a"
            ],
            [
             0.8888888888888888,
             "#fdca26"
            ],
            [
             1,
             "#f0f921"
            ]
           ]
          },
          "colorway": [
           "#636efa",
           "#EF553B",
           "#00cc96",
           "#ab63fa",
           "#FFA15A",
           "#19d3f3",
           "#FF6692",
           "#B6E880",
           "#FF97FF",
           "#FECB52"
          ],
          "font": {
           "color": "#2a3f5f"
          },
          "geo": {
           "bgcolor": "white",
           "lakecolor": "white",
           "landcolor": "#E5ECF6",
           "showlakes": true,
           "showland": true,
           "subunitcolor": "white"
          },
          "hoverlabel": {
           "align": "left"
          },
          "hovermode": "closest",
          "mapbox": {
           "style": "light"
          },
          "paper_bgcolor": "white",
          "plot_bgcolor": "#E5ECF6",
          "polar": {
           "angularaxis": {
            "gridcolor": "white",
            "linecolor": "white",
            "ticks": ""
           },
           "bgcolor": "#E5ECF6",
           "radialaxis": {
            "gridcolor": "white",
            "linecolor": "white",
            "ticks": ""
           }
          },
          "scene": {
           "xaxis": {
            "backgroundcolor": "#E5ECF6",
            "gridcolor": "white",
            "gridwidth": 2,
            "linecolor": "white",
            "showbackground": true,
            "ticks": "",
            "zerolinecolor": "white"
           },
           "yaxis": {
            "backgroundcolor": "#E5ECF6",
            "gridcolor": "white",
            "gridwidth": 2,
            "linecolor": "white",
            "showbackground": true,
            "ticks": "",
            "zerolinecolor": "white"
           },
           "zaxis": {
            "backgroundcolor": "#E5ECF6",
            "gridcolor": "white",
            "gridwidth": 2,
            "linecolor": "white",
            "showbackground": true,
            "ticks": "",
            "zerolinecolor": "white"
           }
          },
          "shapedefaults": {
           "line": {
            "color": "#2a3f5f"
           }
          },
          "ternary": {
           "aaxis": {
            "gridcolor": "white",
            "linecolor": "white",
            "ticks": ""
           },
           "baxis": {
            "gridcolor": "white",
            "linecolor": "white",
            "ticks": ""
           },
           "bgcolor": "#E5ECF6",
           "caxis": {
            "gridcolor": "white",
            "linecolor": "white",
            "ticks": ""
           }
          },
          "title": {
           "x": 0.05
          },
          "xaxis": {
           "automargin": true,
           "gridcolor": "white",
           "linecolor": "white",
           "ticks": "",
           "title": {
            "standoff": 15
           },
           "zerolinecolor": "white",
           "zerolinewidth": 2
          },
          "yaxis": {
           "automargin": true,
           "gridcolor": "white",
           "linecolor": "white",
           "ticks": "",
           "title": {
            "standoff": 15
           },
           "zerolinecolor": "white",
           "zerolinewidth": 2
          }
         }
        },
        "title": {
         "text": "Распределение стендов по точности/неточности",
         "x": 0.5
        },
        "width": 500
       }
      }
     },
     "metadata": {},
     "output_type": "display_data"
    }
   ],
   "source": [
    "def assign_categories_accuracy(row):\n",
    "    if row['Точность'] == 'infinite' or row['Точность'] >= 3:\n",
    "        row['accuracy'] = 'Точный стенд'\n",
    "    else:\n",
    "        row['accuracy'] = 'Неточный стенд'\n",
    "    return row['accuracy']\n",
    "\n",
    "begin_dataset['accuracy'] = begin_dataset.apply(assign_categories_accuracy, axis = 1)\n",
    "\n",
    "pivot_table_accuracy = begin_dataset.value_counts('accuracy').reset_index().rename(columns={'count': 'Количество'})\n",
    "\n",
    "display(pivot_table_accuracy)\n",
    "\n",
    "accuracy_pie_diagram = px.pie(pivot_table_accuracy, values='Количество', names = 'accuracy', hole = 0.5, width = 500, color_discrete_sequence=['#fc5a03', '#03a5fc'])\n",
    "\n",
    "accuracy_pie_diagram.update_layout(title = {'text': 'Распределение стендов по точности/неточности', 'x': 0.5}, showlegend = False)\n",
    "\n",
    "accuracy_pie_diagram.show()"
   ]
  },
  {
   "cell_type": "markdown",
   "metadata": {},
   "source": [
    "Как видно, у нас **больше половины стендов -- неточные**\n",
    "\n",
    "* Стенды с низкой точностью могут быть менее предсказуемыми и стабильными в своих действиях. Это может означать, что их атаки или способности могут не всегда попадать в цель или действовать так, как задумано\n",
    "* Низкая точность может указывать на то, что пользователь стенда имеет ограниченный контроль над его действиями. Это может затруднить выполнение сложных маневров или точных атак\n",
    "* Но это также может означать, что некоторые стенды с низкой точностью могут компенсировать это за счет своих широкомасштабных или разрушительных способностей. Например, стенды, которые создают большие взрывы или разрушения, могут не нуждаться в высокой точности, так как их основная цель — нанести максимальный урон в широкой области, например, **Killer Queen**"
   ]
  },
  {
   "cell_type": "markdown",
   "metadata": {},
   "source": [
    "### 2.3.6 -- Потенциал"
   ]
  },
  {
   "cell_type": "markdown",
   "metadata": {},
   "source": [
    "Остался последний параметр -- потенциал, после чего можно будет перейти к более подробному раскрытию стендов и глав аниме/манги, а пока надо поработать с грязными данными, увы и ах :("
   ]
  },
  {
   "cell_type": "code",
   "execution_count": 315,
   "metadata": {},
   "outputs": [
    {
     "data": {
      "text/plain": [
       "Потенциал\n",
       "3              40\n",
       "1              39\n",
       "5              25\n",
       "2              20\n",
       "4              16\n",
       "undefined       9\n",
       "unknown         5\n",
       "infinite        1\n",
       "situational     1\n",
       "Name: count, dtype: int64"
      ]
     },
     "metadata": {},
     "output_type": "display_data"
    }
   ],
   "source": [
    "display(begin_dataset.value_counts('Потенциал'))"
   ]
  },
  {
   "cell_type": "markdown",
   "metadata": {},
   "source": [
    "Можно с уверенностью сказать, что ~у половины стендов высокий потенциал развития, сейчас посмотрим на стенды, которые находятся под таинстенными _undefined_, _unknown_ и прочие знакомые нам значения"
   ]
  },
  {
   "cell_type": "code",
   "execution_count": 316,
   "metadata": {},
   "outputs": [
    {
     "data": {
      "text/html": [
       "<div>\n",
       "<style scoped>\n",
       "    .dataframe tbody tr th:only-of-type {\n",
       "        vertical-align: middle;\n",
       "    }\n",
       "\n",
       "    .dataframe tbody tr th {\n",
       "        vertical-align: top;\n",
       "    }\n",
       "\n",
       "    .dataframe thead th {\n",
       "        text-align: right;\n",
       "    }\n",
       "</style>\n",
       "<table border=\"1\" class=\"dataframe\">\n",
       "  <thead>\n",
       "    <tr style=\"text-align: right;\">\n",
       "      <th></th>\n",
       "      <th>Stand</th>\n",
       "      <th>Сила</th>\n",
       "      <th>Скорость</th>\n",
       "      <th>Дальность</th>\n",
       "      <th>Выносливость</th>\n",
       "      <th>Точность</th>\n",
       "      <th>Потенциал</th>\n",
       "      <th>Story</th>\n",
       "      <th>strong</th>\n",
       "      <th>speed</th>\n",
       "      <th>range</th>\n",
       "      <th>stamina</th>\n",
       "      <th>accuracy</th>\n",
       "    </tr>\n",
       "  </thead>\n",
       "  <tbody>\n",
       "    <tr>\n",
       "      <th>62</th>\n",
       "      <td>Baby Face</td>\n",
       "      <td>5</td>\n",
       "      <td>4</td>\n",
       "      <td>5</td>\n",
       "      <td>5</td>\n",
       "      <td>3</td>\n",
       "      <td>situational</td>\n",
       "      <td>Part 5: Vento Aureo</td>\n",
       "      <td>Сильный стенд</td>\n",
       "      <td>Быстрый стенд</td>\n",
       "      <td>Стенд дальнего действия</td>\n",
       "      <td>Выносливый, стойкий стенд</td>\n",
       "      <td>Точный стенд</td>\n",
       "    </tr>\n",
       "    <tr>\n",
       "      <th>77</th>\n",
       "      <td>Gold Experience Requiem</td>\n",
       "      <td>infinite</td>\n",
       "      <td>infinite</td>\n",
       "      <td>infinite</td>\n",
       "      <td>infinite</td>\n",
       "      <td>infinite</td>\n",
       "      <td>infinite</td>\n",
       "      <td>Part 5: Vento Aureo</td>\n",
       "      <td>Сильный стенд</td>\n",
       "      <td>Быстрый стенд</td>\n",
       "      <td>Стенд дальнего действия</td>\n",
       "      <td>Выносливый, стойкий стенд</td>\n",
       "      <td>Точный стенд</td>\n",
       "    </tr>\n",
       "    <tr>\n",
       "      <th>79</th>\n",
       "      <td>King Crimson</td>\n",
       "      <td>5</td>\n",
       "      <td>5</td>\n",
       "      <td>1</td>\n",
       "      <td>1</td>\n",
       "      <td>5</td>\n",
       "      <td>unknown</td>\n",
       "      <td>Part 5: Vento Aureo</td>\n",
       "      <td>Сильный стенд</td>\n",
       "      <td>Быстрый стенд</td>\n",
       "      <td>Стенд ближнего боя</td>\n",
       "      <td>Стенд довольно уязвимый</td>\n",
       "      <td>Точный стенд</td>\n",
       "    </tr>\n",
       "    <tr>\n",
       "      <th>85</th>\n",
       "      <td>Rolling Stones</td>\n",
       "      <td>5</td>\n",
       "      <td>4</td>\n",
       "      <td>5</td>\n",
       "      <td>5</td>\n",
       "      <td>1</td>\n",
       "      <td>undefined</td>\n",
       "      <td>Part 5: Vento Aureo</td>\n",
       "      <td>Сильный стенд</td>\n",
       "      <td>Быстрый стенд</td>\n",
       "      <td>Стенд дальнего действия</td>\n",
       "      <td>Выносливый, стойкий стенд</td>\n",
       "      <td>Неточный стенд</td>\n",
       "    </tr>\n",
       "    <tr>\n",
       "      <th>90</th>\n",
       "      <td>Whitesnake</td>\n",
       "      <td>5</td>\n",
       "      <td>2</td>\n",
       "      <td>2</td>\n",
       "      <td>5</td>\n",
       "      <td>1</td>\n",
       "      <td>unknown</td>\n",
       "      <td>Part 6: Stone Ocean</td>\n",
       "      <td>Сильный стенд</td>\n",
       "      <td>Медленный стенд</td>\n",
       "      <td>Стенд ближнего боя</td>\n",
       "      <td>Выносливый, стойкий стенд</td>\n",
       "      <td>Неточный стенд</td>\n",
       "    </tr>\n",
       "    <tr>\n",
       "      <th>91</th>\n",
       "      <td>C-Moon</td>\n",
       "      <td>4</td>\n",
       "      <td>4</td>\n",
       "      <td>4</td>\n",
       "      <td>5</td>\n",
       "      <td>1</td>\n",
       "      <td>unknown</td>\n",
       "      <td>Part 6: Stone Ocean</td>\n",
       "      <td>Сильный стенд</td>\n",
       "      <td>Быстрый стенд</td>\n",
       "      <td>Стенд дальнего действия</td>\n",
       "      <td>Выносливый, стойкий стенд</td>\n",
       "      <td>Неточный стенд</td>\n",
       "    </tr>\n",
       "    <tr>\n",
       "      <th>92</th>\n",
       "      <td>Jail House Lock</td>\n",
       "      <td>1</td>\n",
       "      <td>3</td>\n",
       "      <td>4</td>\n",
       "      <td>5</td>\n",
       "      <td>2</td>\n",
       "      <td>undefined</td>\n",
       "      <td>Part 6: Stone Ocean</td>\n",
       "      <td>Слабый стенд</td>\n",
       "      <td>Быстрый стенд</td>\n",
       "      <td>Стенд дальнего действия</td>\n",
       "      <td>Выносливый, стойкий стенд</td>\n",
       "      <td>Неточный стенд</td>\n",
       "    </tr>\n",
       "    <tr>\n",
       "      <th>95</th>\n",
       "      <td>Under World</td>\n",
       "      <td>5</td>\n",
       "      <td>3</td>\n",
       "      <td>5</td>\n",
       "      <td>3</td>\n",
       "      <td>2</td>\n",
       "      <td>undefined</td>\n",
       "      <td>Part 6: Stone Ocean</td>\n",
       "      <td>Сильный стенд</td>\n",
       "      <td>Быстрый стенд</td>\n",
       "      <td>Стенд дальнего действия</td>\n",
       "      <td>Выносливый, стойкий стенд</td>\n",
       "      <td>Неточный стенд</td>\n",
       "    </tr>\n",
       "    <tr>\n",
       "      <th>96</th>\n",
       "      <td>Sky High</td>\n",
       "      <td>4</td>\n",
       "      <td>3</td>\n",
       "      <td>4</td>\n",
       "      <td>3</td>\n",
       "      <td>4</td>\n",
       "      <td>undefined</td>\n",
       "      <td>Part 6: Stone Ocean</td>\n",
       "      <td>Сильный стенд</td>\n",
       "      <td>Быстрый стенд</td>\n",
       "      <td>Стенд дальнего действия</td>\n",
       "      <td>Выносливый, стойкий стенд</td>\n",
       "      <td>Точный стенд</td>\n",
       "    </tr>\n",
       "    <tr>\n",
       "      <th>97</th>\n",
       "      <td>Star Platinum</td>\n",
       "      <td>5</td>\n",
       "      <td>5</td>\n",
       "      <td>3</td>\n",
       "      <td>5</td>\n",
       "      <td>5</td>\n",
       "      <td>undefined</td>\n",
       "      <td>Part 6: Stone Ocean</td>\n",
       "      <td>Сильный стенд</td>\n",
       "      <td>Быстрый стенд</td>\n",
       "      <td>Стенд дальнего действия</td>\n",
       "      <td>Выносливый, стойкий стенд</td>\n",
       "      <td>Точный стенд</td>\n",
       "    </tr>\n",
       "    <tr>\n",
       "      <th>99</th>\n",
       "      <td>Bohemian Rhapsody</td>\n",
       "      <td>1</td>\n",
       "      <td>3</td>\n",
       "      <td>infinite</td>\n",
       "      <td>5</td>\n",
       "      <td>3</td>\n",
       "      <td>undefined</td>\n",
       "      <td>Part 6: Stone Ocean</td>\n",
       "      <td>Слабый стенд</td>\n",
       "      <td>Быстрый стенд</td>\n",
       "      <td>Стенд дальнего действия</td>\n",
       "      <td>Выносливый, стойкий стенд</td>\n",
       "      <td>Точный стенд</td>\n",
       "    </tr>\n",
       "    <tr>\n",
       "      <th>100</th>\n",
       "      <td>Burning Down the House</td>\n",
       "      <td>2</td>\n",
       "      <td>2</td>\n",
       "      <td>3</td>\n",
       "      <td>5</td>\n",
       "      <td>2</td>\n",
       "      <td>undefined</td>\n",
       "      <td>Part 6: Stone Ocean</td>\n",
       "      <td>Слабый стенд</td>\n",
       "      <td>Медленный стенд</td>\n",
       "      <td>Стенд дальнего действия</td>\n",
       "      <td>Выносливый, стойкий стенд</td>\n",
       "      <td>Неточный стенд</td>\n",
       "    </tr>\n",
       "    <tr>\n",
       "      <th>102</th>\n",
       "      <td>Dragon's Dream</td>\n",
       "      <td>3</td>\n",
       "      <td>4</td>\n",
       "      <td>3</td>\n",
       "      <td>5</td>\n",
       "      <td>3</td>\n",
       "      <td>undefined</td>\n",
       "      <td>Part 6: Stone Ocean</td>\n",
       "      <td>Сильный стенд</td>\n",
       "      <td>Быстрый стенд</td>\n",
       "      <td>Стенд дальнего действия</td>\n",
       "      <td>Выносливый, стойкий стенд</td>\n",
       "      <td>Точный стенд</td>\n",
       "    </tr>\n",
       "    <tr>\n",
       "      <th>104</th>\n",
       "      <td>Green, Green Grass of Home</td>\n",
       "      <td>5</td>\n",
       "      <td>4</td>\n",
       "      <td>4</td>\n",
       "      <td>5</td>\n",
       "      <td>1</td>\n",
       "      <td>unknown</td>\n",
       "      <td>Part 6: Stone Ocean</td>\n",
       "      <td>Сильный стенд</td>\n",
       "      <td>Быстрый стенд</td>\n",
       "      <td>Стенд дальнего действия</td>\n",
       "      <td>Выносливый, стойкий стенд</td>\n",
       "      <td>Неточный стенд</td>\n",
       "    </tr>\n",
       "    <tr>\n",
       "      <th>121</th>\n",
       "      <td>Civil War</td>\n",
       "      <td>3</td>\n",
       "      <td>3</td>\n",
       "      <td>3</td>\n",
       "      <td>4</td>\n",
       "      <td>3</td>\n",
       "      <td>undefined</td>\n",
       "      <td>Part 7: Steel Ball Run</td>\n",
       "      <td>Сильный стенд</td>\n",
       "      <td>Быстрый стенд</td>\n",
       "      <td>Стенд дальнего действия</td>\n",
       "      <td>Выносливый, стойкий стенд</td>\n",
       "      <td>Точный стенд</td>\n",
       "    </tr>\n",
       "    <tr>\n",
       "      <th>152</th>\n",
       "      <td>Purple Haze Distortion</td>\n",
       "      <td>5</td>\n",
       "      <td>4</td>\n",
       "      <td>1</td>\n",
       "      <td>1</td>\n",
       "      <td>3</td>\n",
       "      <td>unknown</td>\n",
       "      <td>Light Novel: Purple Haze Feedback</td>\n",
       "      <td>Сильный стенд</td>\n",
       "      <td>Быстрый стенд</td>\n",
       "      <td>Стенд ближнего боя</td>\n",
       "      <td>Стенд довольно уязвимый</td>\n",
       "      <td>Точный стенд</td>\n",
       "    </tr>\n",
       "  </tbody>\n",
       "</table>\n",
       "</div>"
      ],
      "text/plain": [
       "                          Stand      Сила  Скорость Дальность Выносливость  \\\n",
       "62                    Baby Face         5         4         5            5   \n",
       "77      Gold Experience Requiem  infinite  infinite  infinite     infinite   \n",
       "79                 King Crimson         5         5         1            1   \n",
       "85               Rolling Stones         5         4         5            5   \n",
       "90                   Whitesnake         5         2         2            5   \n",
       "91                       C-Moon         4         4         4            5   \n",
       "92              Jail House Lock         1         3         4            5   \n",
       "95                  Under World         5         3         5            3   \n",
       "96                     Sky High         4         3         4            3   \n",
       "97                Star Platinum         5         5         3            5   \n",
       "99            Bohemian Rhapsody         1         3  infinite            5   \n",
       "100      Burning Down the House         2         2         3            5   \n",
       "102              Dragon's Dream         3         4         3            5   \n",
       "104  Green, Green Grass of Home         5         4         4            5   \n",
       "121                   Civil War         3         3         3            4   \n",
       "152      Purple Haze Distortion         5         4         1            1   \n",
       "\n",
       "     Точность    Потенциал                              Story         strong  \\\n",
       "62          3  situational                Part 5: Vento Aureo  Сильный стенд   \n",
       "77   infinite     infinite                Part 5: Vento Aureo  Сильный стенд   \n",
       "79          5      unknown                Part 5: Vento Aureo  Сильный стенд   \n",
       "85          1    undefined                Part 5: Vento Aureo  Сильный стенд   \n",
       "90          1      unknown                Part 6: Stone Ocean  Сильный стенд   \n",
       "91          1      unknown                Part 6: Stone Ocean  Сильный стенд   \n",
       "92          2    undefined                Part 6: Stone Ocean   Слабый стенд   \n",
       "95          2    undefined                Part 6: Stone Ocean  Сильный стенд   \n",
       "96          4    undefined                Part 6: Stone Ocean  Сильный стенд   \n",
       "97          5    undefined                Part 6: Stone Ocean  Сильный стенд   \n",
       "99          3    undefined                Part 6: Stone Ocean   Слабый стенд   \n",
       "100         2    undefined                Part 6: Stone Ocean   Слабый стенд   \n",
       "102         3    undefined                Part 6: Stone Ocean  Сильный стенд   \n",
       "104         1      unknown                Part 6: Stone Ocean  Сильный стенд   \n",
       "121         3    undefined             Part 7: Steel Ball Run  Сильный стенд   \n",
       "152         3      unknown  Light Novel: Purple Haze Feedback  Сильный стенд   \n",
       "\n",
       "               speed                    range                    stamina  \\\n",
       "62     Быстрый стенд  Стенд дальнего действия  Выносливый, стойкий стенд   \n",
       "77     Быстрый стенд  Стенд дальнего действия  Выносливый, стойкий стенд   \n",
       "79     Быстрый стенд       Стенд ближнего боя    Стенд довольно уязвимый   \n",
       "85     Быстрый стенд  Стенд дальнего действия  Выносливый, стойкий стенд   \n",
       "90   Медленный стенд       Стенд ближнего боя  Выносливый, стойкий стенд   \n",
       "91     Быстрый стенд  Стенд дальнего действия  Выносливый, стойкий стенд   \n",
       "92     Быстрый стенд  Стенд дальнего действия  Выносливый, стойкий стенд   \n",
       "95     Быстрый стенд  Стенд дальнего действия  Выносливый, стойкий стенд   \n",
       "96     Быстрый стенд  Стенд дальнего действия  Выносливый, стойкий стенд   \n",
       "97     Быстрый стенд  Стенд дальнего действия  Выносливый, стойкий стенд   \n",
       "99     Быстрый стенд  Стенд дальнего действия  Выносливый, стойкий стенд   \n",
       "100  Медленный стенд  Стенд дальнего действия  Выносливый, стойкий стенд   \n",
       "102    Быстрый стенд  Стенд дальнего действия  Выносливый, стойкий стенд   \n",
       "104    Быстрый стенд  Стенд дальнего действия  Выносливый, стойкий стенд   \n",
       "121    Быстрый стенд  Стенд дальнего действия  Выносливый, стойкий стенд   \n",
       "152    Быстрый стенд       Стенд ближнего боя    Стенд довольно уязвимый   \n",
       "\n",
       "           accuracy  \n",
       "62     Точный стенд  \n",
       "77     Точный стенд  \n",
       "79     Точный стенд  \n",
       "85   Неточный стенд  \n",
       "90   Неточный стенд  \n",
       "91   Неточный стенд  \n",
       "92   Неточный стенд  \n",
       "95   Неточный стенд  \n",
       "96     Точный стенд  \n",
       "97     Точный стенд  \n",
       "99     Точный стенд  \n",
       "100  Неточный стенд  \n",
       "102    Точный стенд  \n",
       "104  Неточный стенд  \n",
       "121    Точный стенд  \n",
       "152    Точный стенд  "
      ]
     },
     "metadata": {},
     "output_type": "display_data"
    }
   ],
   "source": [
    "unknown_potential_stands = begin_dataset[\n",
    "    (begin_dataset['Потенциал'] == 'undefined') | (begin_dataset['Потенциал'] == 'unknown') |\n",
    "    (begin_dataset['Потенциал'] == 'infinite') | (begin_dataset['Потенциал'] == 'situational')\n",
    "]\n",
    "\n",
    "display(unknown_potential_stands)"
   ]
  },
  {
   "cell_type": "markdown",
   "metadata": {},
   "source": [
    "Опять у нас появился **Baby Face**, потенциал у него ситуативный, но, рассмотрим лучший случай и когда нащ \"зародыш\" появляется от лучшей матери ~~чзх~~, так что в потенциал поставим ему 5 баллов\n",
    "\n",
    "**King Crimson**, как будто, достиг совего потенциала, и, думаю, что где-то заслуженная 4 ему обеспечена\n",
    "\n",
    "О, а вот и **Star Platinum** появился, наконец-таки, вообще, я слышал, что его в 6 части просто слили, но в принципе и понятно: там Джотаро в каком эпизоде умер? В 8? Неважно, я его запомнил со времен 3 сезона и могу сказать наверняка: если бы Джотаро бы его развивал, то я уверен, что он бы останавливал время и на большее количество минут. Потенциал одназночно был, поэтому ставим 5 баллов\n",
    "\n",
    "А, тем более у нас тут несколько **Star Platinum**, поэтому 100% ставим максимум -- 5\n",
    "\n",
    "Насчет остальных неуверен, поэтому пойдем обычным путем"
   ]
  },
  {
   "cell_type": "code",
   "execution_count": 317,
   "metadata": {},
   "outputs": [
    {
     "name": "stderr",
     "output_type": "stream",
     "text": [
      "C:\\Users\\Smart\\AppData\\Local\\Temp\\ipykernel_13008\\33348233.py:9: SettingWithCopyWarning:\n",
      "\n",
      "\n",
      "A value is trying to be set on a copy of a slice from a DataFrame.\n",
      "Try using .loc[row_indexer,col_indexer] = value instead\n",
      "\n",
      "See the caveats in the documentation: https://pandas.pydata.org/pandas-docs/stable/user_guide/indexing.html#returning-a-view-versus-a-copy\n",
      "\n",
      "C:\\Users\\Smart\\AppData\\Local\\Temp\\ipykernel_13008\\33348233.py:10: SettingWithCopyWarning:\n",
      "\n",
      "\n",
      "A value is trying to be set on a copy of a slice from a DataFrame.\n",
      "Try using .loc[row_indexer,col_indexer] = value instead\n",
      "\n",
      "See the caveats in the documentation: https://pandas.pydata.org/pandas-docs/stable/user_guide/indexing.html#returning-a-view-versus-a-copy\n",
      "\n"
     ]
    }
   ],
   "source": [
    "stands_with_potential_5 = begin_dataset[\n",
    "    (begin_dataset['Stand'].str.startswith('Baby')) | (begin_dataset['Stand'].str.startswith('Star'))\n",
    "]\n",
    "\n",
    "stands_with_potential_4 = begin_dataset[\n",
    "    (begin_dataset['Stand'].str.startswith('King'))\n",
    "]\n",
    "\n",
    "stands_with_potential_5['Потенциал'] = 5\n",
    "stands_with_potential_4['Потенциал'] = 4\n",
    "\n",
    "begin_dataset.loc[stands_with_potential_4.index, 'Потенциал'] = stands_with_potential_4['Потенциал']\n",
    "begin_dataset.loc[stands_with_potential_5.index, 'Потенциал'] = stands_with_potential_5['Потенциал']\n"
   ]
  },
  {
   "cell_type": "code",
   "execution_count": 318,
   "metadata": {},
   "outputs": [
    {
     "data": {
      "application/vnd.plotly.v1+json": {
       "config": {
        "plotlyServerURL": "https://plotly.com"
       },
       "data": [
        {
         "alignmentgroup": "True",
         "bingroup": "x",
         "histfunc": "sum",
         "hovertemplate": "Потенциал=%{x}<br>sum of Количество=%{y}<extra></extra>",
         "legendgroup": "",
         "marker": {
          "color": "#00ff17",
          "pattern": {
           "shape": ""
          }
         },
         "name": "",
         "nbinsx": 8,
         "offsetgroup": "",
         "orientation": "v",
         "showlegend": false,
         "type": "histogram",
         "x": [
          1,
          3,
          5,
          2,
          4
         ],
         "xaxis": "x",
         "y": [
          39,
          38,
          29,
          20,
          17
         ],
         "yaxis": "y"
        }
       ],
       "layout": {
        "barmode": "relative",
        "legend": {
         "tracegroupgap": 0
        },
        "margin": {
         "t": 60
        },
        "template": {
         "data": {
          "bar": [
           {
            "error_x": {
             "color": "#2a3f5f"
            },
            "error_y": {
             "color": "#2a3f5f"
            },
            "marker": {
             "line": {
              "color": "#E5ECF6",
              "width": 0.5
             },
             "pattern": {
              "fillmode": "overlay",
              "size": 10,
              "solidity": 0.2
             }
            },
            "type": "bar"
           }
          ],
          "barpolar": [
           {
            "marker": {
             "line": {
              "color": "#E5ECF6",
              "width": 0.5
             },
             "pattern": {
              "fillmode": "overlay",
              "size": 10,
              "solidity": 0.2
             }
            },
            "type": "barpolar"
           }
          ],
          "carpet": [
           {
            "aaxis": {
             "endlinecolor": "#2a3f5f",
             "gridcolor": "white",
             "linecolor": "white",
             "minorgridcolor": "white",
             "startlinecolor": "#2a3f5f"
            },
            "baxis": {
             "endlinecolor": "#2a3f5f",
             "gridcolor": "white",
             "linecolor": "white",
             "minorgridcolor": "white",
             "startlinecolor": "#2a3f5f"
            },
            "type": "carpet"
           }
          ],
          "choropleth": [
           {
            "colorbar": {
             "outlinewidth": 0,
             "ticks": ""
            },
            "type": "choropleth"
           }
          ],
          "contour": [
           {
            "colorbar": {
             "outlinewidth": 0,
             "ticks": ""
            },
            "colorscale": [
             [
              0,
              "#0d0887"
             ],
             [
              0.1111111111111111,
              "#46039f"
             ],
             [
              0.2222222222222222,
              "#7201a8"
             ],
             [
              0.3333333333333333,
              "#9c179e"
             ],
             [
              0.4444444444444444,
              "#bd3786"
             ],
             [
              0.5555555555555556,
              "#d8576b"
             ],
             [
              0.6666666666666666,
              "#ed7953"
             ],
             [
              0.7777777777777778,
              "#fb9f3a"
             ],
             [
              0.8888888888888888,
              "#fdca26"
             ],
             [
              1,
              "#f0f921"
             ]
            ],
            "type": "contour"
           }
          ],
          "contourcarpet": [
           {
            "colorbar": {
             "outlinewidth": 0,
             "ticks": ""
            },
            "type": "contourcarpet"
           }
          ],
          "heatmap": [
           {
            "colorbar": {
             "outlinewidth": 0,
             "ticks": ""
            },
            "colorscale": [
             [
              0,
              "#0d0887"
             ],
             [
              0.1111111111111111,
              "#46039f"
             ],
             [
              0.2222222222222222,
              "#7201a8"
             ],
             [
              0.3333333333333333,
              "#9c179e"
             ],
             [
              0.4444444444444444,
              "#bd3786"
             ],
             [
              0.5555555555555556,
              "#d8576b"
             ],
             [
              0.6666666666666666,
              "#ed7953"
             ],
             [
              0.7777777777777778,
              "#fb9f3a"
             ],
             [
              0.8888888888888888,
              "#fdca26"
             ],
             [
              1,
              "#f0f921"
             ]
            ],
            "type": "heatmap"
           }
          ],
          "heatmapgl": [
           {
            "colorbar": {
             "outlinewidth": 0,
             "ticks": ""
            },
            "colorscale": [
             [
              0,
              "#0d0887"
             ],
             [
              0.1111111111111111,
              "#46039f"
             ],
             [
              0.2222222222222222,
              "#7201a8"
             ],
             [
              0.3333333333333333,
              "#9c179e"
             ],
             [
              0.4444444444444444,
              "#bd3786"
             ],
             [
              0.5555555555555556,
              "#d8576b"
             ],
             [
              0.6666666666666666,
              "#ed7953"
             ],
             [
              0.7777777777777778,
              "#fb9f3a"
             ],
             [
              0.8888888888888888,
              "#fdca26"
             ],
             [
              1,
              "#f0f921"
             ]
            ],
            "type": "heatmapgl"
           }
          ],
          "histogram": [
           {
            "marker": {
             "pattern": {
              "fillmode": "overlay",
              "size": 10,
              "solidity": 0.2
             }
            },
            "type": "histogram"
           }
          ],
          "histogram2d": [
           {
            "colorbar": {
             "outlinewidth": 0,
             "ticks": ""
            },
            "colorscale": [
             [
              0,
              "#0d0887"
             ],
             [
              0.1111111111111111,
              "#46039f"
             ],
             [
              0.2222222222222222,
              "#7201a8"
             ],
             [
              0.3333333333333333,
              "#9c179e"
             ],
             [
              0.4444444444444444,
              "#bd3786"
             ],
             [
              0.5555555555555556,
              "#d8576b"
             ],
             [
              0.6666666666666666,
              "#ed7953"
             ],
             [
              0.7777777777777778,
              "#fb9f3a"
             ],
             [
              0.8888888888888888,
              "#fdca26"
             ],
             [
              1,
              "#f0f921"
             ]
            ],
            "type": "histogram2d"
           }
          ],
          "histogram2dcontour": [
           {
            "colorbar": {
             "outlinewidth": 0,
             "ticks": ""
            },
            "colorscale": [
             [
              0,
              "#0d0887"
             ],
             [
              0.1111111111111111,
              "#46039f"
             ],
             [
              0.2222222222222222,
              "#7201a8"
             ],
             [
              0.3333333333333333,
              "#9c179e"
             ],
             [
              0.4444444444444444,
              "#bd3786"
             ],
             [
              0.5555555555555556,
              "#d8576b"
             ],
             [
              0.6666666666666666,
              "#ed7953"
             ],
             [
              0.7777777777777778,
              "#fb9f3a"
             ],
             [
              0.8888888888888888,
              "#fdca26"
             ],
             [
              1,
              "#f0f921"
             ]
            ],
            "type": "histogram2dcontour"
           }
          ],
          "mesh3d": [
           {
            "colorbar": {
             "outlinewidth": 0,
             "ticks": ""
            },
            "type": "mesh3d"
           }
          ],
          "parcoords": [
           {
            "line": {
             "colorbar": {
              "outlinewidth": 0,
              "ticks": ""
             }
            },
            "type": "parcoords"
           }
          ],
          "pie": [
           {
            "automargin": true,
            "type": "pie"
           }
          ],
          "scatter": [
           {
            "fillpattern": {
             "fillmode": "overlay",
             "size": 10,
             "solidity": 0.2
            },
            "type": "scatter"
           }
          ],
          "scatter3d": [
           {
            "line": {
             "colorbar": {
              "outlinewidth": 0,
              "ticks": ""
             }
            },
            "marker": {
             "colorbar": {
              "outlinewidth": 0,
              "ticks": ""
             }
            },
            "type": "scatter3d"
           }
          ],
          "scattercarpet": [
           {
            "marker": {
             "colorbar": {
              "outlinewidth": 0,
              "ticks": ""
             }
            },
            "type": "scattercarpet"
           }
          ],
          "scattergeo": [
           {
            "marker": {
             "colorbar": {
              "outlinewidth": 0,
              "ticks": ""
             }
            },
            "type": "scattergeo"
           }
          ],
          "scattergl": [
           {
            "marker": {
             "colorbar": {
              "outlinewidth": 0,
              "ticks": ""
             }
            },
            "type": "scattergl"
           }
          ],
          "scattermapbox": [
           {
            "marker": {
             "colorbar": {
              "outlinewidth": 0,
              "ticks": ""
             }
            },
            "type": "scattermapbox"
           }
          ],
          "scatterpolar": [
           {
            "marker": {
             "colorbar": {
              "outlinewidth": 0,
              "ticks": ""
             }
            },
            "type": "scatterpolar"
           }
          ],
          "scatterpolargl": [
           {
            "marker": {
             "colorbar": {
              "outlinewidth": 0,
              "ticks": ""
             }
            },
            "type": "scatterpolargl"
           }
          ],
          "scatterternary": [
           {
            "marker": {
             "colorbar": {
              "outlinewidth": 0,
              "ticks": ""
             }
            },
            "type": "scatterternary"
           }
          ],
          "surface": [
           {
            "colorbar": {
             "outlinewidth": 0,
             "ticks": ""
            },
            "colorscale": [
             [
              0,
              "#0d0887"
             ],
             [
              0.1111111111111111,
              "#46039f"
             ],
             [
              0.2222222222222222,
              "#7201a8"
             ],
             [
              0.3333333333333333,
              "#9c179e"
             ],
             [
              0.4444444444444444,
              "#bd3786"
             ],
             [
              0.5555555555555556,
              "#d8576b"
             ],
             [
              0.6666666666666666,
              "#ed7953"
             ],
             [
              0.7777777777777778,
              "#fb9f3a"
             ],
             [
              0.8888888888888888,
              "#fdca26"
             ],
             [
              1,
              "#f0f921"
             ]
            ],
            "type": "surface"
           }
          ],
          "table": [
           {
            "cells": {
             "fill": {
              "color": "#EBF0F8"
             },
             "line": {
              "color": "white"
             }
            },
            "header": {
             "fill": {
              "color": "#C8D4E3"
             },
             "line": {
              "color": "white"
             }
            },
            "type": "table"
           }
          ]
         },
         "layout": {
          "annotationdefaults": {
           "arrowcolor": "#2a3f5f",
           "arrowhead": 0,
           "arrowwidth": 1
          },
          "autotypenumbers": "strict",
          "coloraxis": {
           "colorbar": {
            "outlinewidth": 0,
            "ticks": ""
           }
          },
          "colorscale": {
           "diverging": [
            [
             0,
             "#8e0152"
            ],
            [
             0.1,
             "#c51b7d"
            ],
            [
             0.2,
             "#de77ae"
            ],
            [
             0.3,
             "#f1b6da"
            ],
            [
             0.4,
             "#fde0ef"
            ],
            [
             0.5,
             "#f7f7f7"
            ],
            [
             0.6,
             "#e6f5d0"
            ],
            [
             0.7,
             "#b8e186"
            ],
            [
             0.8,
             "#7fbc41"
            ],
            [
             0.9,
             "#4d9221"
            ],
            [
             1,
             "#276419"
            ]
           ],
           "sequential": [
            [
             0,
             "#0d0887"
            ],
            [
             0.1111111111111111,
             "#46039f"
            ],
            [
             0.2222222222222222,
             "#7201a8"
            ],
            [
             0.3333333333333333,
             "#9c179e"
            ],
            [
             0.4444444444444444,
             "#bd3786"
            ],
            [
             0.5555555555555556,
             "#d8576b"
            ],
            [
             0.6666666666666666,
             "#ed7953"
            ],
            [
             0.7777777777777778,
             "#fb9f3a"
            ],
            [
             0.8888888888888888,
             "#fdca26"
            ],
            [
             1,
             "#f0f921"
            ]
           ],
           "sequentialminus": [
            [
             0,
             "#0d0887"
            ],
            [
             0.1111111111111111,
             "#46039f"
            ],
            [
             0.2222222222222222,
             "#7201a8"
            ],
            [
             0.3333333333333333,
             "#9c179e"
            ],
            [
             0.4444444444444444,
             "#bd3786"
            ],
            [
             0.5555555555555556,
             "#d8576b"
            ],
            [
             0.6666666666666666,
             "#ed7953"
            ],
            [
             0.7777777777777778,
             "#fb9f3a"
            ],
            [
             0.8888888888888888,
             "#fdca26"
            ],
            [
             1,
             "#f0f921"
            ]
           ]
          },
          "colorway": [
           "#636efa",
           "#EF553B",
           "#00cc96",
           "#ab63fa",
           "#FFA15A",
           "#19d3f3",
           "#FF6692",
           "#B6E880",
           "#FF97FF",
           "#FECB52"
          ],
          "font": {
           "color": "#2a3f5f"
          },
          "geo": {
           "bgcolor": "white",
           "lakecolor": "white",
           "landcolor": "#E5ECF6",
           "showlakes": true,
           "showland": true,
           "subunitcolor": "white"
          },
          "hoverlabel": {
           "align": "left"
          },
          "hovermode": "closest",
          "mapbox": {
           "style": "light"
          },
          "paper_bgcolor": "white",
          "plot_bgcolor": "#E5ECF6",
          "polar": {
           "angularaxis": {
            "gridcolor": "white",
            "linecolor": "white",
            "ticks": ""
           },
           "bgcolor": "#E5ECF6",
           "radialaxis": {
            "gridcolor": "white",
            "linecolor": "white",
            "ticks": ""
           }
          },
          "scene": {
           "xaxis": {
            "backgroundcolor": "#E5ECF6",
            "gridcolor": "white",
            "gridwidth": 2,
            "linecolor": "white",
            "showbackground": true,
            "ticks": "",
            "zerolinecolor": "white"
           },
           "yaxis": {
            "backgroundcolor": "#E5ECF6",
            "gridcolor": "white",
            "gridwidth": 2,
            "linecolor": "white",
            "showbackground": true,
            "ticks": "",
            "zerolinecolor": "white"
           },
           "zaxis": {
            "backgroundcolor": "#E5ECF6",
            "gridcolor": "white",
            "gridwidth": 2,
            "linecolor": "white",
            "showbackground": true,
            "ticks": "",
            "zerolinecolor": "white"
           }
          },
          "shapedefaults": {
           "line": {
            "color": "#2a3f5f"
           }
          },
          "ternary": {
           "aaxis": {
            "gridcolor": "white",
            "linecolor": "white",
            "ticks": ""
           },
           "baxis": {
            "gridcolor": "white",
            "linecolor": "white",
            "ticks": ""
           },
           "bgcolor": "#E5ECF6",
           "caxis": {
            "gridcolor": "white",
            "linecolor": "white",
            "ticks": ""
           }
          },
          "title": {
           "x": 0.05
          },
          "xaxis": {
           "automargin": true,
           "gridcolor": "white",
           "linecolor": "white",
           "ticks": "",
           "title": {
            "standoff": 15
           },
           "zerolinecolor": "white",
           "zerolinewidth": 2
          },
          "yaxis": {
           "automargin": true,
           "gridcolor": "white",
           "linecolor": "white",
           "ticks": "",
           "title": {
            "standoff": 15
           },
           "zerolinecolor": "white",
           "zerolinewidth": 2
          }
         }
        },
        "title": {
         "text": "Распределение стендов по потенциалу развития",
         "x": 0.5
        },
        "xaxis": {
         "anchor": "y",
         "domain": [
          0,
          1
         ],
         "title": {
          "text": "Потенциал"
         }
        },
        "yaxis": {
         "anchor": "x",
         "domain": [
          0,
          1
         ],
         "title": {
          "text": "sum of Количество"
         }
        }
       }
      }
     },
     "metadata": {},
     "output_type": "display_data"
    },
    {
     "data": {
      "text/html": [
       "<div>\n",
       "<style scoped>\n",
       "    .dataframe tbody tr th:only-of-type {\n",
       "        vertical-align: middle;\n",
       "    }\n",
       "\n",
       "    .dataframe tbody tr th {\n",
       "        vertical-align: top;\n",
       "    }\n",
       "\n",
       "    .dataframe thead th {\n",
       "        text-align: right;\n",
       "    }\n",
       "</style>\n",
       "<table border=\"1\" class=\"dataframe\">\n",
       "  <thead>\n",
       "    <tr style=\"text-align: right;\">\n",
       "      <th></th>\n",
       "      <th>Потенциал</th>\n",
       "      <th>Количество</th>\n",
       "      <th>probability</th>\n",
       "    </tr>\n",
       "  </thead>\n",
       "  <tbody>\n",
       "    <tr>\n",
       "      <th>0</th>\n",
       "      <td>1</td>\n",
       "      <td>39</td>\n",
       "      <td>0.272727</td>\n",
       "    </tr>\n",
       "    <tr>\n",
       "      <th>1</th>\n",
       "      <td>3</td>\n",
       "      <td>38</td>\n",
       "      <td>0.265734</td>\n",
       "    </tr>\n",
       "    <tr>\n",
       "      <th>2</th>\n",
       "      <td>5</td>\n",
       "      <td>29</td>\n",
       "      <td>0.202797</td>\n",
       "    </tr>\n",
       "    <tr>\n",
       "      <th>3</th>\n",
       "      <td>2</td>\n",
       "      <td>20</td>\n",
       "      <td>0.139860</td>\n",
       "    </tr>\n",
       "    <tr>\n",
       "      <th>4</th>\n",
       "      <td>4</td>\n",
       "      <td>17</td>\n",
       "      <td>0.118881</td>\n",
       "    </tr>\n",
       "  </tbody>\n",
       "</table>\n",
       "</div>"
      ],
      "text/plain": [
       "   Потенциал  Количество  probability\n",
       "0          1          39     0.272727\n",
       "1          3          38     0.265734\n",
       "2          5          29     0.202797\n",
       "3          2          20     0.139860\n",
       "4          4          17     0.118881"
      ]
     },
     "metadata": {},
     "output_type": "display_data"
    }
   ],
   "source": [
    "known_potential_stands = begin_dataset[\n",
    "    (begin_dataset['Потенциал'] != 'undefined') & (begin_dataset['Потенциал'] != 'unknown') & (begin_dataset['Потенциал'] != 'infinite')\n",
    "]\n",
    "\n",
    "pivot_table_potential = known_potential_stands.value_counts('Потенциал').reset_index().rename(columns={'count': 'Количество'})\n",
    "\n",
    "\n",
    "potential_histogram = px.histogram(pivot_table_potential, x = 'Потенциал', y = 'Количество', nbins = 8, color_discrete_sequence=['#00ff17'])\n",
    "\n",
    "potential_histogram.update_layout(title = {'text': 'Распределение стендов по потенциалу развития', 'x': 0.5})\n",
    "\n",
    "potential_histogram.show()\n",
    "\n",
    "sum_potential = pivot_table_potential['Количество'].sum()\n",
    "\n",
    "pivot_table_potential['probability'] = pivot_table_potential['Количество'] / sum_potential\n",
    "\n",
    "display(pivot_table_potential)"
   ]
  },
  {
   "cell_type": "code",
   "execution_count": 319,
   "metadata": {},
   "outputs": [
    {
     "name": "stderr",
     "output_type": "stream",
     "text": [
      "C:\\Users\\Smart\\AppData\\Local\\Temp\\ipykernel_13008\\1976422178.py:9: SettingWithCopyWarning:\n",
      "\n",
      "\n",
      "A value is trying to be set on a copy of a slice from a DataFrame.\n",
      "Try using .loc[row_indexer,col_indexer] = value instead\n",
      "\n",
      "See the caveats in the documentation: https://pandas.pydata.org/pandas-docs/stable/user_guide/indexing.html#returning-a-view-versus-a-copy\n",
      "\n"
     ]
    },
    {
     "data": {
      "text/html": [
       "<div>\n",
       "<style scoped>\n",
       "    .dataframe tbody tr th:only-of-type {\n",
       "        vertical-align: middle;\n",
       "    }\n",
       "\n",
       "    .dataframe tbody tr th {\n",
       "        vertical-align: top;\n",
       "    }\n",
       "\n",
       "    .dataframe thead th {\n",
       "        text-align: right;\n",
       "    }\n",
       "</style>\n",
       "<table border=\"1\" class=\"dataframe\">\n",
       "  <thead>\n",
       "    <tr style=\"text-align: right;\">\n",
       "      <th></th>\n",
       "      <th>Stand</th>\n",
       "      <th>Сила</th>\n",
       "      <th>Скорость</th>\n",
       "      <th>Дальность</th>\n",
       "      <th>Выносливость</th>\n",
       "      <th>Точность</th>\n",
       "      <th>Потенциал</th>\n",
       "      <th>Story</th>\n",
       "      <th>strong</th>\n",
       "      <th>speed</th>\n",
       "      <th>range</th>\n",
       "      <th>stamina</th>\n",
       "      <th>accuracy</th>\n",
       "    </tr>\n",
       "  </thead>\n",
       "  <tbody>\n",
       "    <tr>\n",
       "      <th>0</th>\n",
       "      <td>Anubis</td>\n",
       "      <td>4</td>\n",
       "      <td>4</td>\n",
       "      <td>1</td>\n",
       "      <td>5</td>\n",
       "      <td>1</td>\n",
       "      <td>3</td>\n",
       "      <td>Part 3: Stardust Crusaders</td>\n",
       "      <td>Сильный стенд</td>\n",
       "      <td>Быстрый стенд</td>\n",
       "      <td>Стенд ближнего боя</td>\n",
       "      <td>Выносливый, стойкий стенд</td>\n",
       "      <td>Неточный стенд</td>\n",
       "    </tr>\n",
       "    <tr>\n",
       "      <th>1</th>\n",
       "      <td>Atum</td>\n",
       "      <td>2</td>\n",
       "      <td>3</td>\n",
       "      <td>2</td>\n",
       "      <td>4</td>\n",
       "      <td>2</td>\n",
       "      <td>2</td>\n",
       "      <td>Part 3: Stardust Crusaders</td>\n",
       "      <td>Слабый стенд</td>\n",
       "      <td>Быстрый стенд</td>\n",
       "      <td>Стенд ближнего боя</td>\n",
       "      <td>Выносливый, стойкий стенд</td>\n",
       "      <td>Неточный стенд</td>\n",
       "    </tr>\n",
       "    <tr>\n",
       "      <th>2</th>\n",
       "      <td>Bastet</td>\n",
       "      <td>1</td>\n",
       "      <td>1</td>\n",
       "      <td>4</td>\n",
       "      <td>5</td>\n",
       "      <td>1</td>\n",
       "      <td>1</td>\n",
       "      <td>Part 3: Stardust Crusaders</td>\n",
       "      <td>Слабый стенд</td>\n",
       "      <td>Медленный стенд</td>\n",
       "      <td>Стенд дальнего действия</td>\n",
       "      <td>Выносливый, стойкий стенд</td>\n",
       "      <td>Неточный стенд</td>\n",
       "    </tr>\n",
       "    <tr>\n",
       "      <th>3</th>\n",
       "      <td>Cream</td>\n",
       "      <td>4</td>\n",
       "      <td>4</td>\n",
       "      <td>2</td>\n",
       "      <td>3</td>\n",
       "      <td>3</td>\n",
       "      <td>2</td>\n",
       "      <td>Part 3: Stardust Crusaders</td>\n",
       "      <td>Сильный стенд</td>\n",
       "      <td>Быстрый стенд</td>\n",
       "      <td>Стенд ближнего боя</td>\n",
       "      <td>Выносливый, стойкий стенд</td>\n",
       "      <td>Точный стенд</td>\n",
       "    </tr>\n",
       "    <tr>\n",
       "      <th>4</th>\n",
       "      <td>Death Thirteen</td>\n",
       "      <td>3</td>\n",
       "      <td>3</td>\n",
       "      <td>1</td>\n",
       "      <td>4</td>\n",
       "      <td>2</td>\n",
       "      <td>4</td>\n",
       "      <td>Part 3: Stardust Crusaders</td>\n",
       "      <td>Сильный стенд</td>\n",
       "      <td>Быстрый стенд</td>\n",
       "      <td>Стенд ближнего боя</td>\n",
       "      <td>Выносливый, стойкий стенд</td>\n",
       "      <td>Неточный стенд</td>\n",
       "    </tr>\n",
       "    <tr>\n",
       "      <th>...</th>\n",
       "      <td>...</td>\n",
       "      <td>...</td>\n",
       "      <td>...</td>\n",
       "      <td>...</td>\n",
       "      <td>...</td>\n",
       "      <td>...</td>\n",
       "      <td>...</td>\n",
       "      <td>...</td>\n",
       "      <td>...</td>\n",
       "      <td>...</td>\n",
       "      <td>...</td>\n",
       "      <td>...</td>\n",
       "      <td>...</td>\n",
       "    </tr>\n",
       "    <tr>\n",
       "      <th>151</th>\n",
       "      <td>Nightbird Flying</td>\n",
       "      <td>1</td>\n",
       "      <td>5</td>\n",
       "      <td>5</td>\n",
       "      <td>5</td>\n",
       "      <td>1</td>\n",
       "      <td>1</td>\n",
       "      <td>Light Novel: Purple Haze Feedback</td>\n",
       "      <td>Слабый стенд</td>\n",
       "      <td>Быстрый стенд</td>\n",
       "      <td>Стенд дальнего действия</td>\n",
       "      <td>Выносливый, стойкий стенд</td>\n",
       "      <td>Неточный стенд</td>\n",
       "    </tr>\n",
       "    <tr>\n",
       "      <th>152</th>\n",
       "      <td>Purple Haze Distortion</td>\n",
       "      <td>5</td>\n",
       "      <td>4</td>\n",
       "      <td>1</td>\n",
       "      <td>1</td>\n",
       "      <td>3</td>\n",
       "      <td>5</td>\n",
       "      <td>Light Novel: Purple Haze Feedback</td>\n",
       "      <td>Сильный стенд</td>\n",
       "      <td>Быстрый стенд</td>\n",
       "      <td>Стенд ближнего боя</td>\n",
       "      <td>Стенд довольно уязвимый</td>\n",
       "      <td>Точный стенд</td>\n",
       "    </tr>\n",
       "    <tr>\n",
       "      <th>153</th>\n",
       "      <td>Rainy Day Dream Away</td>\n",
       "      <td>1</td>\n",
       "      <td>4</td>\n",
       "      <td>5</td>\n",
       "      <td>5</td>\n",
       "      <td>1</td>\n",
       "      <td>1</td>\n",
       "      <td>Light Novel: Purple Haze Feedback</td>\n",
       "      <td>Слабый стенд</td>\n",
       "      <td>Быстрый стенд</td>\n",
       "      <td>Стенд дальнего действия</td>\n",
       "      <td>Выносливый, стойкий стенд</td>\n",
       "      <td>Неточный стенд</td>\n",
       "    </tr>\n",
       "    <tr>\n",
       "      <th>154</th>\n",
       "      <td>Remote Romance</td>\n",
       "      <td>1</td>\n",
       "      <td>2</td>\n",
       "      <td>infinite</td>\n",
       "      <td>4</td>\n",
       "      <td>3</td>\n",
       "      <td>1</td>\n",
       "      <td>Featured</td>\n",
       "      <td>Слабый стенд</td>\n",
       "      <td>Медленный стенд</td>\n",
       "      <td>Стенд дальнего действия</td>\n",
       "      <td>Выносливый, стойкий стенд</td>\n",
       "      <td>Точный стенд</td>\n",
       "    </tr>\n",
       "    <tr>\n",
       "      <th>155</th>\n",
       "      <td>House of Holy</td>\n",
       "      <td>1</td>\n",
       "      <td>4</td>\n",
       "      <td>3</td>\n",
       "      <td>5</td>\n",
       "      <td>2</td>\n",
       "      <td>2</td>\n",
       "      <td>Featured</td>\n",
       "      <td>Слабый стенд</td>\n",
       "      <td>Быстрый стенд</td>\n",
       "      <td>Стенд дальнего действия</td>\n",
       "      <td>Выносливый, стойкий стенд</td>\n",
       "      <td>Неточный стенд</td>\n",
       "    </tr>\n",
       "  </tbody>\n",
       "</table>\n",
       "<p>156 rows × 13 columns</p>\n",
       "</div>"
      ],
      "text/plain": [
       "                      Stand Сила Скорость Дальность Выносливость Точность  \\\n",
       "0                    Anubis    4        4         1            5        1   \n",
       "1                      Atum    2        3         2            4        2   \n",
       "2                    Bastet    1        1         4            5        1   \n",
       "3                     Cream    4        4         2            3        3   \n",
       "4            Death Thirteen    3        3         1            4        2   \n",
       "..                      ...  ...      ...       ...          ...      ...   \n",
       "151        Nightbird Flying    1        5         5            5        1   \n",
       "152  Purple Haze Distortion    5        4         1            1        3   \n",
       "153    Rainy Day Dream Away    1        4         5            5        1   \n",
       "154          Remote Romance    1        2  infinite            4        3   \n",
       "155           House of Holy    1        4         3            5        2   \n",
       "\n",
       "    Потенциал                              Story         strong  \\\n",
       "0           3         Part 3: Stardust Crusaders  Сильный стенд   \n",
       "1           2         Part 3: Stardust Crusaders   Слабый стенд   \n",
       "2           1         Part 3: Stardust Crusaders   Слабый стенд   \n",
       "3           2         Part 3: Stardust Crusaders  Сильный стенд   \n",
       "4           4         Part 3: Stardust Crusaders  Сильный стенд   \n",
       "..        ...                                ...            ...   \n",
       "151         1  Light Novel: Purple Haze Feedback   Слабый стенд   \n",
       "152         5  Light Novel: Purple Haze Feedback  Сильный стенд   \n",
       "153         1  Light Novel: Purple Haze Feedback   Слабый стенд   \n",
       "154         1                           Featured   Слабый стенд   \n",
       "155         2                           Featured   Слабый стенд   \n",
       "\n",
       "               speed                    range                    stamina  \\\n",
       "0      Быстрый стенд       Стенд ближнего боя  Выносливый, стойкий стенд   \n",
       "1      Быстрый стенд       Стенд ближнего боя  Выносливый, стойкий стенд   \n",
       "2    Медленный стенд  Стенд дальнего действия  Выносливый, стойкий стенд   \n",
       "3      Быстрый стенд       Стенд ближнего боя  Выносливый, стойкий стенд   \n",
       "4      Быстрый стенд       Стенд ближнего боя  Выносливый, стойкий стенд   \n",
       "..               ...                      ...                        ...   \n",
       "151    Быстрый стенд  Стенд дальнего действия  Выносливый, стойкий стенд   \n",
       "152    Быстрый стенд       Стенд ближнего боя    Стенд довольно уязвимый   \n",
       "153    Быстрый стенд  Стенд дальнего действия  Выносливый, стойкий стенд   \n",
       "154  Медленный стенд  Стенд дальнего действия  Выносливый, стойкий стенд   \n",
       "155    Быстрый стенд  Стенд дальнего действия  Выносливый, стойкий стенд   \n",
       "\n",
       "           accuracy  \n",
       "0    Неточный стенд  \n",
       "1    Неточный стенд  \n",
       "2    Неточный стенд  \n",
       "3      Точный стенд  \n",
       "4    Неточный стенд  \n",
       "..              ...  \n",
       "151  Неточный стенд  \n",
       "152    Точный стенд  \n",
       "153  Неточный стенд  \n",
       "154    Точный стенд  \n",
       "155  Неточный стенд  \n",
       "\n",
       "[156 rows x 13 columns]"
      ]
     },
     "metadata": {},
     "output_type": "display_data"
    }
   ],
   "source": [
    "unknown_potential_stands = begin_dataset[\n",
    "    (begin_dataset['Потенциал'] == 'undefined') | (begin_dataset['Потенциал'] == 'unknown')\n",
    "]\n",
    "\n",
    "def replace_empty_potential(row):\n",
    "    row['Потенциал'] = np.random.choice(pivot_table_potential['Потенциал'], p = pivot_table_potential['probability'])\n",
    "    return row['Потенциал']\n",
    "\n",
    "unknown_potential_stands['Потенциал'] = unknown_potential_stands.apply(replace_empty_potential, axis = 1)\n",
    "\n",
    "begin_dataset.loc[unknown_potential_stands.index, 'Потенциал'] = unknown_potential_stands['Потенциал']\n",
    "\n",
    "display(begin_dataset)"
   ]
  },
  {
   "cell_type": "markdown",
   "metadata": {},
   "source": [
    "Строим диаграмму таким же образом: **стенды с высоким потенциалом развития -- потенциал >= 3, иначе -- потенциал низкий**"
   ]
  },
  {
   "cell_type": "code",
   "execution_count": 320,
   "metadata": {},
   "outputs": [
    {
     "data": {
      "text/html": [
       "<div>\n",
       "<style scoped>\n",
       "    .dataframe tbody tr th:only-of-type {\n",
       "        vertical-align: middle;\n",
       "    }\n",
       "\n",
       "    .dataframe tbody tr th {\n",
       "        vertical-align: top;\n",
       "    }\n",
       "\n",
       "    .dataframe thead th {\n",
       "        text-align: right;\n",
       "    }\n",
       "</style>\n",
       "<table border=\"1\" class=\"dataframe\">\n",
       "  <thead>\n",
       "    <tr style=\"text-align: right;\">\n",
       "      <th></th>\n",
       "      <th>Stand</th>\n",
       "      <th>Сила</th>\n",
       "      <th>Скорость</th>\n",
       "      <th>Дальность</th>\n",
       "      <th>Выносливость</th>\n",
       "      <th>Точность</th>\n",
       "      <th>Потенциал</th>\n",
       "      <th>Story</th>\n",
       "      <th>strong</th>\n",
       "      <th>speed</th>\n",
       "      <th>range</th>\n",
       "      <th>stamina</th>\n",
       "      <th>accuracy</th>\n",
       "      <th>potential</th>\n",
       "    </tr>\n",
       "  </thead>\n",
       "  <tbody>\n",
       "    <tr>\n",
       "      <th>0</th>\n",
       "      <td>Anubis</td>\n",
       "      <td>4</td>\n",
       "      <td>4</td>\n",
       "      <td>1</td>\n",
       "      <td>5</td>\n",
       "      <td>1</td>\n",
       "      <td>3</td>\n",
       "      <td>Part 3: Stardust Crusaders</td>\n",
       "      <td>Сильный стенд</td>\n",
       "      <td>Быстрый стенд</td>\n",
       "      <td>Стенд ближнего боя</td>\n",
       "      <td>Выносливый, стойкий стенд</td>\n",
       "      <td>Неточный стенд</td>\n",
       "      <td>Высокий потенциал</td>\n",
       "    </tr>\n",
       "    <tr>\n",
       "      <th>1</th>\n",
       "      <td>Atum</td>\n",
       "      <td>2</td>\n",
       "      <td>3</td>\n",
       "      <td>2</td>\n",
       "      <td>4</td>\n",
       "      <td>2</td>\n",
       "      <td>2</td>\n",
       "      <td>Part 3: Stardust Crusaders</td>\n",
       "      <td>Слабый стенд</td>\n",
       "      <td>Быстрый стенд</td>\n",
       "      <td>Стенд ближнего боя</td>\n",
       "      <td>Выносливый, стойкий стенд</td>\n",
       "      <td>Неточный стенд</td>\n",
       "      <td>Низкий потенциал</td>\n",
       "    </tr>\n",
       "    <tr>\n",
       "      <th>2</th>\n",
       "      <td>Bastet</td>\n",
       "      <td>1</td>\n",
       "      <td>1</td>\n",
       "      <td>4</td>\n",
       "      <td>5</td>\n",
       "      <td>1</td>\n",
       "      <td>1</td>\n",
       "      <td>Part 3: Stardust Crusaders</td>\n",
       "      <td>Слабый стенд</td>\n",
       "      <td>Медленный стенд</td>\n",
       "      <td>Стенд дальнего действия</td>\n",
       "      <td>Выносливый, стойкий стенд</td>\n",
       "      <td>Неточный стенд</td>\n",
       "      <td>Низкий потенциал</td>\n",
       "    </tr>\n",
       "    <tr>\n",
       "      <th>3</th>\n",
       "      <td>Cream</td>\n",
       "      <td>4</td>\n",
       "      <td>4</td>\n",
       "      <td>2</td>\n",
       "      <td>3</td>\n",
       "      <td>3</td>\n",
       "      <td>2</td>\n",
       "      <td>Part 3: Stardust Crusaders</td>\n",
       "      <td>Сильный стенд</td>\n",
       "      <td>Быстрый стенд</td>\n",
       "      <td>Стенд ближнего боя</td>\n",
       "      <td>Выносливый, стойкий стенд</td>\n",
       "      <td>Точный стенд</td>\n",
       "      <td>Низкий потенциал</td>\n",
       "    </tr>\n",
       "    <tr>\n",
       "      <th>4</th>\n",
       "      <td>Death Thirteen</td>\n",
       "      <td>3</td>\n",
       "      <td>3</td>\n",
       "      <td>1</td>\n",
       "      <td>4</td>\n",
       "      <td>2</td>\n",
       "      <td>4</td>\n",
       "      <td>Part 3: Stardust Crusaders</td>\n",
       "      <td>Сильный стенд</td>\n",
       "      <td>Быстрый стенд</td>\n",
       "      <td>Стенд ближнего боя</td>\n",
       "      <td>Выносливый, стойкий стенд</td>\n",
       "      <td>Неточный стенд</td>\n",
       "      <td>Высокий потенциал</td>\n",
       "    </tr>\n",
       "    <tr>\n",
       "      <th>...</th>\n",
       "      <td>...</td>\n",
       "      <td>...</td>\n",
       "      <td>...</td>\n",
       "      <td>...</td>\n",
       "      <td>...</td>\n",
       "      <td>...</td>\n",
       "      <td>...</td>\n",
       "      <td>...</td>\n",
       "      <td>...</td>\n",
       "      <td>...</td>\n",
       "      <td>...</td>\n",
       "      <td>...</td>\n",
       "      <td>...</td>\n",
       "      <td>...</td>\n",
       "    </tr>\n",
       "    <tr>\n",
       "      <th>151</th>\n",
       "      <td>Nightbird Flying</td>\n",
       "      <td>1</td>\n",
       "      <td>5</td>\n",
       "      <td>5</td>\n",
       "      <td>5</td>\n",
       "      <td>1</td>\n",
       "      <td>1</td>\n",
       "      <td>Light Novel: Purple Haze Feedback</td>\n",
       "      <td>Слабый стенд</td>\n",
       "      <td>Быстрый стенд</td>\n",
       "      <td>Стенд дальнего действия</td>\n",
       "      <td>Выносливый, стойкий стенд</td>\n",
       "      <td>Неточный стенд</td>\n",
       "      <td>Низкий потенциал</td>\n",
       "    </tr>\n",
       "    <tr>\n",
       "      <th>152</th>\n",
       "      <td>Purple Haze Distortion</td>\n",
       "      <td>5</td>\n",
       "      <td>4</td>\n",
       "      <td>1</td>\n",
       "      <td>1</td>\n",
       "      <td>3</td>\n",
       "      <td>5</td>\n",
       "      <td>Light Novel: Purple Haze Feedback</td>\n",
       "      <td>Сильный стенд</td>\n",
       "      <td>Быстрый стенд</td>\n",
       "      <td>Стенд ближнего боя</td>\n",
       "      <td>Стенд довольно уязвимый</td>\n",
       "      <td>Точный стенд</td>\n",
       "      <td>Высокий потенциал</td>\n",
       "    </tr>\n",
       "    <tr>\n",
       "      <th>153</th>\n",
       "      <td>Rainy Day Dream Away</td>\n",
       "      <td>1</td>\n",
       "      <td>4</td>\n",
       "      <td>5</td>\n",
       "      <td>5</td>\n",
       "      <td>1</td>\n",
       "      <td>1</td>\n",
       "      <td>Light Novel: Purple Haze Feedback</td>\n",
       "      <td>Слабый стенд</td>\n",
       "      <td>Быстрый стенд</td>\n",
       "      <td>Стенд дальнего действия</td>\n",
       "      <td>Выносливый, стойкий стенд</td>\n",
       "      <td>Неточный стенд</td>\n",
       "      <td>Низкий потенциал</td>\n",
       "    </tr>\n",
       "    <tr>\n",
       "      <th>154</th>\n",
       "      <td>Remote Romance</td>\n",
       "      <td>1</td>\n",
       "      <td>2</td>\n",
       "      <td>infinite</td>\n",
       "      <td>4</td>\n",
       "      <td>3</td>\n",
       "      <td>1</td>\n",
       "      <td>Featured</td>\n",
       "      <td>Слабый стенд</td>\n",
       "      <td>Медленный стенд</td>\n",
       "      <td>Стенд дальнего действия</td>\n",
       "      <td>Выносливый, стойкий стенд</td>\n",
       "      <td>Точный стенд</td>\n",
       "      <td>Низкий потенциал</td>\n",
       "    </tr>\n",
       "    <tr>\n",
       "      <th>155</th>\n",
       "      <td>House of Holy</td>\n",
       "      <td>1</td>\n",
       "      <td>4</td>\n",
       "      <td>3</td>\n",
       "      <td>5</td>\n",
       "      <td>2</td>\n",
       "      <td>2</td>\n",
       "      <td>Featured</td>\n",
       "      <td>Слабый стенд</td>\n",
       "      <td>Быстрый стенд</td>\n",
       "      <td>Стенд дальнего действия</td>\n",
       "      <td>Выносливый, стойкий стенд</td>\n",
       "      <td>Неточный стенд</td>\n",
       "      <td>Низкий потенциал</td>\n",
       "    </tr>\n",
       "  </tbody>\n",
       "</table>\n",
       "<p>156 rows × 14 columns</p>\n",
       "</div>"
      ],
      "text/plain": [
       "                      Stand Сила Скорость Дальность Выносливость Точность  \\\n",
       "0                    Anubis    4        4         1            5        1   \n",
       "1                      Atum    2        3         2            4        2   \n",
       "2                    Bastet    1        1         4            5        1   \n",
       "3                     Cream    4        4         2            3        3   \n",
       "4            Death Thirteen    3        3         1            4        2   \n",
       "..                      ...  ...      ...       ...          ...      ...   \n",
       "151        Nightbird Flying    1        5         5            5        1   \n",
       "152  Purple Haze Distortion    5        4         1            1        3   \n",
       "153    Rainy Day Dream Away    1        4         5            5        1   \n",
       "154          Remote Romance    1        2  infinite            4        3   \n",
       "155           House of Holy    1        4         3            5        2   \n",
       "\n",
       "    Потенциал                              Story         strong  \\\n",
       "0           3         Part 3: Stardust Crusaders  Сильный стенд   \n",
       "1           2         Part 3: Stardust Crusaders   Слабый стенд   \n",
       "2           1         Part 3: Stardust Crusaders   Слабый стенд   \n",
       "3           2         Part 3: Stardust Crusaders  Сильный стенд   \n",
       "4           4         Part 3: Stardust Crusaders  Сильный стенд   \n",
       "..        ...                                ...            ...   \n",
       "151         1  Light Novel: Purple Haze Feedback   Слабый стенд   \n",
       "152         5  Light Novel: Purple Haze Feedback  Сильный стенд   \n",
       "153         1  Light Novel: Purple Haze Feedback   Слабый стенд   \n",
       "154         1                           Featured   Слабый стенд   \n",
       "155         2                           Featured   Слабый стенд   \n",
       "\n",
       "               speed                    range                    stamina  \\\n",
       "0      Быстрый стенд       Стенд ближнего боя  Выносливый, стойкий стенд   \n",
       "1      Быстрый стенд       Стенд ближнего боя  Выносливый, стойкий стенд   \n",
       "2    Медленный стенд  Стенд дальнего действия  Выносливый, стойкий стенд   \n",
       "3      Быстрый стенд       Стенд ближнего боя  Выносливый, стойкий стенд   \n",
       "4      Быстрый стенд       Стенд ближнего боя  Выносливый, стойкий стенд   \n",
       "..               ...                      ...                        ...   \n",
       "151    Быстрый стенд  Стенд дальнего действия  Выносливый, стойкий стенд   \n",
       "152    Быстрый стенд       Стенд ближнего боя    Стенд довольно уязвимый   \n",
       "153    Быстрый стенд  Стенд дальнего действия  Выносливый, стойкий стенд   \n",
       "154  Медленный стенд  Стенд дальнего действия  Выносливый, стойкий стенд   \n",
       "155    Быстрый стенд  Стенд дальнего действия  Выносливый, стойкий стенд   \n",
       "\n",
       "           accuracy          potential  \n",
       "0    Неточный стенд  Высокий потенциал  \n",
       "1    Неточный стенд   Низкий потенциал  \n",
       "2    Неточный стенд   Низкий потенциал  \n",
       "3      Точный стенд   Низкий потенциал  \n",
       "4    Неточный стенд  Высокий потенциал  \n",
       "..              ...                ...  \n",
       "151  Неточный стенд   Низкий потенциал  \n",
       "152    Точный стенд  Высокий потенциал  \n",
       "153  Неточный стенд   Низкий потенциал  \n",
       "154    Точный стенд   Низкий потенциал  \n",
       "155  Неточный стенд   Низкий потенциал  \n",
       "\n",
       "[156 rows x 14 columns]"
      ]
     },
     "metadata": {},
     "output_type": "display_data"
    }
   ],
   "source": [
    "def assign_potential_stands(row):\n",
    "    if row['Потенциал'] == 'infinite' or row['Потенциал'] >= 3:\n",
    "        row['potential'] = 'Высокий потенциал'\n",
    "    else:\n",
    "        row['potential'] = 'Низкий потенциал'\n",
    "    return row['potential']\n",
    "\n",
    "begin_dataset['potential'] = begin_dataset.apply(assign_potential_stands, axis = 1)\n",
    "\n",
    "display(begin_dataset)"
   ]
  },
  {
   "cell_type": "code",
   "execution_count": 321,
   "metadata": {},
   "outputs": [
    {
     "data": {
      "text/html": [
       "<div>\n",
       "<style scoped>\n",
       "    .dataframe tbody tr th:only-of-type {\n",
       "        vertical-align: middle;\n",
       "    }\n",
       "\n",
       "    .dataframe tbody tr th {\n",
       "        vertical-align: top;\n",
       "    }\n",
       "\n",
       "    .dataframe thead th {\n",
       "        text-align: right;\n",
       "    }\n",
       "</style>\n",
       "<table border=\"1\" class=\"dataframe\">\n",
       "  <thead>\n",
       "    <tr style=\"text-align: right;\">\n",
       "      <th></th>\n",
       "      <th>potential</th>\n",
       "      <th>Количество</th>\n",
       "    </tr>\n",
       "  </thead>\n",
       "  <tbody>\n",
       "    <tr>\n",
       "      <th>0</th>\n",
       "      <td>Высокий потенциал</td>\n",
       "      <td>93</td>\n",
       "    </tr>\n",
       "    <tr>\n",
       "      <th>1</th>\n",
       "      <td>Низкий потенциал</td>\n",
       "      <td>63</td>\n",
       "    </tr>\n",
       "  </tbody>\n",
       "</table>\n",
       "</div>"
      ],
      "text/plain": [
       "           potential  Количество\n",
       "0  Высокий потенциал          93\n",
       "1   Низкий потенциал          63"
      ]
     },
     "metadata": {},
     "output_type": "display_data"
    },
    {
     "data": {
      "application/vnd.plotly.v1+json": {
       "config": {
        "plotlyServerURL": "https://plotly.com"
       },
       "data": [
        {
         "domain": {
          "x": [
           0,
           1
          ],
          "y": [
           0,
           1
          ]
         },
         "hole": 0.5,
         "hovertemplate": "potential=%{label}<br>Количество=%{value}<extra></extra>",
         "labels": [
          "Высокий потенциал",
          "Низкий потенциал"
         ],
         "legendgroup": "",
         "name": "",
         "showlegend": true,
         "type": "pie",
         "values": [
          93,
          63
         ]
        }
       ],
       "layout": {
        "legend": {
         "tracegroupgap": 0
        },
        "margin": {
         "t": 60
        },
        "piecolorway": [
         "#00ff17",
         "#ff00e8"
        ],
        "showlegend": false,
        "template": {
         "data": {
          "bar": [
           {
            "error_x": {
             "color": "#2a3f5f"
            },
            "error_y": {
             "color": "#2a3f5f"
            },
            "marker": {
             "line": {
              "color": "#E5ECF6",
              "width": 0.5
             },
             "pattern": {
              "fillmode": "overlay",
              "size": 10,
              "solidity": 0.2
             }
            },
            "type": "bar"
           }
          ],
          "barpolar": [
           {
            "marker": {
             "line": {
              "color": "#E5ECF6",
              "width": 0.5
             },
             "pattern": {
              "fillmode": "overlay",
              "size": 10,
              "solidity": 0.2
             }
            },
            "type": "barpolar"
           }
          ],
          "carpet": [
           {
            "aaxis": {
             "endlinecolor": "#2a3f5f",
             "gridcolor": "white",
             "linecolor": "white",
             "minorgridcolor": "white",
             "startlinecolor": "#2a3f5f"
            },
            "baxis": {
             "endlinecolor": "#2a3f5f",
             "gridcolor": "white",
             "linecolor": "white",
             "minorgridcolor": "white",
             "startlinecolor": "#2a3f5f"
            },
            "type": "carpet"
           }
          ],
          "choropleth": [
           {
            "colorbar": {
             "outlinewidth": 0,
             "ticks": ""
            },
            "type": "choropleth"
           }
          ],
          "contour": [
           {
            "colorbar": {
             "outlinewidth": 0,
             "ticks": ""
            },
            "colorscale": [
             [
              0,
              "#0d0887"
             ],
             [
              0.1111111111111111,
              "#46039f"
             ],
             [
              0.2222222222222222,
              "#7201a8"
             ],
             [
              0.3333333333333333,
              "#9c179e"
             ],
             [
              0.4444444444444444,
              "#bd3786"
             ],
             [
              0.5555555555555556,
              "#d8576b"
             ],
             [
              0.6666666666666666,
              "#ed7953"
             ],
             [
              0.7777777777777778,
              "#fb9f3a"
             ],
             [
              0.8888888888888888,
              "#fdca26"
             ],
             [
              1,
              "#f0f921"
             ]
            ],
            "type": "contour"
           }
          ],
          "contourcarpet": [
           {
            "colorbar": {
             "outlinewidth": 0,
             "ticks": ""
            },
            "type": "contourcarpet"
           }
          ],
          "heatmap": [
           {
            "colorbar": {
             "outlinewidth": 0,
             "ticks": ""
            },
            "colorscale": [
             [
              0,
              "#0d0887"
             ],
             [
              0.1111111111111111,
              "#46039f"
             ],
             [
              0.2222222222222222,
              "#7201a8"
             ],
             [
              0.3333333333333333,
              "#9c179e"
             ],
             [
              0.4444444444444444,
              "#bd3786"
             ],
             [
              0.5555555555555556,
              "#d8576b"
             ],
             [
              0.6666666666666666,
              "#ed7953"
             ],
             [
              0.7777777777777778,
              "#fb9f3a"
             ],
             [
              0.8888888888888888,
              "#fdca26"
             ],
             [
              1,
              "#f0f921"
             ]
            ],
            "type": "heatmap"
           }
          ],
          "heatmapgl": [
           {
            "colorbar": {
             "outlinewidth": 0,
             "ticks": ""
            },
            "colorscale": [
             [
              0,
              "#0d0887"
             ],
             [
              0.1111111111111111,
              "#46039f"
             ],
             [
              0.2222222222222222,
              "#7201a8"
             ],
             [
              0.3333333333333333,
              "#9c179e"
             ],
             [
              0.4444444444444444,
              "#bd3786"
             ],
             [
              0.5555555555555556,
              "#d8576b"
             ],
             [
              0.6666666666666666,
              "#ed7953"
             ],
             [
              0.7777777777777778,
              "#fb9f3a"
             ],
             [
              0.8888888888888888,
              "#fdca26"
             ],
             [
              1,
              "#f0f921"
             ]
            ],
            "type": "heatmapgl"
           }
          ],
          "histogram": [
           {
            "marker": {
             "pattern": {
              "fillmode": "overlay",
              "size": 10,
              "solidity": 0.2
             }
            },
            "type": "histogram"
           }
          ],
          "histogram2d": [
           {
            "colorbar": {
             "outlinewidth": 0,
             "ticks": ""
            },
            "colorscale": [
             [
              0,
              "#0d0887"
             ],
             [
              0.1111111111111111,
              "#46039f"
             ],
             [
              0.2222222222222222,
              "#7201a8"
             ],
             [
              0.3333333333333333,
              "#9c179e"
             ],
             [
              0.4444444444444444,
              "#bd3786"
             ],
             [
              0.5555555555555556,
              "#d8576b"
             ],
             [
              0.6666666666666666,
              "#ed7953"
             ],
             [
              0.7777777777777778,
              "#fb9f3a"
             ],
             [
              0.8888888888888888,
              "#fdca26"
             ],
             [
              1,
              "#f0f921"
             ]
            ],
            "type": "histogram2d"
           }
          ],
          "histogram2dcontour": [
           {
            "colorbar": {
             "outlinewidth": 0,
             "ticks": ""
            },
            "colorscale": [
             [
              0,
              "#0d0887"
             ],
             [
              0.1111111111111111,
              "#46039f"
             ],
             [
              0.2222222222222222,
              "#7201a8"
             ],
             [
              0.3333333333333333,
              "#9c179e"
             ],
             [
              0.4444444444444444,
              "#bd3786"
             ],
             [
              0.5555555555555556,
              "#d8576b"
             ],
             [
              0.6666666666666666,
              "#ed7953"
             ],
             [
              0.7777777777777778,
              "#fb9f3a"
             ],
             [
              0.8888888888888888,
              "#fdca26"
             ],
             [
              1,
              "#f0f921"
             ]
            ],
            "type": "histogram2dcontour"
           }
          ],
          "mesh3d": [
           {
            "colorbar": {
             "outlinewidth": 0,
             "ticks": ""
            },
            "type": "mesh3d"
           }
          ],
          "parcoords": [
           {
            "line": {
             "colorbar": {
              "outlinewidth": 0,
              "ticks": ""
             }
            },
            "type": "parcoords"
           }
          ],
          "pie": [
           {
            "automargin": true,
            "type": "pie"
           }
          ],
          "scatter": [
           {
            "fillpattern": {
             "fillmode": "overlay",
             "size": 10,
             "solidity": 0.2
            },
            "type": "scatter"
           }
          ],
          "scatter3d": [
           {
            "line": {
             "colorbar": {
              "outlinewidth": 0,
              "ticks": ""
             }
            },
            "marker": {
             "colorbar": {
              "outlinewidth": 0,
              "ticks": ""
             }
            },
            "type": "scatter3d"
           }
          ],
          "scattercarpet": [
           {
            "marker": {
             "colorbar": {
              "outlinewidth": 0,
              "ticks": ""
             }
            },
            "type": "scattercarpet"
           }
          ],
          "scattergeo": [
           {
            "marker": {
             "colorbar": {
              "outlinewidth": 0,
              "ticks": ""
             }
            },
            "type": "scattergeo"
           }
          ],
          "scattergl": [
           {
            "marker": {
             "colorbar": {
              "outlinewidth": 0,
              "ticks": ""
             }
            },
            "type": "scattergl"
           }
          ],
          "scattermapbox": [
           {
            "marker": {
             "colorbar": {
              "outlinewidth": 0,
              "ticks": ""
             }
            },
            "type": "scattermapbox"
           }
          ],
          "scatterpolar": [
           {
            "marker": {
             "colorbar": {
              "outlinewidth": 0,
              "ticks": ""
             }
            },
            "type": "scatterpolar"
           }
          ],
          "scatterpolargl": [
           {
            "marker": {
             "colorbar": {
              "outlinewidth": 0,
              "ticks": ""
             }
            },
            "type": "scatterpolargl"
           }
          ],
          "scatterternary": [
           {
            "marker": {
             "colorbar": {
              "outlinewidth": 0,
              "ticks": ""
             }
            },
            "type": "scatterternary"
           }
          ],
          "surface": [
           {
            "colorbar": {
             "outlinewidth": 0,
             "ticks": ""
            },
            "colorscale": [
             [
              0,
              "#0d0887"
             ],
             [
              0.1111111111111111,
              "#46039f"
             ],
             [
              0.2222222222222222,
              "#7201a8"
             ],
             [
              0.3333333333333333,
              "#9c179e"
             ],
             [
              0.4444444444444444,
              "#bd3786"
             ],
             [
              0.5555555555555556,
              "#d8576b"
             ],
             [
              0.6666666666666666,
              "#ed7953"
             ],
             [
              0.7777777777777778,
              "#fb9f3a"
             ],
             [
              0.8888888888888888,
              "#fdca26"
             ],
             [
              1,
              "#f0f921"
             ]
            ],
            "type": "surface"
           }
          ],
          "table": [
           {
            "cells": {
             "fill": {
              "color": "#EBF0F8"
             },
             "line": {
              "color": "white"
             }
            },
            "header": {
             "fill": {
              "color": "#C8D4E3"
             },
             "line": {
              "color": "white"
             }
            },
            "type": "table"
           }
          ]
         },
         "layout": {
          "annotationdefaults": {
           "arrowcolor": "#2a3f5f",
           "arrowhead": 0,
           "arrowwidth": 1
          },
          "autotypenumbers": "strict",
          "coloraxis": {
           "colorbar": {
            "outlinewidth": 0,
            "ticks": ""
           }
          },
          "colorscale": {
           "diverging": [
            [
             0,
             "#8e0152"
            ],
            [
             0.1,
             "#c51b7d"
            ],
            [
             0.2,
             "#de77ae"
            ],
            [
             0.3,
             "#f1b6da"
            ],
            [
             0.4,
             "#fde0ef"
            ],
            [
             0.5,
             "#f7f7f7"
            ],
            [
             0.6,
             "#e6f5d0"
            ],
            [
             0.7,
             "#b8e186"
            ],
            [
             0.8,
             "#7fbc41"
            ],
            [
             0.9,
             "#4d9221"
            ],
            [
             1,
             "#276419"
            ]
           ],
           "sequential": [
            [
             0,
             "#0d0887"
            ],
            [
             0.1111111111111111,
             "#46039f"
            ],
            [
             0.2222222222222222,
             "#7201a8"
            ],
            [
             0.3333333333333333,
             "#9c179e"
            ],
            [
             0.4444444444444444,
             "#bd3786"
            ],
            [
             0.5555555555555556,
             "#d8576b"
            ],
            [
             0.6666666666666666,
             "#ed7953"
            ],
            [
             0.7777777777777778,
             "#fb9f3a"
            ],
            [
             0.8888888888888888,
             "#fdca26"
            ],
            [
             1,
             "#f0f921"
            ]
           ],
           "sequentialminus": [
            [
             0,
             "#0d0887"
            ],
            [
             0.1111111111111111,
             "#46039f"
            ],
            [
             0.2222222222222222,
             "#7201a8"
            ],
            [
             0.3333333333333333,
             "#9c179e"
            ],
            [
             0.4444444444444444,
             "#bd3786"
            ],
            [
             0.5555555555555556,
             "#d8576b"
            ],
            [
             0.6666666666666666,
             "#ed7953"
            ],
            [
             0.7777777777777778,
             "#fb9f3a"
            ],
            [
             0.8888888888888888,
             "#fdca26"
            ],
            [
             1,
             "#f0f921"
            ]
           ]
          },
          "colorway": [
           "#636efa",
           "#EF553B",
           "#00cc96",
           "#ab63fa",
           "#FFA15A",
           "#19d3f3",
           "#FF6692",
           "#B6E880",
           "#FF97FF",
           "#FECB52"
          ],
          "font": {
           "color": "#2a3f5f"
          },
          "geo": {
           "bgcolor": "white",
           "lakecolor": "white",
           "landcolor": "#E5ECF6",
           "showlakes": true,
           "showland": true,
           "subunitcolor": "white"
          },
          "hoverlabel": {
           "align": "left"
          },
          "hovermode": "closest",
          "mapbox": {
           "style": "light"
          },
          "paper_bgcolor": "white",
          "plot_bgcolor": "#E5ECF6",
          "polar": {
           "angularaxis": {
            "gridcolor": "white",
            "linecolor": "white",
            "ticks": ""
           },
           "bgcolor": "#E5ECF6",
           "radialaxis": {
            "gridcolor": "white",
            "linecolor": "white",
            "ticks": ""
           }
          },
          "scene": {
           "xaxis": {
            "backgroundcolor": "#E5ECF6",
            "gridcolor": "white",
            "gridwidth": 2,
            "linecolor": "white",
            "showbackground": true,
            "ticks": "",
            "zerolinecolor": "white"
           },
           "yaxis": {
            "backgroundcolor": "#E5ECF6",
            "gridcolor": "white",
            "gridwidth": 2,
            "linecolor": "white",
            "showbackground": true,
            "ticks": "",
            "zerolinecolor": "white"
           },
           "zaxis": {
            "backgroundcolor": "#E5ECF6",
            "gridcolor": "white",
            "gridwidth": 2,
            "linecolor": "white",
            "showbackground": true,
            "ticks": "",
            "zerolinecolor": "white"
           }
          },
          "shapedefaults": {
           "line": {
            "color": "#2a3f5f"
           }
          },
          "ternary": {
           "aaxis": {
            "gridcolor": "white",
            "linecolor": "white",
            "ticks": ""
           },
           "baxis": {
            "gridcolor": "white",
            "linecolor": "white",
            "ticks": ""
           },
           "bgcolor": "#E5ECF6",
           "caxis": {
            "gridcolor": "white",
            "linecolor": "white",
            "ticks": ""
           }
          },
          "title": {
           "x": 0.05
          },
          "xaxis": {
           "automargin": true,
           "gridcolor": "white",
           "linecolor": "white",
           "ticks": "",
           "title": {
            "standoff": 15
           },
           "zerolinecolor": "white",
           "zerolinewidth": 2
          },
          "yaxis": {
           "automargin": true,
           "gridcolor": "white",
           "linecolor": "white",
           "ticks": "",
           "title": {
            "standoff": 15
           },
           "zerolinecolor": "white",
           "zerolinewidth": 2
          }
         }
        },
        "title": {
         "text": "Распределение стендов с потенциалом",
         "x": 0.5
        },
        "width": 500
       }
      }
     },
     "metadata": {},
     "output_type": "display_data"
    }
   ],
   "source": [
    "pivot_potential_table = begin_dataset.value_counts('potential').reset_index().rename(columns = {'count': 'Количество'})\n",
    "\n",
    "display(pivot_potential_table)\n",
    "\n",
    "potential_pie_diagram = px.pie(pivot_potential_table, names = 'potential', values = 'Количество', hole = 0.5, width = 500, color_discrete_sequence=['#00ff17', '#ff00e8'])\n",
    "potential_pie_diagram.update_layout(title = {'text': 'Распределение стендов с потенциалом', 'x': 0.5}, showlegend = False)\n",
    "\n",
    "potential_pie_diagram.show()"
   ]
  },
  {
   "cell_type": "markdown",
   "metadata": {},
   "source": [
    "Как видно, **стендов с высоким потенциалом все же больше**"
   ]
  },
  {
   "cell_type": "markdown",
   "metadata": {},
   "source": [
    "Все, с утомительной обработкой грязных данных закончили, **теперь пора рассмотреть самый сок -- сами стенды в каждом сезоне/главе, выявить самые сильные, слабые, и потом еще срвнить стенды потом в каждом сезоне и понять, в каком же сезоне среднестатистический стенд наиболее сильный, а также предлагаю разбивать стенды в каждом сезоне на группы/фракции (дальше наглядно покажу все)**\n"
   ]
  },
  {
   "cell_type": "markdown",
   "metadata": {},
   "source": [
    "## 2.4 -- Общая мера измерения"
   ]
  },
  {
   "cell_type": "markdown",
   "metadata": {},
   "source": [
    "Перед тем, как рассматривать отдельные главы нам надо определиться, пожалуй, с одним из главных вопросов в этом датасете -- **как мы будем оценивать стенды?**\n",
    "\n",
    "Я предлагаю присваивать каждому стенду общий балл от 1 до 6 (от самого слабого (все параметры _E_) к самому сильному (все параметры _infinite_))\n",
    "\n",
    "Соответсвенно, нам надо как-то присвоить коэффициенты для характеристик, чтобы они (коэф.) в сумме давали нам 1. Это одна из фундаментальных частей, так как от этого будет зависеть -- попадет очередный стенд в топ или нет\n",
    "\n",
    "**Поэтому перед тем как предоставить коэффициенты я сделаю важную оговорочку:**\n",
    "\n",
    "**ЭТО ВСЕ МОЕ ЛИЧНОЕ МНЕНИЕ, КОТОРОЕ ОПИРАЕТСЯ НА МОЕ ЛИЧНОЕ ВОСПРИЯТИЕ СТЕНДОВ И ЗАСЧЕТ ГРАФИКОВ РАСПРЕДЕЛЕНИЙ, КОТОРЫЕ МЫ С ВАМИ ПОСТРОИЛИ**"
   ]
  },
  {
   "cell_type": "code",
   "execution_count": 322,
   "metadata": {},
   "outputs": [
    {
     "data": {
      "text/html": [
       "<div>\n",
       "<style scoped>\n",
       "    .dataframe tbody tr th:only-of-type {\n",
       "        vertical-align: middle;\n",
       "    }\n",
       "\n",
       "    .dataframe tbody tr th {\n",
       "        vertical-align: top;\n",
       "    }\n",
       "\n",
       "    .dataframe thead th {\n",
       "        text-align: right;\n",
       "    }\n",
       "</style>\n",
       "<table border=\"1\" class=\"dataframe\">\n",
       "  <thead>\n",
       "    <tr style=\"text-align: right;\">\n",
       "      <th></th>\n",
       "      <th>Stand</th>\n",
       "      <th>Сила</th>\n",
       "      <th>Скорость</th>\n",
       "      <th>Дальность</th>\n",
       "      <th>Выносливость</th>\n",
       "      <th>Точность</th>\n",
       "      <th>Потенциал</th>\n",
       "      <th>Story</th>\n",
       "      <th>strong</th>\n",
       "      <th>speed</th>\n",
       "      <th>range</th>\n",
       "      <th>stamina</th>\n",
       "      <th>accuracy</th>\n",
       "      <th>potential</th>\n",
       "    </tr>\n",
       "  </thead>\n",
       "  <tbody>\n",
       "    <tr>\n",
       "      <th>26</th>\n",
       "      <td>Strength</td>\n",
       "      <td>4</td>\n",
       "      <td>2</td>\n",
       "      <td>2</td>\n",
       "      <td>5</td>\n",
       "      <td>1</td>\n",
       "      <td>1</td>\n",
       "      <td>Part 3: Stardust Crusaders</td>\n",
       "      <td>Сильный стенд</td>\n",
       "      <td>Медленный стенд</td>\n",
       "      <td>Стенд ближнего боя</td>\n",
       "      <td>Выносливый, стойкий стенд</td>\n",
       "      <td>Неточный стенд</td>\n",
       "      <td>Низкий потенциал</td>\n",
       "    </tr>\n",
       "    <tr>\n",
       "      <th>79</th>\n",
       "      <td>King Crimson</td>\n",
       "      <td>5</td>\n",
       "      <td>5</td>\n",
       "      <td>1</td>\n",
       "      <td>1</td>\n",
       "      <td>5</td>\n",
       "      <td>4</td>\n",
       "      <td>Part 5: Vento Aureo</td>\n",
       "      <td>Сильный стенд</td>\n",
       "      <td>Быстрый стенд</td>\n",
       "      <td>Стенд ближнего боя</td>\n",
       "      <td>Стенд довольно уязвимый</td>\n",
       "      <td>Точный стенд</td>\n",
       "      <td>Высокий потенциал</td>\n",
       "    </tr>\n",
       "    <tr>\n",
       "      <th>117</th>\n",
       "      <td>Ball Breaker</td>\n",
       "      <td>5</td>\n",
       "      <td>5</td>\n",
       "      <td>2</td>\n",
       "      <td>4</td>\n",
       "      <td>3</td>\n",
       "      <td>4</td>\n",
       "      <td>Part 7: Steel Ball Run</td>\n",
       "      <td>Сильный стенд</td>\n",
       "      <td>Быстрый стенд</td>\n",
       "      <td>Стенд ближнего боя</td>\n",
       "      <td>Выносливый, стойкий стенд</td>\n",
       "      <td>Точный стенд</td>\n",
       "      <td>Высокий потенциал</td>\n",
       "    </tr>\n",
       "  </tbody>\n",
       "</table>\n",
       "</div>"
      ],
      "text/plain": [
       "            Stand Сила Скорость Дальность Выносливость Точность Потенциал  \\\n",
       "26       Strength    4        2         2            5        1         1   \n",
       "79   King Crimson    5        5         1            1        5         4   \n",
       "117  Ball Breaker    5        5         2            4        3         4   \n",
       "\n",
       "                          Story         strong            speed  \\\n",
       "26   Part 3: Stardust Crusaders  Сильный стенд  Медленный стенд   \n",
       "79          Part 5: Vento Aureo  Сильный стенд    Быстрый стенд   \n",
       "117      Part 7: Steel Ball Run  Сильный стенд    Быстрый стенд   \n",
       "\n",
       "                  range                    stamina        accuracy  \\\n",
       "26   Стенд ближнего боя  Выносливый, стойкий стенд  Неточный стенд   \n",
       "79   Стенд ближнего боя    Стенд довольно уязвимый    Точный стенд   \n",
       "117  Стенд ближнего боя  Выносливый, стойкий стенд    Точный стенд   \n",
       "\n",
       "             potential  \n",
       "26    Низкий потенциал  \n",
       "79   Высокий потенциал  \n",
       "117  Высокий потенциал  "
      ]
     },
     "metadata": {},
     "output_type": "display_data"
    }
   ],
   "source": [
    "display(begin_dataset.sample(3))"
   ]
  },
  {
   "cell_type": "code",
   "execution_count": 323,
   "metadata": {},
   "outputs": [
    {
     "data": {
      "text/html": [
       "<div>\n",
       "<style scoped>\n",
       "    .dataframe tbody tr th:only-of-type {\n",
       "        vertical-align: middle;\n",
       "    }\n",
       "\n",
       "    .dataframe tbody tr th {\n",
       "        vertical-align: top;\n",
       "    }\n",
       "\n",
       "    .dataframe thead th {\n",
       "        text-align: right;\n",
       "    }\n",
       "</style>\n",
       "<table border=\"1\" class=\"dataframe\">\n",
       "  <thead>\n",
       "    <tr style=\"text-align: right;\">\n",
       "      <th></th>\n",
       "      <th>Stand</th>\n",
       "      <th>Сила</th>\n",
       "      <th>Скорость</th>\n",
       "      <th>Дальность</th>\n",
       "      <th>Выносливость</th>\n",
       "      <th>Точность</th>\n",
       "      <th>Потенциал</th>\n",
       "      <th>Story</th>\n",
       "      <th>strong</th>\n",
       "      <th>speed</th>\n",
       "      <th>range</th>\n",
       "      <th>stamina</th>\n",
       "      <th>accuracy</th>\n",
       "      <th>potential</th>\n",
       "    </tr>\n",
       "  </thead>\n",
       "  <tbody>\n",
       "    <tr>\n",
       "      <th>63</th>\n",
       "      <td>Gold Experience</td>\n",
       "      <td>3</td>\n",
       "      <td>5</td>\n",
       "      <td>3</td>\n",
       "      <td>2</td>\n",
       "      <td>3</td>\n",
       "      <td>5</td>\n",
       "      <td>Part 5: Vento Aureo</td>\n",
       "      <td>Сильный стенд</td>\n",
       "      <td>Быстрый стенд</td>\n",
       "      <td>Стенд дальнего действия</td>\n",
       "      <td>Стенд довольно уязвимый</td>\n",
       "      <td>Точный стенд</td>\n",
       "      <td>Высокий потенциал</td>\n",
       "    </tr>\n",
       "  </tbody>\n",
       "</table>\n",
       "</div>"
      ],
      "text/plain": [
       "              Stand Сила Скорость Дальность Выносливость Точность Потенциал  \\\n",
       "63  Gold Experience    3        5         3            2        3         5   \n",
       "\n",
       "                  Story         strong          speed  \\\n",
       "63  Part 5: Vento Aureo  Сильный стенд  Быстрый стенд   \n",
       "\n",
       "                      range                  stamina      accuracy  \\\n",
       "63  Стенд дальнего действия  Стенд довольно уязвимый  Точный стенд   \n",
       "\n",
       "            potential  \n",
       "63  Высокий потенциал  "
      ]
     },
     "execution_count": 323,
     "metadata": {},
     "output_type": "execute_result"
    }
   ],
   "source": [
    "proof_to_accuracy = begin_dataset.query('Stand == \"Gold Experience\"')\n",
    "proof_to_accuracy\n"
   ]
  },
  {
   "cell_type": "markdown",
   "metadata": {},
   "source": [
    "Итак, мое распределение коэффициентов к каждому навыку во время боя:\n",
    "\n",
    "\n",
    "1) Я считаю, что в бою в первую очередь важна **выносливость**, так как она позволяет продержаться стенду максимально долго <br> Давайте присвоим выносливости коэффициент, равный **0.25** \n",
    "   \n",
    "2) Также второй важный параметр, который тоже очень важный во время схватки это **сила**, так как чем больше ее у стенда, тем более достойный отпор даст стенд, а соотвественно и шансы на выживание повышается <br> Давайте присвоим силе коэффициент, равный **0.2**\n",
    "\n",
    "3) Третий важный параметр это **потенциал развития**, так как мое субъективное мнение -- именно благодаря высокому потенциалу развития и быстрой адаптации к бою, в 3 сезоне тот же Star Platinum смог побеждать толпы врагов. К тому же потенциал развития стенда определяет его способность к росту и улучшению. Высокий потенциал развития позволяет стенду становиться сильнее и эффективнее со временем, это важная характеристика для долгосрочных стратегий и развития персонажа <br> Поэтому давайте присвоим потенциалу коэффициент, равный **0.2**\n",
    "\n",
    "4) Четвертая важная характеристика это **скорость**, так как если стенд будет слишком медленный, то он не сможет увернуться даже от обычного удара и может проиграть бой. <br> Пускай коэффициент у этого параметра будет **0.17** \n",
    "\n",
    "\n",
    "5) Следующая на очереди характеристика у нас это **дальность**, я думаю, что если у стенда будет хорошая дальность атаки, выносливость и сила, то это поможет стенду быть эффективным на любых расстояних и, как вариант, быстрее расправляться с противником, не привязываясь тоьлко к ближнему бою <br> Пускай коэффициент у дальности будет **0.13**\n",
    "\n",
    "6) И последний, но не по значению параметр -- **точность**. Объясню. Возьмем, например, Джорно Джованну и его стенд _Gold Experience_ (не реквием), стенд поистине могущественный и сильный. Он способен наносить точные удары в ближнем бою, но когда дело касается образования жизни, то он здесь может быть и не совсем точным. Там свои шероховатости, конечно, но все же, ему низкая точность не помешала стать одним из сильных стендов <br> Поэтому этот параметр получает суровую, наверное, оценку в **0.05**"
   ]
  },
  {
   "cell_type": "markdown",
   "metadata": {},
   "source": [
    "Таким образом, получаем следующую табличку, на которую мы будем опираться при оценивании стендов"
   ]
  },
  {
   "cell_type": "code",
   "execution_count": 324,
   "metadata": {},
   "outputs": [
    {
     "data": {
      "text/html": [
       "<div>\n",
       "<style scoped>\n",
       "    .dataframe tbody tr th:only-of-type {\n",
       "        vertical-align: middle;\n",
       "    }\n",
       "\n",
       "    .dataframe tbody tr th {\n",
       "        vertical-align: top;\n",
       "    }\n",
       "\n",
       "    .dataframe thead th {\n",
       "        text-align: right;\n",
       "    }\n",
       "</style>\n",
       "<table border=\"1\" class=\"dataframe\">\n",
       "  <thead>\n",
       "    <tr style=\"text-align: right;\">\n",
       "      <th></th>\n",
       "      <th>Параметры</th>\n",
       "      <th>Коэффициенты</th>\n",
       "    </tr>\n",
       "  </thead>\n",
       "  <tbody>\n",
       "    <tr>\n",
       "      <th>0</th>\n",
       "      <td>Выносливость</td>\n",
       "      <td>0.25</td>\n",
       "    </tr>\n",
       "    <tr>\n",
       "      <th>1</th>\n",
       "      <td>Сила</td>\n",
       "      <td>0.20</td>\n",
       "    </tr>\n",
       "    <tr>\n",
       "      <th>2</th>\n",
       "      <td>Потенциал развития</td>\n",
       "      <td>0.20</td>\n",
       "    </tr>\n",
       "    <tr>\n",
       "      <th>3</th>\n",
       "      <td>Скорость</td>\n",
       "      <td>0.17</td>\n",
       "    </tr>\n",
       "    <tr>\n",
       "      <th>4</th>\n",
       "      <td>Дальность</td>\n",
       "      <td>0.13</td>\n",
       "    </tr>\n",
       "    <tr>\n",
       "      <th>5</th>\n",
       "      <td>Точность</td>\n",
       "      <td>0.05</td>\n",
       "    </tr>\n",
       "  </tbody>\n",
       "</table>\n",
       "</div>"
      ],
      "text/plain": [
       "            Параметры  Коэффициенты\n",
       "0        Выносливость          0.25\n",
       "1                Сила          0.20\n",
       "2  Потенциал развития          0.20\n",
       "3            Скорость          0.17\n",
       "4           Дальность          0.13\n",
       "5            Точность          0.05"
      ]
     },
     "metadata": {},
     "output_type": "display_data"
    }
   ],
   "source": [
    "done_coef_table = pd.DataFrame({\n",
    "    'Параметры': ['Выносливость', 'Сила', 'Потенциал развития', 'Скорость', 'Дальность', 'Точность'],\n",
    "    'Коэффициенты': [0.25, 0.2, 0.2, 0.17, 0.13, 0.05]\n",
    "})\n",
    "\n",
    "display(done_coef_table)\n"
   ]
  },
  {
   "cell_type": "markdown",
   "metadata": {},
   "source": [
    "Теперь на основе данных коэффициентов рассчитаем общий балл каждого стенда от 1 до 6 (E - _infinite_)\n",
    "\n",
    "Заменим параметры, у которых написано _infinite_ на 6"
   ]
  },
  {
   "cell_type": "code",
   "execution_count": 325,
   "metadata": {},
   "outputs": [
    {
     "data": {
      "text/html": [
       "<div>\n",
       "<style scoped>\n",
       "    .dataframe tbody tr th:only-of-type {\n",
       "        vertical-align: middle;\n",
       "    }\n",
       "\n",
       "    .dataframe tbody tr th {\n",
       "        vertical-align: top;\n",
       "    }\n",
       "\n",
       "    .dataframe thead th {\n",
       "        text-align: right;\n",
       "    }\n",
       "</style>\n",
       "<table border=\"1\" class=\"dataframe\">\n",
       "  <thead>\n",
       "    <tr style=\"text-align: right;\">\n",
       "      <th></th>\n",
       "      <th>Stand</th>\n",
       "      <th>Сила</th>\n",
       "      <th>Скорость</th>\n",
       "      <th>Дальность</th>\n",
       "      <th>Выносливость</th>\n",
       "      <th>Точность</th>\n",
       "      <th>Потенциал</th>\n",
       "      <th>Story</th>\n",
       "      <th>strong</th>\n",
       "      <th>speed</th>\n",
       "      <th>range</th>\n",
       "      <th>stamina</th>\n",
       "      <th>accuracy</th>\n",
       "      <th>potential</th>\n",
       "      <th>Общий балл стенда</th>\n",
       "    </tr>\n",
       "  </thead>\n",
       "  <tbody>\n",
       "    <tr>\n",
       "      <th>0</th>\n",
       "      <td>Anubis</td>\n",
       "      <td>4.0</td>\n",
       "      <td>4.0</td>\n",
       "      <td>1.0</td>\n",
       "      <td>5.0</td>\n",
       "      <td>1.0</td>\n",
       "      <td>3.0</td>\n",
       "      <td>Part 3: Stardust Crusaders</td>\n",
       "      <td>Сильный стенд</td>\n",
       "      <td>Быстрый стенд</td>\n",
       "      <td>Стенд ближнего боя</td>\n",
       "      <td>Выносливый, стойкий стенд</td>\n",
       "      <td>Неточный стенд</td>\n",
       "      <td>Высокий потенциал</td>\n",
       "      <td>3.51</td>\n",
       "    </tr>\n",
       "    <tr>\n",
       "      <th>1</th>\n",
       "      <td>Atum</td>\n",
       "      <td>2.0</td>\n",
       "      <td>3.0</td>\n",
       "      <td>2.0</td>\n",
       "      <td>4.0</td>\n",
       "      <td>2.0</td>\n",
       "      <td>2.0</td>\n",
       "      <td>Part 3: Stardust Crusaders</td>\n",
       "      <td>Слабый стенд</td>\n",
       "      <td>Быстрый стенд</td>\n",
       "      <td>Стенд ближнего боя</td>\n",
       "      <td>Выносливый, стойкий стенд</td>\n",
       "      <td>Неточный стенд</td>\n",
       "      <td>Низкий потенциал</td>\n",
       "      <td>2.67</td>\n",
       "    </tr>\n",
       "    <tr>\n",
       "      <th>2</th>\n",
       "      <td>Bastet</td>\n",
       "      <td>1.0</td>\n",
       "      <td>1.0</td>\n",
       "      <td>4.0</td>\n",
       "      <td>5.0</td>\n",
       "      <td>1.0</td>\n",
       "      <td>1.0</td>\n",
       "      <td>Part 3: Stardust Crusaders</td>\n",
       "      <td>Слабый стенд</td>\n",
       "      <td>Медленный стенд</td>\n",
       "      <td>Стенд дальнего действия</td>\n",
       "      <td>Выносливый, стойкий стенд</td>\n",
       "      <td>Неточный стенд</td>\n",
       "      <td>Низкий потенциал</td>\n",
       "      <td>2.39</td>\n",
       "    </tr>\n",
       "    <tr>\n",
       "      <th>3</th>\n",
       "      <td>Cream</td>\n",
       "      <td>4.0</td>\n",
       "      <td>4.0</td>\n",
       "      <td>2.0</td>\n",
       "      <td>3.0</td>\n",
       "      <td>3.0</td>\n",
       "      <td>2.0</td>\n",
       "      <td>Part 3: Stardust Crusaders</td>\n",
       "      <td>Сильный стенд</td>\n",
       "      <td>Быстрый стенд</td>\n",
       "      <td>Стенд ближнего боя</td>\n",
       "      <td>Выносливый, стойкий стенд</td>\n",
       "      <td>Точный стенд</td>\n",
       "      <td>Низкий потенциал</td>\n",
       "      <td>3.04</td>\n",
       "    </tr>\n",
       "    <tr>\n",
       "      <th>4</th>\n",
       "      <td>Death Thirteen</td>\n",
       "      <td>3.0</td>\n",
       "      <td>3.0</td>\n",
       "      <td>1.0</td>\n",
       "      <td>4.0</td>\n",
       "      <td>2.0</td>\n",
       "      <td>4.0</td>\n",
       "      <td>Part 3: Stardust Crusaders</td>\n",
       "      <td>Сильный стенд</td>\n",
       "      <td>Быстрый стенд</td>\n",
       "      <td>Стенд ближнего боя</td>\n",
       "      <td>Выносливый, стойкий стенд</td>\n",
       "      <td>Неточный стенд</td>\n",
       "      <td>Высокий потенциал</td>\n",
       "      <td>3.14</td>\n",
       "    </tr>\n",
       "    <tr>\n",
       "      <th>...</th>\n",
       "      <td>...</td>\n",
       "      <td>...</td>\n",
       "      <td>...</td>\n",
       "      <td>...</td>\n",
       "      <td>...</td>\n",
       "      <td>...</td>\n",
       "      <td>...</td>\n",
       "      <td>...</td>\n",
       "      <td>...</td>\n",
       "      <td>...</td>\n",
       "      <td>...</td>\n",
       "      <td>...</td>\n",
       "      <td>...</td>\n",
       "      <td>...</td>\n",
       "      <td>...</td>\n",
       "    </tr>\n",
       "    <tr>\n",
       "      <th>151</th>\n",
       "      <td>Nightbird Flying</td>\n",
       "      <td>1.0</td>\n",
       "      <td>5.0</td>\n",
       "      <td>5.0</td>\n",
       "      <td>5.0</td>\n",
       "      <td>1.0</td>\n",
       "      <td>1.0</td>\n",
       "      <td>Light Novel: Purple Haze Feedback</td>\n",
       "      <td>Слабый стенд</td>\n",
       "      <td>Быстрый стенд</td>\n",
       "      <td>Стенд дальнего действия</td>\n",
       "      <td>Выносливый, стойкий стенд</td>\n",
       "      <td>Неточный стенд</td>\n",
       "      <td>Низкий потенциал</td>\n",
       "      <td>3.20</td>\n",
       "    </tr>\n",
       "    <tr>\n",
       "      <th>152</th>\n",
       "      <td>Purple Haze Distortion</td>\n",
       "      <td>5.0</td>\n",
       "      <td>4.0</td>\n",
       "      <td>1.0</td>\n",
       "      <td>1.0</td>\n",
       "      <td>3.0</td>\n",
       "      <td>5.0</td>\n",
       "      <td>Light Novel: Purple Haze Feedback</td>\n",
       "      <td>Сильный стенд</td>\n",
       "      <td>Быстрый стенд</td>\n",
       "      <td>Стенд ближнего боя</td>\n",
       "      <td>Стенд довольно уязвимый</td>\n",
       "      <td>Точный стенд</td>\n",
       "      <td>Высокий потенциал</td>\n",
       "      <td>3.21</td>\n",
       "    </tr>\n",
       "    <tr>\n",
       "      <th>153</th>\n",
       "      <td>Rainy Day Dream Away</td>\n",
       "      <td>1.0</td>\n",
       "      <td>4.0</td>\n",
       "      <td>5.0</td>\n",
       "      <td>5.0</td>\n",
       "      <td>1.0</td>\n",
       "      <td>1.0</td>\n",
       "      <td>Light Novel: Purple Haze Feedback</td>\n",
       "      <td>Слабый стенд</td>\n",
       "      <td>Быстрый стенд</td>\n",
       "      <td>Стенд дальнего действия</td>\n",
       "      <td>Выносливый, стойкий стенд</td>\n",
       "      <td>Неточный стенд</td>\n",
       "      <td>Низкий потенциал</td>\n",
       "      <td>3.03</td>\n",
       "    </tr>\n",
       "    <tr>\n",
       "      <th>154</th>\n",
       "      <td>Remote Romance</td>\n",
       "      <td>1.0</td>\n",
       "      <td>2.0</td>\n",
       "      <td>6.0</td>\n",
       "      <td>4.0</td>\n",
       "      <td>3.0</td>\n",
       "      <td>1.0</td>\n",
       "      <td>Featured</td>\n",
       "      <td>Слабый стенд</td>\n",
       "      <td>Медленный стенд</td>\n",
       "      <td>Стенд дальнего действия</td>\n",
       "      <td>Выносливый, стойкий стенд</td>\n",
       "      <td>Точный стенд</td>\n",
       "      <td>Низкий потенциал</td>\n",
       "      <td>2.67</td>\n",
       "    </tr>\n",
       "    <tr>\n",
       "      <th>155</th>\n",
       "      <td>House of Holy</td>\n",
       "      <td>1.0</td>\n",
       "      <td>4.0</td>\n",
       "      <td>3.0</td>\n",
       "      <td>5.0</td>\n",
       "      <td>2.0</td>\n",
       "      <td>2.0</td>\n",
       "      <td>Featured</td>\n",
       "      <td>Слабый стенд</td>\n",
       "      <td>Быстрый стенд</td>\n",
       "      <td>Стенд дальнего действия</td>\n",
       "      <td>Выносливый, стойкий стенд</td>\n",
       "      <td>Неточный стенд</td>\n",
       "      <td>Низкий потенциал</td>\n",
       "      <td>3.02</td>\n",
       "    </tr>\n",
       "  </tbody>\n",
       "</table>\n",
       "<p>156 rows × 15 columns</p>\n",
       "</div>"
      ],
      "text/plain": [
       "                      Stand  Сила  Скорость  Дальность  Выносливость  \\\n",
       "0                    Anubis   4.0       4.0        1.0           5.0   \n",
       "1                      Atum   2.0       3.0        2.0           4.0   \n",
       "2                    Bastet   1.0       1.0        4.0           5.0   \n",
       "3                     Cream   4.0       4.0        2.0           3.0   \n",
       "4            Death Thirteen   3.0       3.0        1.0           4.0   \n",
       "..                      ...   ...       ...        ...           ...   \n",
       "151        Nightbird Flying   1.0       5.0        5.0           5.0   \n",
       "152  Purple Haze Distortion   5.0       4.0        1.0           1.0   \n",
       "153    Rainy Day Dream Away   1.0       4.0        5.0           5.0   \n",
       "154          Remote Romance   1.0       2.0        6.0           4.0   \n",
       "155           House of Holy   1.0       4.0        3.0           5.0   \n",
       "\n",
       "     Точность  Потенциал                              Story         strong  \\\n",
       "0         1.0        3.0         Part 3: Stardust Crusaders  Сильный стенд   \n",
       "1         2.0        2.0         Part 3: Stardust Crusaders   Слабый стенд   \n",
       "2         1.0        1.0         Part 3: Stardust Crusaders   Слабый стенд   \n",
       "3         3.0        2.0         Part 3: Stardust Crusaders  Сильный стенд   \n",
       "4         2.0        4.0         Part 3: Stardust Crusaders  Сильный стенд   \n",
       "..        ...        ...                                ...            ...   \n",
       "151       1.0        1.0  Light Novel: Purple Haze Feedback   Слабый стенд   \n",
       "152       3.0        5.0  Light Novel: Purple Haze Feedback  Сильный стенд   \n",
       "153       1.0        1.0  Light Novel: Purple Haze Feedback   Слабый стенд   \n",
       "154       3.0        1.0                           Featured   Слабый стенд   \n",
       "155       2.0        2.0                           Featured   Слабый стенд   \n",
       "\n",
       "               speed                    range                    stamina  \\\n",
       "0      Быстрый стенд       Стенд ближнего боя  Выносливый, стойкий стенд   \n",
       "1      Быстрый стенд       Стенд ближнего боя  Выносливый, стойкий стенд   \n",
       "2    Медленный стенд  Стенд дальнего действия  Выносливый, стойкий стенд   \n",
       "3      Быстрый стенд       Стенд ближнего боя  Выносливый, стойкий стенд   \n",
       "4      Быстрый стенд       Стенд ближнего боя  Выносливый, стойкий стенд   \n",
       "..               ...                      ...                        ...   \n",
       "151    Быстрый стенд  Стенд дальнего действия  Выносливый, стойкий стенд   \n",
       "152    Быстрый стенд       Стенд ближнего боя    Стенд довольно уязвимый   \n",
       "153    Быстрый стенд  Стенд дальнего действия  Выносливый, стойкий стенд   \n",
       "154  Медленный стенд  Стенд дальнего действия  Выносливый, стойкий стенд   \n",
       "155    Быстрый стенд  Стенд дальнего действия  Выносливый, стойкий стенд   \n",
       "\n",
       "           accuracy          potential  Общий балл стенда  \n",
       "0    Неточный стенд  Высокий потенциал               3.51  \n",
       "1    Неточный стенд   Низкий потенциал               2.67  \n",
       "2    Неточный стенд   Низкий потенциал               2.39  \n",
       "3      Точный стенд   Низкий потенциал               3.04  \n",
       "4    Неточный стенд  Высокий потенциал               3.14  \n",
       "..              ...                ...                ...  \n",
       "151  Неточный стенд   Низкий потенциал               3.20  \n",
       "152    Точный стенд  Высокий потенциал               3.21  \n",
       "153  Неточный стенд   Низкий потенциал               3.03  \n",
       "154    Точный стенд   Низкий потенциал               2.67  \n",
       "155  Неточный стенд   Низкий потенциал               3.02  \n",
       "\n",
       "[156 rows x 15 columns]"
      ]
     },
     "metadata": {},
     "output_type": "display_data"
    }
   ],
   "source": [
    "stats_columns = begin_dataset.columns[1:7]\n",
    "\n",
    "begin_dataset[stats_columns] = begin_dataset[stats_columns].replace({'infinite': '6'})\n",
    "\n",
    "for i in stats_columns:\n",
    "    #display(begin_dataset.value_counts(i))\n",
    "    begin_dataset[i] = begin_dataset[i].astype(float)\n",
    "\n",
    "begin_dataset['Общий балл стенда'] = (begin_dataset['Сила'] * 0.2 + begin_dataset['Выносливость'] * 0.25 \n",
    "+ begin_dataset['Потенциал'] * 0.2 + begin_dataset['Скорость'] * 0.17 + begin_dataset['Дальность'] * 0.13 \n",
    "+ begin_dataset['Точность'] * 0.05)\n",
    "\n",
    "display(begin_dataset)"
   ]
  },
  {
   "cell_type": "markdown",
   "metadata": {},
   "source": [
    "Посмотрим, как у нас распределились общие баллы"
   ]
  },
  {
   "cell_type": "code",
   "execution_count": 326,
   "metadata": {},
   "outputs": [
    {
     "data": {
      "text/html": [
       "<div>\n",
       "<style scoped>\n",
       "    .dataframe tbody tr th:only-of-type {\n",
       "        vertical-align: middle;\n",
       "    }\n",
       "\n",
       "    .dataframe tbody tr th {\n",
       "        vertical-align: top;\n",
       "    }\n",
       "\n",
       "    .dataframe thead th {\n",
       "        text-align: right;\n",
       "    }\n",
       "</style>\n",
       "<table border=\"1\" class=\"dataframe\">\n",
       "  <thead>\n",
       "    <tr style=\"text-align: right;\">\n",
       "      <th></th>\n",
       "      <th>Общий балл стенда</th>\n",
       "      <th>count</th>\n",
       "    </tr>\n",
       "  </thead>\n",
       "  <tbody>\n",
       "    <tr>\n",
       "      <th>127</th>\n",
       "      <td>6.00</td>\n",
       "      <td>1</td>\n",
       "    </tr>\n",
       "    <tr>\n",
       "      <th>43</th>\n",
       "      <td>5.35</td>\n",
       "      <td>1</td>\n",
       "    </tr>\n",
       "    <tr>\n",
       "      <th>16</th>\n",
       "      <td>4.90</td>\n",
       "      <td>2</td>\n",
       "    </tr>\n",
       "    <tr>\n",
       "      <th>2</th>\n",
       "      <td>4.74</td>\n",
       "      <td>3</td>\n",
       "    </tr>\n",
       "    <tr>\n",
       "      <th>19</th>\n",
       "      <td>4.73</td>\n",
       "      <td>2</td>\n",
       "    </tr>\n",
       "    <tr>\n",
       "      <th>...</th>\n",
       "      <td>...</td>\n",
       "      <td>...</td>\n",
       "    </tr>\n",
       "    <tr>\n",
       "      <th>0</th>\n",
       "      <td>2.00</td>\n",
       "      <td>6</td>\n",
       "    </tr>\n",
       "    <tr>\n",
       "      <th>96</th>\n",
       "      <td>1.91</td>\n",
       "      <td>1</td>\n",
       "    </tr>\n",
       "    <tr>\n",
       "      <th>97</th>\n",
       "      <td>1.90</td>\n",
       "      <td>1</td>\n",
       "    </tr>\n",
       "    <tr>\n",
       "      <th>104</th>\n",
       "      <td>1.75</td>\n",
       "      <td>1</td>\n",
       "    </tr>\n",
       "    <tr>\n",
       "      <th>40</th>\n",
       "      <td>1.50</td>\n",
       "      <td>1</td>\n",
       "    </tr>\n",
       "  </tbody>\n",
       "</table>\n",
       "<p>128 rows × 2 columns</p>\n",
       "</div>"
      ],
      "text/plain": [
       "     Общий балл стенда  count\n",
       "127               6.00      1\n",
       "43                5.35      1\n",
       "16                4.90      2\n",
       "2                 4.74      3\n",
       "19                4.73      2\n",
       "..                 ...    ...\n",
       "0                 2.00      6\n",
       "96                1.91      1\n",
       "97                1.90      1\n",
       "104               1.75      1\n",
       "40                1.50      1\n",
       "\n",
       "[128 rows x 2 columns]"
      ]
     },
     "metadata": {},
     "output_type": "display_data"
    },
    {
     "data": {
      "application/vnd.plotly.v1+json": {
       "config": {
        "plotlyServerURL": "https://plotly.com"
       },
       "data": [
        {
         "alignmentgroup": "True",
         "bingroup": "x",
         "histfunc": "sum",
         "hovertemplate": "Общий балл стенда=%{x}<br>sum of count=%{y}<extra></extra>",
         "legendgroup": "",
         "marker": {
          "color": "#00baff",
          "pattern": {
           "shape": ""
          }
         },
         "name": "",
         "offsetgroup": "",
         "orientation": "v",
         "showlegend": false,
         "type": "histogram",
         "x": [
          1.9999999999999998,
          3.05,
          4.739999999999999,
          3.83,
          3.29,
          3.0999999999999996,
          3.1199999999999997,
          2.9,
          3.17,
          3.6200000000000006,
          3.1999999999999997,
          3.21,
          3.6,
          3.76,
          3.4,
          2.5199999999999996,
          4.9,
          4.46,
          2.3899999999999997,
          4.73,
          3.43,
          3.49,
          3.63,
          3.7,
          3.69,
          3.68,
          3.6700000000000004,
          3.6400000000000006,
          3.6300000000000003,
          3.4699999999999993,
          3.5,
          3.48,
          3.61,
          3.4899999999999998,
          3.54,
          3.71,
          3.52,
          3.5199999999999996,
          3.51,
          3.53,
          1.4999999999999998,
          3.73,
          4.1000000000000005,
          5.35,
          4.61,
          4.49,
          4.4799999999999995,
          4.470000000000001,
          4.37,
          4.34,
          4.3,
          4.29,
          4.2700000000000005,
          4.24,
          4.140000000000001,
          4.0600000000000005,
          3.74,
          4.0200000000000005,
          3.9800000000000004,
          3.9699999999999998,
          3.9400000000000004,
          3.94,
          3.91,
          3.8999999999999995,
          3.87,
          3.8000000000000003,
          3.8,
          3.4200000000000004,
          3.75,
          3.4299999999999997,
          3.3700000000000006,
          3.4000000000000004,
          3,
          2.93,
          2.9099999999999997,
          2.8999999999999995,
          2.8,
          2.7800000000000002,
          2.76,
          2.7500000000000004,
          2.74,
          2.7399999999999993,
          2.72,
          2.7199999999999998,
          2.6999999999999997,
          2.6799999999999997,
          2.67,
          2.6699999999999995,
          2.6500000000000004,
          2.48,
          2.4699999999999998,
          2.3499999999999996,
          2.2099999999999995,
          2.13,
          2.12,
          2.0500000000000003,
          1.91,
          1.9000000000000001,
          2.9799999999999995,
          3.02,
          3.3899999999999997,
          3.0200000000000005,
          3.3800000000000003,
          3.38,
          1.7499999999999998,
          3.3600000000000003,
          3.35,
          3.32,
          3.28,
          3.26,
          3.25,
          3.2400000000000007,
          3.2199999999999998,
          3.19,
          3.18,
          3.16,
          3.1599999999999997,
          3.1400000000000006,
          3.14,
          3.13,
          3.1299999999999994,
          3.1,
          3.08,
          3.0400000000000005,
          3.04,
          3.0300000000000002,
          3.03,
          6
         ],
         "xaxis": "x",
         "y": [
          6,
          3,
          3,
          3,
          2,
          2,
          2,
          2,
          2,
          2,
          2,
          2,
          2,
          2,
          2,
          2,
          2,
          2,
          2,
          2,
          2,
          1,
          1,
          1,
          1,
          1,
          1,
          1,
          1,
          1,
          1,
          1,
          1,
          1,
          1,
          1,
          1,
          1,
          1,
          1,
          1,
          1,
          1,
          1,
          1,
          1,
          1,
          1,
          1,
          1,
          1,
          1,
          1,
          1,
          1,
          1,
          1,
          1,
          1,
          1,
          1,
          1,
          1,
          1,
          1,
          1,
          1,
          1,
          1,
          1,
          1,
          1,
          1,
          1,
          1,
          1,
          1,
          1,
          1,
          1,
          1,
          1,
          1,
          1,
          1,
          1,
          1,
          1,
          1,
          1,
          1,
          1,
          1,
          1,
          1,
          1,
          1,
          1,
          1,
          1,
          1,
          1,
          1,
          1,
          1,
          1,
          1,
          1,
          1,
          1,
          1,
          1,
          1,
          1,
          1,
          1,
          1,
          1,
          1,
          1,
          1,
          1,
          1,
          1,
          1,
          1,
          1,
          1
         ],
         "yaxis": "y"
        }
       ],
       "layout": {
        "barmode": "relative",
        "legend": {
         "tracegroupgap": 0
        },
        "margin": {
         "t": 60
        },
        "template": {
         "data": {
          "bar": [
           {
            "error_x": {
             "color": "#2a3f5f"
            },
            "error_y": {
             "color": "#2a3f5f"
            },
            "marker": {
             "line": {
              "color": "#E5ECF6",
              "width": 0.5
             },
             "pattern": {
              "fillmode": "overlay",
              "size": 10,
              "solidity": 0.2
             }
            },
            "type": "bar"
           }
          ],
          "barpolar": [
           {
            "marker": {
             "line": {
              "color": "#E5ECF6",
              "width": 0.5
             },
             "pattern": {
              "fillmode": "overlay",
              "size": 10,
              "solidity": 0.2
             }
            },
            "type": "barpolar"
           }
          ],
          "carpet": [
           {
            "aaxis": {
             "endlinecolor": "#2a3f5f",
             "gridcolor": "white",
             "linecolor": "white",
             "minorgridcolor": "white",
             "startlinecolor": "#2a3f5f"
            },
            "baxis": {
             "endlinecolor": "#2a3f5f",
             "gridcolor": "white",
             "linecolor": "white",
             "minorgridcolor": "white",
             "startlinecolor": "#2a3f5f"
            },
            "type": "carpet"
           }
          ],
          "choropleth": [
           {
            "colorbar": {
             "outlinewidth": 0,
             "ticks": ""
            },
            "type": "choropleth"
           }
          ],
          "contour": [
           {
            "colorbar": {
             "outlinewidth": 0,
             "ticks": ""
            },
            "colorscale": [
             [
              0,
              "#0d0887"
             ],
             [
              0.1111111111111111,
              "#46039f"
             ],
             [
              0.2222222222222222,
              "#7201a8"
             ],
             [
              0.3333333333333333,
              "#9c179e"
             ],
             [
              0.4444444444444444,
              "#bd3786"
             ],
             [
              0.5555555555555556,
              "#d8576b"
             ],
             [
              0.6666666666666666,
              "#ed7953"
             ],
             [
              0.7777777777777778,
              "#fb9f3a"
             ],
             [
              0.8888888888888888,
              "#fdca26"
             ],
             [
              1,
              "#f0f921"
             ]
            ],
            "type": "contour"
           }
          ],
          "contourcarpet": [
           {
            "colorbar": {
             "outlinewidth": 0,
             "ticks": ""
            },
            "type": "contourcarpet"
           }
          ],
          "heatmap": [
           {
            "colorbar": {
             "outlinewidth": 0,
             "ticks": ""
            },
            "colorscale": [
             [
              0,
              "#0d0887"
             ],
             [
              0.1111111111111111,
              "#46039f"
             ],
             [
              0.2222222222222222,
              "#7201a8"
             ],
             [
              0.3333333333333333,
              "#9c179e"
             ],
             [
              0.4444444444444444,
              "#bd3786"
             ],
             [
              0.5555555555555556,
              "#d8576b"
             ],
             [
              0.6666666666666666,
              "#ed7953"
             ],
             [
              0.7777777777777778,
              "#fb9f3a"
             ],
             [
              0.8888888888888888,
              "#fdca26"
             ],
             [
              1,
              "#f0f921"
             ]
            ],
            "type": "heatmap"
           }
          ],
          "heatmapgl": [
           {
            "colorbar": {
             "outlinewidth": 0,
             "ticks": ""
            },
            "colorscale": [
             [
              0,
              "#0d0887"
             ],
             [
              0.1111111111111111,
              "#46039f"
             ],
             [
              0.2222222222222222,
              "#7201a8"
             ],
             [
              0.3333333333333333,
              "#9c179e"
             ],
             [
              0.4444444444444444,
              "#bd3786"
             ],
             [
              0.5555555555555556,
              "#d8576b"
             ],
             [
              0.6666666666666666,
              "#ed7953"
             ],
             [
              0.7777777777777778,
              "#fb9f3a"
             ],
             [
              0.8888888888888888,
              "#fdca26"
             ],
             [
              1,
              "#f0f921"
             ]
            ],
            "type": "heatmapgl"
           }
          ],
          "histogram": [
           {
            "marker": {
             "pattern": {
              "fillmode": "overlay",
              "size": 10,
              "solidity": 0.2
             }
            },
            "type": "histogram"
           }
          ],
          "histogram2d": [
           {
            "colorbar": {
             "outlinewidth": 0,
             "ticks": ""
            },
            "colorscale": [
             [
              0,
              "#0d0887"
             ],
             [
              0.1111111111111111,
              "#46039f"
             ],
             [
              0.2222222222222222,
              "#7201a8"
             ],
             [
              0.3333333333333333,
              "#9c179e"
             ],
             [
              0.4444444444444444,
              "#bd3786"
             ],
             [
              0.5555555555555556,
              "#d8576b"
             ],
             [
              0.6666666666666666,
              "#ed7953"
             ],
             [
              0.7777777777777778,
              "#fb9f3a"
             ],
             [
              0.8888888888888888,
              "#fdca26"
             ],
             [
              1,
              "#f0f921"
             ]
            ],
            "type": "histogram2d"
           }
          ],
          "histogram2dcontour": [
           {
            "colorbar": {
             "outlinewidth": 0,
             "ticks": ""
            },
            "colorscale": [
             [
              0,
              "#0d0887"
             ],
             [
              0.1111111111111111,
              "#46039f"
             ],
             [
              0.2222222222222222,
              "#7201a8"
             ],
             [
              0.3333333333333333,
              "#9c179e"
             ],
             [
              0.4444444444444444,
              "#bd3786"
             ],
             [
              0.5555555555555556,
              "#d8576b"
             ],
             [
              0.6666666666666666,
              "#ed7953"
             ],
             [
              0.7777777777777778,
              "#fb9f3a"
             ],
             [
              0.8888888888888888,
              "#fdca26"
             ],
             [
              1,
              "#f0f921"
             ]
            ],
            "type": "histogram2dcontour"
           }
          ],
          "mesh3d": [
           {
            "colorbar": {
             "outlinewidth": 0,
             "ticks": ""
            },
            "type": "mesh3d"
           }
          ],
          "parcoords": [
           {
            "line": {
             "colorbar": {
              "outlinewidth": 0,
              "ticks": ""
             }
            },
            "type": "parcoords"
           }
          ],
          "pie": [
           {
            "automargin": true,
            "type": "pie"
           }
          ],
          "scatter": [
           {
            "fillpattern": {
             "fillmode": "overlay",
             "size": 10,
             "solidity": 0.2
            },
            "type": "scatter"
           }
          ],
          "scatter3d": [
           {
            "line": {
             "colorbar": {
              "outlinewidth": 0,
              "ticks": ""
             }
            },
            "marker": {
             "colorbar": {
              "outlinewidth": 0,
              "ticks": ""
             }
            },
            "type": "scatter3d"
           }
          ],
          "scattercarpet": [
           {
            "marker": {
             "colorbar": {
              "outlinewidth": 0,
              "ticks": ""
             }
            },
            "type": "scattercarpet"
           }
          ],
          "scattergeo": [
           {
            "marker": {
             "colorbar": {
              "outlinewidth": 0,
              "ticks": ""
             }
            },
            "type": "scattergeo"
           }
          ],
          "scattergl": [
           {
            "marker": {
             "colorbar": {
              "outlinewidth": 0,
              "ticks": ""
             }
            },
            "type": "scattergl"
           }
          ],
          "scattermapbox": [
           {
            "marker": {
             "colorbar": {
              "outlinewidth": 0,
              "ticks": ""
             }
            },
            "type": "scattermapbox"
           }
          ],
          "scatterpolar": [
           {
            "marker": {
             "colorbar": {
              "outlinewidth": 0,
              "ticks": ""
             }
            },
            "type": "scatterpolar"
           }
          ],
          "scatterpolargl": [
           {
            "marker": {
             "colorbar": {
              "outlinewidth": 0,
              "ticks": ""
             }
            },
            "type": "scatterpolargl"
           }
          ],
          "scatterternary": [
           {
            "marker": {
             "colorbar": {
              "outlinewidth": 0,
              "ticks": ""
             }
            },
            "type": "scatterternary"
           }
          ],
          "surface": [
           {
            "colorbar": {
             "outlinewidth": 0,
             "ticks": ""
            },
            "colorscale": [
             [
              0,
              "#0d0887"
             ],
             [
              0.1111111111111111,
              "#46039f"
             ],
             [
              0.2222222222222222,
              "#7201a8"
             ],
             [
              0.3333333333333333,
              "#9c179e"
             ],
             [
              0.4444444444444444,
              "#bd3786"
             ],
             [
              0.5555555555555556,
              "#d8576b"
             ],
             [
              0.6666666666666666,
              "#ed7953"
             ],
             [
              0.7777777777777778,
              "#fb9f3a"
             ],
             [
              0.8888888888888888,
              "#fdca26"
             ],
             [
              1,
              "#f0f921"
             ]
            ],
            "type": "surface"
           }
          ],
          "table": [
           {
            "cells": {
             "fill": {
              "color": "#EBF0F8"
             },
             "line": {
              "color": "white"
             }
            },
            "header": {
             "fill": {
              "color": "#C8D4E3"
             },
             "line": {
              "color": "white"
             }
            },
            "type": "table"
           }
          ]
         },
         "layout": {
          "annotationdefaults": {
           "arrowcolor": "#2a3f5f",
           "arrowhead": 0,
           "arrowwidth": 1
          },
          "autotypenumbers": "strict",
          "coloraxis": {
           "colorbar": {
            "outlinewidth": 0,
            "ticks": ""
           }
          },
          "colorscale": {
           "diverging": [
            [
             0,
             "#8e0152"
            ],
            [
             0.1,
             "#c51b7d"
            ],
            [
             0.2,
             "#de77ae"
            ],
            [
             0.3,
             "#f1b6da"
            ],
            [
             0.4,
             "#fde0ef"
            ],
            [
             0.5,
             "#f7f7f7"
            ],
            [
             0.6,
             "#e6f5d0"
            ],
            [
             0.7,
             "#b8e186"
            ],
            [
             0.8,
             "#7fbc41"
            ],
            [
             0.9,
             "#4d9221"
            ],
            [
             1,
             "#276419"
            ]
           ],
           "sequential": [
            [
             0,
             "#0d0887"
            ],
            [
             0.1111111111111111,
             "#46039f"
            ],
            [
             0.2222222222222222,
             "#7201a8"
            ],
            [
             0.3333333333333333,
             "#9c179e"
            ],
            [
             0.4444444444444444,
             "#bd3786"
            ],
            [
             0.5555555555555556,
             "#d8576b"
            ],
            [
             0.6666666666666666,
             "#ed7953"
            ],
            [
             0.7777777777777778,
             "#fb9f3a"
            ],
            [
             0.8888888888888888,
             "#fdca26"
            ],
            [
             1,
             "#f0f921"
            ]
           ],
           "sequentialminus": [
            [
             0,
             "#0d0887"
            ],
            [
             0.1111111111111111,
             "#46039f"
            ],
            [
             0.2222222222222222,
             "#7201a8"
            ],
            [
             0.3333333333333333,
             "#9c179e"
            ],
            [
             0.4444444444444444,
             "#bd3786"
            ],
            [
             0.5555555555555556,
             "#d8576b"
            ],
            [
             0.6666666666666666,
             "#ed7953"
            ],
            [
             0.7777777777777778,
             "#fb9f3a"
            ],
            [
             0.8888888888888888,
             "#fdca26"
            ],
            [
             1,
             "#f0f921"
            ]
           ]
          },
          "colorway": [
           "#636efa",
           "#EF553B",
           "#00cc96",
           "#ab63fa",
           "#FFA15A",
           "#19d3f3",
           "#FF6692",
           "#B6E880",
           "#FF97FF",
           "#FECB52"
          ],
          "font": {
           "color": "#2a3f5f"
          },
          "geo": {
           "bgcolor": "white",
           "lakecolor": "white",
           "landcolor": "#E5ECF6",
           "showlakes": true,
           "showland": true,
           "subunitcolor": "white"
          },
          "hoverlabel": {
           "align": "left"
          },
          "hovermode": "closest",
          "mapbox": {
           "style": "light"
          },
          "paper_bgcolor": "white",
          "plot_bgcolor": "#E5ECF6",
          "polar": {
           "angularaxis": {
            "gridcolor": "white",
            "linecolor": "white",
            "ticks": ""
           },
           "bgcolor": "#E5ECF6",
           "radialaxis": {
            "gridcolor": "white",
            "linecolor": "white",
            "ticks": ""
           }
          },
          "scene": {
           "xaxis": {
            "backgroundcolor": "#E5ECF6",
            "gridcolor": "white",
            "gridwidth": 2,
            "linecolor": "white",
            "showbackground": true,
            "ticks": "",
            "zerolinecolor": "white"
           },
           "yaxis": {
            "backgroundcolor": "#E5ECF6",
            "gridcolor": "white",
            "gridwidth": 2,
            "linecolor": "white",
            "showbackground": true,
            "ticks": "",
            "zerolinecolor": "white"
           },
           "zaxis": {
            "backgroundcolor": "#E5ECF6",
            "gridcolor": "white",
            "gridwidth": 2,
            "linecolor": "white",
            "showbackground": true,
            "ticks": "",
            "zerolinecolor": "white"
           }
          },
          "shapedefaults": {
           "line": {
            "color": "#2a3f5f"
           }
          },
          "ternary": {
           "aaxis": {
            "gridcolor": "white",
            "linecolor": "white",
            "ticks": ""
           },
           "baxis": {
            "gridcolor": "white",
            "linecolor": "white",
            "ticks": ""
           },
           "bgcolor": "#E5ECF6",
           "caxis": {
            "gridcolor": "white",
            "linecolor": "white",
            "ticks": ""
           }
          },
          "title": {
           "x": 0.05
          },
          "xaxis": {
           "automargin": true,
           "gridcolor": "white",
           "linecolor": "white",
           "ticks": "",
           "title": {
            "standoff": 15
           },
           "zerolinecolor": "white",
           "zerolinewidth": 2
          },
          "yaxis": {
           "automargin": true,
           "gridcolor": "white",
           "linecolor": "white",
           "ticks": "",
           "title": {
            "standoff": 15
           },
           "zerolinecolor": "white",
           "zerolinewidth": 2
          }
         }
        },
        "title": {
         "text": "Распределение общих баллов стендов",
         "x": 0.5
        },
        "xaxis": {
         "anchor": "y",
         "domain": [
          0,
          1
         ],
         "title": {
          "text": "Общий балл стенда"
         }
        },
        "yaxis": {
         "anchor": "x",
         "domain": [
          0,
          1
         ],
         "title": {
          "text": "Количество стендов"
         }
        }
       }
      }
     },
     "metadata": {},
     "output_type": "display_data"
    }
   ],
   "source": [
    "overall_df = begin_dataset.value_counts('Общий балл стенда').reset_index()\n",
    "\n",
    "display(overall_df.sort_values('Общий балл стенда', ascending=False))\n",
    "\n",
    "overall_hist = px.histogram(overall_df, x = 'Общий балл стенда', y='count', color_discrete_sequence=['#00baff'])\n",
    "\n",
    "overall_hist.update_layout(\n",
    "    title = {'text': 'Распределение общих баллов стендов', 'x': 0.5},\n",
    "    xaxis_title_text='Общий балл стенда',\n",
    "    yaxis_title_text='Количество стендов')\n",
    "overall_hist.show()"
   ]
  },
  {
   "cell_type": "markdown",
   "metadata": {},
   "source": [
    "Как видно, у нас в основном стенды имеют средний бал ~3.25, а это значит, что в основном у нас стенды средние и очень сильных стендов крайне мало, по крайней мере меньше, чем слабых :)"
   ]
  },
  {
   "cell_type": "markdown",
   "metadata": {},
   "source": [
    "## 2.5 -- Топ 10 самых сильных стендов"
   ]
  },
  {
   "cell_type": "markdown",
   "metadata": {},
   "source": [
    "Посмотрим на топ 10 самых сильных стендов"
   ]
  },
  {
   "cell_type": "code",
   "execution_count": 327,
   "metadata": {},
   "outputs": [
    {
     "data": {
      "text/html": [
       "<div>\n",
       "<style scoped>\n",
       "    .dataframe tbody tr th:only-of-type {\n",
       "        vertical-align: middle;\n",
       "    }\n",
       "\n",
       "    .dataframe tbody tr th {\n",
       "        vertical-align: top;\n",
       "    }\n",
       "\n",
       "    .dataframe thead th {\n",
       "        text-align: right;\n",
       "    }\n",
       "</style>\n",
       "<table border=\"1\" class=\"dataframe\">\n",
       "  <thead>\n",
       "    <tr style=\"text-align: right;\">\n",
       "      <th></th>\n",
       "      <th>Stand</th>\n",
       "      <th>Сила</th>\n",
       "      <th>Скорость</th>\n",
       "      <th>Дальность</th>\n",
       "      <th>Выносливость</th>\n",
       "      <th>Точность</th>\n",
       "      <th>Потенциал</th>\n",
       "      <th>Story</th>\n",
       "      <th>strong</th>\n",
       "      <th>speed</th>\n",
       "      <th>range</th>\n",
       "      <th>stamina</th>\n",
       "      <th>accuracy</th>\n",
       "      <th>potential</th>\n",
       "      <th>Общий балл стенда</th>\n",
       "    </tr>\n",
       "  </thead>\n",
       "  <tbody>\n",
       "    <tr>\n",
       "      <th>77</th>\n",
       "      <td>Gold Experience Requiem</td>\n",
       "      <td>6.0</td>\n",
       "      <td>6.0</td>\n",
       "      <td>6.0</td>\n",
       "      <td>6.0</td>\n",
       "      <td>6.0</td>\n",
       "      <td>6.0</td>\n",
       "      <td>Part 5: Vento Aureo</td>\n",
       "      <td>Сильный стенд</td>\n",
       "      <td>Быстрый стенд</td>\n",
       "      <td>Стенд дальнего действия</td>\n",
       "      <td>Выносливый, стойкий стенд</td>\n",
       "      <td>Точный стенд</td>\n",
       "      <td>Высокий потенциал</td>\n",
       "      <td>6.00</td>\n",
       "    </tr>\n",
       "    <tr>\n",
       "      <th>83</th>\n",
       "      <td>Notorious B.I.G</td>\n",
       "      <td>5.0</td>\n",
       "      <td>6.0</td>\n",
       "      <td>6.0</td>\n",
       "      <td>6.0</td>\n",
       "      <td>1.0</td>\n",
       "      <td>5.0</td>\n",
       "      <td>Part 5: Vento Aureo</td>\n",
       "      <td>Сильный стенд</td>\n",
       "      <td>Быстрый стенд</td>\n",
       "      <td>Стенд дальнего действия</td>\n",
       "      <td>Выносливый, стойкий стенд</td>\n",
       "      <td>Неточный стенд</td>\n",
       "      <td>Высокий потенциал</td>\n",
       "      <td>5.35</td>\n",
       "    </tr>\n",
       "    <tr>\n",
       "      <th>52</th>\n",
       "      <td>Red Hot Chili Pepper</td>\n",
       "      <td>5.0</td>\n",
       "      <td>5.0</td>\n",
       "      <td>5.0</td>\n",
       "      <td>5.0</td>\n",
       "      <td>3.0</td>\n",
       "      <td>5.0</td>\n",
       "      <td>Part 4: Diamond is Unbreakable</td>\n",
       "      <td>Сильный стенд</td>\n",
       "      <td>Быстрый стенд</td>\n",
       "      <td>Стенд дальнего действия</td>\n",
       "      <td>Выносливый, стойкий стенд</td>\n",
       "      <td>Точный стенд</td>\n",
       "      <td>Высокий потенциал</td>\n",
       "      <td>4.90</td>\n",
       "    </tr>\n",
       "    <tr>\n",
       "      <th>106</th>\n",
       "      <td>Kiss</td>\n",
       "      <td>5.0</td>\n",
       "      <td>5.0</td>\n",
       "      <td>5.0</td>\n",
       "      <td>5.0</td>\n",
       "      <td>3.0</td>\n",
       "      <td>5.0</td>\n",
       "      <td>Part 6: Stone Ocean</td>\n",
       "      <td>Сильный стенд</td>\n",
       "      <td>Быстрый стенд</td>\n",
       "      <td>Стенд дальнего действия</td>\n",
       "      <td>Выносливый, стойкий стенд</td>\n",
       "      <td>Точный стенд</td>\n",
       "      <td>Высокий потенциал</td>\n",
       "      <td>4.90</td>\n",
       "    </tr>\n",
       "    <tr>\n",
       "      <th>97</th>\n",
       "      <td>Star Platinum</td>\n",
       "      <td>5.0</td>\n",
       "      <td>5.0</td>\n",
       "      <td>3.0</td>\n",
       "      <td>5.0</td>\n",
       "      <td>5.0</td>\n",
       "      <td>5.0</td>\n",
       "      <td>Part 6: Stone Ocean</td>\n",
       "      <td>Сильный стенд</td>\n",
       "      <td>Быстрый стенд</td>\n",
       "      <td>Стенд дальнего действия</td>\n",
       "      <td>Выносливый, стойкий стенд</td>\n",
       "      <td>Точный стенд</td>\n",
       "      <td>Высокий потенциал</td>\n",
       "      <td>4.74</td>\n",
       "    </tr>\n",
       "    <tr>\n",
       "      <th>25</th>\n",
       "      <td>Star Platinum</td>\n",
       "      <td>5.0</td>\n",
       "      <td>5.0</td>\n",
       "      <td>3.0</td>\n",
       "      <td>5.0</td>\n",
       "      <td>5.0</td>\n",
       "      <td>5.0</td>\n",
       "      <td>Part 3: Stardust Crusaders</td>\n",
       "      <td>Сильный стенд</td>\n",
       "      <td>Быстрый стенд</td>\n",
       "      <td>Стенд дальнего действия</td>\n",
       "      <td>Выносливый, стойкий стенд</td>\n",
       "      <td>Точный стенд</td>\n",
       "      <td>Высокий потенциал</td>\n",
       "      <td>4.74</td>\n",
       "    </tr>\n",
       "    <tr>\n",
       "      <th>123</th>\n",
       "      <td>Dirty Deeds Done Dirt Cheap</td>\n",
       "      <td>5.0</td>\n",
       "      <td>5.0</td>\n",
       "      <td>3.0</td>\n",
       "      <td>5.0</td>\n",
       "      <td>5.0</td>\n",
       "      <td>5.0</td>\n",
       "      <td>Part 7: Steel Ball Run</td>\n",
       "      <td>Сильный стенд</td>\n",
       "      <td>Быстрый стенд</td>\n",
       "      <td>Стенд дальнего действия</td>\n",
       "      <td>Выносливый, стойкий стенд</td>\n",
       "      <td>Точный стенд</td>\n",
       "      <td>Высокий потенциал</td>\n",
       "      <td>4.74</td>\n",
       "    </tr>\n",
       "    <tr>\n",
       "      <th>62</th>\n",
       "      <td>Baby Face</td>\n",
       "      <td>5.0</td>\n",
       "      <td>4.0</td>\n",
       "      <td>5.0</td>\n",
       "      <td>5.0</td>\n",
       "      <td>3.0</td>\n",
       "      <td>5.0</td>\n",
       "      <td>Part 5: Vento Aureo</td>\n",
       "      <td>Сильный стенд</td>\n",
       "      <td>Быстрый стенд</td>\n",
       "      <td>Стенд дальнего действия</td>\n",
       "      <td>Выносливый, стойкий стенд</td>\n",
       "      <td>Точный стенд</td>\n",
       "      <td>Высокий потенциал</td>\n",
       "      <td>4.73</td>\n",
       "    </tr>\n",
       "    <tr>\n",
       "      <th>73</th>\n",
       "      <td>Baby Face (GoGo)</td>\n",
       "      <td>5.0</td>\n",
       "      <td>4.0</td>\n",
       "      <td>5.0</td>\n",
       "      <td>5.0</td>\n",
       "      <td>3.0</td>\n",
       "      <td>5.0</td>\n",
       "      <td>Part 5: Vento Aureo</td>\n",
       "      <td>Сильный стенд</td>\n",
       "      <td>Быстрый стенд</td>\n",
       "      <td>Стенд дальнего действия</td>\n",
       "      <td>Выносливый, стойкий стенд</td>\n",
       "      <td>Точный стенд</td>\n",
       "      <td>Высокий потенциал</td>\n",
       "      <td>4.73</td>\n",
       "    </tr>\n",
       "    <tr>\n",
       "      <th>109</th>\n",
       "      <td>Made in Heaven</td>\n",
       "      <td>4.0</td>\n",
       "      <td>6.0</td>\n",
       "      <td>3.0</td>\n",
       "      <td>5.0</td>\n",
       "      <td>3.0</td>\n",
       "      <td>5.0</td>\n",
       "      <td>Part 6: Stone Ocean</td>\n",
       "      <td>Сильный стенд</td>\n",
       "      <td>Быстрый стенд</td>\n",
       "      <td>Стенд дальнего действия</td>\n",
       "      <td>Выносливый, стойкий стенд</td>\n",
       "      <td>Точный стенд</td>\n",
       "      <td>Высокий потенциал</td>\n",
       "      <td>4.61</td>\n",
       "    </tr>\n",
       "  </tbody>\n",
       "</table>\n",
       "</div>"
      ],
      "text/plain": [
       "                           Stand  Сила  Скорость  Дальность  Выносливость  \\\n",
       "77       Gold Experience Requiem   6.0       6.0        6.0           6.0   \n",
       "83               Notorious B.I.G   5.0       6.0        6.0           6.0   \n",
       "52          Red Hot Chili Pepper   5.0       5.0        5.0           5.0   \n",
       "106                         Kiss   5.0       5.0        5.0           5.0   \n",
       "97                 Star Platinum   5.0       5.0        3.0           5.0   \n",
       "25                 Star Platinum   5.0       5.0        3.0           5.0   \n",
       "123  Dirty Deeds Done Dirt Cheap   5.0       5.0        3.0           5.0   \n",
       "62                     Baby Face   5.0       4.0        5.0           5.0   \n",
       "73              Baby Face (GoGo)   5.0       4.0        5.0           5.0   \n",
       "109               Made in Heaven   4.0       6.0        3.0           5.0   \n",
       "\n",
       "     Точность  Потенциал                           Story         strong  \\\n",
       "77        6.0        6.0             Part 5: Vento Aureo  Сильный стенд   \n",
       "83        1.0        5.0             Part 5: Vento Aureo  Сильный стенд   \n",
       "52        3.0        5.0  Part 4: Diamond is Unbreakable  Сильный стенд   \n",
       "106       3.0        5.0             Part 6: Stone Ocean  Сильный стенд   \n",
       "97        5.0        5.0             Part 6: Stone Ocean  Сильный стенд   \n",
       "25        5.0        5.0      Part 3: Stardust Crusaders  Сильный стенд   \n",
       "123       5.0        5.0          Part 7: Steel Ball Run  Сильный стенд   \n",
       "62        3.0        5.0             Part 5: Vento Aureo  Сильный стенд   \n",
       "73        3.0        5.0             Part 5: Vento Aureo  Сильный стенд   \n",
       "109       3.0        5.0             Part 6: Stone Ocean  Сильный стенд   \n",
       "\n",
       "             speed                    range                    stamina  \\\n",
       "77   Быстрый стенд  Стенд дальнего действия  Выносливый, стойкий стенд   \n",
       "83   Быстрый стенд  Стенд дальнего действия  Выносливый, стойкий стенд   \n",
       "52   Быстрый стенд  Стенд дальнего действия  Выносливый, стойкий стенд   \n",
       "106  Быстрый стенд  Стенд дальнего действия  Выносливый, стойкий стенд   \n",
       "97   Быстрый стенд  Стенд дальнего действия  Выносливый, стойкий стенд   \n",
       "25   Быстрый стенд  Стенд дальнего действия  Выносливый, стойкий стенд   \n",
       "123  Быстрый стенд  Стенд дальнего действия  Выносливый, стойкий стенд   \n",
       "62   Быстрый стенд  Стенд дальнего действия  Выносливый, стойкий стенд   \n",
       "73   Быстрый стенд  Стенд дальнего действия  Выносливый, стойкий стенд   \n",
       "109  Быстрый стенд  Стенд дальнего действия  Выносливый, стойкий стенд   \n",
       "\n",
       "           accuracy          potential  Общий балл стенда  \n",
       "77     Точный стенд  Высокий потенциал               6.00  \n",
       "83   Неточный стенд  Высокий потенциал               5.35  \n",
       "52     Точный стенд  Высокий потенциал               4.90  \n",
       "106    Точный стенд  Высокий потенциал               4.90  \n",
       "97     Точный стенд  Высокий потенциал               4.74  \n",
       "25     Точный стенд  Высокий потенциал               4.74  \n",
       "123    Точный стенд  Высокий потенциал               4.74  \n",
       "62     Точный стенд  Высокий потенциал               4.73  \n",
       "73     Точный стенд  Высокий потенциал               4.73  \n",
       "109    Точный стенд  Высокий потенциал               4.61  "
      ]
     },
     "metadata": {},
     "output_type": "display_data"
    }
   ],
   "source": [
    "display(begin_dataset.sort_values('Общий балл стенда', ascending=False).head(10))"
   ]
  },
  {
   "cell_type": "markdown",
   "metadata": {},
   "source": [
    "Да, самый сильный оказался **GER**, оно и очевидно\n",
    "\n",
    "Давайте теперь отобразим все эти 10 стендов на культовой радиальной диаграмме, чтобы было красиво :)"
   ]
  },
  {
   "cell_type": "markdown",
   "metadata": {},
   "source": [
    "### **1 место -- Gold Experience Requiem**"
   ]
  },
  {
   "cell_type": "markdown",
   "metadata": {},
   "source": [
    "<p align=\"center\">\n",
    "    <img src=\"https://i.pinimg.com/originals/6a/cc/c6/6accc6d646fb378c932fcd2b73e16307.png\" alt=\"Gold Experience Requiem 2\" width=\"300\">\n",
    "</p>\n",
    "\n",
    "<p align=\"center\">\n",
    "    <img src=\"https://steamuserimages-a.akamaihd.net/ugc/5108802431775556322/46F42EC084464AA428E7703388BA664F0A560A9C/?imw=512&amp;imh=287&amp;ima=fit&amp;impolicy=Letterbox&amp;imcolor=%23000000&amp;letterbox=true\" alt=\"Gold Experience Requiem 3\" width=\"300\">\n",
    "</p>\n"
   ]
  },
  {
   "cell_type": "code",
   "execution_count": 328,
   "metadata": {},
   "outputs": [
    {
     "data": {
      "text/html": [
       "<div>\n",
       "<style scoped>\n",
       "    .dataframe tbody tr th:only-of-type {\n",
       "        vertical-align: middle;\n",
       "    }\n",
       "\n",
       "    .dataframe tbody tr th {\n",
       "        vertical-align: top;\n",
       "    }\n",
       "\n",
       "    .dataframe thead th {\n",
       "        text-align: right;\n",
       "    }\n",
       "</style>\n",
       "<table border=\"1\" class=\"dataframe\">\n",
       "  <thead>\n",
       "    <tr style=\"text-align: right;\">\n",
       "      <th></th>\n",
       "      <th>Stand</th>\n",
       "      <th>Сила</th>\n",
       "      <th>Скорость</th>\n",
       "      <th>Дальность</th>\n",
       "      <th>Выносливость</th>\n",
       "      <th>Точность</th>\n",
       "      <th>Потенциал</th>\n",
       "      <th>Story</th>\n",
       "      <th>strong</th>\n",
       "      <th>speed</th>\n",
       "      <th>range</th>\n",
       "      <th>stamina</th>\n",
       "      <th>accuracy</th>\n",
       "      <th>potential</th>\n",
       "      <th>Общий балл стенда</th>\n",
       "    </tr>\n",
       "  </thead>\n",
       "  <tbody>\n",
       "    <tr>\n",
       "      <th>77</th>\n",
       "      <td>Gold Experience Requiem</td>\n",
       "      <td>6.0</td>\n",
       "      <td>6.0</td>\n",
       "      <td>6.0</td>\n",
       "      <td>6.0</td>\n",
       "      <td>6.0</td>\n",
       "      <td>6.0</td>\n",
       "      <td>Part 5: Vento Aureo</td>\n",
       "      <td>Сильный стенд</td>\n",
       "      <td>Быстрый стенд</td>\n",
       "      <td>Стенд дальнего действия</td>\n",
       "      <td>Выносливый, стойкий стенд</td>\n",
       "      <td>Точный стенд</td>\n",
       "      <td>Высокий потенциал</td>\n",
       "      <td>6.0</td>\n",
       "    </tr>\n",
       "  </tbody>\n",
       "</table>\n",
       "</div>"
      ],
      "text/plain": [
       "                      Stand  Сила  Скорость  Дальность  Выносливость  \\\n",
       "77  Gold Experience Requiem   6.0       6.0        6.0           6.0   \n",
       "\n",
       "    Точность  Потенциал                Story         strong          speed  \\\n",
       "77       6.0        6.0  Part 5: Vento Aureo  Сильный стенд  Быстрый стенд   \n",
       "\n",
       "                      range                    stamina      accuracy  \\\n",
       "77  Стенд дальнего действия  Выносливый, стойкий стенд  Точный стенд   \n",
       "\n",
       "            potential  Общий балл стенда  \n",
       "77  Высокий потенциал                6.0  "
      ]
     },
     "metadata": {},
     "output_type": "display_data"
    },
    {
     "data": {
      "application/vnd.plotly.v1+json": {
       "config": {
        "plotlyServerURL": "https://plotly.com"
       },
       "data": [
        {
         "fill": "toself",
         "hovertemplate": "r=%{r}<br>theta=%{theta}<extra></extra>",
         "legendgroup": "",
         "line": {
          "color": "#f0d70f",
          "dash": "solid"
         },
         "marker": {
          "symbol": "circle"
         },
         "mode": "lines+markers",
         "name": "",
         "r": [
          6,
          6,
          6,
          6,
          6,
          6,
          6
         ],
         "showlegend": false,
         "subplot": "polar",
         "theta": [
          "Сила",
          "Скорость",
          "Дальность",
          "Выносливость",
          "Точность",
          "Потенциал",
          "Сила"
         ],
         "type": "scatterpolar"
        }
       ],
       "layout": {
        "legend": {
         "tracegroupgap": 0
        },
        "margin": {
         "t": 60
        },
        "paper_bgcolor": "#735404",
        "polar": {
         "angularaxis": {
          "color": "white",
          "direction": "clockwise",
          "rotation": 90
         },
         "bgcolor": "#a16605",
         "domain": {
          "x": [
           0,
           1
          ],
          "y": [
           0,
           1
          ]
         },
         "radialaxis": {
          "color": "white"
         }
        },
        "template": {
         "data": {
          "bar": [
           {
            "error_x": {
             "color": "#2a3f5f"
            },
            "error_y": {
             "color": "#2a3f5f"
            },
            "marker": {
             "line": {
              "color": "#E5ECF6",
              "width": 0.5
             },
             "pattern": {
              "fillmode": "overlay",
              "size": 10,
              "solidity": 0.2
             }
            },
            "type": "bar"
           }
          ],
          "barpolar": [
           {
            "marker": {
             "line": {
              "color": "#E5ECF6",
              "width": 0.5
             },
             "pattern": {
              "fillmode": "overlay",
              "size": 10,
              "solidity": 0.2
             }
            },
            "type": "barpolar"
           }
          ],
          "carpet": [
           {
            "aaxis": {
             "endlinecolor": "#2a3f5f",
             "gridcolor": "white",
             "linecolor": "white",
             "minorgridcolor": "white",
             "startlinecolor": "#2a3f5f"
            },
            "baxis": {
             "endlinecolor": "#2a3f5f",
             "gridcolor": "white",
             "linecolor": "white",
             "minorgridcolor": "white",
             "startlinecolor": "#2a3f5f"
            },
            "type": "carpet"
           }
          ],
          "choropleth": [
           {
            "colorbar": {
             "outlinewidth": 0,
             "ticks": ""
            },
            "type": "choropleth"
           }
          ],
          "contour": [
           {
            "colorbar": {
             "outlinewidth": 0,
             "ticks": ""
            },
            "colorscale": [
             [
              0,
              "#0d0887"
             ],
             [
              0.1111111111111111,
              "#46039f"
             ],
             [
              0.2222222222222222,
              "#7201a8"
             ],
             [
              0.3333333333333333,
              "#9c179e"
             ],
             [
              0.4444444444444444,
              "#bd3786"
             ],
             [
              0.5555555555555556,
              "#d8576b"
             ],
             [
              0.6666666666666666,
              "#ed7953"
             ],
             [
              0.7777777777777778,
              "#fb9f3a"
             ],
             [
              0.8888888888888888,
              "#fdca26"
             ],
             [
              1,
              "#f0f921"
             ]
            ],
            "type": "contour"
           }
          ],
          "contourcarpet": [
           {
            "colorbar": {
             "outlinewidth": 0,
             "ticks": ""
            },
            "type": "contourcarpet"
           }
          ],
          "heatmap": [
           {
            "colorbar": {
             "outlinewidth": 0,
             "ticks": ""
            },
            "colorscale": [
             [
              0,
              "#0d0887"
             ],
             [
              0.1111111111111111,
              "#46039f"
             ],
             [
              0.2222222222222222,
              "#7201a8"
             ],
             [
              0.3333333333333333,
              "#9c179e"
             ],
             [
              0.4444444444444444,
              "#bd3786"
             ],
             [
              0.5555555555555556,
              "#d8576b"
             ],
             [
              0.6666666666666666,
              "#ed7953"
             ],
             [
              0.7777777777777778,
              "#fb9f3a"
             ],
             [
              0.8888888888888888,
              "#fdca26"
             ],
             [
              1,
              "#f0f921"
             ]
            ],
            "type": "heatmap"
           }
          ],
          "heatmapgl": [
           {
            "colorbar": {
             "outlinewidth": 0,
             "ticks": ""
            },
            "colorscale": [
             [
              0,
              "#0d0887"
             ],
             [
              0.1111111111111111,
              "#46039f"
             ],
             [
              0.2222222222222222,
              "#7201a8"
             ],
             [
              0.3333333333333333,
              "#9c179e"
             ],
             [
              0.4444444444444444,
              "#bd3786"
             ],
             [
              0.5555555555555556,
              "#d8576b"
             ],
             [
              0.6666666666666666,
              "#ed7953"
             ],
             [
              0.7777777777777778,
              "#fb9f3a"
             ],
             [
              0.8888888888888888,
              "#fdca26"
             ],
             [
              1,
              "#f0f921"
             ]
            ],
            "type": "heatmapgl"
           }
          ],
          "histogram": [
           {
            "marker": {
             "pattern": {
              "fillmode": "overlay",
              "size": 10,
              "solidity": 0.2
             }
            },
            "type": "histogram"
           }
          ],
          "histogram2d": [
           {
            "colorbar": {
             "outlinewidth": 0,
             "ticks": ""
            },
            "colorscale": [
             [
              0,
              "#0d0887"
             ],
             [
              0.1111111111111111,
              "#46039f"
             ],
             [
              0.2222222222222222,
              "#7201a8"
             ],
             [
              0.3333333333333333,
              "#9c179e"
             ],
             [
              0.4444444444444444,
              "#bd3786"
             ],
             [
              0.5555555555555556,
              "#d8576b"
             ],
             [
              0.6666666666666666,
              "#ed7953"
             ],
             [
              0.7777777777777778,
              "#fb9f3a"
             ],
             [
              0.8888888888888888,
              "#fdca26"
             ],
             [
              1,
              "#f0f921"
             ]
            ],
            "type": "histogram2d"
           }
          ],
          "histogram2dcontour": [
           {
            "colorbar": {
             "outlinewidth": 0,
             "ticks": ""
            },
            "colorscale": [
             [
              0,
              "#0d0887"
             ],
             [
              0.1111111111111111,
              "#46039f"
             ],
             [
              0.2222222222222222,
              "#7201a8"
             ],
             [
              0.3333333333333333,
              "#9c179e"
             ],
             [
              0.4444444444444444,
              "#bd3786"
             ],
             [
              0.5555555555555556,
              "#d8576b"
             ],
             [
              0.6666666666666666,
              "#ed7953"
             ],
             [
              0.7777777777777778,
              "#fb9f3a"
             ],
             [
              0.8888888888888888,
              "#fdca26"
             ],
             [
              1,
              "#f0f921"
             ]
            ],
            "type": "histogram2dcontour"
           }
          ],
          "mesh3d": [
           {
            "colorbar": {
             "outlinewidth": 0,
             "ticks": ""
            },
            "type": "mesh3d"
           }
          ],
          "parcoords": [
           {
            "line": {
             "colorbar": {
              "outlinewidth": 0,
              "ticks": ""
             }
            },
            "type": "parcoords"
           }
          ],
          "pie": [
           {
            "automargin": true,
            "type": "pie"
           }
          ],
          "scatter": [
           {
            "fillpattern": {
             "fillmode": "overlay",
             "size": 10,
             "solidity": 0.2
            },
            "type": "scatter"
           }
          ],
          "scatter3d": [
           {
            "line": {
             "colorbar": {
              "outlinewidth": 0,
              "ticks": ""
             }
            },
            "marker": {
             "colorbar": {
              "outlinewidth": 0,
              "ticks": ""
             }
            },
            "type": "scatter3d"
           }
          ],
          "scattercarpet": [
           {
            "marker": {
             "colorbar": {
              "outlinewidth": 0,
              "ticks": ""
             }
            },
            "type": "scattercarpet"
           }
          ],
          "scattergeo": [
           {
            "marker": {
             "colorbar": {
              "outlinewidth": 0,
              "ticks": ""
             }
            },
            "type": "scattergeo"
           }
          ],
          "scattergl": [
           {
            "marker": {
             "colorbar": {
              "outlinewidth": 0,
              "ticks": ""
             }
            },
            "type": "scattergl"
           }
          ],
          "scattermapbox": [
           {
            "marker": {
             "colorbar": {
              "outlinewidth": 0,
              "ticks": ""
             }
            },
            "type": "scattermapbox"
           }
          ],
          "scatterpolar": [
           {
            "marker": {
             "colorbar": {
              "outlinewidth": 0,
              "ticks": ""
             }
            },
            "type": "scatterpolar"
           }
          ],
          "scatterpolargl": [
           {
            "marker": {
             "colorbar": {
              "outlinewidth": 0,
              "ticks": ""
             }
            },
            "type": "scatterpolargl"
           }
          ],
          "scatterternary": [
           {
            "marker": {
             "colorbar": {
              "outlinewidth": 0,
              "ticks": ""
             }
            },
            "type": "scatterternary"
           }
          ],
          "surface": [
           {
            "colorbar": {
             "outlinewidth": 0,
             "ticks": ""
            },
            "colorscale": [
             [
              0,
              "#0d0887"
             ],
             [
              0.1111111111111111,
              "#46039f"
             ],
             [
              0.2222222222222222,
              "#7201a8"
             ],
             [
              0.3333333333333333,
              "#9c179e"
             ],
             [
              0.4444444444444444,
              "#bd3786"
             ],
             [
              0.5555555555555556,
              "#d8576b"
             ],
             [
              0.6666666666666666,
              "#ed7953"
             ],
             [
              0.7777777777777778,
              "#fb9f3a"
             ],
             [
              0.8888888888888888,
              "#fdca26"
             ],
             [
              1,
              "#f0f921"
             ]
            ],
            "type": "surface"
           }
          ],
          "table": [
           {
            "cells": {
             "fill": {
              "color": "#EBF0F8"
             },
             "line": {
              "color": "white"
             }
            },
            "header": {
             "fill": {
              "color": "#C8D4E3"
             },
             "line": {
              "color": "white"
             }
            },
            "type": "table"
           }
          ]
         },
         "layout": {
          "annotationdefaults": {
           "arrowcolor": "#2a3f5f",
           "arrowhead": 0,
           "arrowwidth": 1
          },
          "autotypenumbers": "strict",
          "coloraxis": {
           "colorbar": {
            "outlinewidth": 0,
            "ticks": ""
           }
          },
          "colorscale": {
           "diverging": [
            [
             0,
             "#8e0152"
            ],
            [
             0.1,
             "#c51b7d"
            ],
            [
             0.2,
             "#de77ae"
            ],
            [
             0.3,
             "#f1b6da"
            ],
            [
             0.4,
             "#fde0ef"
            ],
            [
             0.5,
             "#f7f7f7"
            ],
            [
             0.6,
             "#e6f5d0"
            ],
            [
             0.7,
             "#b8e186"
            ],
            [
             0.8,
             "#7fbc41"
            ],
            [
             0.9,
             "#4d9221"
            ],
            [
             1,
             "#276419"
            ]
           ],
           "sequential": [
            [
             0,
             "#0d0887"
            ],
            [
             0.1111111111111111,
             "#46039f"
            ],
            [
             0.2222222222222222,
             "#7201a8"
            ],
            [
             0.3333333333333333,
             "#9c179e"
            ],
            [
             0.4444444444444444,
             "#bd3786"
            ],
            [
             0.5555555555555556,
             "#d8576b"
            ],
            [
             0.6666666666666666,
             "#ed7953"
            ],
            [
             0.7777777777777778,
             "#fb9f3a"
            ],
            [
             0.8888888888888888,
             "#fdca26"
            ],
            [
             1,
             "#f0f921"
            ]
           ],
           "sequentialminus": [
            [
             0,
             "#0d0887"
            ],
            [
             0.1111111111111111,
             "#46039f"
            ],
            [
             0.2222222222222222,
             "#7201a8"
            ],
            [
             0.3333333333333333,
             "#9c179e"
            ],
            [
             0.4444444444444444,
             "#bd3786"
            ],
            [
             0.5555555555555556,
             "#d8576b"
            ],
            [
             0.6666666666666666,
             "#ed7953"
            ],
            [
             0.7777777777777778,
             "#fb9f3a"
            ],
            [
             0.8888888888888888,
             "#fdca26"
            ],
            [
             1,
             "#f0f921"
            ]
           ]
          },
          "colorway": [
           "#636efa",
           "#EF553B",
           "#00cc96",
           "#ab63fa",
           "#FFA15A",
           "#19d3f3",
           "#FF6692",
           "#B6E880",
           "#FF97FF",
           "#FECB52"
          ],
          "font": {
           "color": "#2a3f5f"
          },
          "geo": {
           "bgcolor": "white",
           "lakecolor": "white",
           "landcolor": "#E5ECF6",
           "showlakes": true,
           "showland": true,
           "subunitcolor": "white"
          },
          "hoverlabel": {
           "align": "left"
          },
          "hovermode": "closest",
          "mapbox": {
           "style": "light"
          },
          "paper_bgcolor": "white",
          "plot_bgcolor": "#E5ECF6",
          "polar": {
           "angularaxis": {
            "gridcolor": "white",
            "linecolor": "white",
            "ticks": ""
           },
           "bgcolor": "#E5ECF6",
           "radialaxis": {
            "gridcolor": "white",
            "linecolor": "white",
            "ticks": ""
           }
          },
          "scene": {
           "xaxis": {
            "backgroundcolor": "#E5ECF6",
            "gridcolor": "white",
            "gridwidth": 2,
            "linecolor": "white",
            "showbackground": true,
            "ticks": "",
            "zerolinecolor": "white"
           },
           "yaxis": {
            "backgroundcolor": "#E5ECF6",
            "gridcolor": "white",
            "gridwidth": 2,
            "linecolor": "white",
            "showbackground": true,
            "ticks": "",
            "zerolinecolor": "white"
           },
           "zaxis": {
            "backgroundcolor": "#E5ECF6",
            "gridcolor": "white",
            "gridwidth": 2,
            "linecolor": "white",
            "showbackground": true,
            "ticks": "",
            "zerolinecolor": "white"
           }
          },
          "shapedefaults": {
           "line": {
            "color": "#2a3f5f"
           }
          },
          "ternary": {
           "aaxis": {
            "gridcolor": "white",
            "linecolor": "white",
            "ticks": ""
           },
           "baxis": {
            "gridcolor": "white",
            "linecolor": "white",
            "ticks": ""
           },
           "bgcolor": "#E5ECF6",
           "caxis": {
            "gridcolor": "white",
            "linecolor": "white",
            "ticks": ""
           }
          },
          "title": {
           "x": 0.05
          },
          "xaxis": {
           "automargin": true,
           "gridcolor": "white",
           "linecolor": "white",
           "ticks": "",
           "title": {
            "standoff": 15
           },
           "zerolinecolor": "white",
           "zerolinewidth": 2
          },
          "yaxis": {
           "automargin": true,
           "gridcolor": "white",
           "linecolor": "white",
           "ticks": "",
           "title": {
            "standoff": 15
           },
           "zerolinecolor": "white",
           "zerolinewidth": 2
          }
         }
        },
        "title": {
         "font": {
          "color": "white"
         },
         "text": "Характеристики стенда Gold Experience Requiem",
         "x": 0.5
        },
        "width": 500
       }
      }
     },
     "metadata": {},
     "output_type": "display_data"
    }
   ],
   "source": [
    "GER_stats = begin_dataset[\n",
    "    begin_dataset['Stand'].str.startswith('Gold Experience Requiem')\n",
    "]\n",
    "display(GER_stats)\n",
    "\n",
    "GER_list = GER_stats[stats_columns].values.tolist()[0]\n",
    "\n",
    "\n",
    "\n",
    "GER_radar_chart = px.line_polar(r = GER_list, \n",
    "                                theta = ['Сила', 'Скорость', 'Дальность', 'Выносливость', 'Точность', 'Потенциал'],\n",
    "                                line_close=True,\n",
    "                                color_discrete_sequence=['#f0d70f'],\n",
    "                                width = 500, \n",
    "                                markers=True,\n",
    "                                )\n",
    "\n",
    "GER_radar_chart.update_layout(title = {'text': 'Характеристики стенда Gold Experience Requiem', 'x':  0.5, 'font_color': 'white'}, \n",
    "                              paper_bgcolor = '#735404',\n",
    "                              polar = {'bgcolor': '#a16605', \n",
    "                                       'angularaxis': {'color': 'white'},\n",
    "                                       'radialaxis': {'color': 'white'}},\n",
    "                              )\n",
    "\n",
    "GER_radar_chart.update_traces(fill='toself')\n",
    "GER_radar_chart.show()"
   ]
  },
  {
   "cell_type": "markdown",
   "metadata": {},
   "source": [
    "### **2 место -- Notorious B.I.G**"
   ]
  },
  {
   "cell_type": "markdown",
   "metadata": {},
   "source": [
    "\n",
    "<p align=\"center\">\n",
    "    <img src=\"https://i.ytimg.com/vi/qvk0zrIqm4w/maxresdefault.jpg\" alt=\"Да... Страшный стенд\" height = \"200\", width=\"400\">\n",
    "</p>"
   ]
  },
  {
   "cell_type": "code",
   "execution_count": 331,
   "metadata": {},
   "outputs": [
    {
     "data": {
      "text/html": [
       "<div>\n",
       "<style scoped>\n",
       "    .dataframe tbody tr th:only-of-type {\n",
       "        vertical-align: middle;\n",
       "    }\n",
       "\n",
       "    .dataframe tbody tr th {\n",
       "        vertical-align: top;\n",
       "    }\n",
       "\n",
       "    .dataframe thead th {\n",
       "        text-align: right;\n",
       "    }\n",
       "</style>\n",
       "<table border=\"1\" class=\"dataframe\">\n",
       "  <thead>\n",
       "    <tr style=\"text-align: right;\">\n",
       "      <th></th>\n",
       "      <th>Stand</th>\n",
       "      <th>Сила</th>\n",
       "      <th>Скорость</th>\n",
       "      <th>Дальность</th>\n",
       "      <th>Выносливость</th>\n",
       "      <th>Точность</th>\n",
       "      <th>Потенциал</th>\n",
       "      <th>Story</th>\n",
       "      <th>strong</th>\n",
       "      <th>speed</th>\n",
       "      <th>range</th>\n",
       "      <th>stamina</th>\n",
       "      <th>accuracy</th>\n",
       "      <th>potential</th>\n",
       "      <th>Общий балл стенда</th>\n",
       "    </tr>\n",
       "  </thead>\n",
       "  <tbody>\n",
       "    <tr>\n",
       "      <th>83</th>\n",
       "      <td>Notorious B.I.G</td>\n",
       "      <td>5.0</td>\n",
       "      <td>6.0</td>\n",
       "      <td>6.0</td>\n",
       "      <td>6.0</td>\n",
       "      <td>1.0</td>\n",
       "      <td>5.0</td>\n",
       "      <td>Part 5: Vento Aureo</td>\n",
       "      <td>Сильный стенд</td>\n",
       "      <td>Быстрый стенд</td>\n",
       "      <td>Стенд дальнего действия</td>\n",
       "      <td>Выносливый, стойкий стенд</td>\n",
       "      <td>Неточный стенд</td>\n",
       "      <td>Высокий потенциал</td>\n",
       "      <td>5.35</td>\n",
       "    </tr>\n",
       "  </tbody>\n",
       "</table>\n",
       "</div>"
      ],
      "text/plain": [
       "              Stand  Сила  Скорость  Дальность  Выносливость  Точность  \\\n",
       "83  Notorious B.I.G   5.0       6.0        6.0           6.0       1.0   \n",
       "\n",
       "    Потенциал                Story         strong          speed  \\\n",
       "83        5.0  Part 5: Vento Aureo  Сильный стенд  Быстрый стенд   \n",
       "\n",
       "                      range                    stamina        accuracy  \\\n",
       "83  Стенд дальнего действия  Выносливый, стойкий стенд  Неточный стенд   \n",
       "\n",
       "            potential  Общий балл стенда  \n",
       "83  Высокий потенциал               5.35  "
      ]
     },
     "metadata": {},
     "output_type": "display_data"
    },
    {
     "data": {
      "application/vnd.plotly.v1+json": {
       "config": {
        "plotlyServerURL": "https://plotly.com"
       },
       "data": [
        {
         "fill": "toself",
         "hovertemplate": "r=%{r}<br>theta=%{theta}<extra></extra>",
         "legendgroup": "",
         "line": {
          "color": "#af5092",
          "dash": "solid"
         },
         "marker": {
          "symbol": "circle"
         },
         "mode": "lines+markers",
         "name": "",
         "r": [
          5,
          6,
          6,
          6,
          1,
          5,
          5
         ],
         "showlegend": false,
         "subplot": "polar",
         "theta": [
          "Сила",
          "Скорость",
          "Дальность",
          "Выносливость",
          "Точность",
          "Потенциал",
          "Сила"
         ],
         "type": "scatterpolar"
        }
       ],
       "layout": {
        "legend": {
         "tracegroupgap": 0
        },
        "margin": {
         "t": 60
        },
        "paper_bgcolor": "#d02f39",
        "polar": {
         "angularaxis": {
          "color": "white",
          "direction": "clockwise",
          "gridcolor": "#572c76",
          "linecolor": "black",
          "rotation": 90
         },
         "bgcolor": "#f5d2d5",
         "domain": {
          "x": [
           0,
           1
          ],
          "y": [
           0,
           1
          ]
         },
         "radialaxis": {
          "color": "black",
          "gridcolor": "#572c76",
          "linecolor": "black"
         }
        },
        "template": {
         "data": {
          "bar": [
           {
            "error_x": {
             "color": "#2a3f5f"
            },
            "error_y": {
             "color": "#2a3f5f"
            },
            "marker": {
             "line": {
              "color": "#E5ECF6",
              "width": 0.5
             },
             "pattern": {
              "fillmode": "overlay",
              "size": 10,
              "solidity": 0.2
             }
            },
            "type": "bar"
           }
          ],
          "barpolar": [
           {
            "marker": {
             "line": {
              "color": "#E5ECF6",
              "width": 0.5
             },
             "pattern": {
              "fillmode": "overlay",
              "size": 10,
              "solidity": 0.2
             }
            },
            "type": "barpolar"
           }
          ],
          "carpet": [
           {
            "aaxis": {
             "endlinecolor": "#2a3f5f",
             "gridcolor": "white",
             "linecolor": "white",
             "minorgridcolor": "white",
             "startlinecolor": "#2a3f5f"
            },
            "baxis": {
             "endlinecolor": "#2a3f5f",
             "gridcolor": "white",
             "linecolor": "white",
             "minorgridcolor": "white",
             "startlinecolor": "#2a3f5f"
            },
            "type": "carpet"
           }
          ],
          "choropleth": [
           {
            "colorbar": {
             "outlinewidth": 0,
             "ticks": ""
            },
            "type": "choropleth"
           }
          ],
          "contour": [
           {
            "colorbar": {
             "outlinewidth": 0,
             "ticks": ""
            },
            "colorscale": [
             [
              0,
              "#0d0887"
             ],
             [
              0.1111111111111111,
              "#46039f"
             ],
             [
              0.2222222222222222,
              "#7201a8"
             ],
             [
              0.3333333333333333,
              "#9c179e"
             ],
             [
              0.4444444444444444,
              "#bd3786"
             ],
             [
              0.5555555555555556,
              "#d8576b"
             ],
             [
              0.6666666666666666,
              "#ed7953"
             ],
             [
              0.7777777777777778,
              "#fb9f3a"
             ],
             [
              0.8888888888888888,
              "#fdca26"
             ],
             [
              1,
              "#f0f921"
             ]
            ],
            "type": "contour"
           }
          ],
          "contourcarpet": [
           {
            "colorbar": {
             "outlinewidth": 0,
             "ticks": ""
            },
            "type": "contourcarpet"
           }
          ],
          "heatmap": [
           {
            "colorbar": {
             "outlinewidth": 0,
             "ticks": ""
            },
            "colorscale": [
             [
              0,
              "#0d0887"
             ],
             [
              0.1111111111111111,
              "#46039f"
             ],
             [
              0.2222222222222222,
              "#7201a8"
             ],
             [
              0.3333333333333333,
              "#9c179e"
             ],
             [
              0.4444444444444444,
              "#bd3786"
             ],
             [
              0.5555555555555556,
              "#d8576b"
             ],
             [
              0.6666666666666666,
              "#ed7953"
             ],
             [
              0.7777777777777778,
              "#fb9f3a"
             ],
             [
              0.8888888888888888,
              "#fdca26"
             ],
             [
              1,
              "#f0f921"
             ]
            ],
            "type": "heatmap"
           }
          ],
          "heatmapgl": [
           {
            "colorbar": {
             "outlinewidth": 0,
             "ticks": ""
            },
            "colorscale": [
             [
              0,
              "#0d0887"
             ],
             [
              0.1111111111111111,
              "#46039f"
             ],
             [
              0.2222222222222222,
              "#7201a8"
             ],
             [
              0.3333333333333333,
              "#9c179e"
             ],
             [
              0.4444444444444444,
              "#bd3786"
             ],
             [
              0.5555555555555556,
              "#d8576b"
             ],
             [
              0.6666666666666666,
              "#ed7953"
             ],
             [
              0.7777777777777778,
              "#fb9f3a"
             ],
             [
              0.8888888888888888,
              "#fdca26"
             ],
             [
              1,
              "#f0f921"
             ]
            ],
            "type": "heatmapgl"
           }
          ],
          "histogram": [
           {
            "marker": {
             "pattern": {
              "fillmode": "overlay",
              "size": 10,
              "solidity": 0.2
             }
            },
            "type": "histogram"
           }
          ],
          "histogram2d": [
           {
            "colorbar": {
             "outlinewidth": 0,
             "ticks": ""
            },
            "colorscale": [
             [
              0,
              "#0d0887"
             ],
             [
              0.1111111111111111,
              "#46039f"
             ],
             [
              0.2222222222222222,
              "#7201a8"
             ],
             [
              0.3333333333333333,
              "#9c179e"
             ],
             [
              0.4444444444444444,
              "#bd3786"
             ],
             [
              0.5555555555555556,
              "#d8576b"
             ],
             [
              0.6666666666666666,
              "#ed7953"
             ],
             [
              0.7777777777777778,
              "#fb9f3a"
             ],
             [
              0.8888888888888888,
              "#fdca26"
             ],
             [
              1,
              "#f0f921"
             ]
            ],
            "type": "histogram2d"
           }
          ],
          "histogram2dcontour": [
           {
            "colorbar": {
             "outlinewidth": 0,
             "ticks": ""
            },
            "colorscale": [
             [
              0,
              "#0d0887"
             ],
             [
              0.1111111111111111,
              "#46039f"
             ],
             [
              0.2222222222222222,
              "#7201a8"
             ],
             [
              0.3333333333333333,
              "#9c179e"
             ],
             [
              0.4444444444444444,
              "#bd3786"
             ],
             [
              0.5555555555555556,
              "#d8576b"
             ],
             [
              0.6666666666666666,
              "#ed7953"
             ],
             [
              0.7777777777777778,
              "#fb9f3a"
             ],
             [
              0.8888888888888888,
              "#fdca26"
             ],
             [
              1,
              "#f0f921"
             ]
            ],
            "type": "histogram2dcontour"
           }
          ],
          "mesh3d": [
           {
            "colorbar": {
             "outlinewidth": 0,
             "ticks": ""
            },
            "type": "mesh3d"
           }
          ],
          "parcoords": [
           {
            "line": {
             "colorbar": {
              "outlinewidth": 0,
              "ticks": ""
             }
            },
            "type": "parcoords"
           }
          ],
          "pie": [
           {
            "automargin": true,
            "type": "pie"
           }
          ],
          "scatter": [
           {
            "fillpattern": {
             "fillmode": "overlay",
             "size": 10,
             "solidity": 0.2
            },
            "type": "scatter"
           }
          ],
          "scatter3d": [
           {
            "line": {
             "colorbar": {
              "outlinewidth": 0,
              "ticks": ""
             }
            },
            "marker": {
             "colorbar": {
              "outlinewidth": 0,
              "ticks": ""
             }
            },
            "type": "scatter3d"
           }
          ],
          "scattercarpet": [
           {
            "marker": {
             "colorbar": {
              "outlinewidth": 0,
              "ticks": ""
             }
            },
            "type": "scattercarpet"
           }
          ],
          "scattergeo": [
           {
            "marker": {
             "colorbar": {
              "outlinewidth": 0,
              "ticks": ""
             }
            },
            "type": "scattergeo"
           }
          ],
          "scattergl": [
           {
            "marker": {
             "colorbar": {
              "outlinewidth": 0,
              "ticks": ""
             }
            },
            "type": "scattergl"
           }
          ],
          "scattermapbox": [
           {
            "marker": {
             "colorbar": {
              "outlinewidth": 0,
              "ticks": ""
             }
            },
            "type": "scattermapbox"
           }
          ],
          "scatterpolar": [
           {
            "marker": {
             "colorbar": {
              "outlinewidth": 0,
              "ticks": ""
             }
            },
            "type": "scatterpolar"
           }
          ],
          "scatterpolargl": [
           {
            "marker": {
             "colorbar": {
              "outlinewidth": 0,
              "ticks": ""
             }
            },
            "type": "scatterpolargl"
           }
          ],
          "scatterternary": [
           {
            "marker": {
             "colorbar": {
              "outlinewidth": 0,
              "ticks": ""
             }
            },
            "type": "scatterternary"
           }
          ],
          "surface": [
           {
            "colorbar": {
             "outlinewidth": 0,
             "ticks": ""
            },
            "colorscale": [
             [
              0,
              "#0d0887"
             ],
             [
              0.1111111111111111,
              "#46039f"
             ],
             [
              0.2222222222222222,
              "#7201a8"
             ],
             [
              0.3333333333333333,
              "#9c179e"
             ],
             [
              0.4444444444444444,
              "#bd3786"
             ],
             [
              0.5555555555555556,
              "#d8576b"
             ],
             [
              0.6666666666666666,
              "#ed7953"
             ],
             [
              0.7777777777777778,
              "#fb9f3a"
             ],
             [
              0.8888888888888888,
              "#fdca26"
             ],
             [
              1,
              "#f0f921"
             ]
            ],
            "type": "surface"
           }
          ],
          "table": [
           {
            "cells": {
             "fill": {
              "color": "#EBF0F8"
             },
             "line": {
              "color": "white"
             }
            },
            "header": {
             "fill": {
              "color": "#C8D4E3"
             },
             "line": {
              "color": "white"
             }
            },
            "type": "table"
           }
          ]
         },
         "layout": {
          "annotationdefaults": {
           "arrowcolor": "#2a3f5f",
           "arrowhead": 0,
           "arrowwidth": 1
          },
          "autotypenumbers": "strict",
          "coloraxis": {
           "colorbar": {
            "outlinewidth": 0,
            "ticks": ""
           }
          },
          "colorscale": {
           "diverging": [
            [
             0,
             "#8e0152"
            ],
            [
             0.1,
             "#c51b7d"
            ],
            [
             0.2,
             "#de77ae"
            ],
            [
             0.3,
             "#f1b6da"
            ],
            [
             0.4,
             "#fde0ef"
            ],
            [
             0.5,
             "#f7f7f7"
            ],
            [
             0.6,
             "#e6f5d0"
            ],
            [
             0.7,
             "#b8e186"
            ],
            [
             0.8,
             "#7fbc41"
            ],
            [
             0.9,
             "#4d9221"
            ],
            [
             1,
             "#276419"
            ]
           ],
           "sequential": [
            [
             0,
             "#0d0887"
            ],
            [
             0.1111111111111111,
             "#46039f"
            ],
            [
             0.2222222222222222,
             "#7201a8"
            ],
            [
             0.3333333333333333,
             "#9c179e"
            ],
            [
             0.4444444444444444,
             "#bd3786"
            ],
            [
             0.5555555555555556,
             "#d8576b"
            ],
            [
             0.6666666666666666,
             "#ed7953"
            ],
            [
             0.7777777777777778,
             "#fb9f3a"
            ],
            [
             0.8888888888888888,
             "#fdca26"
            ],
            [
             1,
             "#f0f921"
            ]
           ],
           "sequentialminus": [
            [
             0,
             "#0d0887"
            ],
            [
             0.1111111111111111,
             "#46039f"
            ],
            [
             0.2222222222222222,
             "#7201a8"
            ],
            [
             0.3333333333333333,
             "#9c179e"
            ],
            [
             0.4444444444444444,
             "#bd3786"
            ],
            [
             0.5555555555555556,
             "#d8576b"
            ],
            [
             0.6666666666666666,
             "#ed7953"
            ],
            [
             0.7777777777777778,
             "#fb9f3a"
            ],
            [
             0.8888888888888888,
             "#fdca26"
            ],
            [
             1,
             "#f0f921"
            ]
           ]
          },
          "colorway": [
           "#636efa",
           "#EF553B",
           "#00cc96",
           "#ab63fa",
           "#FFA15A",
           "#19d3f3",
           "#FF6692",
           "#B6E880",
           "#FF97FF",
           "#FECB52"
          ],
          "font": {
           "color": "#2a3f5f"
          },
          "geo": {
           "bgcolor": "white",
           "lakecolor": "white",
           "landcolor": "#E5ECF6",
           "showlakes": true,
           "showland": true,
           "subunitcolor": "white"
          },
          "hoverlabel": {
           "align": "left"
          },
          "hovermode": "closest",
          "mapbox": {
           "style": "light"
          },
          "paper_bgcolor": "white",
          "plot_bgcolor": "#E5ECF6",
          "polar": {
           "angularaxis": {
            "gridcolor": "white",
            "linecolor": "white",
            "ticks": ""
           },
           "bgcolor": "#E5ECF6",
           "radialaxis": {
            "gridcolor": "white",
            "linecolor": "white",
            "ticks": ""
           }
          },
          "scene": {
           "xaxis": {
            "backgroundcolor": "#E5ECF6",
            "gridcolor": "white",
            "gridwidth": 2,
            "linecolor": "white",
            "showbackground": true,
            "ticks": "",
            "zerolinecolor": "white"
           },
           "yaxis": {
            "backgroundcolor": "#E5ECF6",
            "gridcolor": "white",
            "gridwidth": 2,
            "linecolor": "white",
            "showbackground": true,
            "ticks": "",
            "zerolinecolor": "white"
           },
           "zaxis": {
            "backgroundcolor": "#E5ECF6",
            "gridcolor": "white",
            "gridwidth": 2,
            "linecolor": "white",
            "showbackground": true,
            "ticks": "",
            "zerolinecolor": "white"
           }
          },
          "shapedefaults": {
           "line": {
            "color": "#2a3f5f"
           }
          },
          "ternary": {
           "aaxis": {
            "gridcolor": "white",
            "linecolor": "white",
            "ticks": ""
           },
           "baxis": {
            "gridcolor": "white",
            "linecolor": "white",
            "ticks": ""
           },
           "bgcolor": "#E5ECF6",
           "caxis": {
            "gridcolor": "white",
            "linecolor": "white",
            "ticks": ""
           }
          },
          "title": {
           "x": 0.05
          },
          "xaxis": {
           "automargin": true,
           "gridcolor": "white",
           "linecolor": "white",
           "ticks": "",
           "title": {
            "standoff": 15
           },
           "zerolinecolor": "white",
           "zerolinewidth": 2
          },
          "yaxis": {
           "automargin": true,
           "gridcolor": "white",
           "linecolor": "white",
           "ticks": "",
           "title": {
            "standoff": 15
           },
           "zerolinecolor": "white",
           "zerolinewidth": 2
          }
         }
        },
        "title": {
         "font": {
          "color": "white"
         },
         "text": "Характеристики стенда Notorious B.I.G",
         "x": 0.5
        },
        "width": 500
       }
      }
     },
     "metadata": {},
     "output_type": "display_data"
    }
   ],
   "source": [
    "Notorius_df = begin_dataset[\n",
    "    begin_dataset['Stand'] == 'Notorious B.I.G'\n",
    "]\n",
    "display(Notorius_df)\n",
    "\n",
    "Notorius_val = Notorius_df[stats_columns].values.tolist()[0]\n",
    "\n",
    "\n",
    "Notorius_chart = px.line_polar(r = Notorius_val,\n",
    "                               theta=stats_columns,\n",
    "                               line_close=True,\n",
    "                               markers=True,\n",
    "                               color_discrete_sequence=['#af5092'],\n",
    "                               width = 500)\n",
    "Notorius_chart.update_layout(title = {'text': 'Характеристики стенда Notorious B.I.G', 'x': 0.5, 'font_color': 'white'},\n",
    "                             paper_bgcolor = '#d02f39',\n",
    "                             polar = {'bgcolor': '#f5d2d5',\n",
    "                                       'angularaxis': {'color': 'white', 'linecolor': 'black', 'gridcolor': '#572c76'},\n",
    "                                       'radialaxis': {'color': 'black', 'linecolor': 'black', 'gridcolor': '#572c76'}}\n",
    "                             )\n",
    "Notorius_chart.update_traces(fill = 'toself')\n",
    "Notorius_chart.show()"
   ]
  },
  {
   "cell_type": "markdown",
   "metadata": {},
   "source": [
    "### **3 место -- Red Hot Chili Pepper**"
   ]
  },
  {
   "cell_type": "markdown",
   "metadata": {},
   "source": [
    "<p align=\"center\">\n",
    "    <img src=\"https://avatars.mds.yandex.net/i?id=d391b2a9949406c5444703a3627584ef_l-4821100-images-thumbs&n=13\" alt=\"Да... Страшный стенд\" height = \"200\", width=\"400\">\n",
    "</p>"
   ]
  },
  {
   "cell_type": "code",
   "execution_count": 345,
   "metadata": {},
   "outputs": [
    {
     "data": {
      "text/html": [
       "<div>\n",
       "<style scoped>\n",
       "    .dataframe tbody tr th:only-of-type {\n",
       "        vertical-align: middle;\n",
       "    }\n",
       "\n",
       "    .dataframe tbody tr th {\n",
       "        vertical-align: top;\n",
       "    }\n",
       "\n",
       "    .dataframe thead th {\n",
       "        text-align: right;\n",
       "    }\n",
       "</style>\n",
       "<table border=\"1\" class=\"dataframe\">\n",
       "  <thead>\n",
       "    <tr style=\"text-align: right;\">\n",
       "      <th></th>\n",
       "      <th>Stand</th>\n",
       "      <th>Сила</th>\n",
       "      <th>Скорость</th>\n",
       "      <th>Дальность</th>\n",
       "      <th>Выносливость</th>\n",
       "      <th>Точность</th>\n",
       "      <th>Потенциал</th>\n",
       "      <th>Story</th>\n",
       "      <th>strong</th>\n",
       "      <th>speed</th>\n",
       "      <th>range</th>\n",
       "      <th>stamina</th>\n",
       "      <th>accuracy</th>\n",
       "      <th>potential</th>\n",
       "      <th>Общий балл стенда</th>\n",
       "    </tr>\n",
       "  </thead>\n",
       "  <tbody>\n",
       "    <tr>\n",
       "      <th>52</th>\n",
       "      <td>Red Hot Chili Pepper</td>\n",
       "      <td>5.0</td>\n",
       "      <td>5.0</td>\n",
       "      <td>5.0</td>\n",
       "      <td>5.0</td>\n",
       "      <td>3.0</td>\n",
       "      <td>5.0</td>\n",
       "      <td>Part 4: Diamond is Unbreakable</td>\n",
       "      <td>Сильный стенд</td>\n",
       "      <td>Быстрый стенд</td>\n",
       "      <td>Стенд дальнего действия</td>\n",
       "      <td>Выносливый, стойкий стенд</td>\n",
       "      <td>Точный стенд</td>\n",
       "      <td>Высокий потенциал</td>\n",
       "      <td>4.9</td>\n",
       "    </tr>\n",
       "  </tbody>\n",
       "</table>\n",
       "</div>"
      ],
      "text/plain": [
       "                   Stand  Сила  Скорость  Дальность  Выносливость  Точность  \\\n",
       "52  Red Hot Chili Pepper   5.0       5.0        5.0           5.0       3.0   \n",
       "\n",
       "    Потенциал                           Story         strong          speed  \\\n",
       "52        5.0  Part 4: Diamond is Unbreakable  Сильный стенд  Быстрый стенд   \n",
       "\n",
       "                      range                    stamina      accuracy  \\\n",
       "52  Стенд дальнего действия  Выносливый, стойкий стенд  Точный стенд   \n",
       "\n",
       "            potential  Общий балл стенда  \n",
       "52  Высокий потенциал                4.9  "
      ]
     },
     "metadata": {},
     "output_type": "display_data"
    },
    {
     "data": {
      "application/vnd.plotly.v1+json": {
       "config": {
        "plotlyServerURL": "https://plotly.com"
       },
       "data": [
        {
         "fill": "toself",
         "hovertemplate": "r=%{r}<br>theta=%{theta}<extra></extra>",
         "legendgroup": "",
         "line": {
          "color": "#f5e60a",
          "dash": "solid"
         },
         "marker": {
          "symbol": "circle"
         },
         "mode": "lines+markers",
         "name": "",
         "r": [
          5,
          5,
          5,
          5,
          3,
          5,
          5
         ],
         "showlegend": false,
         "subplot": "polar",
         "theta": [
          "Сила",
          "Скорость",
          "Дальность",
          "Выносливость",
          "Точность",
          "Потенциал",
          "Сила"
         ],
         "type": "scatterpolar"
        }
       ],
       "layout": {
        "legend": {
         "tracegroupgap": 0
        },
        "margin": {
         "t": 60
        },
        "paper_bgcolor": "#e4331b",
        "polar": {
         "angularaxis": {
          "color": "white",
          "direction": "clockwise",
          "gridcolor": "white",
          "linecolor": "white",
          "rotation": 90
         },
         "bgcolor": "#e4331b",
         "domain": {
          "x": [
           0,
           1
          ],
          "y": [
           0,
           1
          ]
         },
         "radialaxis": {
          "color": "white",
          "gridcolor": "white",
          "linecolor": "white"
         }
        },
        "template": {
         "data": {
          "bar": [
           {
            "error_x": {
             "color": "#2a3f5f"
            },
            "error_y": {
             "color": "#2a3f5f"
            },
            "marker": {
             "line": {
              "color": "#E5ECF6",
              "width": 0.5
             },
             "pattern": {
              "fillmode": "overlay",
              "size": 10,
              "solidity": 0.2
             }
            },
            "type": "bar"
           }
          ],
          "barpolar": [
           {
            "marker": {
             "line": {
              "color": "#E5ECF6",
              "width": 0.5
             },
             "pattern": {
              "fillmode": "overlay",
              "size": 10,
              "solidity": 0.2
             }
            },
            "type": "barpolar"
           }
          ],
          "carpet": [
           {
            "aaxis": {
             "endlinecolor": "#2a3f5f",
             "gridcolor": "white",
             "linecolor": "white",
             "minorgridcolor": "white",
             "startlinecolor": "#2a3f5f"
            },
            "baxis": {
             "endlinecolor": "#2a3f5f",
             "gridcolor": "white",
             "linecolor": "white",
             "minorgridcolor": "white",
             "startlinecolor": "#2a3f5f"
            },
            "type": "carpet"
           }
          ],
          "choropleth": [
           {
            "colorbar": {
             "outlinewidth": 0,
             "ticks": ""
            },
            "type": "choropleth"
           }
          ],
          "contour": [
           {
            "colorbar": {
             "outlinewidth": 0,
             "ticks": ""
            },
            "colorscale": [
             [
              0,
              "#0d0887"
             ],
             [
              0.1111111111111111,
              "#46039f"
             ],
             [
              0.2222222222222222,
              "#7201a8"
             ],
             [
              0.3333333333333333,
              "#9c179e"
             ],
             [
              0.4444444444444444,
              "#bd3786"
             ],
             [
              0.5555555555555556,
              "#d8576b"
             ],
             [
              0.6666666666666666,
              "#ed7953"
             ],
             [
              0.7777777777777778,
              "#fb9f3a"
             ],
             [
              0.8888888888888888,
              "#fdca26"
             ],
             [
              1,
              "#f0f921"
             ]
            ],
            "type": "contour"
           }
          ],
          "contourcarpet": [
           {
            "colorbar": {
             "outlinewidth": 0,
             "ticks": ""
            },
            "type": "contourcarpet"
           }
          ],
          "heatmap": [
           {
            "colorbar": {
             "outlinewidth": 0,
             "ticks": ""
            },
            "colorscale": [
             [
              0,
              "#0d0887"
             ],
             [
              0.1111111111111111,
              "#46039f"
             ],
             [
              0.2222222222222222,
              "#7201a8"
             ],
             [
              0.3333333333333333,
              "#9c179e"
             ],
             [
              0.4444444444444444,
              "#bd3786"
             ],
             [
              0.5555555555555556,
              "#d8576b"
             ],
             [
              0.6666666666666666,
              "#ed7953"
             ],
             [
              0.7777777777777778,
              "#fb9f3a"
             ],
             [
              0.8888888888888888,
              "#fdca26"
             ],
             [
              1,
              "#f0f921"
             ]
            ],
            "type": "heatmap"
           }
          ],
          "heatmapgl": [
           {
            "colorbar": {
             "outlinewidth": 0,
             "ticks": ""
            },
            "colorscale": [
             [
              0,
              "#0d0887"
             ],
             [
              0.1111111111111111,
              "#46039f"
             ],
             [
              0.2222222222222222,
              "#7201a8"
             ],
             [
              0.3333333333333333,
              "#9c179e"
             ],
             [
              0.4444444444444444,
              "#bd3786"
             ],
             [
              0.5555555555555556,
              "#d8576b"
             ],
             [
              0.6666666666666666,
              "#ed7953"
             ],
             [
              0.7777777777777778,
              "#fb9f3a"
             ],
             [
              0.8888888888888888,
              "#fdca26"
             ],
             [
              1,
              "#f0f921"
             ]
            ],
            "type": "heatmapgl"
           }
          ],
          "histogram": [
           {
            "marker": {
             "pattern": {
              "fillmode": "overlay",
              "size": 10,
              "solidity": 0.2
             }
            },
            "type": "histogram"
           }
          ],
          "histogram2d": [
           {
            "colorbar": {
             "outlinewidth": 0,
             "ticks": ""
            },
            "colorscale": [
             [
              0,
              "#0d0887"
             ],
             [
              0.1111111111111111,
              "#46039f"
             ],
             [
              0.2222222222222222,
              "#7201a8"
             ],
             [
              0.3333333333333333,
              "#9c179e"
             ],
             [
              0.4444444444444444,
              "#bd3786"
             ],
             [
              0.5555555555555556,
              "#d8576b"
             ],
             [
              0.6666666666666666,
              "#ed7953"
             ],
             [
              0.7777777777777778,
              "#fb9f3a"
             ],
             [
              0.8888888888888888,
              "#fdca26"
             ],
             [
              1,
              "#f0f921"
             ]
            ],
            "type": "histogram2d"
           }
          ],
          "histogram2dcontour": [
           {
            "colorbar": {
             "outlinewidth": 0,
             "ticks": ""
            },
            "colorscale": [
             [
              0,
              "#0d0887"
             ],
             [
              0.1111111111111111,
              "#46039f"
             ],
             [
              0.2222222222222222,
              "#7201a8"
             ],
             [
              0.3333333333333333,
              "#9c179e"
             ],
             [
              0.4444444444444444,
              "#bd3786"
             ],
             [
              0.5555555555555556,
              "#d8576b"
             ],
             [
              0.6666666666666666,
              "#ed7953"
             ],
             [
              0.7777777777777778,
              "#fb9f3a"
             ],
             [
              0.8888888888888888,
              "#fdca26"
             ],
             [
              1,
              "#f0f921"
             ]
            ],
            "type": "histogram2dcontour"
           }
          ],
          "mesh3d": [
           {
            "colorbar": {
             "outlinewidth": 0,
             "ticks": ""
            },
            "type": "mesh3d"
           }
          ],
          "parcoords": [
           {
            "line": {
             "colorbar": {
              "outlinewidth": 0,
              "ticks": ""
             }
            },
            "type": "parcoords"
           }
          ],
          "pie": [
           {
            "automargin": true,
            "type": "pie"
           }
          ],
          "scatter": [
           {
            "fillpattern": {
             "fillmode": "overlay",
             "size": 10,
             "solidity": 0.2
            },
            "type": "scatter"
           }
          ],
          "scatter3d": [
           {
            "line": {
             "colorbar": {
              "outlinewidth": 0,
              "ticks": ""
             }
            },
            "marker": {
             "colorbar": {
              "outlinewidth": 0,
              "ticks": ""
             }
            },
            "type": "scatter3d"
           }
          ],
          "scattercarpet": [
           {
            "marker": {
             "colorbar": {
              "outlinewidth": 0,
              "ticks": ""
             }
            },
            "type": "scattercarpet"
           }
          ],
          "scattergeo": [
           {
            "marker": {
             "colorbar": {
              "outlinewidth": 0,
              "ticks": ""
             }
            },
            "type": "scattergeo"
           }
          ],
          "scattergl": [
           {
            "marker": {
             "colorbar": {
              "outlinewidth": 0,
              "ticks": ""
             }
            },
            "type": "scattergl"
           }
          ],
          "scattermapbox": [
           {
            "marker": {
             "colorbar": {
              "outlinewidth": 0,
              "ticks": ""
             }
            },
            "type": "scattermapbox"
           }
          ],
          "scatterpolar": [
           {
            "marker": {
             "colorbar": {
              "outlinewidth": 0,
              "ticks": ""
             }
            },
            "type": "scatterpolar"
           }
          ],
          "scatterpolargl": [
           {
            "marker": {
             "colorbar": {
              "outlinewidth": 0,
              "ticks": ""
             }
            },
            "type": "scatterpolargl"
           }
          ],
          "scatterternary": [
           {
            "marker": {
             "colorbar": {
              "outlinewidth": 0,
              "ticks": ""
             }
            },
            "type": "scatterternary"
           }
          ],
          "surface": [
           {
            "colorbar": {
             "outlinewidth": 0,
             "ticks": ""
            },
            "colorscale": [
             [
              0,
              "#0d0887"
             ],
             [
              0.1111111111111111,
              "#46039f"
             ],
             [
              0.2222222222222222,
              "#7201a8"
             ],
             [
              0.3333333333333333,
              "#9c179e"
             ],
             [
              0.4444444444444444,
              "#bd3786"
             ],
             [
              0.5555555555555556,
              "#d8576b"
             ],
             [
              0.6666666666666666,
              "#ed7953"
             ],
             [
              0.7777777777777778,
              "#fb9f3a"
             ],
             [
              0.8888888888888888,
              "#fdca26"
             ],
             [
              1,
              "#f0f921"
             ]
            ],
            "type": "surface"
           }
          ],
          "table": [
           {
            "cells": {
             "fill": {
              "color": "#EBF0F8"
             },
             "line": {
              "color": "white"
             }
            },
            "header": {
             "fill": {
              "color": "#C8D4E3"
             },
             "line": {
              "color": "white"
             }
            },
            "type": "table"
           }
          ]
         },
         "layout": {
          "annotationdefaults": {
           "arrowcolor": "#2a3f5f",
           "arrowhead": 0,
           "arrowwidth": 1
          },
          "autotypenumbers": "strict",
          "coloraxis": {
           "colorbar": {
            "outlinewidth": 0,
            "ticks": ""
           }
          },
          "colorscale": {
           "diverging": [
            [
             0,
             "#8e0152"
            ],
            [
             0.1,
             "#c51b7d"
            ],
            [
             0.2,
             "#de77ae"
            ],
            [
             0.3,
             "#f1b6da"
            ],
            [
             0.4,
             "#fde0ef"
            ],
            [
             0.5,
             "#f7f7f7"
            ],
            [
             0.6,
             "#e6f5d0"
            ],
            [
             0.7,
             "#b8e186"
            ],
            [
             0.8,
             "#7fbc41"
            ],
            [
             0.9,
             "#4d9221"
            ],
            [
             1,
             "#276419"
            ]
           ],
           "sequential": [
            [
             0,
             "#0d0887"
            ],
            [
             0.1111111111111111,
             "#46039f"
            ],
            [
             0.2222222222222222,
             "#7201a8"
            ],
            [
             0.3333333333333333,
             "#9c179e"
            ],
            [
             0.4444444444444444,
             "#bd3786"
            ],
            [
             0.5555555555555556,
             "#d8576b"
            ],
            [
             0.6666666666666666,
             "#ed7953"
            ],
            [
             0.7777777777777778,
             "#fb9f3a"
            ],
            [
             0.8888888888888888,
             "#fdca26"
            ],
            [
             1,
             "#f0f921"
            ]
           ],
           "sequentialminus": [
            [
             0,
             "#0d0887"
            ],
            [
             0.1111111111111111,
             "#46039f"
            ],
            [
             0.2222222222222222,
             "#7201a8"
            ],
            [
             0.3333333333333333,
             "#9c179e"
            ],
            [
             0.4444444444444444,
             "#bd3786"
            ],
            [
             0.5555555555555556,
             "#d8576b"
            ],
            [
             0.6666666666666666,
             "#ed7953"
            ],
            [
             0.7777777777777778,
             "#fb9f3a"
            ],
            [
             0.8888888888888888,
             "#fdca26"
            ],
            [
             1,
             "#f0f921"
            ]
           ]
          },
          "colorway": [
           "#636efa",
           "#EF553B",
           "#00cc96",
           "#ab63fa",
           "#FFA15A",
           "#19d3f3",
           "#FF6692",
           "#B6E880",
           "#FF97FF",
           "#FECB52"
          ],
          "font": {
           "color": "#2a3f5f"
          },
          "geo": {
           "bgcolor": "white",
           "lakecolor": "white",
           "landcolor": "#E5ECF6",
           "showlakes": true,
           "showland": true,
           "subunitcolor": "white"
          },
          "hoverlabel": {
           "align": "left"
          },
          "hovermode": "closest",
          "mapbox": {
           "style": "light"
          },
          "paper_bgcolor": "white",
          "plot_bgcolor": "#E5ECF6",
          "polar": {
           "angularaxis": {
            "gridcolor": "white",
            "linecolor": "white",
            "ticks": ""
           },
           "bgcolor": "#E5ECF6",
           "radialaxis": {
            "gridcolor": "white",
            "linecolor": "white",
            "ticks": ""
           }
          },
          "scene": {
           "xaxis": {
            "backgroundcolor": "#E5ECF6",
            "gridcolor": "white",
            "gridwidth": 2,
            "linecolor": "white",
            "showbackground": true,
            "ticks": "",
            "zerolinecolor": "white"
           },
           "yaxis": {
            "backgroundcolor": "#E5ECF6",
            "gridcolor": "white",
            "gridwidth": 2,
            "linecolor": "white",
            "showbackground": true,
            "ticks": "",
            "zerolinecolor": "white"
           },
           "zaxis": {
            "backgroundcolor": "#E5ECF6",
            "gridcolor": "white",
            "gridwidth": 2,
            "linecolor": "white",
            "showbackground": true,
            "ticks": "",
            "zerolinecolor": "white"
           }
          },
          "shapedefaults": {
           "line": {
            "color": "#2a3f5f"
           }
          },
          "ternary": {
           "aaxis": {
            "gridcolor": "white",
            "linecolor": "white",
            "ticks": ""
           },
           "baxis": {
            "gridcolor": "white",
            "linecolor": "white",
            "ticks": ""
           },
           "bgcolor": "#E5ECF6",
           "caxis": {
            "gridcolor": "white",
            "linecolor": "white",
            "ticks": ""
           }
          },
          "title": {
           "x": 0.05
          },
          "xaxis": {
           "automargin": true,
           "gridcolor": "white",
           "linecolor": "white",
           "ticks": "",
           "title": {
            "standoff": 15
           },
           "zerolinecolor": "white",
           "zerolinewidth": 2
          },
          "yaxis": {
           "automargin": true,
           "gridcolor": "white",
           "linecolor": "white",
           "ticks": "",
           "title": {
            "standoff": 15
           },
           "zerolinecolor": "white",
           "zerolinewidth": 2
          }
         }
        },
        "title": {
         "font": {
          "color": "white"
         },
         "text": "Характеристики стенда Red Hot Chili Pepper",
         "x": 0.5
        },
        "width": 500
       }
      }
     },
     "metadata": {},
     "output_type": "display_data"
    }
   ],
   "source": [
    "red_hot_pepper_df = begin_dataset[\n",
    "    begin_dataset['Stand'] == 'Red Hot Chili Pepper'\n",
    "]\n",
    "\n",
    "display(red_hot_pepper_df)\n",
    "\n",
    "red_hot_pepper_val = red_hot_pepper_df[stats_columns].values.tolist()[0]\n",
    "\n",
    "red_hot_polar = px.line_polar(r = red_hot_pepper_val,\n",
    "                              theta=stats_columns, \n",
    "                              markers=True,\n",
    "                              line_close=True,\n",
    "                              width = 500, \n",
    "                              color_discrete_sequence=['#f5e60a'],\n",
    "                              )\n",
    "\n",
    "red_hot_polar.update_layout(title = {'text': 'Характеристики стенда Red Hot Chili Pepper', 'x': 0.5, 'font_color': 'white'},\n",
    "                            paper_bgcolor = '#e4331b',\n",
    "                            polar = {'bgcolor': '#e4331b',\n",
    "                                       'angularaxis': {'color': 'white', 'linecolor': 'white', 'gridcolor': 'white'},\n",
    "                                       'radialaxis': {'color': 'white', 'linecolor': 'white', 'gridcolor': 'white'}}\n",
    "                             )\n",
    "red_hot_polar.update_traces(fill = 'toself')\n",
    "red_hot_polar.show()"
   ]
  },
  {
   "cell_type": "markdown",
   "metadata": {},
   "source": [
    "# Выводы\n"
   ]
  },
  {
   "cell_type": "markdown",
   "metadata": {},
   "source": [
    "Большинство стендов обладают огромной силой, очень стойкие, быстрые, обладающие высоким потенциалом и к тому же еще и дальнего действия, но больше половины стендов имеют низкую точность\n",
    "\n",
    "Самый сильный стенд всех времен и народов -- GER (Gold Experience Requiem)"
   ]
  }
 ],
 "metadata": {
  "kernelspec": {
   "display_name": ".venv",
   "language": "python",
   "name": "python3"
  },
  "language_info": {
   "codemirror_mode": {
    "name": "ipython",
    "version": 3
   },
   "file_extension": ".py",
   "mimetype": "text/x-python",
   "name": "python",
   "nbconvert_exporter": "python",
   "pygments_lexer": "ipython3",
   "version": "3.12.0"
  }
 },
 "nbformat": 4,
 "nbformat_minor": 2
}
